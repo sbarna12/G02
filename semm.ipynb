{
    "metadata": {
        "kernelspec": {
            "name": "SQL",
            "display_name": "SQL",
            "language": "sql"
        },
        "language_info": {
            "name": "sql",
            "version": ""
        }
    },
    "nbformat_minor": 2,
    "nbformat": 4,
    "cells": [
        {
            "cell_type": "code",
            "source": [
                "dsfs"
            ],
            "metadata": {
                "azdata_cell_guid": "9ca3bf6f-df44-4c50-89d0-a3ec0c455f2a",
                "language": "sql"
            },
            "outputs": [],
            "execution_count": null
        }
    ]
}