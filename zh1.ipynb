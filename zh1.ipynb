{
    "metadata": {
        "kernelspec": {
            "name": "SQL",
            "display_name": "SQL",
            "language": "sql"
        },
        "language_info": {
            "name": "sql",
            "version": ""
        }
    },
    "nbformat_minor": 2,
    "nbformat": 4,
    "cells": [
        {
            "cell_type": "code",
            "source": [
                "select ROGZITETTE ,\r\n",
                "        SZALLAS_NEV,\r\n",
                "        CIM,\r\n",
                "        CSILLAGOK_SZAMA\r\n",
                "FROM szallashely\r\n",
                "where hely like 'Balaton%' and month(ROGZ_IDO)=3\r\n",
                "order by CSILLAGOK_SZAMA ASC"
            ],
            "metadata": {
                "azdata_cell_guid": "df1887ef-8e79-4355-b3c1-e4065a97aef2",
                "language": "sql",
                "tags": []
            },
            "outputs": [
                {
                    "output_type": "display_data",
                    "data": {
                        "text/html": "(7 rows affected)"
                    },
                    "metadata": {}
                },
                {
                    "output_type": "display_data",
                    "data": {
                        "text/html": "Total execution time: 00:00:00.009"
                    },
                    "metadata": {}
                },
                {
                    "output_type": "execute_result",
                    "metadata": {},
                    "execution_count": 20,
                    "data": {
                        "application/vnd.dataresource+json": {
                            "schema": {
                                "fields": [
                                    {
                                        "name": "ROGZITETTE"
                                    },
                                    {
                                        "name": "SZALLAS_NEV"
                                    },
                                    {
                                        "name": "CIM"
                                    },
                                    {
                                        "name": "CSILLAGOK_SZAMA"
                                    }
                                ]
                            },
                            "data": [
                                {
                                    "ROGZITETTE": "Béla",
                                    "SZALLAS_NEV": "Családi Ház",
                                    "CIM": "8630 Balatonboglár, József Attila utca 25",
                                    "CSILLAGOK_SZAMA": "0"
                                },
                                {
                                    "ROGZITETTE": "Mari",
                                    "SZALLAS_NEV": "Szieszta Apartmanház",
                                    "CIM": "8630 Balatonboglár, Dózsa György utca 108",
                                    "CSILLAGOK_SZAMA": "0"
                                },
                                {
                                    "ROGZITETTE": "Béla",
                                    "SZALLAS_NEV": "Partiszél Vendégház",
                                    "CIM": "8220 Balatonalmádi Neptun u. 23.",
                                    "CSILLAGOK_SZAMA": "0"
                                },
                                {
                                    "ROGZITETTE": "Béla",
                                    "SZALLAS_NEV": "Tímárház Panzió",
                                    "CIM": "8600 Siófok, Virág utca 1",
                                    "CSILLAGOK_SZAMA": "3"
                                },
                                {
                                    "ROGZITETTE": "Mari",
                                    "SZALLAS_NEV": "Jáde panzió",
                                    "CIM": "8624 Balatonföldvár, Kiss u.2.",
                                    "CSILLAGOK_SZAMA": "3"
                                },
                                {
                                    "ROGZITETTE": "Béla",
                                    "SZALLAS_NEV": "Kentaur Hotel",
                                    "CIM": "8600 Siófok (Széplak), Akácfa utca 1",
                                    "CSILLAGOK_SZAMA": "3"
                                },
                                {
                                    "ROGZITETTE": "Béla",
                                    "SZALLAS_NEV": "Hotel Három Hattyú",
                                    "CIM": "8623 Balatonföldvár, Rákóczi Ferenc út 45.",
                                    "CSILLAGOK_SZAMA": "4"
                                }
                            ]
                        },
                        "text/html": [
                            "<table>",
                            "<tr><th>ROGZITETTE</th><th>SZALLAS_NEV</th><th>CIM</th><th>CSILLAGOK_SZAMA</th></tr>",
                            "<tr><td>Béla</td><td>Családi Ház</td><td>8630 Balatonboglár, József Attila utca 25</td><td>0</td></tr>",
                            "<tr><td>Mari</td><td>Szieszta Apartmanház</td><td>8630 Balatonboglár, Dózsa György utca 108</td><td>0</td></tr>",
                            "<tr><td>Béla</td><td>Partiszél Vendégház</td><td>8220 Balatonalmádi Neptun u. 23.</td><td>0</td></tr>",
                            "<tr><td>Béla</td><td>Tímárház Panzió</td><td>8600 Siófok, Virág utca 1</td><td>3</td></tr>",
                            "<tr><td>Mari</td><td>Jáde panzió</td><td>8624 Balatonföldvár, Kiss u.2.</td><td>3</td></tr>",
                            "<tr><td>Béla</td><td>Kentaur Hotel</td><td>8600 Siófok (Széplak), Akácfa utca 1</td><td>3</td></tr>",
                            "<tr><td>Béla</td><td>Hotel Három Hattyú</td><td>8623 Balatonföldvár, Rákóczi Ferenc út 45.</td><td>4</td></tr>",
                            "</table>"
                        ]
                    }
                }
            ],
            "execution_count": 20
        },
        {
            "cell_type": "code",
            "source": [
                "select SZOBA_FK, FELNOTT_SZAM, GYERMEK_SZAM, COUNT(SZOBA_FK) as 'Foglalások száma'\r\n",
                "from Foglalas\r\n",
                "group by SZOBA_FK, FELNOTT_SZAM, GYERMEK_SZAM\r\n",
                "having GYERMEK_SZAM>FELNOTT_SZAM and COUNT(SZOBA_FK)>1\r\n",
                "order by COUNT(SZOBA_FK) DESC\r\n",
                " "
            ],
            "metadata": {
                "azdata_cell_guid": "b7225e76-2ff1-49dc-8f67-497b43c03da1",
                "language": "sql",
                "tags": [
                    "hide_input"
                ]
            },
            "outputs": [
                {
                    "output_type": "display_data",
                    "data": {
                        "text/html": "(33 rows affected)"
                    },
                    "metadata": {}
                },
                {
                    "output_type": "display_data",
                    "data": {
                        "text/html": "Total execution time: 00:00:00.011"
                    },
                    "metadata": {}
                },
                {
                    "output_type": "execute_result",
                    "metadata": {},
                    "execution_count": 30,
                    "data": {
                        "application/vnd.dataresource+json": {
                            "schema": {
                                "fields": [
                                    {
                                        "name": "SZOBA_FK"
                                    },
                                    {
                                        "name": "FELNOTT_SZAM"
                                    },
                                    {
                                        "name": "GYERMEK_SZAM"
                                    },
                                    {
                                        "name": "Foglalások száma"
                                    }
                                ]
                            },
                            "data": [
                                {
                                    "SZOBA_FK": "55",
                                    "FELNOTT_SZAM": "1",
                                    "GYERMEK_SZAM": "2",
                                    "Foglalások száma": "4"
                                },
                                {
                                    "SZOBA_FK": "3",
                                    "FELNOTT_SZAM": "1",
                                    "GYERMEK_SZAM": "2",
                                    "Foglalások száma": "3"
                                },
                                {
                                    "SZOBA_FK": "38",
                                    "FELNOTT_SZAM": "1",
                                    "GYERMEK_SZAM": "2",
                                    "Foglalások száma": "3"
                                },
                                {
                                    "SZOBA_FK": "48",
                                    "FELNOTT_SZAM": "1",
                                    "GYERMEK_SZAM": "2",
                                    "Foglalások száma": "3"
                                },
                                {
                                    "SZOBA_FK": "109",
                                    "FELNOTT_SZAM": "1",
                                    "GYERMEK_SZAM": "2",
                                    "Foglalások száma": "3"
                                },
                                {
                                    "SZOBA_FK": "118",
                                    "FELNOTT_SZAM": "1",
                                    "GYERMEK_SZAM": "2",
                                    "Foglalások száma": "3"
                                },
                                {
                                    "SZOBA_FK": "128",
                                    "FELNOTT_SZAM": "1",
                                    "GYERMEK_SZAM": "2",
                                    "Foglalások száma": "3"
                                },
                                {
                                    "SZOBA_FK": "178",
                                    "FELNOTT_SZAM": "1",
                                    "GYERMEK_SZAM": "2",
                                    "Foglalások száma": "3"
                                },
                                {
                                    "SZOBA_FK": "185",
                                    "FELNOTT_SZAM": "1",
                                    "GYERMEK_SZAM": "2",
                                    "Foglalások száma": "2"
                                },
                                {
                                    "SZOBA_FK": "193",
                                    "FELNOTT_SZAM": "2",
                                    "GYERMEK_SZAM": "3",
                                    "Foglalások száma": "2"
                                },
                                {
                                    "SZOBA_FK": "196",
                                    "FELNOTT_SZAM": "1",
                                    "GYERMEK_SZAM": "2",
                                    "Foglalások száma": "2"
                                },
                                {
                                    "SZOBA_FK": "2",
                                    "FELNOTT_SZAM": "1",
                                    "GYERMEK_SZAM": "3",
                                    "Foglalások száma": "2"
                                },
                                {
                                    "SZOBA_FK": "140",
                                    "FELNOTT_SZAM": "1",
                                    "GYERMEK_SZAM": "2",
                                    "Foglalások száma": "2"
                                },
                                {
                                    "SZOBA_FK": "143",
                                    "FELNOTT_SZAM": "1",
                                    "GYERMEK_SZAM": "3",
                                    "Foglalások száma": "2"
                                },
                                {
                                    "SZOBA_FK": "155",
                                    "FELNOTT_SZAM": "1",
                                    "GYERMEK_SZAM": "3",
                                    "Foglalások száma": "2"
                                },
                                {
                                    "SZOBA_FK": "160",
                                    "FELNOTT_SZAM": "1",
                                    "GYERMEK_SZAM": "3",
                                    "Foglalások száma": "2"
                                },
                                {
                                    "SZOBA_FK": "120",
                                    "FELNOTT_SZAM": "1",
                                    "GYERMEK_SZAM": "3",
                                    "Foglalások száma": "2"
                                },
                                {
                                    "SZOBA_FK": "121",
                                    "FELNOTT_SZAM": "1",
                                    "GYERMEK_SZAM": "2",
                                    "Foglalások száma": "2"
                                },
                                {
                                    "SZOBA_FK": "122",
                                    "FELNOTT_SZAM": "1",
                                    "GYERMEK_SZAM": "2",
                                    "Foglalások száma": "2"
                                },
                                {
                                    "SZOBA_FK": "124",
                                    "FELNOTT_SZAM": "1",
                                    "GYERMEK_SZAM": "2",
                                    "Foglalások száma": "2"
                                },
                                {
                                    "SZOBA_FK": "115",
                                    "FELNOTT_SZAM": "1",
                                    "GYERMEK_SZAM": "2",
                                    "Foglalások száma": "2"
                                },
                                {
                                    "SZOBA_FK": "15",
                                    "FELNOTT_SZAM": "1",
                                    "GYERMEK_SZAM": "2",
                                    "Foglalások száma": "2"
                                },
                                {
                                    "SZOBA_FK": "17",
                                    "FELNOTT_SZAM": "1",
                                    "GYERMEK_SZAM": "2",
                                    "Foglalások száma": "2"
                                },
                                {
                                    "SZOBA_FK": "19",
                                    "FELNOTT_SZAM": "1",
                                    "GYERMEK_SZAM": "2",
                                    "Foglalások száma": "2"
                                },
                                {
                                    "SZOBA_FK": "21",
                                    "FELNOTT_SZAM": "1",
                                    "GYERMEK_SZAM": "2",
                                    "Foglalások száma": "2"
                                },
                                {
                                    "SZOBA_FK": "27",
                                    "FELNOTT_SZAM": "1",
                                    "GYERMEK_SZAM": "3",
                                    "Foglalások száma": "2"
                                },
                                {
                                    "SZOBA_FK": "58",
                                    "FELNOTT_SZAM": "1",
                                    "GYERMEK_SZAM": "2",
                                    "Foglalások száma": "2"
                                },
                                {
                                    "SZOBA_FK": "59",
                                    "FELNOTT_SZAM": "1",
                                    "GYERMEK_SZAM": "2",
                                    "Foglalások száma": "2"
                                },
                                {
                                    "SZOBA_FK": "70",
                                    "FELNOTT_SZAM": "1",
                                    "GYERMEK_SZAM": "2",
                                    "Foglalások száma": "2"
                                },
                                {
                                    "SZOBA_FK": "77",
                                    "FELNOTT_SZAM": "1",
                                    "GYERMEK_SZAM": "2",
                                    "Foglalások száma": "2"
                                },
                                {
                                    "SZOBA_FK": "78",
                                    "FELNOTT_SZAM": "1",
                                    "GYERMEK_SZAM": "2",
                                    "Foglalások száma": "2"
                                },
                                {
                                    "SZOBA_FK": "83",
                                    "FELNOTT_SZAM": "1",
                                    "GYERMEK_SZAM": "2",
                                    "Foglalások száma": "2"
                                },
                                {
                                    "SZOBA_FK": "100",
                                    "FELNOTT_SZAM": "1",
                                    "GYERMEK_SZAM": "2",
                                    "Foglalások száma": "2"
                                }
                            ]
                        },
                        "text/html": [
                            "<table>",
                            "<tr><th>SZOBA_FK</th><th>FELNOTT_SZAM</th><th>GYERMEK_SZAM</th><th>Foglalások száma</th></tr>",
                            "<tr><td>55</td><td>1</td><td>2</td><td>4</td></tr>",
                            "<tr><td>3</td><td>1</td><td>2</td><td>3</td></tr>",
                            "<tr><td>38</td><td>1</td><td>2</td><td>3</td></tr>",
                            "<tr><td>48</td><td>1</td><td>2</td><td>3</td></tr>",
                            "<tr><td>109</td><td>1</td><td>2</td><td>3</td></tr>",
                            "<tr><td>118</td><td>1</td><td>2</td><td>3</td></tr>",
                            "<tr><td>128</td><td>1</td><td>2</td><td>3</td></tr>",
                            "<tr><td>178</td><td>1</td><td>2</td><td>3</td></tr>",
                            "<tr><td>185</td><td>1</td><td>2</td><td>2</td></tr>",
                            "<tr><td>193</td><td>2</td><td>3</td><td>2</td></tr>",
                            "<tr><td>196</td><td>1</td><td>2</td><td>2</td></tr>",
                            "<tr><td>2</td><td>1</td><td>3</td><td>2</td></tr>",
                            "<tr><td>140</td><td>1</td><td>2</td><td>2</td></tr>",
                            "<tr><td>143</td><td>1</td><td>3</td><td>2</td></tr>",
                            "<tr><td>155</td><td>1</td><td>3</td><td>2</td></tr>",
                            "<tr><td>160</td><td>1</td><td>3</td><td>2</td></tr>",
                            "<tr><td>120</td><td>1</td><td>3</td><td>2</td></tr>",
                            "<tr><td>121</td><td>1</td><td>2</td><td>2</td></tr>",
                            "<tr><td>122</td><td>1</td><td>2</td><td>2</td></tr>",
                            "<tr><td>124</td><td>1</td><td>2</td><td>2</td></tr>",
                            "<tr><td>115</td><td>1</td><td>2</td><td>2</td></tr>",
                            "<tr><td>15</td><td>1</td><td>2</td><td>2</td></tr>",
                            "<tr><td>17</td><td>1</td><td>2</td><td>2</td></tr>",
                            "<tr><td>19</td><td>1</td><td>2</td><td>2</td></tr>",
                            "<tr><td>21</td><td>1</td><td>2</td><td>2</td></tr>",
                            "<tr><td>27</td><td>1</td><td>3</td><td>2</td></tr>",
                            "<tr><td>58</td><td>1</td><td>2</td><td>2</td></tr>",
                            "<tr><td>59</td><td>1</td><td>2</td><td>2</td></tr>",
                            "<tr><td>70</td><td>1</td><td>2</td><td>2</td></tr>",
                            "<tr><td>77</td><td>1</td><td>2</td><td>2</td></tr>",
                            "<tr><td>78</td><td>1</td><td>2</td><td>2</td></tr>",
                            "<tr><td>83</td><td>1</td><td>2</td><td>2</td></tr>",
                            "<tr><td>100</td><td>1</td><td>2</td><td>2</td></tr>",
                            "</table>"
                        ]
                    }
                }
            ],
            "execution_count": 30
        },
        {
            "cell_type": "code",
            "source": [
                "select  h.SZALLAS_NEV, COUNT(f.FOGLALAS_PK) as 'Foglalások Száma'\r\n",
                "from Szoba s JOIN Foglalas f on s.SZOBA_ID=f.SZOBA_FK\r\n",
                "                JOIN  szallashely h on s.SZALLAS_FK=h.SZALLAS_ID\r\n",
                "group by h.SZALLAS_NEV\r\n",
                "\r\n",
                "UNION ALL\r\n",
                "\r\n",
                "select  h.SZALLAS_NEV, COUNT(f.FOGLALAS_PK)\r\n",
                "from Szoba s LEFT JOIN Foglalas f on s.SZOBA_ID=f.SZOBA_FK\r\n",
                "                LEFT JOIN  szallashely h on s.SZALLAS_FK=h.SZALLAS_ID\r\n",
                "group by h.SZALLAS_NEV\r\n",
                "HAVING COUNT(f.FOGLALAS_PK) = 0"
            ],
            "metadata": {
                "azdata_cell_guid": "0d06951e-acec-485c-949b-5df3d90d6c88",
                "language": "sql",
                "tags": []
            },
            "outputs": [
{
    "output_type": "display_data",
    "data": {
        "text/html": "Warning: Null value is eliminated by an aggregate or other SET operation."
    },
    "metadata": {}
}, {
    "output_type": "display_data",
    "data": {
        "text/html": "(17 rows affected)"
    },
    "metadata": {}
}, {
    "output_type": "display_data",
    "data": {
        "text/html": "Total execution time: 00:00:00.020"
    },
    "metadata": {}
}, {
    "output_type": "execute_result",
    "metadata": {},
    "execution_count": 48,
    "data": {
        "application/vnd.dataresource+json": {
            "schema": {
                "fields": [
                    {
                        "name": "SZALLAS_NEV"
                    },
                    {
                        "name": "Foglalások Száma"
                    }
                ]
            },
            "data": [
                {
                    "SZALLAS_NEV": "Szieszta Apartmanház",
                    "Foglalások Száma": "34"
                },
                {
                    "SZALLAS_NEV": "Fortuna Panzió",
                    "Foglalások Száma": "126"
                },
                {
                    "SZALLAS_NEV": "Kentaur Hotel",
                    "Foglalások Száma": "179"
                },
                {
                    "SZALLAS_NEV": "Partiszél Vendégház",
                    "Foglalások Száma": "26"
                },
                {
                    "SZALLAS_NEV": "Sába-Ház",
                    "Foglalások Száma": "70"
                },
                {
                    "SZALLAS_NEV": "Családi Ház",
                    "Foglalások Száma": "18"
                },
                {
                    "SZALLAS_NEV": "Fortuna Apartman",
                    "Foglalások Száma": "39"
                },
                {
                    "SZALLAS_NEV": "Hotel Három Hattyú",
                    "Foglalások Száma": "204"
                },
                {
                    "SZALLAS_NEV": "Jáde panzió",
                    "Foglalások Száma": "29"
                },
                {
                    "SZALLAS_NEV": "Lagúna Hotel",
                    "Foglalások Száma": "123"
                },
                {
                    "SZALLAS_NEV": "Gold Hotel",
                    "Foglalások Száma": "179"
                },
                {
                    "SZALLAS_NEV": "Nyárfás Vendégház",
                    "Foglalások Száma": "0"
                },
                {
                    "SZALLAS_NEV": "Riviéra Panzió",
                    "Foglalások Száma": "0"
                },
                {
                    "SZALLAS_NEV": "Tímárház Panzió",
                    "Foglalások Száma": "0"
                },
                {
                    "SZALLAS_NEV": "Bagoly Hotel",
                    "Foglalások Száma": "0"
                },
                {
                    "SZALLAS_NEV": "Szarvas Hotel",
                    "Foglalások Száma": "0"
                },
                {
                    "SZALLAS_NEV": "Kollégium",
                    "Foglalások Száma": "0"
                }
            ]
        },
        "text/html": [
            "<table>",
            "<tr><th>SZALLAS_NEV</th><th>Foglalások Száma</th></tr>",
            "<tr><td>Szieszta Apartmanház</td><td>34</td></tr>",
            "<tr><td>Fortuna Panzió</td><td>126</td></tr>",
            "<tr><td>Kentaur Hotel</td><td>179</td></tr>",
            "<tr><td>Partiszél Vendégház</td><td>26</td></tr>",
            "<tr><td>Sába-Ház</td><td>70</td></tr>",
            "<tr><td>Családi Ház</td><td>18</td></tr>",
            "<tr><td>Fortuna Apartman</td><td>39</td></tr>",
            "<tr><td>Hotel Három Hattyú</td><td>204</td></tr>",
            "<tr><td>Jáde panzió</td><td>29</td></tr>",
            "<tr><td>Lagúna Hotel</td><td>123</td></tr>",
            "<tr><td>Gold Hotel</td><td>179</td></tr>",
            "<tr><td>Nyárfás Vendégház</td><td>0</td></tr>",
            "<tr><td>Riviéra Panzió</td><td>0</td></tr>",
            "<tr><td>Tímárház Panzió</td><td>0</td></tr>",
            "<tr><td>Bagoly Hotel</td><td>0</td></tr>",
            "<tr><td>Szarvas Hotel</td><td>0</td></tr>",
            "<tr><td>Kollégium</td><td>0</td></tr>",
            "</table>"
        ]
    }
}
],
            "execution_count": 48
        }
    ]
}