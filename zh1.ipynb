{
    "metadata": {
        "kernelspec": {
            "name": "SQL",
            "display_name": "SQL",
            "language": "sql"
        },
        "language_info": {
            "name": "sql",
            "version": ""
        }
    },
    "nbformat_minor": 2,
    "nbformat": 4,
    "cells": [
        {
            "cell_type": "code",
            "source": [
                "select ROGZITETTE ,\r\n",
                "        SZALLAS_NEV,\r\n",
                "        CIM,\r\n",
                "        CSILLAGOK_SZAMA\r\n",
                "FROM szallashely\r\n",
                "where hely like 'Balaton%' and ROGZ_IDO BETWEEN '2016-03-01' and '2016-03-31'\r\n",
                "order by CSILLAGOK_SZAMA ASC"
            ],
            "metadata": {
                "azdata_cell_guid": "df1887ef-8e79-4355-b3c1-e4065a97aef2",
                "language": "sql"
            },
            "outputs": [
{
    "output_type": "display_data",
    "data": {
        "text/html": "(7 rows affected)"
    },
    "metadata": {}
}, {
    "output_type": "display_data",
    "data": {
        "text/html": "Total execution time: 00:00:00.007"
    },
    "metadata": {}
}, {
    "output_type": "execute_result",
    "metadata": {},
    "execution_count": 18,
    "data": {
        "application/vnd.dataresource+json": {
            "schema": {
                "fields": [
                    {
                        "name": "ROGZITETTE"
                    },
                    {
                        "name": "SZALLAS_NEV"
                    },
                    {
                        "name": "CIM"
                    },
                    {
                        "name": "CSILLAGOK_SZAMA"
                    }
                ]
            },
            "data": [
                {
                    "ROGZITETTE": "Béla",
                    "SZALLAS_NEV": "Családi Ház",
                    "CIM": "8630 Balatonboglár, József Attila utca 25",
                    "CSILLAGOK_SZAMA": "0"
                },
                {
                    "ROGZITETTE": "Mari",
                    "SZALLAS_NEV": "Szieszta Apartmanház",
                    "CIM": "8630 Balatonboglár, Dózsa György utca 108",
                    "CSILLAGOK_SZAMA": "0"
                },
                {
                    "ROGZITETTE": "Béla",
                    "SZALLAS_NEV": "Partiszél Vendégház",
                    "CIM": "8220 Balatonalmádi Neptun u. 23.",
                    "CSILLAGOK_SZAMA": "0"
                },
                {
                    "ROGZITETTE": "Béla",
                    "SZALLAS_NEV": "Tímárház Panzió",
                    "CIM": "8600 Siófok, Virág utca 1",
                    "CSILLAGOK_SZAMA": "3"
                },
                {
                    "ROGZITETTE": "Mari",
                    "SZALLAS_NEV": "Jáde panzió",
                    "CIM": "8624 Balatonföldvár, Kiss u.2.",
                    "CSILLAGOK_SZAMA": "3"
                },
                {
                    "ROGZITETTE": "Béla",
                    "SZALLAS_NEV": "Kentaur Hotel",
                    "CIM": "8600 Siófok (Széplak), Akácfa utca 1",
                    "CSILLAGOK_SZAMA": "3"
                },
                {
                    "ROGZITETTE": "Béla",
                    "SZALLAS_NEV": "Hotel Három Hattyú",
                    "CIM": "8623 Balatonföldvár, Rákóczi Ferenc út 45.",
                    "CSILLAGOK_SZAMA": "4"
                }
            ]
        },
        "text/html": [
            "<table>",
            "<tr><th>ROGZITETTE</th><th>SZALLAS_NEV</th><th>CIM</th><th>CSILLAGOK_SZAMA</th></tr>",
            "<tr><td>Béla</td><td>Családi Ház</td><td>8630 Balatonboglár, József Attila utca 25</td><td>0</td></tr>",
            "<tr><td>Mari</td><td>Szieszta Apartmanház</td><td>8630 Balatonboglár, Dózsa György utca 108</td><td>0</td></tr>",
            "<tr><td>Béla</td><td>Partiszél Vendégház</td><td>8220 Balatonalmádi Neptun u. 23.</td><td>0</td></tr>",
            "<tr><td>Béla</td><td>Tímárház Panzió</td><td>8600 Siófok, Virág utca 1</td><td>3</td></tr>",
            "<tr><td>Mari</td><td>Jáde panzió</td><td>8624 Balatonföldvár, Kiss u.2.</td><td>3</td></tr>",
            "<tr><td>Béla</td><td>Kentaur Hotel</td><td>8600 Siófok (Széplak), Akácfa utca 1</td><td>3</td></tr>",
            "<tr><td>Béla</td><td>Hotel Három Hattyú</td><td>8623 Balatonföldvár, Rákóczi Ferenc út 45.</td><td>4</td></tr>",
            "</table>"
        ]
    }
}
],
            "execution_count": 18
        }
    ]
}