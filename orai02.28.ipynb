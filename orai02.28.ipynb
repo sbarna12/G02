{
    "metadata": {
        "kernelspec": {
            "name": "SQL",
            "display_name": "SQL",
            "language": "sql"
        },
        "language_info": {
            "name": "sql",
            "version": ""
        }
    },
    "nbformat_minor": 2,
    "nbformat": 4,
    "cells": [
        {
            "cell_type": "code",
            "source": [
                "select FOGLALAS_PK,\r\n",
                "            IIF(month(METTOL) in (6,7,8) , ' igen','nem') as 'nyar'\r\n",
                "    \r\n",
                "from Foglalas\r\n",
                "where UGYFEL_FK='laszlo2' and GYERMEK_SZAM=0\r\n",
                ""
            ],
            "metadata": {
                "azdata_cell_guid": "00a2c157-0fbd-4708-99f5-71e32efed1a8",
                "language": "sql"
            },
            "outputs": [
                {
                    "output_type": "display_data",
                    "data": {
                        "text/html": "(1 row affected)"
                    },
                    "metadata": {}
                },
                {
                    "output_type": "display_data",
                    "data": {
                        "text/html": "Total execution time: 00:00:00.004"
                    },
                    "metadata": {}
                },
                {
                    "output_type": "execute_result",
                    "execution_count": 6,
                    "data": {
                        "application/vnd.dataresource+json": {
                            "schema": {
                                "fields": [
                                    {
                                        "name": "FOGLALAS_PK"
                                    },
                                    {
                                        "name": "nyar"
                                    }
                                ]
                            },
                            "data": [
                                {
                                    "FOGLALAS_PK": "561",
                                    "nyar": "nem"
                                }
                            ]
                        },
                        "text/html": "<table><tr><th>FOGLALAS_PK</th><th>nyar</th></tr><tr><td>561</td><td>nem</td></tr></table>"
                    },
                    "metadata": {}
                }
            ],
            "execution_count": 6
        },
        {
            "cell_type": "code",
            "source": [
                " SELECT szh.TIPUS, YEAR(f.METTOL) AS 'Év', MONTH(f.METTOL) AS 'Hónap', count(*)\r\n",
                " \r\n",
                "\r\n",
                " FROM Foglalas f JOIN Szoba sz ON f.SZOBA_FK = sz.SZOBA_ID \r\n",
                "\r\n",
                "                              JOIN Szallashely szh ON szh.szallas_fk=szh.SZALLAS_ID\r\n",
                " \r\n",
                "\r\n",
                "WHERE  DATEDIFF(day,f.METTOL, f.meddig  ) >=5\r\n",
                "\r\n",
                "GROUP BY szh.TIPUS, YEAR(F.METTOL), MONTH(f.METTOL)\r\n",
                ""
            ],
            "metadata": {
                "language": "sql",
                "azdata_cell_guid": "9261b684-0b1b-4144-b86a-5176f5391484"
            },
            "outputs": [
                {
                    "output_type": "error",
                    "ename": "",
                    "evalue": "Msg 102, Level 15, State 1, Line 9\r\nIncorrect syntax near '>'.",
                    "traceback": []
                },
                {
                    "output_type": "display_data",
                    "data": {
                        "text/html": "Total execution time: 00:00:00.001"
                    },
                    "metadata": {}
                }
            ],
            "execution_count": 7
        }
    ]
}