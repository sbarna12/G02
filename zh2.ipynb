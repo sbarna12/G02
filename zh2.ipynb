{
    "metadata": {
        "kernelspec": {
            "name": "SQL",
            "display_name": "SQL",
            "language": "sql"
        },
        "language_info": {
            "name": "sql",
            "version": ""
        }
    },
    "nbformat_minor": 2,
    "nbformat": 4,
    "cells": [
        {
            "cell_type": "code",
            "source": [
                ""
            ],
            "metadata": {
                "azdata_cell_guid": "c62db964-ff7a-4a38-a44f-60251d4c02a8",
                "language": "sql"
            },
            "outputs": [],
            "execution_count": null
        }
    ]
}