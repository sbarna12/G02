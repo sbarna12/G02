{
    "metadata": {
        "kernelspec": {
            "name": "SQL",
            "display_name": "SQL",
            "language": "sql"
        },
        "language_info": {
            "name": "sql",
            "version": ""
        }
    },
    "nbformat_minor": 2,
    "nbformat": 4,
    "cells": [
        {
            "cell_type": "code",
            "source": [
                "SELECT SZOBA_FK,\r\n",
                "       COUNT(CASE WHEN FELNOTT_SZAM > GYERMEK_SZAM THEN 1 END) AS 'felnott szoba'\r\n",
                "FROM Foglalas\r\n",
                "GROUP BY rollup(SZOBA_FK)\r\n",
                "order by szoba_fk asc\r\n",
                "\r\n",
                ""
            ],
            "metadata": {
                "azdata_cell_guid": "c62db964-ff7a-4a38-a44f-60251d4c02a8",
                "language": "sql"
            },
            "outputs": [
                {
                    "output_type": "display_data",
                    "data": {
                        "text/html": "Warning: Null value is eliminated by an aggregate or other SET operation."
                    },
                    "metadata": {}
                },
                {
                    "output_type": "display_data",
                    "data": {
                        "text/html": "(198 rows affected)"
                    },
                    "metadata": {}
                },
                {
                    "output_type": "display_data",
                    "data": {
                        "text/html": "Total execution time: 00:00:00.012"
                    },
                    "metadata": {}
                },
                {
                    "output_type": "execute_result",
                    "metadata": {},
                    "execution_count": 15,
                    "data": {
                        "application/vnd.dataresource+json": {
                            "schema": {
                                "fields": [
                                    {
                                        "name": "SZOBA_FK"
                                    },
                                    {
                                        "name": "felnott szoba"
                                    }
                                ]
                            },
                            "data": [
                                {
                                    "SZOBA_FK": "NULL",
                                    "felnott szoba": "668"
                                },
                                {
                                    "SZOBA_FK": "1",
                                    "felnott szoba": "7"
                                },
                                {
                                    "SZOBA_FK": "2",
                                    "felnott szoba": "2"
                                },
                                {
                                    "SZOBA_FK": "3",
                                    "felnott szoba": "3"
                                },
                                {
                                    "SZOBA_FK": "4",
                                    "felnott szoba": "5"
                                },
                                {
                                    "SZOBA_FK": "5",
                                    "felnott szoba": "2"
                                },
                                {
                                    "SZOBA_FK": "6",
                                    "felnott szoba": "5"
                                },
                                {
                                    "SZOBA_FK": "7",
                                    "felnott szoba": "6"
                                },
                                {
                                    "SZOBA_FK": "8",
                                    "felnott szoba": "5"
                                },
                                {
                                    "SZOBA_FK": "9",
                                    "felnott szoba": "4"
                                },
                                {
                                    "SZOBA_FK": "10",
                                    "felnott szoba": "4"
                                },
                                {
                                    "SZOBA_FK": "11",
                                    "felnott szoba": "4"
                                },
                                {
                                    "SZOBA_FK": "12",
                                    "felnott szoba": "7"
                                },
                                {
                                    "SZOBA_FK": "13",
                                    "felnott szoba": "4"
                                },
                                {
                                    "SZOBA_FK": "14",
                                    "felnott szoba": "3"
                                },
                                {
                                    "SZOBA_FK": "15",
                                    "felnott szoba": "4"
                                },
                                {
                                    "SZOBA_FK": "16",
                                    "felnott szoba": "1"
                                },
                                {
                                    "SZOBA_FK": "17",
                                    "felnott szoba": "2"
                                },
                                {
                                    "SZOBA_FK": "18",
                                    "felnott szoba": "3"
                                },
                                {
                                    "SZOBA_FK": "19",
                                    "felnott szoba": "4"
                                },
                                {
                                    "SZOBA_FK": "20",
                                    "felnott szoba": "5"
                                },
                                {
                                    "SZOBA_FK": "21",
                                    "felnott szoba": "1"
                                },
                                {
                                    "SZOBA_FK": "22",
                                    "felnott szoba": "2"
                                },
                                {
                                    "SZOBA_FK": "23",
                                    "felnott szoba": "3"
                                },
                                {
                                    "SZOBA_FK": "24",
                                    "felnott szoba": "3"
                                },
                                {
                                    "SZOBA_FK": "25",
                                    "felnott szoba": "1"
                                },
                                {
                                    "SZOBA_FK": "26",
                                    "felnott szoba": "0"
                                },
                                {
                                    "SZOBA_FK": "27",
                                    "felnott szoba": "5"
                                },
                                {
                                    "SZOBA_FK": "28",
                                    "felnott szoba": "5"
                                },
                                {
                                    "SZOBA_FK": "29",
                                    "felnott szoba": "3"
                                },
                                {
                                    "SZOBA_FK": "30",
                                    "felnott szoba": "2"
                                },
                                {
                                    "SZOBA_FK": "31",
                                    "felnott szoba": "1"
                                },
                                {
                                    "SZOBA_FK": "32",
                                    "felnott szoba": "1"
                                },
                                {
                                    "SZOBA_FK": "33",
                                    "felnott szoba": "3"
                                },
                                {
                                    "SZOBA_FK": "34",
                                    "felnott szoba": "3"
                                },
                                {
                                    "SZOBA_FK": "35",
                                    "felnott szoba": "6"
                                },
                                {
                                    "SZOBA_FK": "36",
                                    "felnott szoba": "4"
                                },
                                {
                                    "SZOBA_FK": "37",
                                    "felnott szoba": "2"
                                },
                                {
                                    "SZOBA_FK": "38",
                                    "felnott szoba": "5"
                                },
                                {
                                    "SZOBA_FK": "39",
                                    "felnott szoba": "4"
                                },
                                {
                                    "SZOBA_FK": "40",
                                    "felnott szoba": "3"
                                },
                                {
                                    "SZOBA_FK": "41",
                                    "felnott szoba": "1"
                                },
                                {
                                    "SZOBA_FK": "42",
                                    "felnott szoba": "5"
                                },
                                {
                                    "SZOBA_FK": "43",
                                    "felnott szoba": "4"
                                },
                                {
                                    "SZOBA_FK": "44",
                                    "felnott szoba": "6"
                                },
                                {
                                    "SZOBA_FK": "45",
                                    "felnott szoba": "4"
                                },
                                {
                                    "SZOBA_FK": "46",
                                    "felnott szoba": "3"
                                },
                                {
                                    "SZOBA_FK": "47",
                                    "felnott szoba": "2"
                                },
                                {
                                    "SZOBA_FK": "48",
                                    "felnott szoba": "6"
                                },
                                {
                                    "SZOBA_FK": "49",
                                    "felnott szoba": "5"
                                },
                                {
                                    "SZOBA_FK": "50",
                                    "felnott szoba": "3"
                                },
                                {
                                    "SZOBA_FK": "51",
                                    "felnott szoba": "3"
                                },
                                {
                                    "SZOBA_FK": "52",
                                    "felnott szoba": "5"
                                },
                                {
                                    "SZOBA_FK": "53",
                                    "felnott szoba": "0"
                                },
                                {
                                    "SZOBA_FK": "54",
                                    "felnott szoba": "4"
                                },
                                {
                                    "SZOBA_FK": "55",
                                    "felnott szoba": "3"
                                },
                                {
                                    "SZOBA_FK": "56",
                                    "felnott szoba": "1"
                                },
                                {
                                    "SZOBA_FK": "57",
                                    "felnott szoba": "3"
                                },
                                {
                                    "SZOBA_FK": "58",
                                    "felnott szoba": "8"
                                },
                                {
                                    "SZOBA_FK": "59",
                                    "felnott szoba": "4"
                                },
                                {
                                    "SZOBA_FK": "60",
                                    "felnott szoba": "1"
                                },
                                {
                                    "SZOBA_FK": "61",
                                    "felnott szoba": "4"
                                },
                                {
                                    "SZOBA_FK": "62",
                                    "felnott szoba": "3"
                                },
                                {
                                    "SZOBA_FK": "63",
                                    "felnott szoba": "3"
                                },
                                {
                                    "SZOBA_FK": "64",
                                    "felnott szoba": "5"
                                },
                                {
                                    "SZOBA_FK": "65",
                                    "felnott szoba": "0"
                                },
                                {
                                    "SZOBA_FK": "66",
                                    "felnott szoba": "3"
                                },
                                {
                                    "SZOBA_FK": "67",
                                    "felnott szoba": "2"
                                },
                                {
                                    "SZOBA_FK": "68",
                                    "felnott szoba": "0"
                                },
                                {
                                    "SZOBA_FK": "69",
                                    "felnott szoba": "2"
                                },
                                {
                                    "SZOBA_FK": "70",
                                    "felnott szoba": "8"
                                },
                                {
                                    "SZOBA_FK": "71",
                                    "felnott szoba": "2"
                                },
                                {
                                    "SZOBA_FK": "72",
                                    "felnott szoba": "2"
                                },
                                {
                                    "SZOBA_FK": "73",
                                    "felnott szoba": "4"
                                },
                                {
                                    "SZOBA_FK": "74",
                                    "felnott szoba": "8"
                                },
                                {
                                    "SZOBA_FK": "75",
                                    "felnott szoba": "2"
                                },
                                {
                                    "SZOBA_FK": "76",
                                    "felnott szoba": "2"
                                },
                                {
                                    "SZOBA_FK": "77",
                                    "felnott szoba": "3"
                                },
                                {
                                    "SZOBA_FK": "78",
                                    "felnott szoba": "3"
                                },
                                {
                                    "SZOBA_FK": "79",
                                    "felnott szoba": "4"
                                },
                                {
                                    "SZOBA_FK": "80",
                                    "felnott szoba": "5"
                                },
                                {
                                    "SZOBA_FK": "81",
                                    "felnott szoba": "3"
                                },
                                {
                                    "SZOBA_FK": "82",
                                    "felnott szoba": "5"
                                },
                                {
                                    "SZOBA_FK": "83",
                                    "felnott szoba": "5"
                                },
                                {
                                    "SZOBA_FK": "84",
                                    "felnott szoba": "3"
                                },
                                {
                                    "SZOBA_FK": "85",
                                    "felnott szoba": "2"
                                },
                                {
                                    "SZOBA_FK": "86",
                                    "felnott szoba": "4"
                                },
                                {
                                    "SZOBA_FK": "87",
                                    "felnott szoba": "5"
                                },
                                {
                                    "SZOBA_FK": "88",
                                    "felnott szoba": "5"
                                },
                                {
                                    "SZOBA_FK": "89",
                                    "felnott szoba": "8"
                                },
                                {
                                    "SZOBA_FK": "90",
                                    "felnott szoba": "3"
                                },
                                {
                                    "SZOBA_FK": "91",
                                    "felnott szoba": "2"
                                },
                                {
                                    "SZOBA_FK": "92",
                                    "felnott szoba": "5"
                                },
                                {
                                    "SZOBA_FK": "93",
                                    "felnott szoba": "3"
                                },
                                {
                                    "SZOBA_FK": "94",
                                    "felnott szoba": "6"
                                },
                                {
                                    "SZOBA_FK": "95",
                                    "felnott szoba": "3"
                                },
                                {
                                    "SZOBA_FK": "96",
                                    "felnott szoba": "6"
                                },
                                {
                                    "SZOBA_FK": "97",
                                    "felnott szoba": "5"
                                },
                                {
                                    "SZOBA_FK": "98",
                                    "felnott szoba": "4"
                                },
                                {
                                    "SZOBA_FK": "99",
                                    "felnott szoba": "4"
                                },
                                {
                                    "SZOBA_FK": "100",
                                    "felnott szoba": "2"
                                },
                                {
                                    "SZOBA_FK": "101",
                                    "felnott szoba": "1"
                                },
                                {
                                    "SZOBA_FK": "102",
                                    "felnott szoba": "1"
                                },
                                {
                                    "SZOBA_FK": "103",
                                    "felnott szoba": "1"
                                },
                                {
                                    "SZOBA_FK": "104",
                                    "felnott szoba": "3"
                                },
                                {
                                    "SZOBA_FK": "105",
                                    "felnott szoba": "0"
                                },
                                {
                                    "SZOBA_FK": "106",
                                    "felnott szoba": "4"
                                },
                                {
                                    "SZOBA_FK": "107",
                                    "felnott szoba": "4"
                                },
                                {
                                    "SZOBA_FK": "108",
                                    "felnott szoba": "1"
                                },
                                {
                                    "SZOBA_FK": "109",
                                    "felnott szoba": "2"
                                },
                                {
                                    "SZOBA_FK": "110",
                                    "felnott szoba": "5"
                                },
                                {
                                    "SZOBA_FK": "111",
                                    "felnott szoba": "1"
                                },
                                {
                                    "SZOBA_FK": "112",
                                    "felnott szoba": "4"
                                },
                                {
                                    "SZOBA_FK": "113",
                                    "felnott szoba": "2"
                                },
                                {
                                    "SZOBA_FK": "114",
                                    "felnott szoba": "1"
                                },
                                {
                                    "SZOBA_FK": "115",
                                    "felnott szoba": "5"
                                },
                                {
                                    "SZOBA_FK": "116",
                                    "felnott szoba": "0"
                                },
                                {
                                    "SZOBA_FK": "117",
                                    "felnott szoba": "4"
                                },
                                {
                                    "SZOBA_FK": "118",
                                    "felnott szoba": "2"
                                },
                                {
                                    "SZOBA_FK": "119",
                                    "felnott szoba": "4"
                                },
                                {
                                    "SZOBA_FK": "120",
                                    "felnott szoba": "2"
                                },
                                {
                                    "SZOBA_FK": "121",
                                    "felnott szoba": "5"
                                },
                                {
                                    "SZOBA_FK": "122",
                                    "felnott szoba": "3"
                                },
                                {
                                    "SZOBA_FK": "123",
                                    "felnott szoba": "5"
                                },
                                {
                                    "SZOBA_FK": "124",
                                    "felnott szoba": "4"
                                },
                                {
                                    "SZOBA_FK": "125",
                                    "felnott szoba": "0"
                                },
                                {
                                    "SZOBA_FK": "126",
                                    "felnott szoba": "4"
                                },
                                {
                                    "SZOBA_FK": "127",
                                    "felnott szoba": "5"
                                },
                                {
                                    "SZOBA_FK": "128",
                                    "felnott szoba": "0"
                                },
                                {
                                    "SZOBA_FK": "129",
                                    "felnott szoba": "3"
                                },
                                {
                                    "SZOBA_FK": "130",
                                    "felnott szoba": "5"
                                },
                                {
                                    "SZOBA_FK": "131",
                                    "felnott szoba": "4"
                                },
                                {
                                    "SZOBA_FK": "132",
                                    "felnott szoba": "4"
                                },
                                {
                                    "SZOBA_FK": "133",
                                    "felnott szoba": "4"
                                },
                                {
                                    "SZOBA_FK": "134",
                                    "felnott szoba": "4"
                                },
                                {
                                    "SZOBA_FK": "135",
                                    "felnott szoba": "3"
                                },
                                {
                                    "SZOBA_FK": "136",
                                    "felnott szoba": "2"
                                },
                                {
                                    "SZOBA_FK": "137",
                                    "felnott szoba": "2"
                                },
                                {
                                    "SZOBA_FK": "138",
                                    "felnott szoba": "5"
                                },
                                {
                                    "SZOBA_FK": "139",
                                    "felnott szoba": "6"
                                },
                                {
                                    "SZOBA_FK": "140",
                                    "felnott szoba": "5"
                                },
                                {
                                    "SZOBA_FK": "141",
                                    "felnott szoba": "4"
                                },
                                {
                                    "SZOBA_FK": "142",
                                    "felnott szoba": "1"
                                },
                                {
                                    "SZOBA_FK": "143",
                                    "felnott szoba": "5"
                                },
                                {
                                    "SZOBA_FK": "144",
                                    "felnott szoba": "2"
                                },
                                {
                                    "SZOBA_FK": "145",
                                    "felnott szoba": "2"
                                },
                                {
                                    "SZOBA_FK": "146",
                                    "felnott szoba": "3"
                                },
                                {
                                    "SZOBA_FK": "147",
                                    "felnott szoba": "1"
                                },
                                {
                                    "SZOBA_FK": "148",
                                    "felnott szoba": "5"
                                },
                                {
                                    "SZOBA_FK": "149",
                                    "felnott szoba": "5"
                                },
                                {
                                    "SZOBA_FK": "150",
                                    "felnott szoba": "6"
                                },
                                {
                                    "SZOBA_FK": "151",
                                    "felnott szoba": "2"
                                },
                                {
                                    "SZOBA_FK": "152",
                                    "felnott szoba": "3"
                                },
                                {
                                    "SZOBA_FK": "153",
                                    "felnott szoba": "4"
                                },
                                {
                                    "SZOBA_FK": "154",
                                    "felnott szoba": "3"
                                },
                                {
                                    "SZOBA_FK": "155",
                                    "felnott szoba": "3"
                                },
                                {
                                    "SZOBA_FK": "156",
                                    "felnott szoba": "2"
                                },
                                {
                                    "SZOBA_FK": "157",
                                    "felnott szoba": "2"
                                },
                                {
                                    "SZOBA_FK": "158",
                                    "felnott szoba": "3"
                                },
                                {
                                    "SZOBA_FK": "160",
                                    "felnott szoba": "2"
                                },
                                {
                                    "SZOBA_FK": "161",
                                    "felnott szoba": "3"
                                },
                                {
                                    "SZOBA_FK": "162",
                                    "felnott szoba": "2"
                                },
                                {
                                    "SZOBA_FK": "163",
                                    "felnott szoba": "5"
                                },
                                {
                                    "SZOBA_FK": "164",
                                    "felnott szoba": "4"
                                },
                                {
                                    "SZOBA_FK": "165",
                                    "felnott szoba": "5"
                                },
                                {
                                    "SZOBA_FK": "166",
                                    "felnott szoba": "3"
                                },
                                {
                                    "SZOBA_FK": "167",
                                    "felnott szoba": "2"
                                },
                                {
                                    "SZOBA_FK": "168",
                                    "felnott szoba": "1"
                                },
                                {
                                    "SZOBA_FK": "169",
                                    "felnott szoba": "3"
                                },
                                {
                                    "SZOBA_FK": "170",
                                    "felnott szoba": "3"
                                },
                                {
                                    "SZOBA_FK": "171",
                                    "felnott szoba": "5"
                                },
                                {
                                    "SZOBA_FK": "172",
                                    "felnott szoba": "6"
                                },
                                {
                                    "SZOBA_FK": "173",
                                    "felnott szoba": "3"
                                },
                                {
                                    "SZOBA_FK": "174",
                                    "felnott szoba": "4"
                                },
                                {
                                    "SZOBA_FK": "175",
                                    "felnott szoba": "3"
                                },
                                {
                                    "SZOBA_FK": "176",
                                    "felnott szoba": "2"
                                },
                                {
                                    "SZOBA_FK": "177",
                                    "felnott szoba": "1"
                                },
                                {
                                    "SZOBA_FK": "178",
                                    "felnott szoba": "1"
                                },
                                {
                                    "SZOBA_FK": "179",
                                    "felnott szoba": "2"
                                },
                                {
                                    "SZOBA_FK": "180",
                                    "felnott szoba": "1"
                                },
                                {
                                    "SZOBA_FK": "181",
                                    "felnott szoba": "5"
                                },
                                {
                                    "SZOBA_FK": "182",
                                    "felnott szoba": "11"
                                },
                                {
                                    "SZOBA_FK": "183",
                                    "felnott szoba": "3"
                                },
                                {
                                    "SZOBA_FK": "184",
                                    "felnott szoba": "4"
                                },
                                {
                                    "SZOBA_FK": "185",
                                    "felnott szoba": "10"
                                },
                                {
                                    "SZOBA_FK": "186",
                                    "felnott szoba": "1"
                                },
                                {
                                    "SZOBA_FK": "187",
                                    "felnott szoba": "6"
                                },
                                {
                                    "SZOBA_FK": "188",
                                    "felnott szoba": "2"
                                },
                                {
                                    "SZOBA_FK": "189",
                                    "felnott szoba": "1"
                                },
                                {
                                    "SZOBA_FK": "190",
                                    "felnott szoba": "5"
                                },
                                {
                                    "SZOBA_FK": "191",
                                    "felnott szoba": "3"
                                },
                                {
                                    "SZOBA_FK": "192",
                                    "felnott szoba": "1"
                                },
                                {
                                    "SZOBA_FK": "193",
                                    "felnott szoba": "2"
                                },
                                {
                                    "SZOBA_FK": "194",
                                    "felnott szoba": "1"
                                },
                                {
                                    "SZOBA_FK": "195",
                                    "felnott szoba": "5"
                                },
                                {
                                    "SZOBA_FK": "196",
                                    "felnott szoba": "2"
                                },
                                {
                                    "SZOBA_FK": "197",
                                    "felnott szoba": "6"
                                },
                                {
                                    "SZOBA_FK": "198",
                                    "felnott szoba": "7"
                                }
                            ]
                        },
                        "text/html": [
                            "<table>",
                            "<tr><th>SZOBA_FK</th><th>felnott szoba</th></tr>",
                            "<tr><td>NULL</td><td>668</td></tr>",
                            "<tr><td>1</td><td>7</td></tr>",
                            "<tr><td>2</td><td>2</td></tr>",
                            "<tr><td>3</td><td>3</td></tr>",
                            "<tr><td>4</td><td>5</td></tr>",
                            "<tr><td>5</td><td>2</td></tr>",
                            "<tr><td>6</td><td>5</td></tr>",
                            "<tr><td>7</td><td>6</td></tr>",
                            "<tr><td>8</td><td>5</td></tr>",
                            "<tr><td>9</td><td>4</td></tr>",
                            "<tr><td>10</td><td>4</td></tr>",
                            "<tr><td>11</td><td>4</td></tr>",
                            "<tr><td>12</td><td>7</td></tr>",
                            "<tr><td>13</td><td>4</td></tr>",
                            "<tr><td>14</td><td>3</td></tr>",
                            "<tr><td>15</td><td>4</td></tr>",
                            "<tr><td>16</td><td>1</td></tr>",
                            "<tr><td>17</td><td>2</td></tr>",
                            "<tr><td>18</td><td>3</td></tr>",
                            "<tr><td>19</td><td>4</td></tr>",
                            "<tr><td>20</td><td>5</td></tr>",
                            "<tr><td>21</td><td>1</td></tr>",
                            "<tr><td>22</td><td>2</td></tr>",
                            "<tr><td>23</td><td>3</td></tr>",
                            "<tr><td>24</td><td>3</td></tr>",
                            "<tr><td>25</td><td>1</td></tr>",
                            "<tr><td>26</td><td>0</td></tr>",
                            "<tr><td>27</td><td>5</td></tr>",
                            "<tr><td>28</td><td>5</td></tr>",
                            "<tr><td>29</td><td>3</td></tr>",
                            "<tr><td>30</td><td>2</td></tr>",
                            "<tr><td>31</td><td>1</td></tr>",
                            "<tr><td>32</td><td>1</td></tr>",
                            "<tr><td>33</td><td>3</td></tr>",
                            "<tr><td>34</td><td>3</td></tr>",
                            "<tr><td>35</td><td>6</td></tr>",
                            "<tr><td>36</td><td>4</td></tr>",
                            "<tr><td>37</td><td>2</td></tr>",
                            "<tr><td>38</td><td>5</td></tr>",
                            "<tr><td>39</td><td>4</td></tr>",
                            "<tr><td>40</td><td>3</td></tr>",
                            "<tr><td>41</td><td>1</td></tr>",
                            "<tr><td>42</td><td>5</td></tr>",
                            "<tr><td>43</td><td>4</td></tr>",
                            "<tr><td>44</td><td>6</td></tr>",
                            "<tr><td>45</td><td>4</td></tr>",
                            "<tr><td>46</td><td>3</td></tr>",
                            "<tr><td>47</td><td>2</td></tr>",
                            "<tr><td>48</td><td>6</td></tr>",
                            "<tr><td>49</td><td>5</td></tr>",
                            "<tr><td>50</td><td>3</td></tr>",
                            "<tr><td>51</td><td>3</td></tr>",
                            "<tr><td>52</td><td>5</td></tr>",
                            "<tr><td>53</td><td>0</td></tr>",
                            "<tr><td>54</td><td>4</td></tr>",
                            "<tr><td>55</td><td>3</td></tr>",
                            "<tr><td>56</td><td>1</td></tr>",
                            "<tr><td>57</td><td>3</td></tr>",
                            "<tr><td>58</td><td>8</td></tr>",
                            "<tr><td>59</td><td>4</td></tr>",
                            "<tr><td>60</td><td>1</td></tr>",
                            "<tr><td>61</td><td>4</td></tr>",
                            "<tr><td>62</td><td>3</td></tr>",
                            "<tr><td>63</td><td>3</td></tr>",
                            "<tr><td>64</td><td>5</td></tr>",
                            "<tr><td>65</td><td>0</td></tr>",
                            "<tr><td>66</td><td>3</td></tr>",
                            "<tr><td>67</td><td>2</td></tr>",
                            "<tr><td>68</td><td>0</td></tr>",
                            "<tr><td>69</td><td>2</td></tr>",
                            "<tr><td>70</td><td>8</td></tr>",
                            "<tr><td>71</td><td>2</td></tr>",
                            "<tr><td>72</td><td>2</td></tr>",
                            "<tr><td>73</td><td>4</td></tr>",
                            "<tr><td>74</td><td>8</td></tr>",
                            "<tr><td>75</td><td>2</td></tr>",
                            "<tr><td>76</td><td>2</td></tr>",
                            "<tr><td>77</td><td>3</td></tr>",
                            "<tr><td>78</td><td>3</td></tr>",
                            "<tr><td>79</td><td>4</td></tr>",
                            "<tr><td>80</td><td>5</td></tr>",
                            "<tr><td>81</td><td>3</td></tr>",
                            "<tr><td>82</td><td>5</td></tr>",
                            "<tr><td>83</td><td>5</td></tr>",
                            "<tr><td>84</td><td>3</td></tr>",
                            "<tr><td>85</td><td>2</td></tr>",
                            "<tr><td>86</td><td>4</td></tr>",
                            "<tr><td>87</td><td>5</td></tr>",
                            "<tr><td>88</td><td>5</td></tr>",
                            "<tr><td>89</td><td>8</td></tr>",
                            "<tr><td>90</td><td>3</td></tr>",
                            "<tr><td>91</td><td>2</td></tr>",
                            "<tr><td>92</td><td>5</td></tr>",
                            "<tr><td>93</td><td>3</td></tr>",
                            "<tr><td>94</td><td>6</td></tr>",
                            "<tr><td>95</td><td>3</td></tr>",
                            "<tr><td>96</td><td>6</td></tr>",
                            "<tr><td>97</td><td>5</td></tr>",
                            "<tr><td>98</td><td>4</td></tr>",
                            "<tr><td>99</td><td>4</td></tr>",
                            "<tr><td>100</td><td>2</td></tr>",
                            "<tr><td>101</td><td>1</td></tr>",
                            "<tr><td>102</td><td>1</td></tr>",
                            "<tr><td>103</td><td>1</td></tr>",
                            "<tr><td>104</td><td>3</td></tr>",
                            "<tr><td>105</td><td>0</td></tr>",
                            "<tr><td>106</td><td>4</td></tr>",
                            "<tr><td>107</td><td>4</td></tr>",
                            "<tr><td>108</td><td>1</td></tr>",
                            "<tr><td>109</td><td>2</td></tr>",
                            "<tr><td>110</td><td>5</td></tr>",
                            "<tr><td>111</td><td>1</td></tr>",
                            "<tr><td>112</td><td>4</td></tr>",
                            "<tr><td>113</td><td>2</td></tr>",
                            "<tr><td>114</td><td>1</td></tr>",
                            "<tr><td>115</td><td>5</td></tr>",
                            "<tr><td>116</td><td>0</td></tr>",
                            "<tr><td>117</td><td>4</td></tr>",
                            "<tr><td>118</td><td>2</td></tr>",
                            "<tr><td>119</td><td>4</td></tr>",
                            "<tr><td>120</td><td>2</td></tr>",
                            "<tr><td>121</td><td>5</td></tr>",
                            "<tr><td>122</td><td>3</td></tr>",
                            "<tr><td>123</td><td>5</td></tr>",
                            "<tr><td>124</td><td>4</td></tr>",
                            "<tr><td>125</td><td>0</td></tr>",
                            "<tr><td>126</td><td>4</td></tr>",
                            "<tr><td>127</td><td>5</td></tr>",
                            "<tr><td>128</td><td>0</td></tr>",
                            "<tr><td>129</td><td>3</td></tr>",
                            "<tr><td>130</td><td>5</td></tr>",
                            "<tr><td>131</td><td>4</td></tr>",
                            "<tr><td>132</td><td>4</td></tr>",
                            "<tr><td>133</td><td>4</td></tr>",
                            "<tr><td>134</td><td>4</td></tr>",
                            "<tr><td>135</td><td>3</td></tr>",
                            "<tr><td>136</td><td>2</td></tr>",
                            "<tr><td>137</td><td>2</td></tr>",
                            "<tr><td>138</td><td>5</td></tr>",
                            "<tr><td>139</td><td>6</td></tr>",
                            "<tr><td>140</td><td>5</td></tr>",
                            "<tr><td>141</td><td>4</td></tr>",
                            "<tr><td>142</td><td>1</td></tr>",
                            "<tr><td>143</td><td>5</td></tr>",
                            "<tr><td>144</td><td>2</td></tr>",
                            "<tr><td>145</td><td>2</td></tr>",
                            "<tr><td>146</td><td>3</td></tr>",
                            "<tr><td>147</td><td>1</td></tr>",
                            "<tr><td>148</td><td>5</td></tr>",
                            "<tr><td>149</td><td>5</td></tr>",
                            "<tr><td>150</td><td>6</td></tr>",
                            "<tr><td>151</td><td>2</td></tr>",
                            "<tr><td>152</td><td>3</td></tr>",
                            "<tr><td>153</td><td>4</td></tr>",
                            "<tr><td>154</td><td>3</td></tr>",
                            "<tr><td>155</td><td>3</td></tr>",
                            "<tr><td>156</td><td>2</td></tr>",
                            "<tr><td>157</td><td>2</td></tr>",
                            "<tr><td>158</td><td>3</td></tr>",
                            "<tr><td>160</td><td>2</td></tr>",
                            "<tr><td>161</td><td>3</td></tr>",
                            "<tr><td>162</td><td>2</td></tr>",
                            "<tr><td>163</td><td>5</td></tr>",
                            "<tr><td>164</td><td>4</td></tr>",
                            "<tr><td>165</td><td>5</td></tr>",
                            "<tr><td>166</td><td>3</td></tr>",
                            "<tr><td>167</td><td>2</td></tr>",
                            "<tr><td>168</td><td>1</td></tr>",
                            "<tr><td>169</td><td>3</td></tr>",
                            "<tr><td>170</td><td>3</td></tr>",
                            "<tr><td>171</td><td>5</td></tr>",
                            "<tr><td>172</td><td>6</td></tr>",
                            "<tr><td>173</td><td>3</td></tr>",
                            "<tr><td>174</td><td>4</td></tr>",
                            "<tr><td>175</td><td>3</td></tr>",
                            "<tr><td>176</td><td>2</td></tr>",
                            "<tr><td>177</td><td>1</td></tr>",
                            "<tr><td>178</td><td>1</td></tr>",
                            "<tr><td>179</td><td>2</td></tr>",
                            "<tr><td>180</td><td>1</td></tr>",
                            "<tr><td>181</td><td>5</td></tr>",
                            "<tr><td>182</td><td>11</td></tr>",
                            "<tr><td>183</td><td>3</td></tr>",
                            "<tr><td>184</td><td>4</td></tr>",
                            "<tr><td>185</td><td>10</td></tr>",
                            "<tr><td>186</td><td>1</td></tr>",
                            "<tr><td>187</td><td>6</td></tr>",
                            "<tr><td>188</td><td>2</td></tr>",
                            "<tr><td>189</td><td>1</td></tr>",
                            "<tr><td>190</td><td>5</td></tr>",
                            "<tr><td>191</td><td>3</td></tr>",
                            "<tr><td>192</td><td>1</td></tr>",
                            "<tr><td>193</td><td>2</td></tr>",
                            "<tr><td>194</td><td>1</td></tr>",
                            "<tr><td>195</td><td>5</td></tr>",
                            "<tr><td>196</td><td>2</td></tr>",
                            "<tr><td>197</td><td>6</td></tr>",
                            "<tr><td>198</td><td>7</td></tr>",
                            "</table>"
                        ]
                    }
                }
            ],
            "execution_count": 15
        }
    ]
}