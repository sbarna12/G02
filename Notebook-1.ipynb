{
    "metadata": {
        "kernelspec": {
            "name": "SQL",
            "display_name": "SQL",
            "language": "sql"
        },
        "language_info": {
            "name": "sql",
            "version": ""
        }
    },
    "nbformat_minor": 2,
    "nbformat": 4,
    "cells": [
        {
            "cell_type": "code",
            "source": [
                "SELECT*\r\n",
                "FROM diak"
            ],
            "metadata": {
                "azdata_cell_guid": "5d960516-f58c-4da2-821d-9784be75304a",
                "language": "sql"
            },
            "outputs": [
                {
                    "output_type": "display_data",
                    "data": {
                        "text/html": "(10 rows affected)"
                    },
                    "metadata": {}
                },
                {
                    "output_type": "display_data",
                    "data": {
                        "text/html": "Total execution time: 00:00:00.046"
                    },
                    "metadata": {}
                },
                {
                    "output_type": "execute_result",
                    "execution_count": 3,
                    "data": {
                        "application/vnd.dataresource+json": {
                            "schema": {
                                "fields": [
                                    {
                                        "name": "DiakAz"
                                    },
                                    {
                                        "name": "Nev"
                                    },
                                    {
                                        "name": "Szulido"
                                    }
                                ]
                            },
                            "data": [
                                {
                                    "DiakAz": "1",
                                    "Nev": "Kos Péter",
                                    "Szulido": "1987-11-05 00:00:00.000"
                                },
                                {
                                    "DiakAz": "2",
                                    "Nev": "Port Imre",
                                    "Szulido": "1990-05-05 00:00:00.000"
                                },
                                {
                                    "DiakAz": "3",
                                    "Nev": "Kovács Imre",
                                    "Szulido": "1984-03-02 00:00:00.000"
                                },
                                {
                                    "DiakAz": "4",
                                    "Nev": "Horváth Emil",
                                    "Szulido": "1988-05-02 00:00:00.000"
                                },
                                {
                                    "DiakAz": "5",
                                    "Nev": "Kapos Petra",
                                    "Szulido": "1985-12-23 00:00:00.000"
                                },
                                {
                                    "DiakAz": "6",
                                    "Nev": "Csóka Anna",
                                    "Szulido": "1981-11-30 00:00:00.000"
                                },
                                {
                                    "DiakAz": "7",
                                    "Nev": "Nyúl Tamás",
                                    "Szulido": "1988-02-16 00:00:00.000"
                                },
                                {
                                    "DiakAz": "8",
                                    "Nev": "Ordasi Emma",
                                    "Szulido": "1989-01-03 00:00:00.000"
                                },
                                {
                                    "DiakAz": "9",
                                    "Nev": "Koppány Olga",
                                    "Szulido": "1984-02-28 00:00:00.000"
                                },
                                {
                                    "DiakAz": "10",
                                    "Nev": "Kozma Patrícia",
                                    "Szulido": "1983-06-01 00:00:00.000"
                                }
                            ]
                        },
                        "text/html": "<table><tr><th>DiakAz</th><th>Nev</th><th>Szulido</th></tr><tr><td>1</td><td>Kos Péter</td><td>1987-11-05 00:00:00.000</td></tr><tr><td>2</td><td>Port Imre</td><td>1990-05-05 00:00:00.000</td></tr><tr><td>3</td><td>Kovács Imre</td><td>1984-03-02 00:00:00.000</td></tr><tr><td>4</td><td>Horváth Emil</td><td>1988-05-02 00:00:00.000</td></tr><tr><td>5</td><td>Kapos Petra</td><td>1985-12-23 00:00:00.000</td></tr><tr><td>6</td><td>Csóka Anna</td><td>1981-11-30 00:00:00.000</td></tr><tr><td>7</td><td>Nyúl Tamás</td><td>1988-02-16 00:00:00.000</td></tr><tr><td>8</td><td>Ordasi Emma</td><td>1989-01-03 00:00:00.000</td></tr><tr><td>9</td><td>Koppány Olga</td><td>1984-02-28 00:00:00.000</td></tr><tr><td>10</td><td>Kozma Patrícia</td><td>1983-06-01 00:00:00.000</td></tr></table>"
                    },
                    "metadata": {}
                }
            ],
            "execution_count": 3
        }
    ]
}