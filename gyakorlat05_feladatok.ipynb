{
    "metadata": {
        "kernelspec": {
            "name": "SQL",
            "display_name": "SQL",
            "language": "sql"
        },
        "language_info": {
            "name": "sql",
            "version": ""
        }
    },
    "nbformat_minor": 2,
    "nbformat": 4,
    "cells": [
        {
            "cell_type": "markdown",
            "source": [
                "1. <span style=\"color: rgb(36, 41, 47); font-family: -apple-system, BlinkMacSystemFont, &quot;Segoe UI&quot;, Helvetica, Arial, sans-serif, &quot;Apple Color Emoji&quot;, &quot;Segoe UI Emoji&quot;; font-size: 16px;\">Készítsünk listát éves bontásban norbert2 azonosítójú ügyfél rendeléseinek értékéről!</span>\n",
                "\n",
                "1. A lista megfelelően jelölve tartalmazza a végösszeget is!"
            ],
            "metadata": {
                "azdata_cell_guid": "363cd270-6577-449b-9c89-d4b7c7972d52"
            },
            "attachments": {}
        },
        {
            "cell_type": "code",
            "source": [
                "SELECT YEAR(r.REND_DATUM), SUM(t.MENNYISEG*t.EGYSEGAR) as 'összeg'\r\n",
                "from Rendeles_tetel t JOIN Rendeles r ON r.[SORSZAM]=t.[SORSZAM]\r\n",
                "where r.[LOGIN] like 'norbert2'\r\n",
                "group BY rollup(YEAR(r.REND_DATUM))\r\n",
                ""
            ],
            "metadata": {
                "azdata_cell_guid": "6ab9f633-a3b5-48c9-a1dc-4fb8235ae85b",
                "language": "sql",
                "tags": []
            },
            "outputs": [
                {
                    "output_type": "display_data",
                    "data": {
                        "text/html": "(3 rows affected)"
                    },
                    "metadata": {}
                },
                {
                    "output_type": "display_data",
                    "data": {
                        "text/html": "Total execution time: 00:00:00.028"
                    },
                    "metadata": {}
                },
                {
                    "output_type": "execute_result",
                    "execution_count": 17,
                    "data": {
                        "application/vnd.dataresource+json": {
                            "schema": {
                                "fields": [
                                    {
                                        "name": "(No column name)"
                                    },
                                    {
                                        "name": "összeg"
                                    }
                                ]
                            },
                            "data": [
                                {
                                    "(No column name)": "2015",
                                    "összeg": "483473"
                                },
                                {
                                    "(No column name)": "2017",
                                    "összeg": "614340"
                                },
                                {
                                    "(No column name)": "NULL",
                                    "összeg": "1097813"
                                }
                            ]
                        },
                        "text/html": "<table><tr><th>(No column name)</th><th>összeg</th></tr><tr><td>2015</td><td>483473</td></tr><tr><td>2017</td><td>614340</td></tr><tr><td>NULL</td><td>1097813</td></tr></table>"
                    },
                    "metadata": {}
                }
            ],
            "execution_count": 17
        },
        {
            "cell_type": "markdown",
            "source": [
                "2. <span style=\"color: rgb(36, 41, 47); font-family: -apple-system, BlinkMacSystemFont, &quot;Segoe UI&quot;, Helvetica, Arial, sans-serif, &quot;Apple Color Emoji&quot;, &quot;Segoe UI Emoji&quot;; font-size: 16px;\">Készítsünk listát szállítási dátumonként, azon belül szállítási módonként az egyes rendelések összmennyiségéről!</span>\n",
                "\n",
                "1. Csak azokat a termékeket vegyük figyelembe, amelyek mennyiségi egysége db!\n",
                "2. A listát szűrjük úgy, hogy az csak a részösszeg sorokat és a végösszeget tartalmazza!"
            ],
            "metadata": {
                "azdata_cell_guid": "ea75c103-911f-41a3-a32c-3d40fb3e4e4a"
            },
            "attachments": {}
        },
        {
            "cell_type": "code",
            "source": [
                "SELECT Rendeles.SZALL_DATUM, Rendeles.SZALL_MOD, COUNT(Rendeles.SORSZAM)\r\n",
                "FROM Rendeles JOIN Rendeles_tetel On Rendeles.SORSZAM=Rendeles_tetel.SORSZAM JOIN Termek ON Termek.TERMEKKOD=Rendeles_tetel.TERMEKKOD\r\n",
                "WHERE Termek.MEGYS='db'\r\n",
                "GROUP BY Rollup(Rendeles.SZALL_DATUM, Rendeles.SZALL_MOD, Termek.MEGYS)\r\n",
                "HAVING Rendeles.SZALL_MOD IS NULL OR Rendeles.SZALL_DATUM IS NULL"
            ],
            "metadata": {
                "azdata_cell_guid": "222b9618-a8e8-42b4-a8e8-d002257122b7",
                "language": "sql"
            },
            "outputs": [
                {
                    "output_type": "display_data",
                    "data": {
                        "text/html": "(711 rows affected)"
                    },
                    "metadata": {}
                },
                {
                    "output_type": "display_data",
                    "data": {
                        "text/html": "Total execution time: 00:00:00.834"
                    },
                    "metadata": {}
                },
                {
                    "output_type": "execute_result",
                    "execution_count": 20,
                    "data": {
                        "application/vnd.dataresource+json": {
                            "schema": {
                                "fields": [
                                    {
                                        "name": "SZALL_DATUM"
                                    },
                                    {
                                        "name": "SZALL_MOD"
                                    },
                                    {
                                        "name": "(No column name)"
                                    }
                                ]
                            },
                            "data": [
                                {
                                    "SZALL_DATUM": "2015-05-03",
                                    "SZALL_MOD": "NULL",
                                    "(No column name)": "4"
                                },
                                {
                                    "SZALL_DATUM": "2015-05-04",
                                    "SZALL_MOD": "NULL",
                                    "(No column name)": "31"
                                },
                                {
                                    "SZALL_DATUM": "2015-05-05",
                                    "SZALL_MOD": "NULL",
                                    "(No column name)": "81"
                                },
                                {
                                    "SZALL_DATUM": "2015-05-06",
                                    "SZALL_MOD": "NULL",
                                    "(No column name)": "126"
                                },
                                {
                                    "SZALL_DATUM": "2015-05-07",
                                    "SZALL_MOD": "NULL",
                                    "(No column name)": "94"
                                },
                                {
                                    "SZALL_DATUM": "2015-05-08",
                                    "SZALL_MOD": "NULL",
                                    "(No column name)": "106"
                                },
                                {
                                    "SZALL_DATUM": "2015-05-09",
                                    "SZALL_MOD": "NULL",
                                    "(No column name)": "159"
                                },
                                {
                                    "SZALL_DATUM": "2015-05-10",
                                    "SZALL_MOD": "NULL",
                                    "(No column name)": "168"
                                },
                                {
                                    "SZALL_DATUM": "2015-05-11",
                                    "SZALL_MOD": "NULL",
                                    "(No column name)": "195"
                                },
                                {
                                    "SZALL_DATUM": "2015-05-12",
                                    "SZALL_MOD": "NULL",
                                    "(No column name)": "196"
                                },
                                {
                                    "SZALL_DATUM": "2015-05-13",
                                    "SZALL_MOD": "NULL",
                                    "(No column name)": "198"
                                },
                                {
                                    "SZALL_DATUM": "2015-05-14",
                                    "SZALL_MOD": "NULL",
                                    "(No column name)": "277"
                                },
                                {
                                    "SZALL_DATUM": "2015-05-15",
                                    "SZALL_MOD": "NULL",
                                    "(No column name)": "188"
                                },
                                {
                                    "SZALL_DATUM": "2015-05-16",
                                    "SZALL_MOD": "NULL",
                                    "(No column name)": "198"
                                },
                                {
                                    "SZALL_DATUM": "2015-05-17",
                                    "SZALL_MOD": "NULL",
                                    "(No column name)": "129"
                                },
                                {
                                    "SZALL_DATUM": "2015-05-18",
                                    "SZALL_MOD": "NULL",
                                    "(No column name)": "225"
                                },
                                {
                                    "SZALL_DATUM": "2015-05-19",
                                    "SZALL_MOD": "NULL",
                                    "(No column name)": "199"
                                },
                                {
                                    "SZALL_DATUM": "2015-05-20",
                                    "SZALL_MOD": "NULL",
                                    "(No column name)": "245"
                                },
                                {
                                    "SZALL_DATUM": "2015-05-21",
                                    "SZALL_MOD": "NULL",
                                    "(No column name)": "198"
                                },
                                {
                                    "SZALL_DATUM": "2015-05-22",
                                    "SZALL_MOD": "NULL",
                                    "(No column name)": "202"
                                },
                                {
                                    "SZALL_DATUM": "2015-05-23",
                                    "SZALL_MOD": "NULL",
                                    "(No column name)": "139"
                                },
                                {
                                    "SZALL_DATUM": "2015-05-24",
                                    "SZALL_MOD": "NULL",
                                    "(No column name)": "150"
                                },
                                {
                                    "SZALL_DATUM": "2015-05-25",
                                    "SZALL_MOD": "NULL",
                                    "(No column name)": "173"
                                },
                                {
                                    "SZALL_DATUM": "2015-05-26",
                                    "SZALL_MOD": "NULL",
                                    "(No column name)": "204"
                                },
                                {
                                    "SZALL_DATUM": "2015-05-27",
                                    "SZALL_MOD": "NULL",
                                    "(No column name)": "231"
                                },
                                {
                                    "SZALL_DATUM": "2015-05-28",
                                    "SZALL_MOD": "NULL",
                                    "(No column name)": "229"
                                },
                                {
                                    "SZALL_DATUM": "2015-05-29",
                                    "SZALL_MOD": "NULL",
                                    "(No column name)": "263"
                                },
                                {
                                    "SZALL_DATUM": "2015-05-30",
                                    "SZALL_MOD": "NULL",
                                    "(No column name)": "203"
                                },
                                {
                                    "SZALL_DATUM": "2015-05-31",
                                    "SZALL_MOD": "NULL",
                                    "(No column name)": "123"
                                },
                                {
                                    "SZALL_DATUM": "2015-06-01",
                                    "SZALL_MOD": "NULL",
                                    "(No column name)": "181"
                                },
                                {
                                    "SZALL_DATUM": "2015-06-02",
                                    "SZALL_MOD": "NULL",
                                    "(No column name)": "175"
                                },
                                {
                                    "SZALL_DATUM": "2015-06-03",
                                    "SZALL_MOD": "NULL",
                                    "(No column name)": "220"
                                },
                                {
                                    "SZALL_DATUM": "2015-06-04",
                                    "SZALL_MOD": "NULL",
                                    "(No column name)": "210"
                                },
                                {
                                    "SZALL_DATUM": "2015-06-05",
                                    "SZALL_MOD": "NULL",
                                    "(No column name)": "230"
                                },
                                {
                                    "SZALL_DATUM": "2015-06-06",
                                    "SZALL_MOD": "NULL",
                                    "(No column name)": "236"
                                },
                                {
                                    "SZALL_DATUM": "2015-06-07",
                                    "SZALL_MOD": "NULL",
                                    "(No column name)": "221"
                                },
                                {
                                    "SZALL_DATUM": "2015-06-08",
                                    "SZALL_MOD": "NULL",
                                    "(No column name)": "149"
                                },
                                {
                                    "SZALL_DATUM": "2015-06-09",
                                    "SZALL_MOD": "NULL",
                                    "(No column name)": "172"
                                },
                                {
                                    "SZALL_DATUM": "2015-06-10",
                                    "SZALL_MOD": "NULL",
                                    "(No column name)": "221"
                                },
                                {
                                    "SZALL_DATUM": "2015-06-11",
                                    "SZALL_MOD": "NULL",
                                    "(No column name)": "173"
                                },
                                {
                                    "SZALL_DATUM": "2015-06-12",
                                    "SZALL_MOD": "NULL",
                                    "(No column name)": "231"
                                },
                                {
                                    "SZALL_DATUM": "2015-06-13",
                                    "SZALL_MOD": "NULL",
                                    "(No column name)": "215"
                                },
                                {
                                    "SZALL_DATUM": "2015-06-14",
                                    "SZALL_MOD": "NULL",
                                    "(No column name)": "207"
                                },
                                {
                                    "SZALL_DATUM": "2015-06-15",
                                    "SZALL_MOD": "NULL",
                                    "(No column name)": "205"
                                },
                                {
                                    "SZALL_DATUM": "2015-06-16",
                                    "SZALL_MOD": "NULL",
                                    "(No column name)": "133"
                                },
                                {
                                    "SZALL_DATUM": "2015-06-17",
                                    "SZALL_MOD": "NULL",
                                    "(No column name)": "229"
                                },
                                {
                                    "SZALL_DATUM": "2015-06-18",
                                    "SZALL_MOD": "NULL",
                                    "(No column name)": "238"
                                },
                                {
                                    "SZALL_DATUM": "2015-06-19",
                                    "SZALL_MOD": "NULL",
                                    "(No column name)": "176"
                                },
                                {
                                    "SZALL_DATUM": "2015-06-20",
                                    "SZALL_MOD": "NULL",
                                    "(No column name)": "198"
                                },
                                {
                                    "SZALL_DATUM": "2015-06-21",
                                    "SZALL_MOD": "NULL",
                                    "(No column name)": "179"
                                },
                                {
                                    "SZALL_DATUM": "2015-06-22",
                                    "SZALL_MOD": "NULL",
                                    "(No column name)": "240"
                                },
                                {
                                    "SZALL_DATUM": "2015-06-23",
                                    "SZALL_MOD": "NULL",
                                    "(No column name)": "227"
                                },
                                {
                                    "SZALL_DATUM": "2015-06-24",
                                    "SZALL_MOD": "NULL",
                                    "(No column name)": "129"
                                },
                                {
                                    "SZALL_DATUM": "2015-06-25",
                                    "SZALL_MOD": "NULL",
                                    "(No column name)": "247"
                                },
                                {
                                    "SZALL_DATUM": "2015-06-26",
                                    "SZALL_MOD": "NULL",
                                    "(No column name)": "271"
                                },
                                {
                                    "SZALL_DATUM": "2015-06-27",
                                    "SZALL_MOD": "NULL",
                                    "(No column name)": "173"
                                },
                                {
                                    "SZALL_DATUM": "2015-06-28",
                                    "SZALL_MOD": "NULL",
                                    "(No column name)": "163"
                                },
                                {
                                    "SZALL_DATUM": "2015-06-29",
                                    "SZALL_MOD": "NULL",
                                    "(No column name)": "207"
                                },
                                {
                                    "SZALL_DATUM": "2015-06-30",
                                    "SZALL_MOD": "NULL",
                                    "(No column name)": "208"
                                },
                                {
                                    "SZALL_DATUM": "2015-07-01",
                                    "SZALL_MOD": "NULL",
                                    "(No column name)": "138"
                                },
                                {
                                    "SZALL_DATUM": "2015-07-02",
                                    "SZALL_MOD": "NULL",
                                    "(No column name)": "183"
                                },
                                {
                                    "SZALL_DATUM": "2015-07-03",
                                    "SZALL_MOD": "NULL",
                                    "(No column name)": "175"
                                },
                                {
                                    "SZALL_DATUM": "2015-07-04",
                                    "SZALL_MOD": "NULL",
                                    "(No column name)": "221"
                                },
                                {
                                    "SZALL_DATUM": "2015-07-05",
                                    "SZALL_MOD": "NULL",
                                    "(No column name)": "220"
                                },
                                {
                                    "SZALL_DATUM": "2015-07-06",
                                    "SZALL_MOD": "NULL",
                                    "(No column name)": "231"
                                },
                                {
                                    "SZALL_DATUM": "2015-07-07",
                                    "SZALL_MOD": "NULL",
                                    "(No column name)": "266"
                                },
                                {
                                    "SZALL_DATUM": "2015-07-08",
                                    "SZALL_MOD": "NULL",
                                    "(No column name)": "177"
                                },
                                {
                                    "SZALL_DATUM": "2015-07-09",
                                    "SZALL_MOD": "NULL",
                                    "(No column name)": "198"
                                },
                                {
                                    "SZALL_DATUM": "2015-07-10",
                                    "SZALL_MOD": "NULL",
                                    "(No column name)": "182"
                                },
                                {
                                    "SZALL_DATUM": "2015-07-11",
                                    "SZALL_MOD": "NULL",
                                    "(No column name)": "175"
                                },
                                {
                                    "SZALL_DATUM": "2015-07-12",
                                    "SZALL_MOD": "NULL",
                                    "(No column name)": "218"
                                },
                                {
                                    "SZALL_DATUM": "2015-07-13",
                                    "SZALL_MOD": "NULL",
                                    "(No column name)": "208"
                                },
                                {
                                    "SZALL_DATUM": "2015-07-14",
                                    "SZALL_MOD": "NULL",
                                    "(No column name)": "188"
                                },
                                {
                                    "SZALL_DATUM": "2015-07-15",
                                    "SZALL_MOD": "NULL",
                                    "(No column name)": "256"
                                },
                                {
                                    "SZALL_DATUM": "2015-07-16",
                                    "SZALL_MOD": "NULL",
                                    "(No column name)": "187"
                                },
                                {
                                    "SZALL_DATUM": "2015-07-17",
                                    "SZALL_MOD": "NULL",
                                    "(No column name)": "176"
                                },
                                {
                                    "SZALL_DATUM": "2015-07-18",
                                    "SZALL_MOD": "NULL",
                                    "(No column name)": "159"
                                },
                                {
                                    "SZALL_DATUM": "2015-07-19",
                                    "SZALL_MOD": "NULL",
                                    "(No column name)": "187"
                                },
                                {
                                    "SZALL_DATUM": "2015-07-20",
                                    "SZALL_MOD": "NULL",
                                    "(No column name)": "260"
                                },
                                {
                                    "SZALL_DATUM": "2015-07-21",
                                    "SZALL_MOD": "NULL",
                                    "(No column name)": "242"
                                },
                                {
                                    "SZALL_DATUM": "2015-07-22",
                                    "SZALL_MOD": "NULL",
                                    "(No column name)": "163"
                                },
                                {
                                    "SZALL_DATUM": "2015-07-23",
                                    "SZALL_MOD": "NULL",
                                    "(No column name)": "180"
                                },
                                {
                                    "SZALL_DATUM": "2015-07-24",
                                    "SZALL_MOD": "NULL",
                                    "(No column name)": "219"
                                },
                                {
                                    "SZALL_DATUM": "2015-07-25",
                                    "SZALL_MOD": "NULL",
                                    "(No column name)": "200"
                                },
                                {
                                    "SZALL_DATUM": "2015-07-26",
                                    "SZALL_MOD": "NULL",
                                    "(No column name)": "236"
                                },
                                {
                                    "SZALL_DATUM": "2015-07-27",
                                    "SZALL_MOD": "NULL",
                                    "(No column name)": "155"
                                },
                                {
                                    "SZALL_DATUM": "2015-07-28",
                                    "SZALL_MOD": "NULL",
                                    "(No column name)": "180"
                                },
                                {
                                    "SZALL_DATUM": "2015-07-29",
                                    "SZALL_MOD": "NULL",
                                    "(No column name)": "161"
                                },
                                {
                                    "SZALL_DATUM": "2015-07-30",
                                    "SZALL_MOD": "NULL",
                                    "(No column name)": "238"
                                },
                                {
                                    "SZALL_DATUM": "2015-07-31",
                                    "SZALL_MOD": "NULL",
                                    "(No column name)": "270"
                                },
                                {
                                    "SZALL_DATUM": "2015-08-01",
                                    "SZALL_MOD": "NULL",
                                    "(No column name)": "248"
                                },
                                {
                                    "SZALL_DATUM": "2015-08-02",
                                    "SZALL_MOD": "NULL",
                                    "(No column name)": "229"
                                },
                                {
                                    "SZALL_DATUM": "2015-08-03",
                                    "SZALL_MOD": "NULL",
                                    "(No column name)": "229"
                                },
                                {
                                    "SZALL_DATUM": "2015-08-04",
                                    "SZALL_MOD": "NULL",
                                    "(No column name)": "250"
                                },
                                {
                                    "SZALL_DATUM": "2015-08-05",
                                    "SZALL_MOD": "NULL",
                                    "(No column name)": "233"
                                },
                                {
                                    "SZALL_DATUM": "2015-08-06",
                                    "SZALL_MOD": "NULL",
                                    "(No column name)": "140"
                                },
                                {
                                    "SZALL_DATUM": "2015-08-07",
                                    "SZALL_MOD": "NULL",
                                    "(No column name)": "259"
                                },
                                {
                                    "SZALL_DATUM": "2015-08-08",
                                    "SZALL_MOD": "NULL",
                                    "(No column name)": "258"
                                },
                                {
                                    "SZALL_DATUM": "2015-08-09",
                                    "SZALL_MOD": "NULL",
                                    "(No column name)": "187"
                                },
                                {
                                    "SZALL_DATUM": "2015-08-10",
                                    "SZALL_MOD": "NULL",
                                    "(No column name)": "196"
                                },
                                {
                                    "SZALL_DATUM": "2015-08-11",
                                    "SZALL_MOD": "NULL",
                                    "(No column name)": "241"
                                },
                                {
                                    "SZALL_DATUM": "2015-08-12",
                                    "SZALL_MOD": "NULL",
                                    "(No column name)": "202"
                                },
                                {
                                    "SZALL_DATUM": "2015-08-13",
                                    "SZALL_MOD": "NULL",
                                    "(No column name)": "250"
                                },
                                {
                                    "SZALL_DATUM": "2015-08-14",
                                    "SZALL_MOD": "NULL",
                                    "(No column name)": "255"
                                },
                                {
                                    "SZALL_DATUM": "2015-08-15",
                                    "SZALL_MOD": "NULL",
                                    "(No column name)": "172"
                                },
                                {
                                    "SZALL_DATUM": "2015-08-16",
                                    "SZALL_MOD": "NULL",
                                    "(No column name)": "189"
                                },
                                {
                                    "SZALL_DATUM": "2015-08-17",
                                    "SZALL_MOD": "NULL",
                                    "(No column name)": "203"
                                },
                                {
                                    "SZALL_DATUM": "2015-08-18",
                                    "SZALL_MOD": "NULL",
                                    "(No column name)": "167"
                                },
                                {
                                    "SZALL_DATUM": "2015-08-19",
                                    "SZALL_MOD": "NULL",
                                    "(No column name)": "170"
                                },
                                {
                                    "SZALL_DATUM": "2015-08-20",
                                    "SZALL_MOD": "NULL",
                                    "(No column name)": "227"
                                },
                                {
                                    "SZALL_DATUM": "2015-08-21",
                                    "SZALL_MOD": "NULL",
                                    "(No column name)": "199"
                                },
                                {
                                    "SZALL_DATUM": "2015-08-22",
                                    "SZALL_MOD": "NULL",
                                    "(No column name)": "251"
                                },
                                {
                                    "SZALL_DATUM": "2015-08-23",
                                    "SZALL_MOD": "NULL",
                                    "(No column name)": "173"
                                },
                                {
                                    "SZALL_DATUM": "2015-08-24",
                                    "SZALL_MOD": "NULL",
                                    "(No column name)": "191"
                                },
                                {
                                    "SZALL_DATUM": "2015-08-25",
                                    "SZALL_MOD": "NULL",
                                    "(No column name)": "235"
                                },
                                {
                                    "SZALL_DATUM": "2015-08-26",
                                    "SZALL_MOD": "NULL",
                                    "(No column name)": "267"
                                },
                                {
                                    "SZALL_DATUM": "2015-08-27",
                                    "SZALL_MOD": "NULL",
                                    "(No column name)": "152"
                                },
                                {
                                    "SZALL_DATUM": "2015-08-28",
                                    "SZALL_MOD": "NULL",
                                    "(No column name)": "221"
                                },
                                {
                                    "SZALL_DATUM": "2015-08-29",
                                    "SZALL_MOD": "NULL",
                                    "(No column name)": "183"
                                },
                                {
                                    "SZALL_DATUM": "2015-08-30",
                                    "SZALL_MOD": "NULL",
                                    "(No column name)": "236"
                                },
                                {
                                    "SZALL_DATUM": "2015-08-31",
                                    "SZALL_MOD": "NULL",
                                    "(No column name)": "205"
                                },
                                {
                                    "SZALL_DATUM": "2015-09-01",
                                    "SZALL_MOD": "NULL",
                                    "(No column name)": "246"
                                },
                                {
                                    "SZALL_DATUM": "2015-09-02",
                                    "SZALL_MOD": "NULL",
                                    "(No column name)": "165"
                                },
                                {
                                    "SZALL_DATUM": "2015-09-03",
                                    "SZALL_MOD": "NULL",
                                    "(No column name)": "234"
                                },
                                {
                                    "SZALL_DATUM": "2015-09-04",
                                    "SZALL_MOD": "NULL",
                                    "(No column name)": "256"
                                },
                                {
                                    "SZALL_DATUM": "2015-09-05",
                                    "SZALL_MOD": "NULL",
                                    "(No column name)": "187"
                                },
                                {
                                    "SZALL_DATUM": "2015-09-06",
                                    "SZALL_MOD": "NULL",
                                    "(No column name)": "209"
                                },
                                {
                                    "SZALL_DATUM": "2015-09-07",
                                    "SZALL_MOD": "NULL",
                                    "(No column name)": "237"
                                },
                                {
                                    "SZALL_DATUM": "2015-09-08",
                                    "SZALL_MOD": "NULL",
                                    "(No column name)": "193"
                                },
                                {
                                    "SZALL_DATUM": "2015-09-09",
                                    "SZALL_MOD": "NULL",
                                    "(No column name)": "204"
                                },
                                {
                                    "SZALL_DATUM": "2015-09-10",
                                    "SZALL_MOD": "NULL",
                                    "(No column name)": "265"
                                },
                                {
                                    "SZALL_DATUM": "2015-09-11",
                                    "SZALL_MOD": "NULL",
                                    "(No column name)": "219"
                                },
                                {
                                    "SZALL_DATUM": "2015-09-12",
                                    "SZALL_MOD": "NULL",
                                    "(No column name)": "240"
                                },
                                {
                                    "SZALL_DATUM": "2015-09-13",
                                    "SZALL_MOD": "NULL",
                                    "(No column name)": "195"
                                },
                                {
                                    "SZALL_DATUM": "2015-09-14",
                                    "SZALL_MOD": "NULL",
                                    "(No column name)": "210"
                                },
                                {
                                    "SZALL_DATUM": "2015-09-15",
                                    "SZALL_MOD": "NULL",
                                    "(No column name)": "140"
                                },
                                {
                                    "SZALL_DATUM": "2015-09-16",
                                    "SZALL_MOD": "NULL",
                                    "(No column name)": "199"
                                },
                                {
                                    "SZALL_DATUM": "2015-09-17",
                                    "SZALL_MOD": "NULL",
                                    "(No column name)": "226"
                                },
                                {
                                    "SZALL_DATUM": "2015-09-18",
                                    "SZALL_MOD": "NULL",
                                    "(No column name)": "212"
                                },
                                {
                                    "SZALL_DATUM": "2015-09-19",
                                    "SZALL_MOD": "NULL",
                                    "(No column name)": "196"
                                },
                                {
                                    "SZALL_DATUM": "2015-09-20",
                                    "SZALL_MOD": "NULL",
                                    "(No column name)": "263"
                                },
                                {
                                    "SZALL_DATUM": "2015-09-21",
                                    "SZALL_MOD": "NULL",
                                    "(No column name)": "164"
                                },
                                {
                                    "SZALL_DATUM": "2015-09-22",
                                    "SZALL_MOD": "NULL",
                                    "(No column name)": "221"
                                },
                                {
                                    "SZALL_DATUM": "2015-09-23",
                                    "SZALL_MOD": "NULL",
                                    "(No column name)": "187"
                                },
                                {
                                    "SZALL_DATUM": "2015-09-24",
                                    "SZALL_MOD": "NULL",
                                    "(No column name)": "264"
                                },
                                {
                                    "SZALL_DATUM": "2015-09-25",
                                    "SZALL_MOD": "NULL",
                                    "(No column name)": "186"
                                },
                                {
                                    "SZALL_DATUM": "2015-09-26",
                                    "SZALL_MOD": "NULL",
                                    "(No column name)": "240"
                                },
                                {
                                    "SZALL_DATUM": "2015-09-27",
                                    "SZALL_MOD": "NULL",
                                    "(No column name)": "194"
                                },
                                {
                                    "SZALL_DATUM": "2015-09-28",
                                    "SZALL_MOD": "NULL",
                                    "(No column name)": "269"
                                },
                                {
                                    "SZALL_DATUM": "2015-09-29",
                                    "SZALL_MOD": "NULL",
                                    "(No column name)": "252"
                                },
                                {
                                    "SZALL_DATUM": "2015-09-30",
                                    "SZALL_MOD": "NULL",
                                    "(No column name)": "151"
                                },
                                {
                                    "SZALL_DATUM": "2015-10-01",
                                    "SZALL_MOD": "NULL",
                                    "(No column name)": "207"
                                },
                                {
                                    "SZALL_DATUM": "2015-10-02",
                                    "SZALL_MOD": "NULL",
                                    "(No column name)": "153"
                                },
                                {
                                    "SZALL_DATUM": "2015-10-03",
                                    "SZALL_MOD": "NULL",
                                    "(No column name)": "242"
                                },
                                {
                                    "SZALL_DATUM": "2015-10-04",
                                    "SZALL_MOD": "NULL",
                                    "(No column name)": "197"
                                },
                                {
                                    "SZALL_DATUM": "2015-10-05",
                                    "SZALL_MOD": "NULL",
                                    "(No column name)": "226"
                                },
                                {
                                    "SZALL_DATUM": "2015-10-06",
                                    "SZALL_MOD": "NULL",
                                    "(No column name)": "163"
                                },
                                {
                                    "SZALL_DATUM": "2015-10-07",
                                    "SZALL_MOD": "NULL",
                                    "(No column name)": "230"
                                },
                                {
                                    "SZALL_DATUM": "2015-10-08",
                                    "SZALL_MOD": "NULL",
                                    "(No column name)": "216"
                                },
                                {
                                    "SZALL_DATUM": "2015-10-09",
                                    "SZALL_MOD": "NULL",
                                    "(No column name)": "235"
                                },
                                {
                                    "SZALL_DATUM": "2015-10-10",
                                    "SZALL_MOD": "NULL",
                                    "(No column name)": "216"
                                },
                                {
                                    "SZALL_DATUM": "2015-10-11",
                                    "SZALL_MOD": "NULL",
                                    "(No column name)": "184"
                                },
                                {
                                    "SZALL_DATUM": "2015-10-12",
                                    "SZALL_MOD": "NULL",
                                    "(No column name)": "237"
                                },
                                {
                                    "SZALL_DATUM": "2015-10-13",
                                    "SZALL_MOD": "NULL",
                                    "(No column name)": "174"
                                },
                                {
                                    "SZALL_DATUM": "2015-10-14",
                                    "SZALL_MOD": "NULL",
                                    "(No column name)": "163"
                                },
                                {
                                    "SZALL_DATUM": "2015-10-15",
                                    "SZALL_MOD": "NULL",
                                    "(No column name)": "251"
                                },
                                {
                                    "SZALL_DATUM": "2015-10-16",
                                    "SZALL_MOD": "NULL",
                                    "(No column name)": "258"
                                },
                                {
                                    "SZALL_DATUM": "2015-10-17",
                                    "SZALL_MOD": "NULL",
                                    "(No column name)": "186"
                                },
                                {
                                    "SZALL_DATUM": "2015-10-18",
                                    "SZALL_MOD": "NULL",
                                    "(No column name)": "219"
                                },
                                {
                                    "SZALL_DATUM": "2015-10-19",
                                    "SZALL_MOD": "NULL",
                                    "(No column name)": "184"
                                },
                                {
                                    "SZALL_DATUM": "2015-10-20",
                                    "SZALL_MOD": "NULL",
                                    "(No column name)": "260"
                                },
                                {
                                    "SZALL_DATUM": "2015-10-21",
                                    "SZALL_MOD": "NULL",
                                    "(No column name)": "191"
                                },
                                {
                                    "SZALL_DATUM": "2015-10-22",
                                    "SZALL_MOD": "NULL",
                                    "(No column name)": "153"
                                },
                                {
                                    "SZALL_DATUM": "2015-10-23",
                                    "SZALL_MOD": "NULL",
                                    "(No column name)": "207"
                                },
                                {
                                    "SZALL_DATUM": "2015-10-24",
                                    "SZALL_MOD": "NULL",
                                    "(No column name)": "186"
                                },
                                {
                                    "SZALL_DATUM": "2015-10-25",
                                    "SZALL_MOD": "NULL",
                                    "(No column name)": "234"
                                },
                                {
                                    "SZALL_DATUM": "2015-10-26",
                                    "SZALL_MOD": "NULL",
                                    "(No column name)": "221"
                                },
                                {
                                    "SZALL_DATUM": "2015-10-27",
                                    "SZALL_MOD": "NULL",
                                    "(No column name)": "188"
                                },
                                {
                                    "SZALL_DATUM": "2015-10-28",
                                    "SZALL_MOD": "NULL",
                                    "(No column name)": "194"
                                },
                                {
                                    "SZALL_DATUM": "2015-10-29",
                                    "SZALL_MOD": "NULL",
                                    "(No column name)": "191"
                                },
                                {
                                    "SZALL_DATUM": "2015-10-30",
                                    "SZALL_MOD": "NULL",
                                    "(No column name)": "214"
                                },
                                {
                                    "SZALL_DATUM": "2015-10-31",
                                    "SZALL_MOD": "NULL",
                                    "(No column name)": "176"
                                },
                                {
                                    "SZALL_DATUM": "2015-11-01",
                                    "SZALL_MOD": "NULL",
                                    "(No column name)": "148"
                                },
                                {
                                    "SZALL_DATUM": "2015-11-02",
                                    "SZALL_MOD": "NULL",
                                    "(No column name)": "191"
                                },
                                {
                                    "SZALL_DATUM": "2015-11-03",
                                    "SZALL_MOD": "NULL",
                                    "(No column name)": "304"
                                },
                                {
                                    "SZALL_DATUM": "2015-11-04",
                                    "SZALL_MOD": "NULL",
                                    "(No column name)": "181"
                                },
                                {
                                    "SZALL_DATUM": "2015-11-05",
                                    "SZALL_MOD": "NULL",
                                    "(No column name)": "173"
                                },
                                {
                                    "SZALL_DATUM": "2015-11-06",
                                    "SZALL_MOD": "NULL",
                                    "(No column name)": "211"
                                },
                                {
                                    "SZALL_DATUM": "2015-11-07",
                                    "SZALL_MOD": "NULL",
                                    "(No column name)": "206"
                                },
                                {
                                    "SZALL_DATUM": "2015-11-08",
                                    "SZALL_MOD": "NULL",
                                    "(No column name)": "210"
                                },
                                {
                                    "SZALL_DATUM": "2015-11-09",
                                    "SZALL_MOD": "NULL",
                                    "(No column name)": "206"
                                },
                                {
                                    "SZALL_DATUM": "2015-11-10",
                                    "SZALL_MOD": "NULL",
                                    "(No column name)": "219"
                                },
                                {
                                    "SZALL_DATUM": "2015-11-11",
                                    "SZALL_MOD": "NULL",
                                    "(No column name)": "200"
                                },
                                {
                                    "SZALL_DATUM": "2015-11-12",
                                    "SZALL_MOD": "NULL",
                                    "(No column name)": "149"
                                },
                                {
                                    "SZALL_DATUM": "2015-11-13",
                                    "SZALL_MOD": "NULL",
                                    "(No column name)": "188"
                                },
                                {
                                    "SZALL_DATUM": "2015-11-14",
                                    "SZALL_MOD": "NULL",
                                    "(No column name)": "230"
                                },
                                {
                                    "SZALL_DATUM": "2015-11-15",
                                    "SZALL_MOD": "NULL",
                                    "(No column name)": "164"
                                },
                                {
                                    "SZALL_DATUM": "2015-11-16",
                                    "SZALL_MOD": "NULL",
                                    "(No column name)": "230"
                                },
                                {
                                    "SZALL_DATUM": "2015-11-17",
                                    "SZALL_MOD": "NULL",
                                    "(No column name)": "195"
                                },
                                {
                                    "SZALL_DATUM": "2015-11-18",
                                    "SZALL_MOD": "NULL",
                                    "(No column name)": "219"
                                },
                                {
                                    "SZALL_DATUM": "2015-11-19",
                                    "SZALL_MOD": "NULL",
                                    "(No column name)": "190"
                                },
                                {
                                    "SZALL_DATUM": "2015-11-20",
                                    "SZALL_MOD": "NULL",
                                    "(No column name)": "168"
                                },
                                {
                                    "SZALL_DATUM": "2015-11-21",
                                    "SZALL_MOD": "NULL",
                                    "(No column name)": "205"
                                },
                                {
                                    "SZALL_DATUM": "2015-11-22",
                                    "SZALL_MOD": "NULL",
                                    "(No column name)": "240"
                                },
                                {
                                    "SZALL_DATUM": "2015-11-23",
                                    "SZALL_MOD": "NULL",
                                    "(No column name)": "209"
                                },
                                {
                                    "SZALL_DATUM": "2015-11-24",
                                    "SZALL_MOD": "NULL",
                                    "(No column name)": "245"
                                },
                                {
                                    "SZALL_DATUM": "2015-11-25",
                                    "SZALL_MOD": "NULL",
                                    "(No column name)": "167"
                                },
                                {
                                    "SZALL_DATUM": "2015-11-26",
                                    "SZALL_MOD": "NULL",
                                    "(No column name)": "186"
                                },
                                {
                                    "SZALL_DATUM": "2015-11-27",
                                    "SZALL_MOD": "NULL",
                                    "(No column name)": "177"
                                },
                                {
                                    "SZALL_DATUM": "2015-11-28",
                                    "SZALL_MOD": "NULL",
                                    "(No column name)": "266"
                                },
                                {
                                    "SZALL_DATUM": "2015-11-29",
                                    "SZALL_MOD": "NULL",
                                    "(No column name)": "167"
                                },
                                {
                                    "SZALL_DATUM": "2015-11-30",
                                    "SZALL_MOD": "NULL",
                                    "(No column name)": "205"
                                },
                                {
                                    "SZALL_DATUM": "2015-12-01",
                                    "SZALL_MOD": "NULL",
                                    "(No column name)": "185"
                                },
                                {
                                    "SZALL_DATUM": "2015-12-02",
                                    "SZALL_MOD": "NULL",
                                    "(No column name)": "226"
                                },
                                {
                                    "SZALL_DATUM": "2015-12-03",
                                    "SZALL_MOD": "NULL",
                                    "(No column name)": "217"
                                },
                                {
                                    "SZALL_DATUM": "2015-12-04",
                                    "SZALL_MOD": "NULL",
                                    "(No column name)": "185"
                                },
                                {
                                    "SZALL_DATUM": "2015-12-05",
                                    "SZALL_MOD": "NULL",
                                    "(No column name)": "267"
                                },
                                {
                                    "SZALL_DATUM": "2015-12-06",
                                    "SZALL_MOD": "NULL",
                                    "(No column name)": "150"
                                },
                                {
                                    "SZALL_DATUM": "2015-12-07",
                                    "SZALL_MOD": "NULL",
                                    "(No column name)": "263"
                                },
                                {
                                    "SZALL_DATUM": "2015-12-08",
                                    "SZALL_MOD": "NULL",
                                    "(No column name)": "207"
                                },
                                {
                                    "SZALL_DATUM": "2015-12-09",
                                    "SZALL_MOD": "NULL",
                                    "(No column name)": "211"
                                },
                                {
                                    "SZALL_DATUM": "2015-12-10",
                                    "SZALL_MOD": "NULL",
                                    "(No column name)": "256"
                                },
                                {
                                    "SZALL_DATUM": "2015-12-11",
                                    "SZALL_MOD": "NULL",
                                    "(No column name)": "230"
                                },
                                {
                                    "SZALL_DATUM": "2015-12-12",
                                    "SZALL_MOD": "NULL",
                                    "(No column name)": "224"
                                },
                                {
                                    "SZALL_DATUM": "2015-12-13",
                                    "SZALL_MOD": "NULL",
                                    "(No column name)": "171"
                                },
                                {
                                    "SZALL_DATUM": "2015-12-14",
                                    "SZALL_MOD": "NULL",
                                    "(No column name)": "212"
                                },
                                {
                                    "SZALL_DATUM": "2015-12-15",
                                    "SZALL_MOD": "NULL",
                                    "(No column name)": "184"
                                },
                                {
                                    "SZALL_DATUM": "2015-12-16",
                                    "SZALL_MOD": "NULL",
                                    "(No column name)": "179"
                                },
                                {
                                    "SZALL_DATUM": "2015-12-17",
                                    "SZALL_MOD": "NULL",
                                    "(No column name)": "186"
                                },
                                {
                                    "SZALL_DATUM": "2015-12-18",
                                    "SZALL_MOD": "NULL",
                                    "(No column name)": "274"
                                },
                                {
                                    "SZALL_DATUM": "2015-12-19",
                                    "SZALL_MOD": "NULL",
                                    "(No column name)": "164"
                                },
                                {
                                    "SZALL_DATUM": "2015-12-20",
                                    "SZALL_MOD": "NULL",
                                    "(No column name)": "222"
                                },
                                {
                                    "SZALL_DATUM": "2015-12-21",
                                    "SZALL_MOD": "NULL",
                                    "(No column name)": "164"
                                },
                                {
                                    "SZALL_DATUM": "2015-12-22",
                                    "SZALL_MOD": "NULL",
                                    "(No column name)": "210"
                                },
                                {
                                    "SZALL_DATUM": "2015-12-23",
                                    "SZALL_MOD": "NULL",
                                    "(No column name)": "191"
                                },
                                {
                                    "SZALL_DATUM": "2015-12-24",
                                    "SZALL_MOD": "NULL",
                                    "(No column name)": "196"
                                },
                                {
                                    "SZALL_DATUM": "2015-12-25",
                                    "SZALL_MOD": "NULL",
                                    "(No column name)": "181"
                                },
                                {
                                    "SZALL_DATUM": "2015-12-26",
                                    "SZALL_MOD": "NULL",
                                    "(No column name)": "222"
                                },
                                {
                                    "SZALL_DATUM": "2015-12-27",
                                    "SZALL_MOD": "NULL",
                                    "(No column name)": "208"
                                },
                                {
                                    "SZALL_DATUM": "2015-12-28",
                                    "SZALL_MOD": "NULL",
                                    "(No column name)": "244"
                                },
                                {
                                    "SZALL_DATUM": "2015-12-29",
                                    "SZALL_MOD": "NULL",
                                    "(No column name)": "247"
                                },
                                {
                                    "SZALL_DATUM": "2015-12-30",
                                    "SZALL_MOD": "NULL",
                                    "(No column name)": "190"
                                },
                                {
                                    "SZALL_DATUM": "2015-12-31",
                                    "SZALL_MOD": "NULL",
                                    "(No column name)": "206"
                                },
                                {
                                    "SZALL_DATUM": "2016-01-01",
                                    "SZALL_MOD": "NULL",
                                    "(No column name)": "240"
                                },
                                {
                                    "SZALL_DATUM": "2016-01-02",
                                    "SZALL_MOD": "NULL",
                                    "(No column name)": "206"
                                },
                                {
                                    "SZALL_DATUM": "2016-01-03",
                                    "SZALL_MOD": "NULL",
                                    "(No column name)": "257"
                                },
                                {
                                    "SZALL_DATUM": "2016-01-04",
                                    "SZALL_MOD": "NULL",
                                    "(No column name)": "233"
                                },
                                {
                                    "SZALL_DATUM": "2016-01-05",
                                    "SZALL_MOD": "NULL",
                                    "(No column name)": "192"
                                },
                                {
                                    "SZALL_DATUM": "2016-01-06",
                                    "SZALL_MOD": "NULL",
                                    "(No column name)": "193"
                                },
                                {
                                    "SZALL_DATUM": "2016-01-07",
                                    "SZALL_MOD": "NULL",
                                    "(No column name)": "142"
                                },
                                {
                                    "SZALL_DATUM": "2016-01-08",
                                    "SZALL_MOD": "NULL",
                                    "(No column name)": "269"
                                },
                                {
                                    "SZALL_DATUM": "2016-01-09",
                                    "SZALL_MOD": "NULL",
                                    "(No column name)": "196"
                                },
                                {
                                    "SZALL_DATUM": "2016-01-10",
                                    "SZALL_MOD": "NULL",
                                    "(No column name)": "204"
                                },
                                {
                                    "SZALL_DATUM": "2016-01-11",
                                    "SZALL_MOD": "NULL",
                                    "(No column name)": "201"
                                },
                                {
                                    "SZALL_DATUM": "2016-01-12",
                                    "SZALL_MOD": "NULL",
                                    "(No column name)": "189"
                                },
                                {
                                    "SZALL_DATUM": "2016-01-13",
                                    "SZALL_MOD": "NULL",
                                    "(No column name)": "201"
                                },
                                {
                                    "SZALL_DATUM": "2016-01-14",
                                    "SZALL_MOD": "NULL",
                                    "(No column name)": "226"
                                },
                                {
                                    "SZALL_DATUM": "2016-01-15",
                                    "SZALL_MOD": "NULL",
                                    "(No column name)": "229"
                                },
                                {
                                    "SZALL_DATUM": "2016-01-16",
                                    "SZALL_MOD": "NULL",
                                    "(No column name)": "218"
                                },
                                {
                                    "SZALL_DATUM": "2016-01-17",
                                    "SZALL_MOD": "NULL",
                                    "(No column name)": "203"
                                },
                                {
                                    "SZALL_DATUM": "2016-01-18",
                                    "SZALL_MOD": "NULL",
                                    "(No column name)": "173"
                                },
                                {
                                    "SZALL_DATUM": "2016-01-19",
                                    "SZALL_MOD": "NULL",
                                    "(No column name)": "176"
                                },
                                {
                                    "SZALL_DATUM": "2016-01-20",
                                    "SZALL_MOD": "NULL",
                                    "(No column name)": "200"
                                },
                                {
                                    "SZALL_DATUM": "2016-01-21",
                                    "SZALL_MOD": "NULL",
                                    "(No column name)": "281"
                                },
                                {
                                    "SZALL_DATUM": "2016-01-22",
                                    "SZALL_MOD": "NULL",
                                    "(No column name)": "206"
                                },
                                {
                                    "SZALL_DATUM": "2016-01-23",
                                    "SZALL_MOD": "NULL",
                                    "(No column name)": "175"
                                },
                                {
                                    "SZALL_DATUM": "2016-01-24",
                                    "SZALL_MOD": "NULL",
                                    "(No column name)": "241"
                                },
                                {
                                    "SZALL_DATUM": "2016-01-25",
                                    "SZALL_MOD": "NULL",
                                    "(No column name)": "136"
                                },
                                {
                                    "SZALL_DATUM": "2016-01-26",
                                    "SZALL_MOD": "NULL",
                                    "(No column name)": "144"
                                },
                                {
                                    "SZALL_DATUM": "2016-01-27",
                                    "SZALL_MOD": "NULL",
                                    "(No column name)": "195"
                                },
                                {
                                    "SZALL_DATUM": "2016-01-28",
                                    "SZALL_MOD": "NULL",
                                    "(No column name)": "207"
                                },
                                {
                                    "SZALL_DATUM": "2016-01-29",
                                    "SZALL_MOD": "NULL",
                                    "(No column name)": "198"
                                },
                                {
                                    "SZALL_DATUM": "2016-01-30",
                                    "SZALL_MOD": "NULL",
                                    "(No column name)": "239"
                                },
                                {
                                    "SZALL_DATUM": "2016-01-31",
                                    "SZALL_MOD": "NULL",
                                    "(No column name)": "191"
                                },
                                {
                                    "SZALL_DATUM": "2016-02-01",
                                    "SZALL_MOD": "NULL",
                                    "(No column name)": "246"
                                },
                                {
                                    "SZALL_DATUM": "2016-02-02",
                                    "SZALL_MOD": "NULL",
                                    "(No column name)": "211"
                                },
                                {
                                    "SZALL_DATUM": "2016-02-03",
                                    "SZALL_MOD": "NULL",
                                    "(No column name)": "236"
                                },
                                {
                                    "SZALL_DATUM": "2016-02-04",
                                    "SZALL_MOD": "NULL",
                                    "(No column name)": "199"
                                },
                                {
                                    "SZALL_DATUM": "2016-02-05",
                                    "SZALL_MOD": "NULL",
                                    "(No column name)": "233"
                                },
                                {
                                    "SZALL_DATUM": "2016-02-06",
                                    "SZALL_MOD": "NULL",
                                    "(No column name)": "287"
                                },
                                {
                                    "SZALL_DATUM": "2016-02-07",
                                    "SZALL_MOD": "NULL",
                                    "(No column name)": "164"
                                },
                                {
                                    "SZALL_DATUM": "2016-02-08",
                                    "SZALL_MOD": "NULL",
                                    "(No column name)": "230"
                                },
                                {
                                    "SZALL_DATUM": "2016-02-09",
                                    "SZALL_MOD": "NULL",
                                    "(No column name)": "222"
                                },
                                {
                                    "SZALL_DATUM": "2016-02-10",
                                    "SZALL_MOD": "NULL",
                                    "(No column name)": "196"
                                },
                                {
                                    "SZALL_DATUM": "2016-02-11",
                                    "SZALL_MOD": "NULL",
                                    "(No column name)": "217"
                                },
                                {
                                    "SZALL_DATUM": "2016-02-12",
                                    "SZALL_MOD": "NULL",
                                    "(No column name)": "232"
                                },
                                {
                                    "SZALL_DATUM": "2016-02-13",
                                    "SZALL_MOD": "NULL",
                                    "(No column name)": "195"
                                },
                                {
                                    "SZALL_DATUM": "2016-02-14",
                                    "SZALL_MOD": "NULL",
                                    "(No column name)": "219"
                                },
                                {
                                    "SZALL_DATUM": "2016-02-15",
                                    "SZALL_MOD": "NULL",
                                    "(No column name)": "246"
                                },
                                {
                                    "SZALL_DATUM": "2016-02-16",
                                    "SZALL_MOD": "NULL",
                                    "(No column name)": "209"
                                },
                                {
                                    "SZALL_DATUM": "2016-02-17",
                                    "SZALL_MOD": "NULL",
                                    "(No column name)": "250"
                                },
                                {
                                    "SZALL_DATUM": "2016-02-18",
                                    "SZALL_MOD": "NULL",
                                    "(No column name)": "131"
                                },
                                {
                                    "SZALL_DATUM": "2016-02-19",
                                    "SZALL_MOD": "NULL",
                                    "(No column name)": "217"
                                },
                                {
                                    "SZALL_DATUM": "2016-02-20",
                                    "SZALL_MOD": "NULL",
                                    "(No column name)": "204"
                                },
                                {
                                    "SZALL_DATUM": "2016-02-21",
                                    "SZALL_MOD": "NULL",
                                    "(No column name)": "206"
                                },
                                {
                                    "SZALL_DATUM": "2016-02-22",
                                    "SZALL_MOD": "NULL",
                                    "(No column name)": "245"
                                },
                                {
                                    "SZALL_DATUM": "2016-02-23",
                                    "SZALL_MOD": "NULL",
                                    "(No column name)": "183"
                                },
                                {
                                    "SZALL_DATUM": "2016-02-24",
                                    "SZALL_MOD": "NULL",
                                    "(No column name)": "185"
                                },
                                {
                                    "SZALL_DATUM": "2016-02-25",
                                    "SZALL_MOD": "NULL",
                                    "(No column name)": "188"
                                },
                                {
                                    "SZALL_DATUM": "2016-02-26",
                                    "SZALL_MOD": "NULL",
                                    "(No column name)": "232"
                                },
                                {
                                    "SZALL_DATUM": "2016-02-27",
                                    "SZALL_MOD": "NULL",
                                    "(No column name)": "199"
                                },
                                {
                                    "SZALL_DATUM": "2016-02-28",
                                    "SZALL_MOD": "NULL",
                                    "(No column name)": "217"
                                },
                                {
                                    "SZALL_DATUM": "2016-02-29",
                                    "SZALL_MOD": "NULL",
                                    "(No column name)": "223"
                                },
                                {
                                    "SZALL_DATUM": "2016-03-01",
                                    "SZALL_MOD": "NULL",
                                    "(No column name)": "256"
                                },
                                {
                                    "SZALL_DATUM": "2016-03-02",
                                    "SZALL_MOD": "NULL",
                                    "(No column name)": "203"
                                },
                                {
                                    "SZALL_DATUM": "2016-03-03",
                                    "SZALL_MOD": "NULL",
                                    "(No column name)": "250"
                                },
                                {
                                    "SZALL_DATUM": "2016-03-04",
                                    "SZALL_MOD": "NULL",
                                    "(No column name)": "220"
                                },
                                {
                                    "SZALL_DATUM": "2016-03-05",
                                    "SZALL_MOD": "NULL",
                                    "(No column name)": "251"
                                },
                                {
                                    "SZALL_DATUM": "2016-03-06",
                                    "SZALL_MOD": "NULL",
                                    "(No column name)": "184"
                                },
                                {
                                    "SZALL_DATUM": "2016-03-07",
                                    "SZALL_MOD": "NULL",
                                    "(No column name)": "197"
                                },
                                {
                                    "SZALL_DATUM": "2016-03-08",
                                    "SZALL_MOD": "NULL",
                                    "(No column name)": "159"
                                },
                                {
                                    "SZALL_DATUM": "2016-03-09",
                                    "SZALL_MOD": "NULL",
                                    "(No column name)": "208"
                                },
                                {
                                    "SZALL_DATUM": "2016-03-10",
                                    "SZALL_MOD": "NULL",
                                    "(No column name)": "235"
                                },
                                {
                                    "SZALL_DATUM": "2016-03-11",
                                    "SZALL_MOD": "NULL",
                                    "(No column name)": "200"
                                },
                                {
                                    "SZALL_DATUM": "2016-03-12",
                                    "SZALL_MOD": "NULL",
                                    "(No column name)": "260"
                                },
                                {
                                    "SZALL_DATUM": "2016-03-13",
                                    "SZALL_MOD": "NULL",
                                    "(No column name)": "191"
                                },
                                {
                                    "SZALL_DATUM": "2016-03-14",
                                    "SZALL_MOD": "NULL",
                                    "(No column name)": "224"
                                },
                                {
                                    "SZALL_DATUM": "2016-03-15",
                                    "SZALL_MOD": "NULL",
                                    "(No column name)": "211"
                                },
                                {
                                    "SZALL_DATUM": "2016-03-16",
                                    "SZALL_MOD": "NULL",
                                    "(No column name)": "169"
                                },
                                {
                                    "SZALL_DATUM": "2016-03-17",
                                    "SZALL_MOD": "NULL",
                                    "(No column name)": "195"
                                },
                                {
                                    "SZALL_DATUM": "2016-03-18",
                                    "SZALL_MOD": "NULL",
                                    "(No column name)": "192"
                                },
                                {
                                    "SZALL_DATUM": "2016-03-19",
                                    "SZALL_MOD": "NULL",
                                    "(No column name)": "195"
                                },
                                {
                                    "SZALL_DATUM": "2016-03-20",
                                    "SZALL_MOD": "NULL",
                                    "(No column name)": "308"
                                },
                                {
                                    "SZALL_DATUM": "2016-03-21",
                                    "SZALL_MOD": "NULL",
                                    "(No column name)": "263"
                                },
                                {
                                    "SZALL_DATUM": "2016-03-22",
                                    "SZALL_MOD": "NULL",
                                    "(No column name)": "224"
                                },
                                {
                                    "SZALL_DATUM": "2016-03-23",
                                    "SZALL_MOD": "NULL",
                                    "(No column name)": "214"
                                },
                                {
                                    "SZALL_DATUM": "2016-03-24",
                                    "SZALL_MOD": "NULL",
                                    "(No column name)": "199"
                                },
                                {
                                    "SZALL_DATUM": "2016-03-25",
                                    "SZALL_MOD": "NULL",
                                    "(No column name)": "238"
                                },
                                {
                                    "SZALL_DATUM": "2016-03-26",
                                    "SZALL_MOD": "NULL",
                                    "(No column name)": "238"
                                },
                                {
                                    "SZALL_DATUM": "2016-03-27",
                                    "SZALL_MOD": "NULL",
                                    "(No column name)": "230"
                                },
                                {
                                    "SZALL_DATUM": "2016-03-28",
                                    "SZALL_MOD": "NULL",
                                    "(No column name)": "174"
                                },
                                {
                                    "SZALL_DATUM": "2016-03-29",
                                    "SZALL_MOD": "NULL",
                                    "(No column name)": "176"
                                },
                                {
                                    "SZALL_DATUM": "2016-03-30",
                                    "SZALL_MOD": "NULL",
                                    "(No column name)": "222"
                                },
                                {
                                    "SZALL_DATUM": "2016-03-31",
                                    "SZALL_MOD": "NULL",
                                    "(No column name)": "199"
                                },
                                {
                                    "SZALL_DATUM": "2016-04-01",
                                    "SZALL_MOD": "NULL",
                                    "(No column name)": "227"
                                },
                                {
                                    "SZALL_DATUM": "2016-04-02",
                                    "SZALL_MOD": "NULL",
                                    "(No column name)": "207"
                                },
                                {
                                    "SZALL_DATUM": "2016-04-03",
                                    "SZALL_MOD": "NULL",
                                    "(No column name)": "203"
                                },
                                {
                                    "SZALL_DATUM": "2016-04-04",
                                    "SZALL_MOD": "NULL",
                                    "(No column name)": "201"
                                },
                                {
                                    "SZALL_DATUM": "2016-04-05",
                                    "SZALL_MOD": "NULL",
                                    "(No column name)": "216"
                                },
                                {
                                    "SZALL_DATUM": "2016-04-06",
                                    "SZALL_MOD": "NULL",
                                    "(No column name)": "191"
                                },
                                {
                                    "SZALL_DATUM": "2016-04-07",
                                    "SZALL_MOD": "NULL",
                                    "(No column name)": "220"
                                },
                                {
                                    "SZALL_DATUM": "2016-04-08",
                                    "SZALL_MOD": "NULL",
                                    "(No column name)": "262"
                                },
                                {
                                    "SZALL_DATUM": "2016-04-09",
                                    "SZALL_MOD": "NULL",
                                    "(No column name)": "257"
                                },
                                {
                                    "SZALL_DATUM": "2016-04-10",
                                    "SZALL_MOD": "NULL",
                                    "(No column name)": "254"
                                },
                                {
                                    "SZALL_DATUM": "2016-04-11",
                                    "SZALL_MOD": "NULL",
                                    "(No column name)": "235"
                                },
                                {
                                    "SZALL_DATUM": "2016-04-12",
                                    "SZALL_MOD": "NULL",
                                    "(No column name)": "190"
                                },
                                {
                                    "SZALL_DATUM": "2016-04-13",
                                    "SZALL_MOD": "NULL",
                                    "(No column name)": "190"
                                },
                                {
                                    "SZALL_DATUM": "2016-04-14",
                                    "SZALL_MOD": "NULL",
                                    "(No column name)": "219"
                                },
                                {
                                    "SZALL_DATUM": "2016-04-15",
                                    "SZALL_MOD": "NULL",
                                    "(No column name)": "233"
                                },
                                {
                                    "SZALL_DATUM": "2016-04-16",
                                    "SZALL_MOD": "NULL",
                                    "(No column name)": "196"
                                },
                                {
                                    "SZALL_DATUM": "2016-04-17",
                                    "SZALL_MOD": "NULL",
                                    "(No column name)": "266"
                                },
                                {
                                    "SZALL_DATUM": "2016-04-18",
                                    "SZALL_MOD": "NULL",
                                    "(No column name)": "209"
                                },
                                {
                                    "SZALL_DATUM": "2016-04-19",
                                    "SZALL_MOD": "NULL",
                                    "(No column name)": "242"
                                },
                                {
                                    "SZALL_DATUM": "2016-04-20",
                                    "SZALL_MOD": "NULL",
                                    "(No column name)": "164"
                                },
                                {
                                    "SZALL_DATUM": "2016-04-21",
                                    "SZALL_MOD": "NULL",
                                    "(No column name)": "172"
                                },
                                {
                                    "SZALL_DATUM": "2016-04-22",
                                    "SZALL_MOD": "NULL",
                                    "(No column name)": "141"
                                },
                                {
                                    "SZALL_DATUM": "2016-04-23",
                                    "SZALL_MOD": "NULL",
                                    "(No column name)": "189"
                                },
                                {
                                    "SZALL_DATUM": "2016-04-24",
                                    "SZALL_MOD": "NULL",
                                    "(No column name)": "252"
                                },
                                {
                                    "SZALL_DATUM": "2016-04-25",
                                    "SZALL_MOD": "NULL",
                                    "(No column name)": "272"
                                },
                                {
                                    "SZALL_DATUM": "2016-04-26",
                                    "SZALL_MOD": "NULL",
                                    "(No column name)": "236"
                                },
                                {
                                    "SZALL_DATUM": "2016-04-27",
                                    "SZALL_MOD": "NULL",
                                    "(No column name)": "210"
                                },
                                {
                                    "SZALL_DATUM": "2016-04-28",
                                    "SZALL_MOD": "NULL",
                                    "(No column name)": "191"
                                },
                                {
                                    "SZALL_DATUM": "2016-04-29",
                                    "SZALL_MOD": "NULL",
                                    "(No column name)": "223"
                                },
                                {
                                    "SZALL_DATUM": "2016-04-30",
                                    "SZALL_MOD": "NULL",
                                    "(No column name)": "196"
                                },
                                {
                                    "SZALL_DATUM": "2016-05-01",
                                    "SZALL_MOD": "NULL",
                                    "(No column name)": "182"
                                },
                                {
                                    "SZALL_DATUM": "2016-05-02",
                                    "SZALL_MOD": "NULL",
                                    "(No column name)": "220"
                                },
                                {
                                    "SZALL_DATUM": "2016-05-03",
                                    "SZALL_MOD": "NULL",
                                    "(No column name)": "153"
                                },
                                {
                                    "SZALL_DATUM": "2016-05-04",
                                    "SZALL_MOD": "NULL",
                                    "(No column name)": "254"
                                },
                                {
                                    "SZALL_DATUM": "2016-05-05",
                                    "SZALL_MOD": "NULL",
                                    "(No column name)": "212"
                                },
                                {
                                    "SZALL_DATUM": "2016-05-06",
                                    "SZALL_MOD": "NULL",
                                    "(No column name)": "224"
                                },
                                {
                                    "SZALL_DATUM": "2016-05-07",
                                    "SZALL_MOD": "NULL",
                                    "(No column name)": "210"
                                },
                                {
                                    "SZALL_DATUM": "2016-05-08",
                                    "SZALL_MOD": "NULL",
                                    "(No column name)": "232"
                                },
                                {
                                    "SZALL_DATUM": "2016-05-09",
                                    "SZALL_MOD": "NULL",
                                    "(No column name)": "269"
                                },
                                {
                                    "SZALL_DATUM": "2016-05-10",
                                    "SZALL_MOD": "NULL",
                                    "(No column name)": "211"
                                },
                                {
                                    "SZALL_DATUM": "2016-05-11",
                                    "SZALL_MOD": "NULL",
                                    "(No column name)": "214"
                                },
                                {
                                    "SZALL_DATUM": "2016-05-12",
                                    "SZALL_MOD": "NULL",
                                    "(No column name)": "234"
                                },
                                {
                                    "SZALL_DATUM": "2016-05-13",
                                    "SZALL_MOD": "NULL",
                                    "(No column name)": "183"
                                },
                                {
                                    "SZALL_DATUM": "2016-05-14",
                                    "SZALL_MOD": "NULL",
                                    "(No column name)": "188"
                                },
                                {
                                    "SZALL_DATUM": "2016-05-15",
                                    "SZALL_MOD": "NULL",
                                    "(No column name)": "144"
                                },
                                {
                                    "SZALL_DATUM": "2016-05-16",
                                    "SZALL_MOD": "NULL",
                                    "(No column name)": "198"
                                },
                                {
                                    "SZALL_DATUM": "2016-05-17",
                                    "SZALL_MOD": "NULL",
                                    "(No column name)": "223"
                                },
                                {
                                    "SZALL_DATUM": "2016-05-18",
                                    "SZALL_MOD": "NULL",
                                    "(No column name)": "177"
                                },
                                {
                                    "SZALL_DATUM": "2016-05-19",
                                    "SZALL_MOD": "NULL",
                                    "(No column name)": "211"
                                },
                                {
                                    "SZALL_DATUM": "2016-05-20",
                                    "SZALL_MOD": "NULL",
                                    "(No column name)": "207"
                                },
                                {
                                    "SZALL_DATUM": "2016-05-21",
                                    "SZALL_MOD": "NULL",
                                    "(No column name)": "209"
                                },
                                {
                                    "SZALL_DATUM": "2016-05-22",
                                    "SZALL_MOD": "NULL",
                                    "(No column name)": "160"
                                },
                                {
                                    "SZALL_DATUM": "2016-05-23",
                                    "SZALL_MOD": "NULL",
                                    "(No column name)": "208"
                                },
                                {
                                    "SZALL_DATUM": "2016-05-24",
                                    "SZALL_MOD": "NULL",
                                    "(No column name)": "211"
                                },
                                {
                                    "SZALL_DATUM": "2016-05-25",
                                    "SZALL_MOD": "NULL",
                                    "(No column name)": "230"
                                },
                                {
                                    "SZALL_DATUM": "2016-05-26",
                                    "SZALL_MOD": "NULL",
                                    "(No column name)": "141"
                                },
                                {
                                    "SZALL_DATUM": "2016-05-27",
                                    "SZALL_MOD": "NULL",
                                    "(No column name)": "234"
                                },
                                {
                                    "SZALL_DATUM": "2016-05-28",
                                    "SZALL_MOD": "NULL",
                                    "(No column name)": "155"
                                },
                                {
                                    "SZALL_DATUM": "2016-05-29",
                                    "SZALL_MOD": "NULL",
                                    "(No column name)": "216"
                                },
                                {
                                    "SZALL_DATUM": "2016-05-30",
                                    "SZALL_MOD": "NULL",
                                    "(No column name)": "187"
                                },
                                {
                                    "SZALL_DATUM": "2016-05-31",
                                    "SZALL_MOD": "NULL",
                                    "(No column name)": "242"
                                },
                                {
                                    "SZALL_DATUM": "2016-06-01",
                                    "SZALL_MOD": "NULL",
                                    "(No column name)": "212"
                                },
                                {
                                    "SZALL_DATUM": "2016-06-02",
                                    "SZALL_MOD": "NULL",
                                    "(No column name)": "201"
                                },
                                {
                                    "SZALL_DATUM": "2016-06-03",
                                    "SZALL_MOD": "NULL",
                                    "(No column name)": "190"
                                },
                                {
                                    "SZALL_DATUM": "2016-06-04",
                                    "SZALL_MOD": "NULL",
                                    "(No column name)": "212"
                                },
                                {
                                    "SZALL_DATUM": "2016-06-05",
                                    "SZALL_MOD": "NULL",
                                    "(No column name)": "172"
                                },
                                {
                                    "SZALL_DATUM": "2016-06-06",
                                    "SZALL_MOD": "NULL",
                                    "(No column name)": "231"
                                },
                                {
                                    "SZALL_DATUM": "2016-06-07",
                                    "SZALL_MOD": "NULL",
                                    "(No column name)": "227"
                                },
                                {
                                    "SZALL_DATUM": "2016-06-08",
                                    "SZALL_MOD": "NULL",
                                    "(No column name)": "218"
                                },
                                {
                                    "SZALL_DATUM": "2016-06-09",
                                    "SZALL_MOD": "NULL",
                                    "(No column name)": "211"
                                },
                                {
                                    "SZALL_DATUM": "2016-06-10",
                                    "SZALL_MOD": "NULL",
                                    "(No column name)": "229"
                                },
                                {
                                    "SZALL_DATUM": "2016-06-11",
                                    "SZALL_MOD": "NULL",
                                    "(No column name)": "260"
                                },
                                {
                                    "SZALL_DATUM": "2016-06-12",
                                    "SZALL_MOD": "NULL",
                                    "(No column name)": "222"
                                },
                                {
                                    "SZALL_DATUM": "2016-06-13",
                                    "SZALL_MOD": "NULL",
                                    "(No column name)": "170"
                                },
                                {
                                    "SZALL_DATUM": "2016-06-14",
                                    "SZALL_MOD": "NULL",
                                    "(No column name)": "205"
                                },
                                {
                                    "SZALL_DATUM": "2016-06-15",
                                    "SZALL_MOD": "NULL",
                                    "(No column name)": "242"
                                },
                                {
                                    "SZALL_DATUM": "2016-06-16",
                                    "SZALL_MOD": "NULL",
                                    "(No column name)": "168"
                                },
                                {
                                    "SZALL_DATUM": "2016-06-17",
                                    "SZALL_MOD": "NULL",
                                    "(No column name)": "232"
                                },
                                {
                                    "SZALL_DATUM": "2016-06-18",
                                    "SZALL_MOD": "NULL",
                                    "(No column name)": "164"
                                },
                                {
                                    "SZALL_DATUM": "2016-06-19",
                                    "SZALL_MOD": "NULL",
                                    "(No column name)": "240"
                                },
                                {
                                    "SZALL_DATUM": "2016-06-20",
                                    "SZALL_MOD": "NULL",
                                    "(No column name)": "204"
                                },
                                {
                                    "SZALL_DATUM": "2016-06-21",
                                    "SZALL_MOD": "NULL",
                                    "(No column name)": "171"
                                },
                                {
                                    "SZALL_DATUM": "2016-06-22",
                                    "SZALL_MOD": "NULL",
                                    "(No column name)": "190"
                                },
                                {
                                    "SZALL_DATUM": "2016-06-23",
                                    "SZALL_MOD": "NULL",
                                    "(No column name)": "195"
                                },
                                {
                                    "SZALL_DATUM": "2016-06-24",
                                    "SZALL_MOD": "NULL",
                                    "(No column name)": "224"
                                },
                                {
                                    "SZALL_DATUM": "2016-06-25",
                                    "SZALL_MOD": "NULL",
                                    "(No column name)": "215"
                                },
                                {
                                    "SZALL_DATUM": "2016-06-26",
                                    "SZALL_MOD": "NULL",
                                    "(No column name)": "252"
                                },
                                {
                                    "SZALL_DATUM": "2016-06-27",
                                    "SZALL_MOD": "NULL",
                                    "(No column name)": "165"
                                },
                                {
                                    "SZALL_DATUM": "2016-06-28",
                                    "SZALL_MOD": "NULL",
                                    "(No column name)": "229"
                                },
                                {
                                    "SZALL_DATUM": "2016-06-29",
                                    "SZALL_MOD": "NULL",
                                    "(No column name)": "218"
                                },
                                {
                                    "SZALL_DATUM": "2016-06-30",
                                    "SZALL_MOD": "NULL",
                                    "(No column name)": "217"
                                },
                                {
                                    "SZALL_DATUM": "2016-07-01",
                                    "SZALL_MOD": "NULL",
                                    "(No column name)": "203"
                                },
                                {
                                    "SZALL_DATUM": "2016-07-02",
                                    "SZALL_MOD": "NULL",
                                    "(No column name)": "202"
                                },
                                {
                                    "SZALL_DATUM": "2016-07-03",
                                    "SZALL_MOD": "NULL",
                                    "(No column name)": "227"
                                },
                                {
                                    "SZALL_DATUM": "2016-07-04",
                                    "SZALL_MOD": "NULL",
                                    "(No column name)": "282"
                                },
                                {
                                    "SZALL_DATUM": "2016-07-05",
                                    "SZALL_MOD": "NULL",
                                    "(No column name)": "200"
                                },
                                {
                                    "SZALL_DATUM": "2016-07-06",
                                    "SZALL_MOD": "NULL",
                                    "(No column name)": "200"
                                },
                                {
                                    "SZALL_DATUM": "2016-07-07",
                                    "SZALL_MOD": "NULL",
                                    "(No column name)": "143"
                                },
                                {
                                    "SZALL_DATUM": "2016-07-08",
                                    "SZALL_MOD": "NULL",
                                    "(No column name)": "196"
                                },
                                {
                                    "SZALL_DATUM": "2016-07-09",
                                    "SZALL_MOD": "NULL",
                                    "(No column name)": "222"
                                },
                                {
                                    "SZALL_DATUM": "2016-07-10",
                                    "SZALL_MOD": "NULL",
                                    "(No column name)": "200"
                                },
                                {
                                    "SZALL_DATUM": "2016-07-11",
                                    "SZALL_MOD": "NULL",
                                    "(No column name)": "248"
                                },
                                {
                                    "SZALL_DATUM": "2016-07-12",
                                    "SZALL_MOD": "NULL",
                                    "(No column name)": "224"
                                },
                                {
                                    "SZALL_DATUM": "2016-07-13",
                                    "SZALL_MOD": "NULL",
                                    "(No column name)": "229"
                                },
                                {
                                    "SZALL_DATUM": "2016-07-14",
                                    "SZALL_MOD": "NULL",
                                    "(No column name)": "179"
                                },
                                {
                                    "SZALL_DATUM": "2016-07-15",
                                    "SZALL_MOD": "NULL",
                                    "(No column name)": "195"
                                },
                                {
                                    "SZALL_DATUM": "2016-07-16",
                                    "SZALL_MOD": "NULL",
                                    "(No column name)": "196"
                                },
                                {
                                    "SZALL_DATUM": "2016-07-17",
                                    "SZALL_MOD": "NULL",
                                    "(No column name)": "166"
                                },
                                {
                                    "SZALL_DATUM": "2016-07-18",
                                    "SZALL_MOD": "NULL",
                                    "(No column name)": "185"
                                },
                                {
                                    "SZALL_DATUM": "2016-07-19",
                                    "SZALL_MOD": "NULL",
                                    "(No column name)": "267"
                                },
                                {
                                    "SZALL_DATUM": "2016-07-20",
                                    "SZALL_MOD": "NULL",
                                    "(No column name)": "199"
                                },
                                {
                                    "SZALL_DATUM": "2016-07-21",
                                    "SZALL_MOD": "NULL",
                                    "(No column name)": "224"
                                },
                                {
                                    "SZALL_DATUM": "2016-07-22",
                                    "SZALL_MOD": "NULL",
                                    "(No column name)": "206"
                                },
                                {
                                    "SZALL_DATUM": "2016-07-23",
                                    "SZALL_MOD": "NULL",
                                    "(No column name)": "162"
                                },
                                {
                                    "SZALL_DATUM": "2016-07-24",
                                    "SZALL_MOD": "NULL",
                                    "(No column name)": "178"
                                },
                                {
                                    "SZALL_DATUM": "2016-07-25",
                                    "SZALL_MOD": "NULL",
                                    "(No column name)": "173"
                                },
                                {
                                    "SZALL_DATUM": "2016-07-26",
                                    "SZALL_MOD": "NULL",
                                    "(No column name)": "202"
                                },
                                {
                                    "SZALL_DATUM": "2016-07-27",
                                    "SZALL_MOD": "NULL",
                                    "(No column name)": "220"
                                },
                                {
                                    "SZALL_DATUM": "2016-07-28",
                                    "SZALL_MOD": "NULL",
                                    "(No column name)": "172"
                                },
                                {
                                    "SZALL_DATUM": "2016-07-29",
                                    "SZALL_MOD": "NULL",
                                    "(No column name)": "228"
                                },
                                {
                                    "SZALL_DATUM": "2016-07-30",
                                    "SZALL_MOD": "NULL",
                                    "(No column name)": "172"
                                },
                                {
                                    "SZALL_DATUM": "2016-07-31",
                                    "SZALL_MOD": "NULL",
                                    "(No column name)": "263"
                                },
                                {
                                    "SZALL_DATUM": "2016-08-01",
                                    "SZALL_MOD": "NULL",
                                    "(No column name)": "218"
                                },
                                {
                                    "SZALL_DATUM": "2016-08-02",
                                    "SZALL_MOD": "NULL",
                                    "(No column name)": "181"
                                },
                                {
                                    "SZALL_DATUM": "2016-08-03",
                                    "SZALL_MOD": "NULL",
                                    "(No column name)": "200"
                                },
                                {
                                    "SZALL_DATUM": "2016-08-04",
                                    "SZALL_MOD": "NULL",
                                    "(No column name)": "191"
                                },
                                {
                                    "SZALL_DATUM": "2016-08-05",
                                    "SZALL_MOD": "NULL",
                                    "(No column name)": "220"
                                },
                                {
                                    "SZALL_DATUM": "2016-08-06",
                                    "SZALL_MOD": "NULL",
                                    "(No column name)": "193"
                                },
                                {
                                    "SZALL_DATUM": "2016-08-07",
                                    "SZALL_MOD": "NULL",
                                    "(No column name)": "180"
                                },
                                {
                                    "SZALL_DATUM": "2016-08-08",
                                    "SZALL_MOD": "NULL",
                                    "(No column name)": "179"
                                },
                                {
                                    "SZALL_DATUM": "2016-08-09",
                                    "SZALL_MOD": "NULL",
                                    "(No column name)": "244"
                                },
                                {
                                    "SZALL_DATUM": "2016-08-10",
                                    "SZALL_MOD": "NULL",
                                    "(No column name)": "219"
                                },
                                {
                                    "SZALL_DATUM": "2016-08-11",
                                    "SZALL_MOD": "NULL",
                                    "(No column name)": "204"
                                },
                                {
                                    "SZALL_DATUM": "2016-08-12",
                                    "SZALL_MOD": "NULL",
                                    "(No column name)": "234"
                                },
                                {
                                    "SZALL_DATUM": "2016-08-13",
                                    "SZALL_MOD": "NULL",
                                    "(No column name)": "265"
                                },
                                {
                                    "SZALL_DATUM": "2016-08-14",
                                    "SZALL_MOD": "NULL",
                                    "(No column name)": "226"
                                },
                                {
                                    "SZALL_DATUM": "2016-08-15",
                                    "SZALL_MOD": "NULL",
                                    "(No column name)": "280"
                                },
                                {
                                    "SZALL_DATUM": "2016-08-16",
                                    "SZALL_MOD": "NULL",
                                    "(No column name)": "177"
                                },
                                {
                                    "SZALL_DATUM": "2016-08-17",
                                    "SZALL_MOD": "NULL",
                                    "(No column name)": "204"
                                },
                                {
                                    "SZALL_DATUM": "2016-08-18",
                                    "SZALL_MOD": "NULL",
                                    "(No column name)": "194"
                                },
                                {
                                    "SZALL_DATUM": "2016-08-19",
                                    "SZALL_MOD": "NULL",
                                    "(No column name)": "184"
                                },
                                {
                                    "SZALL_DATUM": "2016-08-20",
                                    "SZALL_MOD": "NULL",
                                    "(No column name)": "220"
                                },
                                {
                                    "SZALL_DATUM": "2016-08-21",
                                    "SZALL_MOD": "NULL",
                                    "(No column name)": "203"
                                },
                                {
                                    "SZALL_DATUM": "2016-08-22",
                                    "SZALL_MOD": "NULL",
                                    "(No column name)": "153"
                                },
                                {
                                    "SZALL_DATUM": "2016-08-23",
                                    "SZALL_MOD": "NULL",
                                    "(No column name)": "194"
                                },
                                {
                                    "SZALL_DATUM": "2016-08-24",
                                    "SZALL_MOD": "NULL",
                                    "(No column name)": "259"
                                },
                                {
                                    "SZALL_DATUM": "2016-08-25",
                                    "SZALL_MOD": "NULL",
                                    "(No column name)": "218"
                                },
                                {
                                    "SZALL_DATUM": "2016-08-26",
                                    "SZALL_MOD": "NULL",
                                    "(No column name)": "214"
                                },
                                {
                                    "SZALL_DATUM": "2016-08-27",
                                    "SZALL_MOD": "NULL",
                                    "(No column name)": "249"
                                },
                                {
                                    "SZALL_DATUM": "2016-08-28",
                                    "SZALL_MOD": "NULL",
                                    "(No column name)": "250"
                                },
                                {
                                    "SZALL_DATUM": "2016-08-29",
                                    "SZALL_MOD": "NULL",
                                    "(No column name)": "180"
                                },
                                {
                                    "SZALL_DATUM": "2016-08-30",
                                    "SZALL_MOD": "NULL",
                                    "(No column name)": "141"
                                },
                                {
                                    "SZALL_DATUM": "2016-08-31",
                                    "SZALL_MOD": "NULL",
                                    "(No column name)": "175"
                                },
                                {
                                    "SZALL_DATUM": "2016-09-01",
                                    "SZALL_MOD": "NULL",
                                    "(No column name)": "171"
                                },
                                {
                                    "SZALL_DATUM": "2016-09-02",
                                    "SZALL_MOD": "NULL",
                                    "(No column name)": "231"
                                },
                                {
                                    "SZALL_DATUM": "2016-09-03",
                                    "SZALL_MOD": "NULL",
                                    "(No column name)": "234"
                                },
                                {
                                    "SZALL_DATUM": "2016-09-04",
                                    "SZALL_MOD": "NULL",
                                    "(No column name)": "251"
                                },
                                {
                                    "SZALL_DATUM": "2016-09-05",
                                    "SZALL_MOD": "NULL",
                                    "(No column name)": "204"
                                },
                                {
                                    "SZALL_DATUM": "2016-09-06",
                                    "SZALL_MOD": "NULL",
                                    "(No column name)": "247"
                                },
                                {
                                    "SZALL_DATUM": "2016-09-07",
                                    "SZALL_MOD": "NULL",
                                    "(No column name)": "239"
                                },
                                {
                                    "SZALL_DATUM": "2016-09-08",
                                    "SZALL_MOD": "NULL",
                                    "(No column name)": "224"
                                },
                                {
                                    "SZALL_DATUM": "2016-09-09",
                                    "SZALL_MOD": "NULL",
                                    "(No column name)": "213"
                                },
                                {
                                    "SZALL_DATUM": "2016-09-10",
                                    "SZALL_MOD": "NULL",
                                    "(No column name)": "196"
                                },
                                {
                                    "SZALL_DATUM": "2016-09-11",
                                    "SZALL_MOD": "NULL",
                                    "(No column name)": "247"
                                },
                                {
                                    "SZALL_DATUM": "2016-09-12",
                                    "SZALL_MOD": "NULL",
                                    "(No column name)": "160"
                                },
                                {
                                    "SZALL_DATUM": "2016-09-13",
                                    "SZALL_MOD": "NULL",
                                    "(No column name)": "214"
                                },
                                {
                                    "SZALL_DATUM": "2016-09-14",
                                    "SZALL_MOD": "NULL",
                                    "(No column name)": "249"
                                },
                                {
                                    "SZALL_DATUM": "2016-09-15",
                                    "SZALL_MOD": "NULL",
                                    "(No column name)": "261"
                                },
                                {
                                    "SZALL_DATUM": "2016-09-16",
                                    "SZALL_MOD": "NULL",
                                    "(No column name)": "190"
                                },
                                {
                                    "SZALL_DATUM": "2016-09-17",
                                    "SZALL_MOD": "NULL",
                                    "(No column name)": "194"
                                },
                                {
                                    "SZALL_DATUM": "2016-09-18",
                                    "SZALL_MOD": "NULL",
                                    "(No column name)": "257"
                                },
                                {
                                    "SZALL_DATUM": "2016-09-19",
                                    "SZALL_MOD": "NULL",
                                    "(No column name)": "163"
                                },
                                {
                                    "SZALL_DATUM": "2016-09-20",
                                    "SZALL_MOD": "NULL",
                                    "(No column name)": "213"
                                },
                                {
                                    "SZALL_DATUM": "2016-09-21",
                                    "SZALL_MOD": "NULL",
                                    "(No column name)": "134"
                                },
                                {
                                    "SZALL_DATUM": "2016-09-22",
                                    "SZALL_MOD": "NULL",
                                    "(No column name)": "176"
                                },
                                {
                                    "SZALL_DATUM": "2016-09-23",
                                    "SZALL_MOD": "NULL",
                                    "(No column name)": "185"
                                },
                                {
                                    "SZALL_DATUM": "2016-09-24",
                                    "SZALL_MOD": "NULL",
                                    "(No column name)": "176"
                                },
                                {
                                    "SZALL_DATUM": "2016-09-25",
                                    "SZALL_MOD": "NULL",
                                    "(No column name)": "192"
                                },
                                {
                                    "SZALL_DATUM": "2016-09-26",
                                    "SZALL_MOD": "NULL",
                                    "(No column name)": "202"
                                },
                                {
                                    "SZALL_DATUM": "2016-09-27",
                                    "SZALL_MOD": "NULL",
                                    "(No column name)": "244"
                                },
                                {
                                    "SZALL_DATUM": "2016-09-28",
                                    "SZALL_MOD": "NULL",
                                    "(No column name)": "220"
                                },
                                {
                                    "SZALL_DATUM": "2016-09-29",
                                    "SZALL_MOD": "NULL",
                                    "(No column name)": "160"
                                },
                                {
                                    "SZALL_DATUM": "2016-09-30",
                                    "SZALL_MOD": "NULL",
                                    "(No column name)": "257"
                                },
                                {
                                    "SZALL_DATUM": "2016-10-01",
                                    "SZALL_MOD": "NULL",
                                    "(No column name)": "215"
                                },
                                {
                                    "SZALL_DATUM": "2016-10-02",
                                    "SZALL_MOD": "NULL",
                                    "(No column name)": "204"
                                },
                                {
                                    "SZALL_DATUM": "2016-10-03",
                                    "SZALL_MOD": "NULL",
                                    "(No column name)": "189"
                                },
                                {
                                    "SZALL_DATUM": "2016-10-04",
                                    "SZALL_MOD": "NULL",
                                    "(No column name)": "191"
                                },
                                {
                                    "SZALL_DATUM": "2016-10-05",
                                    "SZALL_MOD": "NULL",
                                    "(No column name)": "232"
                                },
                                {
                                    "SZALL_DATUM": "2016-10-06",
                                    "SZALL_MOD": "NULL",
                                    "(No column name)": "198"
                                },
                                {
                                    "SZALL_DATUM": "2016-10-07",
                                    "SZALL_MOD": "NULL",
                                    "(No column name)": "183"
                                },
                                {
                                    "SZALL_DATUM": "2016-10-08",
                                    "SZALL_MOD": "NULL",
                                    "(No column name)": "212"
                                },
                                {
                                    "SZALL_DATUM": "2016-10-09",
                                    "SZALL_MOD": "NULL",
                                    "(No column name)": "241"
                                },
                                {
                                    "SZALL_DATUM": "2016-10-10",
                                    "SZALL_MOD": "NULL",
                                    "(No column name)": "188"
                                },
                                {
                                    "SZALL_DATUM": "2016-10-11",
                                    "SZALL_MOD": "NULL",
                                    "(No column name)": "227"
                                },
                                {
                                    "SZALL_DATUM": "2016-10-12",
                                    "SZALL_MOD": "NULL",
                                    "(No column name)": "265"
                                },
                                {
                                    "SZALL_DATUM": "2016-10-13",
                                    "SZALL_MOD": "NULL",
                                    "(No column name)": "247"
                                },
                                {
                                    "SZALL_DATUM": "2016-10-14",
                                    "SZALL_MOD": "NULL",
                                    "(No column name)": "188"
                                },
                                {
                                    "SZALL_DATUM": "2016-10-15",
                                    "SZALL_MOD": "NULL",
                                    "(No column name)": "237"
                                },
                                {
                                    "SZALL_DATUM": "2016-10-16",
                                    "SZALL_MOD": "NULL",
                                    "(No column name)": "190"
                                },
                                {
                                    "SZALL_DATUM": "2016-10-17",
                                    "SZALL_MOD": "NULL",
                                    "(No column name)": "286"
                                },
                                {
                                    "SZALL_DATUM": "2016-10-18",
                                    "SZALL_MOD": "NULL",
                                    "(No column name)": "187"
                                },
                                {
                                    "SZALL_DATUM": "2016-10-19",
                                    "SZALL_MOD": "NULL",
                                    "(No column name)": "234"
                                },
                                {
                                    "SZALL_DATUM": "2016-10-20",
                                    "SZALL_MOD": "NULL",
                                    "(No column name)": "173"
                                },
                                {
                                    "SZALL_DATUM": "2016-10-21",
                                    "SZALL_MOD": "NULL",
                                    "(No column name)": "258"
                                },
                                {
                                    "SZALL_DATUM": "2016-10-22",
                                    "SZALL_MOD": "NULL",
                                    "(No column name)": "243"
                                },
                                {
                                    "SZALL_DATUM": "2016-10-23",
                                    "SZALL_MOD": "NULL",
                                    "(No column name)": "228"
                                },
                                {
                                    "SZALL_DATUM": "2016-10-24",
                                    "SZALL_MOD": "NULL",
                                    "(No column name)": "141"
                                },
                                {
                                    "SZALL_DATUM": "2016-10-25",
                                    "SZALL_MOD": "NULL",
                                    "(No column name)": "285"
                                },
                                {
                                    "SZALL_DATUM": "2016-10-26",
                                    "SZALL_MOD": "NULL",
                                    "(No column name)": "185"
                                },
                                {
                                    "SZALL_DATUM": "2016-10-27",
                                    "SZALL_MOD": "NULL",
                                    "(No column name)": "208"
                                },
                                {
                                    "SZALL_DATUM": "2016-10-28",
                                    "SZALL_MOD": "NULL",
                                    "(No column name)": "202"
                                },
                                {
                                    "SZALL_DATUM": "2016-10-29",
                                    "SZALL_MOD": "NULL",
                                    "(No column name)": "184"
                                },
                                {
                                    "SZALL_DATUM": "2016-10-30",
                                    "SZALL_MOD": "NULL",
                                    "(No column name)": "282"
                                },
                                {
                                    "SZALL_DATUM": "2016-10-31",
                                    "SZALL_MOD": "NULL",
                                    "(No column name)": "242"
                                },
                                {
                                    "SZALL_DATUM": "2016-11-01",
                                    "SZALL_MOD": "NULL",
                                    "(No column name)": "198"
                                },
                                {
                                    "SZALL_DATUM": "2016-11-02",
                                    "SZALL_MOD": "NULL",
                                    "(No column name)": "173"
                                },
                                {
                                    "SZALL_DATUM": "2016-11-03",
                                    "SZALL_MOD": "NULL",
                                    "(No column name)": "193"
                                },
                                {
                                    "SZALL_DATUM": "2016-11-04",
                                    "SZALL_MOD": "NULL",
                                    "(No column name)": "173"
                                },
                                {
                                    "SZALL_DATUM": "2016-11-05",
                                    "SZALL_MOD": "NULL",
                                    "(No column name)": "227"
                                },
                                {
                                    "SZALL_DATUM": "2016-11-06",
                                    "SZALL_MOD": "NULL",
                                    "(No column name)": "220"
                                },
                                {
                                    "SZALL_DATUM": "2016-11-07",
                                    "SZALL_MOD": "NULL",
                                    "(No column name)": "174"
                                },
                                {
                                    "SZALL_DATUM": "2016-11-08",
                                    "SZALL_MOD": "NULL",
                                    "(No column name)": "215"
                                },
                                {
                                    "SZALL_DATUM": "2016-11-09",
                                    "SZALL_MOD": "NULL",
                                    "(No column name)": "160"
                                },
                                {
                                    "SZALL_DATUM": "2016-11-10",
                                    "SZALL_MOD": "NULL",
                                    "(No column name)": "193"
                                },
                                {
                                    "SZALL_DATUM": "2016-11-11",
                                    "SZALL_MOD": "NULL",
                                    "(No column name)": "182"
                                },
                                {
                                    "SZALL_DATUM": "2016-11-12",
                                    "SZALL_MOD": "NULL",
                                    "(No column name)": "268"
                                },
                                {
                                    "SZALL_DATUM": "2016-11-13",
                                    "SZALL_MOD": "NULL",
                                    "(No column name)": "255"
                                },
                                {
                                    "SZALL_DATUM": "2016-11-14",
                                    "SZALL_MOD": "NULL",
                                    "(No column name)": "278"
                                },
                                {
                                    "SZALL_DATUM": "2016-11-15",
                                    "SZALL_MOD": "NULL",
                                    "(No column name)": "179"
                                },
                                {
                                    "SZALL_DATUM": "2016-11-16",
                                    "SZALL_MOD": "NULL",
                                    "(No column name)": "243"
                                },
                                {
                                    "SZALL_DATUM": "2016-11-17",
                                    "SZALL_MOD": "NULL",
                                    "(No column name)": "189"
                                },
                                {
                                    "SZALL_DATUM": "2016-11-18",
                                    "SZALL_MOD": "NULL",
                                    "(No column name)": "197"
                                },
                                {
                                    "SZALL_DATUM": "2016-11-19",
                                    "SZALL_MOD": "NULL",
                                    "(No column name)": "196"
                                },
                                {
                                    "SZALL_DATUM": "2016-11-20",
                                    "SZALL_MOD": "NULL",
                                    "(No column name)": "207"
                                },
                                {
                                    "SZALL_DATUM": "2016-11-21",
                                    "SZALL_MOD": "NULL",
                                    "(No column name)": "188"
                                },
                                {
                                    "SZALL_DATUM": "2016-11-22",
                                    "SZALL_MOD": "NULL",
                                    "(No column name)": "193"
                                },
                                {
                                    "SZALL_DATUM": "2016-11-23",
                                    "SZALL_MOD": "NULL",
                                    "(No column name)": "170"
                                },
                                {
                                    "SZALL_DATUM": "2016-11-24",
                                    "SZALL_MOD": "NULL",
                                    "(No column name)": "190"
                                },
                                {
                                    "SZALL_DATUM": "2016-11-25",
                                    "SZALL_MOD": "NULL",
                                    "(No column name)": "178"
                                },
                                {
                                    "SZALL_DATUM": "2016-11-26",
                                    "SZALL_MOD": "NULL",
                                    "(No column name)": "251"
                                },
                                {
                                    "SZALL_DATUM": "2016-11-27",
                                    "SZALL_MOD": "NULL",
                                    "(No column name)": "243"
                                },
                                {
                                    "SZALL_DATUM": "2016-11-28",
                                    "SZALL_MOD": "NULL",
                                    "(No column name)": "244"
                                },
                                {
                                    "SZALL_DATUM": "2016-11-29",
                                    "SZALL_MOD": "NULL",
                                    "(No column name)": "230"
                                },
                                {
                                    "SZALL_DATUM": "2016-11-30",
                                    "SZALL_MOD": "NULL",
                                    "(No column name)": "165"
                                },
                                {
                                    "SZALL_DATUM": "2016-12-01",
                                    "SZALL_MOD": "NULL",
                                    "(No column name)": "258"
                                },
                                {
                                    "SZALL_DATUM": "2016-12-02",
                                    "SZALL_MOD": "NULL",
                                    "(No column name)": "158"
                                },
                                {
                                    "SZALL_DATUM": "2016-12-03",
                                    "SZALL_MOD": "NULL",
                                    "(No column name)": "167"
                                },
                                {
                                    "SZALL_DATUM": "2016-12-04",
                                    "SZALL_MOD": "NULL",
                                    "(No column name)": "248"
                                },
                                {
                                    "SZALL_DATUM": "2016-12-05",
                                    "SZALL_MOD": "NULL",
                                    "(No column name)": "215"
                                },
                                {
                                    "SZALL_DATUM": "2016-12-06",
                                    "SZALL_MOD": "NULL",
                                    "(No column name)": "190"
                                },
                                {
                                    "SZALL_DATUM": "2016-12-07",
                                    "SZALL_MOD": "NULL",
                                    "(No column name)": "205"
                                },
                                {
                                    "SZALL_DATUM": "2016-12-08",
                                    "SZALL_MOD": "NULL",
                                    "(No column name)": "222"
                                },
                                {
                                    "SZALL_DATUM": "2016-12-09",
                                    "SZALL_MOD": "NULL",
                                    "(No column name)": "229"
                                },
                                {
                                    "SZALL_DATUM": "2016-12-10",
                                    "SZALL_MOD": "NULL",
                                    "(No column name)": "223"
                                },
                                {
                                    "SZALL_DATUM": "2016-12-11",
                                    "SZALL_MOD": "NULL",
                                    "(No column name)": "207"
                                },
                                {
                                    "SZALL_DATUM": "2016-12-12",
                                    "SZALL_MOD": "NULL",
                                    "(No column name)": "207"
                                },
                                {
                                    "SZALL_DATUM": "2016-12-13",
                                    "SZALL_MOD": "NULL",
                                    "(No column name)": "220"
                                },
                                {
                                    "SZALL_DATUM": "2016-12-14",
                                    "SZALL_MOD": "NULL",
                                    "(No column name)": "196"
                                },
                                {
                                    "SZALL_DATUM": "2016-12-15",
                                    "SZALL_MOD": "NULL",
                                    "(No column name)": "178"
                                },
                                {
                                    "SZALL_DATUM": "2016-12-16",
                                    "SZALL_MOD": "NULL",
                                    "(No column name)": "174"
                                },
                                {
                                    "SZALL_DATUM": "2016-12-17",
                                    "SZALL_MOD": "NULL",
                                    "(No column name)": "198"
                                },
                                {
                                    "SZALL_DATUM": "2016-12-18",
                                    "SZALL_MOD": "NULL",
                                    "(No column name)": "156"
                                },
                                {
                                    "SZALL_DATUM": "2016-12-19",
                                    "SZALL_MOD": "NULL",
                                    "(No column name)": "147"
                                },
                                {
                                    "SZALL_DATUM": "2016-12-20",
                                    "SZALL_MOD": "NULL",
                                    "(No column name)": "210"
                                },
                                {
                                    "SZALL_DATUM": "2016-12-21",
                                    "SZALL_MOD": "NULL",
                                    "(No column name)": "263"
                                },
                                {
                                    "SZALL_DATUM": "2016-12-22",
                                    "SZALL_MOD": "NULL",
                                    "(No column name)": "166"
                                },
                                {
                                    "SZALL_DATUM": "2016-12-23",
                                    "SZALL_MOD": "NULL",
                                    "(No column name)": "215"
                                },
                                {
                                    "SZALL_DATUM": "2016-12-24",
                                    "SZALL_MOD": "NULL",
                                    "(No column name)": "160"
                                },
                                {
                                    "SZALL_DATUM": "2016-12-25",
                                    "SZALL_MOD": "NULL",
                                    "(No column name)": "215"
                                },
                                {
                                    "SZALL_DATUM": "2016-12-26",
                                    "SZALL_MOD": "NULL",
                                    "(No column name)": "258"
                                },
                                {
                                    "SZALL_DATUM": "2016-12-27",
                                    "SZALL_MOD": "NULL",
                                    "(No column name)": "260"
                                },
                                {
                                    "SZALL_DATUM": "2016-12-28",
                                    "SZALL_MOD": "NULL",
                                    "(No column name)": "170"
                                },
                                {
                                    "SZALL_DATUM": "2016-12-29",
                                    "SZALL_MOD": "NULL",
                                    "(No column name)": "289"
                                },
                                {
                                    "SZALL_DATUM": "2016-12-30",
                                    "SZALL_MOD": "NULL",
                                    "(No column name)": "202"
                                },
                                {
                                    "SZALL_DATUM": "2016-12-31",
                                    "SZALL_MOD": "NULL",
                                    "(No column name)": "199"
                                },
                                {
                                    "SZALL_DATUM": "2017-01-01",
                                    "SZALL_MOD": "NULL",
                                    "(No column name)": "195"
                                },
                                {
                                    "SZALL_DATUM": "2017-01-02",
                                    "SZALL_MOD": "NULL",
                                    "(No column name)": "185"
                                },
                                {
                                    "SZALL_DATUM": "2017-01-03",
                                    "SZALL_MOD": "NULL",
                                    "(No column name)": "174"
                                },
                                {
                                    "SZALL_DATUM": "2017-01-04",
                                    "SZALL_MOD": "NULL",
                                    "(No column name)": "202"
                                },
                                {
                                    "SZALL_DATUM": "2017-01-05",
                                    "SZALL_MOD": "NULL",
                                    "(No column name)": "219"
                                },
                                {
                                    "SZALL_DATUM": "2017-01-06",
                                    "SZALL_MOD": "NULL",
                                    "(No column name)": "223"
                                },
                                {
                                    "SZALL_DATUM": "2017-01-07",
                                    "SZALL_MOD": "NULL",
                                    "(No column name)": "201"
                                },
                                {
                                    "SZALL_DATUM": "2017-01-08",
                                    "SZALL_MOD": "NULL",
                                    "(No column name)": "161"
                                },
                                {
                                    "SZALL_DATUM": "2017-01-09",
                                    "SZALL_MOD": "NULL",
                                    "(No column name)": "254"
                                },
                                {
                                    "SZALL_DATUM": "2017-01-10",
                                    "SZALL_MOD": "NULL",
                                    "(No column name)": "193"
                                },
                                {
                                    "SZALL_DATUM": "2017-01-11",
                                    "SZALL_MOD": "NULL",
                                    "(No column name)": "246"
                                },
                                {
                                    "SZALL_DATUM": "2017-01-12",
                                    "SZALL_MOD": "NULL",
                                    "(No column name)": "202"
                                },
                                {
                                    "SZALL_DATUM": "2017-01-13",
                                    "SZALL_MOD": "NULL",
                                    "(No column name)": "218"
                                },
                                {
                                    "SZALL_DATUM": "2017-01-14",
                                    "SZALL_MOD": "NULL",
                                    "(No column name)": "221"
                                },
                                {
                                    "SZALL_DATUM": "2017-01-15",
                                    "SZALL_MOD": "NULL",
                                    "(No column name)": "183"
                                },
                                {
                                    "SZALL_DATUM": "2017-01-16",
                                    "SZALL_MOD": "NULL",
                                    "(No column name)": "191"
                                },
                                {
                                    "SZALL_DATUM": "2017-01-17",
                                    "SZALL_MOD": "NULL",
                                    "(No column name)": "231"
                                },
                                {
                                    "SZALL_DATUM": "2017-01-18",
                                    "SZALL_MOD": "NULL",
                                    "(No column name)": "197"
                                },
                                {
                                    "SZALL_DATUM": "2017-01-19",
                                    "SZALL_MOD": "NULL",
                                    "(No column name)": "185"
                                },
                                {
                                    "SZALL_DATUM": "2017-01-20",
                                    "SZALL_MOD": "NULL",
                                    "(No column name)": "174"
                                },
                                {
                                    "SZALL_DATUM": "2017-01-21",
                                    "SZALL_MOD": "NULL",
                                    "(No column name)": "180"
                                },
                                {
                                    "SZALL_DATUM": "2017-01-22",
                                    "SZALL_MOD": "NULL",
                                    "(No column name)": "226"
                                },
                                {
                                    "SZALL_DATUM": "2017-01-23",
                                    "SZALL_MOD": "NULL",
                                    "(No column name)": "232"
                                },
                                {
                                    "SZALL_DATUM": "2017-01-24",
                                    "SZALL_MOD": "NULL",
                                    "(No column name)": "205"
                                },
                                {
                                    "SZALL_DATUM": "2017-01-25",
                                    "SZALL_MOD": "NULL",
                                    "(No column name)": "169"
                                },
                                {
                                    "SZALL_DATUM": "2017-01-26",
                                    "SZALL_MOD": "NULL",
                                    "(No column name)": "238"
                                },
                                {
                                    "SZALL_DATUM": "2017-01-27",
                                    "SZALL_MOD": "NULL",
                                    "(No column name)": "119"
                                },
                                {
                                    "SZALL_DATUM": "2017-01-28",
                                    "SZALL_MOD": "NULL",
                                    "(No column name)": "204"
                                },
                                {
                                    "SZALL_DATUM": "2017-01-29",
                                    "SZALL_MOD": "NULL",
                                    "(No column name)": "225"
                                },
                                {
                                    "SZALL_DATUM": "2017-01-30",
                                    "SZALL_MOD": "NULL",
                                    "(No column name)": "210"
                                },
                                {
                                    "SZALL_DATUM": "2017-01-31",
                                    "SZALL_MOD": "NULL",
                                    "(No column name)": "185"
                                },
                                {
                                    "SZALL_DATUM": "2017-02-01",
                                    "SZALL_MOD": "NULL",
                                    "(No column name)": "147"
                                },
                                {
                                    "SZALL_DATUM": "2017-02-02",
                                    "SZALL_MOD": "NULL",
                                    "(No column name)": "243"
                                },
                                {
                                    "SZALL_DATUM": "2017-02-03",
                                    "SZALL_MOD": "NULL",
                                    "(No column name)": "193"
                                },
                                {
                                    "SZALL_DATUM": "2017-02-04",
                                    "SZALL_MOD": "NULL",
                                    "(No column name)": "174"
                                },
                                {
                                    "SZALL_DATUM": "2017-02-05",
                                    "SZALL_MOD": "NULL",
                                    "(No column name)": "131"
                                },
                                {
                                    "SZALL_DATUM": "2017-02-06",
                                    "SZALL_MOD": "NULL",
                                    "(No column name)": "204"
                                },
                                {
                                    "SZALL_DATUM": "2017-02-07",
                                    "SZALL_MOD": "NULL",
                                    "(No column name)": "202"
                                },
                                {
                                    "SZALL_DATUM": "2017-02-08",
                                    "SZALL_MOD": "NULL",
                                    "(No column name)": "255"
                                },
                                {
                                    "SZALL_DATUM": "2017-02-09",
                                    "SZALL_MOD": "NULL",
                                    "(No column name)": "197"
                                },
                                {
                                    "SZALL_DATUM": "2017-02-10",
                                    "SZALL_MOD": "NULL",
                                    "(No column name)": "234"
                                },
                                {
                                    "SZALL_DATUM": "2017-02-11",
                                    "SZALL_MOD": "NULL",
                                    "(No column name)": "191"
                                },
                                {
                                    "SZALL_DATUM": "2017-02-12",
                                    "SZALL_MOD": "NULL",
                                    "(No column name)": "160"
                                },
                                {
                                    "SZALL_DATUM": "2017-02-13",
                                    "SZALL_MOD": "NULL",
                                    "(No column name)": "213"
                                },
                                {
                                    "SZALL_DATUM": "2017-02-14",
                                    "SZALL_MOD": "NULL",
                                    "(No column name)": "229"
                                },
                                {
                                    "SZALL_DATUM": "2017-02-15",
                                    "SZALL_MOD": "NULL",
                                    "(No column name)": "179"
                                },
                                {
                                    "SZALL_DATUM": "2017-02-16",
                                    "SZALL_MOD": "NULL",
                                    "(No column name)": "232"
                                },
                                {
                                    "SZALL_DATUM": "2017-02-17",
                                    "SZALL_MOD": "NULL",
                                    "(No column name)": "229"
                                },
                                {
                                    "SZALL_DATUM": "2017-02-18",
                                    "SZALL_MOD": "NULL",
                                    "(No column name)": "253"
                                },
                                {
                                    "SZALL_DATUM": "2017-02-19",
                                    "SZALL_MOD": "NULL",
                                    "(No column name)": "193"
                                },
                                {
                                    "SZALL_DATUM": "2017-02-20",
                                    "SZALL_MOD": "NULL",
                                    "(No column name)": "129"
                                },
                                {
                                    "SZALL_DATUM": "2017-02-21",
                                    "SZALL_MOD": "NULL",
                                    "(No column name)": "193"
                                },
                                {
                                    "SZALL_DATUM": "2017-02-22",
                                    "SZALL_MOD": "NULL",
                                    "(No column name)": "229"
                                },
                                {
                                    "SZALL_DATUM": "2017-02-23",
                                    "SZALL_MOD": "NULL",
                                    "(No column name)": "191"
                                },
                                {
                                    "SZALL_DATUM": "2017-02-24",
                                    "SZALL_MOD": "NULL",
                                    "(No column name)": "178"
                                },
                                {
                                    "SZALL_DATUM": "2017-02-25",
                                    "SZALL_MOD": "NULL",
                                    "(No column name)": "182"
                                },
                                {
                                    "SZALL_DATUM": "2017-02-26",
                                    "SZALL_MOD": "NULL",
                                    "(No column name)": "216"
                                },
                                {
                                    "SZALL_DATUM": "2017-02-27",
                                    "SZALL_MOD": "NULL",
                                    "(No column name)": "226"
                                },
                                {
                                    "SZALL_DATUM": "2017-02-28",
                                    "SZALL_MOD": "NULL",
                                    "(No column name)": "294"
                                },
                                {
                                    "SZALL_DATUM": "2017-03-01",
                                    "SZALL_MOD": "NULL",
                                    "(No column name)": "155"
                                },
                                {
                                    "SZALL_DATUM": "2017-03-02",
                                    "SZALL_MOD": "NULL",
                                    "(No column name)": "134"
                                },
                                {
                                    "SZALL_DATUM": "2017-03-03",
                                    "SZALL_MOD": "NULL",
                                    "(No column name)": "213"
                                },
                                {
                                    "SZALL_DATUM": "2017-03-04",
                                    "SZALL_MOD": "NULL",
                                    "(No column name)": "148"
                                },
                                {
                                    "SZALL_DATUM": "2017-03-05",
                                    "SZALL_MOD": "NULL",
                                    "(No column name)": "244"
                                },
                                {
                                    "SZALL_DATUM": "2017-03-06",
                                    "SZALL_MOD": "NULL",
                                    "(No column name)": "274"
                                },
                                {
                                    "SZALL_DATUM": "2017-03-07",
                                    "SZALL_MOD": "NULL",
                                    "(No column name)": "241"
                                },
                                {
                                    "SZALL_DATUM": "2017-03-08",
                                    "SZALL_MOD": "NULL",
                                    "(No column name)": "179"
                                },
                                {
                                    "SZALL_DATUM": "2017-03-09",
                                    "SZALL_MOD": "NULL",
                                    "(No column name)": "189"
                                },
                                {
                                    "SZALL_DATUM": "2017-03-10",
                                    "SZALL_MOD": "NULL",
                                    "(No column name)": "176"
                                },
                                {
                                    "SZALL_DATUM": "2017-03-11",
                                    "SZALL_MOD": "NULL",
                                    "(No column name)": "189"
                                },
                                {
                                    "SZALL_DATUM": "2017-03-12",
                                    "SZALL_MOD": "NULL",
                                    "(No column name)": "175"
                                },
                                {
                                    "SZALL_DATUM": "2017-03-13",
                                    "SZALL_MOD": "NULL",
                                    "(No column name)": "170"
                                },
                                {
                                    "SZALL_DATUM": "2017-03-14",
                                    "SZALL_MOD": "NULL",
                                    "(No column name)": "178"
                                },
                                {
                                    "SZALL_DATUM": "2017-03-15",
                                    "SZALL_MOD": "NULL",
                                    "(No column name)": "247"
                                },
                                {
                                    "SZALL_DATUM": "2017-03-16",
                                    "SZALL_MOD": "NULL",
                                    "(No column name)": "235"
                                },
                                {
                                    "SZALL_DATUM": "2017-03-17",
                                    "SZALL_MOD": "NULL",
                                    "(No column name)": "240"
                                },
                                {
                                    "SZALL_DATUM": "2017-03-18",
                                    "SZALL_MOD": "NULL",
                                    "(No column name)": "220"
                                },
                                {
                                    "SZALL_DATUM": "2017-03-19",
                                    "SZALL_MOD": "NULL",
                                    "(No column name)": "248"
                                },
                                {
                                    "SZALL_DATUM": "2017-03-20",
                                    "SZALL_MOD": "NULL",
                                    "(No column name)": "191"
                                },
                                {
                                    "SZALL_DATUM": "2017-03-21",
                                    "SZALL_MOD": "NULL",
                                    "(No column name)": "216"
                                },
                                {
                                    "SZALL_DATUM": "2017-03-22",
                                    "SZALL_MOD": "NULL",
                                    "(No column name)": "162"
                                },
                                {
                                    "SZALL_DATUM": "2017-03-23",
                                    "SZALL_MOD": "NULL",
                                    "(No column name)": "230"
                                },
                                {
                                    "SZALL_DATUM": "2017-03-24",
                                    "SZALL_MOD": "NULL",
                                    "(No column name)": "231"
                                },
                                {
                                    "SZALL_DATUM": "2017-03-25",
                                    "SZALL_MOD": "NULL",
                                    "(No column name)": "171"
                                },
                                {
                                    "SZALL_DATUM": "2017-03-26",
                                    "SZALL_MOD": "NULL",
                                    "(No column name)": "217"
                                },
                                {
                                    "SZALL_DATUM": "2017-03-27",
                                    "SZALL_MOD": "NULL",
                                    "(No column name)": "208"
                                },
                                {
                                    "SZALL_DATUM": "2017-03-28",
                                    "SZALL_MOD": "NULL",
                                    "(No column name)": "200"
                                },
                                {
                                    "SZALL_DATUM": "2017-03-29",
                                    "SZALL_MOD": "NULL",
                                    "(No column name)": "219"
                                },
                                {
                                    "SZALL_DATUM": "2017-03-30",
                                    "SZALL_MOD": "NULL",
                                    "(No column name)": "236"
                                },
                                {
                                    "SZALL_DATUM": "2017-03-31",
                                    "SZALL_MOD": "NULL",
                                    "(No column name)": "220"
                                },
                                {
                                    "SZALL_DATUM": "2017-04-01",
                                    "SZALL_MOD": "NULL",
                                    "(No column name)": "170"
                                },
                                {
                                    "SZALL_DATUM": "2017-04-02",
                                    "SZALL_MOD": "NULL",
                                    "(No column name)": "213"
                                },
                                {
                                    "SZALL_DATUM": "2017-04-03",
                                    "SZALL_MOD": "NULL",
                                    "(No column name)": "188"
                                },
                                {
                                    "SZALL_DATUM": "2017-04-04",
                                    "SZALL_MOD": "NULL",
                                    "(No column name)": "175"
                                },
                                {
                                    "SZALL_DATUM": "2017-04-05",
                                    "SZALL_MOD": "NULL",
                                    "(No column name)": "188"
                                },
                                {
                                    "SZALL_DATUM": "2017-04-06",
                                    "SZALL_MOD": "NULL",
                                    "(No column name)": "106"
                                },
                                {
                                    "SZALL_DATUM": "2017-04-07",
                                    "SZALL_MOD": "NULL",
                                    "(No column name)": "152"
                                },
                                {
                                    "SZALL_DATUM": "2017-04-08",
                                    "SZALL_MOD": "NULL",
                                    "(No column name)": "120"
                                },
                                {
                                    "SZALL_DATUM": "2017-04-09",
                                    "SZALL_MOD": "NULL",
                                    "(No column name)": "79"
                                },
                                {
                                    "SZALL_DATUM": "2017-04-10",
                                    "SZALL_MOD": "NULL",
                                    "(No column name)": "32"
                                },
                                {
                                    "SZALL_DATUM": "2017-04-11",
                                    "SZALL_MOD": "NULL",
                                    "(No column name)": "21"
                                },
                                {
                                    "SZALL_DATUM": "NULL",
                                    "SZALL_MOD": "NULL",
                                    "(No column name)": "145706"
                                }
                            ]
                        },
                        "text/html": "<table><tr><th>SZALL_DATUM</th><th>SZALL_MOD</th><th>(No column name)</th></tr><tr><td>2015-05-03</td><td>NULL</td><td>4</td></tr><tr><td>2015-05-04</td><td>NULL</td><td>31</td></tr><tr><td>2015-05-05</td><td>NULL</td><td>81</td></tr><tr><td>2015-05-06</td><td>NULL</td><td>126</td></tr><tr><td>2015-05-07</td><td>NULL</td><td>94</td></tr><tr><td>2015-05-08</td><td>NULL</td><td>106</td></tr><tr><td>2015-05-09</td><td>NULL</td><td>159</td></tr><tr><td>2015-05-10</td><td>NULL</td><td>168</td></tr><tr><td>2015-05-11</td><td>NULL</td><td>195</td></tr><tr><td>2015-05-12</td><td>NULL</td><td>196</td></tr><tr><td>2015-05-13</td><td>NULL</td><td>198</td></tr><tr><td>2015-05-14</td><td>NULL</td><td>277</td></tr><tr><td>2015-05-15</td><td>NULL</td><td>188</td></tr><tr><td>2015-05-16</td><td>NULL</td><td>198</td></tr><tr><td>2015-05-17</td><td>NULL</td><td>129</td></tr><tr><td>2015-05-18</td><td>NULL</td><td>225</td></tr><tr><td>2015-05-19</td><td>NULL</td><td>199</td></tr><tr><td>2015-05-20</td><td>NULL</td><td>245</td></tr><tr><td>2015-05-21</td><td>NULL</td><td>198</td></tr><tr><td>2015-05-22</td><td>NULL</td><td>202</td></tr><tr><td>2015-05-23</td><td>NULL</td><td>139</td></tr><tr><td>2015-05-24</td><td>NULL</td><td>150</td></tr><tr><td>2015-05-25</td><td>NULL</td><td>173</td></tr><tr><td>2015-05-26</td><td>NULL</td><td>204</td></tr><tr><td>2015-05-27</td><td>NULL</td><td>231</td></tr><tr><td>2015-05-28</td><td>NULL</td><td>229</td></tr><tr><td>2015-05-29</td><td>NULL</td><td>263</td></tr><tr><td>2015-05-30</td><td>NULL</td><td>203</td></tr><tr><td>2015-05-31</td><td>NULL</td><td>123</td></tr><tr><td>2015-06-01</td><td>NULL</td><td>181</td></tr><tr><td>2015-06-02</td><td>NULL</td><td>175</td></tr><tr><td>2015-06-03</td><td>NULL</td><td>220</td></tr><tr><td>2015-06-04</td><td>NULL</td><td>210</td></tr><tr><td>2015-06-05</td><td>NULL</td><td>230</td></tr><tr><td>2015-06-06</td><td>NULL</td><td>236</td></tr><tr><td>2015-06-07</td><td>NULL</td><td>221</td></tr><tr><td>2015-06-08</td><td>NULL</td><td>149</td></tr><tr><td>2015-06-09</td><td>NULL</td><td>172</td></tr><tr><td>2015-06-10</td><td>NULL</td><td>221</td></tr><tr><td>2015-06-11</td><td>NULL</td><td>173</td></tr><tr><td>2015-06-12</td><td>NULL</td><td>231</td></tr><tr><td>2015-06-13</td><td>NULL</td><td>215</td></tr><tr><td>2015-06-14</td><td>NULL</td><td>207</td></tr><tr><td>2015-06-15</td><td>NULL</td><td>205</td></tr><tr><td>2015-06-16</td><td>NULL</td><td>133</td></tr><tr><td>2015-06-17</td><td>NULL</td><td>229</td></tr><tr><td>2015-06-18</td><td>NULL</td><td>238</td></tr><tr><td>2015-06-19</td><td>NULL</td><td>176</td></tr><tr><td>2015-06-20</td><td>NULL</td><td>198</td></tr><tr><td>2015-06-21</td><td>NULL</td><td>179</td></tr><tr><td>2015-06-22</td><td>NULL</td><td>240</td></tr><tr><td>2015-06-23</td><td>NULL</td><td>227</td></tr><tr><td>2015-06-24</td><td>NULL</td><td>129</td></tr><tr><td>2015-06-25</td><td>NULL</td><td>247</td></tr><tr><td>2015-06-26</td><td>NULL</td><td>271</td></tr><tr><td>2015-06-27</td><td>NULL</td><td>173</td></tr><tr><td>2015-06-28</td><td>NULL</td><td>163</td></tr><tr><td>2015-06-29</td><td>NULL</td><td>207</td></tr><tr><td>2015-06-30</td><td>NULL</td><td>208</td></tr><tr><td>2015-07-01</td><td>NULL</td><td>138</td></tr><tr><td>2015-07-02</td><td>NULL</td><td>183</td></tr><tr><td>2015-07-03</td><td>NULL</td><td>175</td></tr><tr><td>2015-07-04</td><td>NULL</td><td>221</td></tr><tr><td>2015-07-05</td><td>NULL</td><td>220</td></tr><tr><td>2015-07-06</td><td>NULL</td><td>231</td></tr><tr><td>2015-07-07</td><td>NULL</td><td>266</td></tr><tr><td>2015-07-08</td><td>NULL</td><td>177</td></tr><tr><td>2015-07-09</td><td>NULL</td><td>198</td></tr><tr><td>2015-07-10</td><td>NULL</td><td>182</td></tr><tr><td>2015-07-11</td><td>NULL</td><td>175</td></tr><tr><td>2015-07-12</td><td>NULL</td><td>218</td></tr><tr><td>2015-07-13</td><td>NULL</td><td>208</td></tr><tr><td>2015-07-14</td><td>NULL</td><td>188</td></tr><tr><td>2015-07-15</td><td>NULL</td><td>256</td></tr><tr><td>2015-07-16</td><td>NULL</td><td>187</td></tr><tr><td>2015-07-17</td><td>NULL</td><td>176</td></tr><tr><td>2015-07-18</td><td>NULL</td><td>159</td></tr><tr><td>2015-07-19</td><td>NULL</td><td>187</td></tr><tr><td>2015-07-20</td><td>NULL</td><td>260</td></tr><tr><td>2015-07-21</td><td>NULL</td><td>242</td></tr><tr><td>2015-07-22</td><td>NULL</td><td>163</td></tr><tr><td>2015-07-23</td><td>NULL</td><td>180</td></tr><tr><td>2015-07-24</td><td>NULL</td><td>219</td></tr><tr><td>2015-07-25</td><td>NULL</td><td>200</td></tr><tr><td>2015-07-26</td><td>NULL</td><td>236</td></tr><tr><td>2015-07-27</td><td>NULL</td><td>155</td></tr><tr><td>2015-07-28</td><td>NULL</td><td>180</td></tr><tr><td>2015-07-29</td><td>NULL</td><td>161</td></tr><tr><td>2015-07-30</td><td>NULL</td><td>238</td></tr><tr><td>2015-07-31</td><td>NULL</td><td>270</td></tr><tr><td>2015-08-01</td><td>NULL</td><td>248</td></tr><tr><td>2015-08-02</td><td>NULL</td><td>229</td></tr><tr><td>2015-08-03</td><td>NULL</td><td>229</td></tr><tr><td>2015-08-04</td><td>NULL</td><td>250</td></tr><tr><td>2015-08-05</td><td>NULL</td><td>233</td></tr><tr><td>2015-08-06</td><td>NULL</td><td>140</td></tr><tr><td>2015-08-07</td><td>NULL</td><td>259</td></tr><tr><td>2015-08-08</td><td>NULL</td><td>258</td></tr><tr><td>2015-08-09</td><td>NULL</td><td>187</td></tr><tr><td>2015-08-10</td><td>NULL</td><td>196</td></tr><tr><td>2015-08-11</td><td>NULL</td><td>241</td></tr><tr><td>2015-08-12</td><td>NULL</td><td>202</td></tr><tr><td>2015-08-13</td><td>NULL</td><td>250</td></tr><tr><td>2015-08-14</td><td>NULL</td><td>255</td></tr><tr><td>2015-08-15</td><td>NULL</td><td>172</td></tr><tr><td>2015-08-16</td><td>NULL</td><td>189</td></tr><tr><td>2015-08-17</td><td>NULL</td><td>203</td></tr><tr><td>2015-08-18</td><td>NULL</td><td>167</td></tr><tr><td>2015-08-19</td><td>NULL</td><td>170</td></tr><tr><td>2015-08-20</td><td>NULL</td><td>227</td></tr><tr><td>2015-08-21</td><td>NULL</td><td>199</td></tr><tr><td>2015-08-22</td><td>NULL</td><td>251</td></tr><tr><td>2015-08-23</td><td>NULL</td><td>173</td></tr><tr><td>2015-08-24</td><td>NULL</td><td>191</td></tr><tr><td>2015-08-25</td><td>NULL</td><td>235</td></tr><tr><td>2015-08-26</td><td>NULL</td><td>267</td></tr><tr><td>2015-08-27</td><td>NULL</td><td>152</td></tr><tr><td>2015-08-28</td><td>NULL</td><td>221</td></tr><tr><td>2015-08-29</td><td>NULL</td><td>183</td></tr><tr><td>2015-08-30</td><td>NULL</td><td>236</td></tr><tr><td>2015-08-31</td><td>NULL</td><td>205</td></tr><tr><td>2015-09-01</td><td>NULL</td><td>246</td></tr><tr><td>2015-09-02</td><td>NULL</td><td>165</td></tr><tr><td>2015-09-03</td><td>NULL</td><td>234</td></tr><tr><td>2015-09-04</td><td>NULL</td><td>256</td></tr><tr><td>2015-09-05</td><td>NULL</td><td>187</td></tr><tr><td>2015-09-06</td><td>NULL</td><td>209</td></tr><tr><td>2015-09-07</td><td>NULL</td><td>237</td></tr><tr><td>2015-09-08</td><td>NULL</td><td>193</td></tr><tr><td>2015-09-09</td><td>NULL</td><td>204</td></tr><tr><td>2015-09-10</td><td>NULL</td><td>265</td></tr><tr><td>2015-09-11</td><td>NULL</td><td>219</td></tr><tr><td>2015-09-12</td><td>NULL</td><td>240</td></tr><tr><td>2015-09-13</td><td>NULL</td><td>195</td></tr><tr><td>2015-09-14</td><td>NULL</td><td>210</td></tr><tr><td>2015-09-15</td><td>NULL</td><td>140</td></tr><tr><td>2015-09-16</td><td>NULL</td><td>199</td></tr><tr><td>2015-09-17</td><td>NULL</td><td>226</td></tr><tr><td>2015-09-18</td><td>NULL</td><td>212</td></tr><tr><td>2015-09-19</td><td>NULL</td><td>196</td></tr><tr><td>2015-09-20</td><td>NULL</td><td>263</td></tr><tr><td>2015-09-21</td><td>NULL</td><td>164</td></tr><tr><td>2015-09-22</td><td>NULL</td><td>221</td></tr><tr><td>2015-09-23</td><td>NULL</td><td>187</td></tr><tr><td>2015-09-24</td><td>NULL</td><td>264</td></tr><tr><td>2015-09-25</td><td>NULL</td><td>186</td></tr><tr><td>2015-09-26</td><td>NULL</td><td>240</td></tr><tr><td>2015-09-27</td><td>NULL</td><td>194</td></tr><tr><td>2015-09-28</td><td>NULL</td><td>269</td></tr><tr><td>2015-09-29</td><td>NULL</td><td>252</td></tr><tr><td>2015-09-30</td><td>NULL</td><td>151</td></tr><tr><td>2015-10-01</td><td>NULL</td><td>207</td></tr><tr><td>2015-10-02</td><td>NULL</td><td>153</td></tr><tr><td>2015-10-03</td><td>NULL</td><td>242</td></tr><tr><td>2015-10-04</td><td>NULL</td><td>197</td></tr><tr><td>2015-10-05</td><td>NULL</td><td>226</td></tr><tr><td>2015-10-06</td><td>NULL</td><td>163</td></tr><tr><td>2015-10-07</td><td>NULL</td><td>230</td></tr><tr><td>2015-10-08</td><td>NULL</td><td>216</td></tr><tr><td>2015-10-09</td><td>NULL</td><td>235</td></tr><tr><td>2015-10-10</td><td>NULL</td><td>216</td></tr><tr><td>2015-10-11</td><td>NULL</td><td>184</td></tr><tr><td>2015-10-12</td><td>NULL</td><td>237</td></tr><tr><td>2015-10-13</td><td>NULL</td><td>174</td></tr><tr><td>2015-10-14</td><td>NULL</td><td>163</td></tr><tr><td>2015-10-15</td><td>NULL</td><td>251</td></tr><tr><td>2015-10-16</td><td>NULL</td><td>258</td></tr><tr><td>2015-10-17</td><td>NULL</td><td>186</td></tr><tr><td>2015-10-18</td><td>NULL</td><td>219</td></tr><tr><td>2015-10-19</td><td>NULL</td><td>184</td></tr><tr><td>2015-10-20</td><td>NULL</td><td>260</td></tr><tr><td>2015-10-21</td><td>NULL</td><td>191</td></tr><tr><td>2015-10-22</td><td>NULL</td><td>153</td></tr><tr><td>2015-10-23</td><td>NULL</td><td>207</td></tr><tr><td>2015-10-24</td><td>NULL</td><td>186</td></tr><tr><td>2015-10-25</td><td>NULL</td><td>234</td></tr><tr><td>2015-10-26</td><td>NULL</td><td>221</td></tr><tr><td>2015-10-27</td><td>NULL</td><td>188</td></tr><tr><td>2015-10-28</td><td>NULL</td><td>194</td></tr><tr><td>2015-10-29</td><td>NULL</td><td>191</td></tr><tr><td>2015-10-30</td><td>NULL</td><td>214</td></tr><tr><td>2015-10-31</td><td>NULL</td><td>176</td></tr><tr><td>2015-11-01</td><td>NULL</td><td>148</td></tr><tr><td>2015-11-02</td><td>NULL</td><td>191</td></tr><tr><td>2015-11-03</td><td>NULL</td><td>304</td></tr><tr><td>2015-11-04</td><td>NULL</td><td>181</td></tr><tr><td>2015-11-05</td><td>NULL</td><td>173</td></tr><tr><td>2015-11-06</td><td>NULL</td><td>211</td></tr><tr><td>2015-11-07</td><td>NULL</td><td>206</td></tr><tr><td>2015-11-08</td><td>NULL</td><td>210</td></tr><tr><td>2015-11-09</td><td>NULL</td><td>206</td></tr><tr><td>2015-11-10</td><td>NULL</td><td>219</td></tr><tr><td>2015-11-11</td><td>NULL</td><td>200</td></tr><tr><td>2015-11-12</td><td>NULL</td><td>149</td></tr><tr><td>2015-11-13</td><td>NULL</td><td>188</td></tr><tr><td>2015-11-14</td><td>NULL</td><td>230</td></tr><tr><td>2015-11-15</td><td>NULL</td><td>164</td></tr><tr><td>2015-11-16</td><td>NULL</td><td>230</td></tr><tr><td>2015-11-17</td><td>NULL</td><td>195</td></tr><tr><td>2015-11-18</td><td>NULL</td><td>219</td></tr><tr><td>2015-11-19</td><td>NULL</td><td>190</td></tr><tr><td>2015-11-20</td><td>NULL</td><td>168</td></tr><tr><td>2015-11-21</td><td>NULL</td><td>205</td></tr><tr><td>2015-11-22</td><td>NULL</td><td>240</td></tr><tr><td>2015-11-23</td><td>NULL</td><td>209</td></tr><tr><td>2015-11-24</td><td>NULL</td><td>245</td></tr><tr><td>2015-11-25</td><td>NULL</td><td>167</td></tr><tr><td>2015-11-26</td><td>NULL</td><td>186</td></tr><tr><td>2015-11-27</td><td>NULL</td><td>177</td></tr><tr><td>2015-11-28</td><td>NULL</td><td>266</td></tr><tr><td>2015-11-29</td><td>NULL</td><td>167</td></tr><tr><td>2015-11-30</td><td>NULL</td><td>205</td></tr><tr><td>2015-12-01</td><td>NULL</td><td>185</td></tr><tr><td>2015-12-02</td><td>NULL</td><td>226</td></tr><tr><td>2015-12-03</td><td>NULL</td><td>217</td></tr><tr><td>2015-12-04</td><td>NULL</td><td>185</td></tr><tr><td>2015-12-05</td><td>NULL</td><td>267</td></tr><tr><td>2015-12-06</td><td>NULL</td><td>150</td></tr><tr><td>2015-12-07</td><td>NULL</td><td>263</td></tr><tr><td>2015-12-08</td><td>NULL</td><td>207</td></tr><tr><td>2015-12-09</td><td>NULL</td><td>211</td></tr><tr><td>2015-12-10</td><td>NULL</td><td>256</td></tr><tr><td>2015-12-11</td><td>NULL</td><td>230</td></tr><tr><td>2015-12-12</td><td>NULL</td><td>224</td></tr><tr><td>2015-12-13</td><td>NULL</td><td>171</td></tr><tr><td>2015-12-14</td><td>NULL</td><td>212</td></tr><tr><td>2015-12-15</td><td>NULL</td><td>184</td></tr><tr><td>2015-12-16</td><td>NULL</td><td>179</td></tr><tr><td>2015-12-17</td><td>NULL</td><td>186</td></tr><tr><td>2015-12-18</td><td>NULL</td><td>274</td></tr><tr><td>2015-12-19</td><td>NULL</td><td>164</td></tr><tr><td>2015-12-20</td><td>NULL</td><td>222</td></tr><tr><td>2015-12-21</td><td>NULL</td><td>164</td></tr><tr><td>2015-12-22</td><td>NULL</td><td>210</td></tr><tr><td>2015-12-23</td><td>NULL</td><td>191</td></tr><tr><td>2015-12-24</td><td>NULL</td><td>196</td></tr><tr><td>2015-12-25</td><td>NULL</td><td>181</td></tr><tr><td>2015-12-26</td><td>NULL</td><td>222</td></tr><tr><td>2015-12-27</td><td>NULL</td><td>208</td></tr><tr><td>2015-12-28</td><td>NULL</td><td>244</td></tr><tr><td>2015-12-29</td><td>NULL</td><td>247</td></tr><tr><td>2015-12-30</td><td>NULL</td><td>190</td></tr><tr><td>2015-12-31</td><td>NULL</td><td>206</td></tr><tr><td>2016-01-01</td><td>NULL</td><td>240</td></tr><tr><td>2016-01-02</td><td>NULL</td><td>206</td></tr><tr><td>2016-01-03</td><td>NULL</td><td>257</td></tr><tr><td>2016-01-04</td><td>NULL</td><td>233</td></tr><tr><td>2016-01-05</td><td>NULL</td><td>192</td></tr><tr><td>2016-01-06</td><td>NULL</td><td>193</td></tr><tr><td>2016-01-07</td><td>NULL</td><td>142</td></tr><tr><td>2016-01-08</td><td>NULL</td><td>269</td></tr><tr><td>2016-01-09</td><td>NULL</td><td>196</td></tr><tr><td>2016-01-10</td><td>NULL</td><td>204</td></tr><tr><td>2016-01-11</td><td>NULL</td><td>201</td></tr><tr><td>2016-01-12</td><td>NULL</td><td>189</td></tr><tr><td>2016-01-13</td><td>NULL</td><td>201</td></tr><tr><td>2016-01-14</td><td>NULL</td><td>226</td></tr><tr><td>2016-01-15</td><td>NULL</td><td>229</td></tr><tr><td>2016-01-16</td><td>NULL</td><td>218</td></tr><tr><td>2016-01-17</td><td>NULL</td><td>203</td></tr><tr><td>2016-01-18</td><td>NULL</td><td>173</td></tr><tr><td>2016-01-19</td><td>NULL</td><td>176</td></tr><tr><td>2016-01-20</td><td>NULL</td><td>200</td></tr><tr><td>2016-01-21</td><td>NULL</td><td>281</td></tr><tr><td>2016-01-22</td><td>NULL</td><td>206</td></tr><tr><td>2016-01-23</td><td>NULL</td><td>175</td></tr><tr><td>2016-01-24</td><td>NULL</td><td>241</td></tr><tr><td>2016-01-25</td><td>NULL</td><td>136</td></tr><tr><td>2016-01-26</td><td>NULL</td><td>144</td></tr><tr><td>2016-01-27</td><td>NULL</td><td>195</td></tr><tr><td>2016-01-28</td><td>NULL</td><td>207</td></tr><tr><td>2016-01-29</td><td>NULL</td><td>198</td></tr><tr><td>2016-01-30</td><td>NULL</td><td>239</td></tr><tr><td>2016-01-31</td><td>NULL</td><td>191</td></tr><tr><td>2016-02-01</td><td>NULL</td><td>246</td></tr><tr><td>2016-02-02</td><td>NULL</td><td>211</td></tr><tr><td>2016-02-03</td><td>NULL</td><td>236</td></tr><tr><td>2016-02-04</td><td>NULL</td><td>199</td></tr><tr><td>2016-02-05</td><td>NULL</td><td>233</td></tr><tr><td>2016-02-06</td><td>NULL</td><td>287</td></tr><tr><td>2016-02-07</td><td>NULL</td><td>164</td></tr><tr><td>2016-02-08</td><td>NULL</td><td>230</td></tr><tr><td>2016-02-09</td><td>NULL</td><td>222</td></tr><tr><td>2016-02-10</td><td>NULL</td><td>196</td></tr><tr><td>2016-02-11</td><td>NULL</td><td>217</td></tr><tr><td>2016-02-12</td><td>NULL</td><td>232</td></tr><tr><td>2016-02-13</td><td>NULL</td><td>195</td></tr><tr><td>2016-02-14</td><td>NULL</td><td>219</td></tr><tr><td>2016-02-15</td><td>NULL</td><td>246</td></tr><tr><td>2016-02-16</td><td>NULL</td><td>209</td></tr><tr><td>2016-02-17</td><td>NULL</td><td>250</td></tr><tr><td>2016-02-18</td><td>NULL</td><td>131</td></tr><tr><td>2016-02-19</td><td>NULL</td><td>217</td></tr><tr><td>2016-02-20</td><td>NULL</td><td>204</td></tr><tr><td>2016-02-21</td><td>NULL</td><td>206</td></tr><tr><td>2016-02-22</td><td>NULL</td><td>245</td></tr><tr><td>2016-02-23</td><td>NULL</td><td>183</td></tr><tr><td>2016-02-24</td><td>NULL</td><td>185</td></tr><tr><td>2016-02-25</td><td>NULL</td><td>188</td></tr><tr><td>2016-02-26</td><td>NULL</td><td>232</td></tr><tr><td>2016-02-27</td><td>NULL</td><td>199</td></tr><tr><td>2016-02-28</td><td>NULL</td><td>217</td></tr><tr><td>2016-02-29</td><td>NULL</td><td>223</td></tr><tr><td>2016-03-01</td><td>NULL</td><td>256</td></tr><tr><td>2016-03-02</td><td>NULL</td><td>203</td></tr><tr><td>2016-03-03</td><td>NULL</td><td>250</td></tr><tr><td>2016-03-04</td><td>NULL</td><td>220</td></tr><tr><td>2016-03-05</td><td>NULL</td><td>251</td></tr><tr><td>2016-03-06</td><td>NULL</td><td>184</td></tr><tr><td>2016-03-07</td><td>NULL</td><td>197</td></tr><tr><td>2016-03-08</td><td>NULL</td><td>159</td></tr><tr><td>2016-03-09</td><td>NULL</td><td>208</td></tr><tr><td>2016-03-10</td><td>NULL</td><td>235</td></tr><tr><td>2016-03-11</td><td>NULL</td><td>200</td></tr><tr><td>2016-03-12</td><td>NULL</td><td>260</td></tr><tr><td>2016-03-13</td><td>NULL</td><td>191</td></tr><tr><td>2016-03-14</td><td>NULL</td><td>224</td></tr><tr><td>2016-03-15</td><td>NULL</td><td>211</td></tr><tr><td>2016-03-16</td><td>NULL</td><td>169</td></tr><tr><td>2016-03-17</td><td>NULL</td><td>195</td></tr><tr><td>2016-03-18</td><td>NULL</td><td>192</td></tr><tr><td>2016-03-19</td><td>NULL</td><td>195</td></tr><tr><td>2016-03-20</td><td>NULL</td><td>308</td></tr><tr><td>2016-03-21</td><td>NULL</td><td>263</td></tr><tr><td>2016-03-22</td><td>NULL</td><td>224</td></tr><tr><td>2016-03-23</td><td>NULL</td><td>214</td></tr><tr><td>2016-03-24</td><td>NULL</td><td>199</td></tr><tr><td>2016-03-25</td><td>NULL</td><td>238</td></tr><tr><td>2016-03-26</td><td>NULL</td><td>238</td></tr><tr><td>2016-03-27</td><td>NULL</td><td>230</td></tr><tr><td>2016-03-28</td><td>NULL</td><td>174</td></tr><tr><td>2016-03-29</td><td>NULL</td><td>176</td></tr><tr><td>2016-03-30</td><td>NULL</td><td>222</td></tr><tr><td>2016-03-31</td><td>NULL</td><td>199</td></tr><tr><td>2016-04-01</td><td>NULL</td><td>227</td></tr><tr><td>2016-04-02</td><td>NULL</td><td>207</td></tr><tr><td>2016-04-03</td><td>NULL</td><td>203</td></tr><tr><td>2016-04-04</td><td>NULL</td><td>201</td></tr><tr><td>2016-04-05</td><td>NULL</td><td>216</td></tr><tr><td>2016-04-06</td><td>NULL</td><td>191</td></tr><tr><td>2016-04-07</td><td>NULL</td><td>220</td></tr><tr><td>2016-04-08</td><td>NULL</td><td>262</td></tr><tr><td>2016-04-09</td><td>NULL</td><td>257</td></tr><tr><td>2016-04-10</td><td>NULL</td><td>254</td></tr><tr><td>2016-04-11</td><td>NULL</td><td>235</td></tr><tr><td>2016-04-12</td><td>NULL</td><td>190</td></tr><tr><td>2016-04-13</td><td>NULL</td><td>190</td></tr><tr><td>2016-04-14</td><td>NULL</td><td>219</td></tr><tr><td>2016-04-15</td><td>NULL</td><td>233</td></tr><tr><td>2016-04-16</td><td>NULL</td><td>196</td></tr><tr><td>2016-04-17</td><td>NULL</td><td>266</td></tr><tr><td>2016-04-18</td><td>NULL</td><td>209</td></tr><tr><td>2016-04-19</td><td>NULL</td><td>242</td></tr><tr><td>2016-04-20</td><td>NULL</td><td>164</td></tr><tr><td>2016-04-21</td><td>NULL</td><td>172</td></tr><tr><td>2016-04-22</td><td>NULL</td><td>141</td></tr><tr><td>2016-04-23</td><td>NULL</td><td>189</td></tr><tr><td>2016-04-24</td><td>NULL</td><td>252</td></tr><tr><td>2016-04-25</td><td>NULL</td><td>272</td></tr><tr><td>2016-04-26</td><td>NULL</td><td>236</td></tr><tr><td>2016-04-27</td><td>NULL</td><td>210</td></tr><tr><td>2016-04-28</td><td>NULL</td><td>191</td></tr><tr><td>2016-04-29</td><td>NULL</td><td>223</td></tr><tr><td>2016-04-30</td><td>NULL</td><td>196</td></tr><tr><td>2016-05-01</td><td>NULL</td><td>182</td></tr><tr><td>2016-05-02</td><td>NULL</td><td>220</td></tr><tr><td>2016-05-03</td><td>NULL</td><td>153</td></tr><tr><td>2016-05-04</td><td>NULL</td><td>254</td></tr><tr><td>2016-05-05</td><td>NULL</td><td>212</td></tr><tr><td>2016-05-06</td><td>NULL</td><td>224</td></tr><tr><td>2016-05-07</td><td>NULL</td><td>210</td></tr><tr><td>2016-05-08</td><td>NULL</td><td>232</td></tr><tr><td>2016-05-09</td><td>NULL</td><td>269</td></tr><tr><td>2016-05-10</td><td>NULL</td><td>211</td></tr><tr><td>2016-05-11</td><td>NULL</td><td>214</td></tr><tr><td>2016-05-12</td><td>NULL</td><td>234</td></tr><tr><td>2016-05-13</td><td>NULL</td><td>183</td></tr><tr><td>2016-05-14</td><td>NULL</td><td>188</td></tr><tr><td>2016-05-15</td><td>NULL</td><td>144</td></tr><tr><td>2016-05-16</td><td>NULL</td><td>198</td></tr><tr><td>2016-05-17</td><td>NULL</td><td>223</td></tr><tr><td>2016-05-18</td><td>NULL</td><td>177</td></tr><tr><td>2016-05-19</td><td>NULL</td><td>211</td></tr><tr><td>2016-05-20</td><td>NULL</td><td>207</td></tr><tr><td>2016-05-21</td><td>NULL</td><td>209</td></tr><tr><td>2016-05-22</td><td>NULL</td><td>160</td></tr><tr><td>2016-05-23</td><td>NULL</td><td>208</td></tr><tr><td>2016-05-24</td><td>NULL</td><td>211</td></tr><tr><td>2016-05-25</td><td>NULL</td><td>230</td></tr><tr><td>2016-05-26</td><td>NULL</td><td>141</td></tr><tr><td>2016-05-27</td><td>NULL</td><td>234</td></tr><tr><td>2016-05-28</td><td>NULL</td><td>155</td></tr><tr><td>2016-05-29</td><td>NULL</td><td>216</td></tr><tr><td>2016-05-30</td><td>NULL</td><td>187</td></tr><tr><td>2016-05-31</td><td>NULL</td><td>242</td></tr><tr><td>2016-06-01</td><td>NULL</td><td>212</td></tr><tr><td>2016-06-02</td><td>NULL</td><td>201</td></tr><tr><td>2016-06-03</td><td>NULL</td><td>190</td></tr><tr><td>2016-06-04</td><td>NULL</td><td>212</td></tr><tr><td>2016-06-05</td><td>NULL</td><td>172</td></tr><tr><td>2016-06-06</td><td>NULL</td><td>231</td></tr><tr><td>2016-06-07</td><td>NULL</td><td>227</td></tr><tr><td>2016-06-08</td><td>NULL</td><td>218</td></tr><tr><td>2016-06-09</td><td>NULL</td><td>211</td></tr><tr><td>2016-06-10</td><td>NULL</td><td>229</td></tr><tr><td>2016-06-11</td><td>NULL</td><td>260</td></tr><tr><td>2016-06-12</td><td>NULL</td><td>222</td></tr><tr><td>2016-06-13</td><td>NULL</td><td>170</td></tr><tr><td>2016-06-14</td><td>NULL</td><td>205</td></tr><tr><td>2016-06-15</td><td>NULL</td><td>242</td></tr><tr><td>2016-06-16</td><td>NULL</td><td>168</td></tr><tr><td>2016-06-17</td><td>NULL</td><td>232</td></tr><tr><td>2016-06-18</td><td>NULL</td><td>164</td></tr><tr><td>2016-06-19</td><td>NULL</td><td>240</td></tr><tr><td>2016-06-20</td><td>NULL</td><td>204</td></tr><tr><td>2016-06-21</td><td>NULL</td><td>171</td></tr><tr><td>2016-06-22</td><td>NULL</td><td>190</td></tr><tr><td>2016-06-23</td><td>NULL</td><td>195</td></tr><tr><td>2016-06-24</td><td>NULL</td><td>224</td></tr><tr><td>2016-06-25</td><td>NULL</td><td>215</td></tr><tr><td>2016-06-26</td><td>NULL</td><td>252</td></tr><tr><td>2016-06-27</td><td>NULL</td><td>165</td></tr><tr><td>2016-06-28</td><td>NULL</td><td>229</td></tr><tr><td>2016-06-29</td><td>NULL</td><td>218</td></tr><tr><td>2016-06-30</td><td>NULL</td><td>217</td></tr><tr><td>2016-07-01</td><td>NULL</td><td>203</td></tr><tr><td>2016-07-02</td><td>NULL</td><td>202</td></tr><tr><td>2016-07-03</td><td>NULL</td><td>227</td></tr><tr><td>2016-07-04</td><td>NULL</td><td>282</td></tr><tr><td>2016-07-05</td><td>NULL</td><td>200</td></tr><tr><td>2016-07-06</td><td>NULL</td><td>200</td></tr><tr><td>2016-07-07</td><td>NULL</td><td>143</td></tr><tr><td>2016-07-08</td><td>NULL</td><td>196</td></tr><tr><td>2016-07-09</td><td>NULL</td><td>222</td></tr><tr><td>2016-07-10</td><td>NULL</td><td>200</td></tr><tr><td>2016-07-11</td><td>NULL</td><td>248</td></tr><tr><td>2016-07-12</td><td>NULL</td><td>224</td></tr><tr><td>2016-07-13</td><td>NULL</td><td>229</td></tr><tr><td>2016-07-14</td><td>NULL</td><td>179</td></tr><tr><td>2016-07-15</td><td>NULL</td><td>195</td></tr><tr><td>2016-07-16</td><td>NULL</td><td>196</td></tr><tr><td>2016-07-17</td><td>NULL</td><td>166</td></tr><tr><td>2016-07-18</td><td>NULL</td><td>185</td></tr><tr><td>2016-07-19</td><td>NULL</td><td>267</td></tr><tr><td>2016-07-20</td><td>NULL</td><td>199</td></tr><tr><td>2016-07-21</td><td>NULL</td><td>224</td></tr><tr><td>2016-07-22</td><td>NULL</td><td>206</td></tr><tr><td>2016-07-23</td><td>NULL</td><td>162</td></tr><tr><td>2016-07-24</td><td>NULL</td><td>178</td></tr><tr><td>2016-07-25</td><td>NULL</td><td>173</td></tr><tr><td>2016-07-26</td><td>NULL</td><td>202</td></tr><tr><td>2016-07-27</td><td>NULL</td><td>220</td></tr><tr><td>2016-07-28</td><td>NULL</td><td>172</td></tr><tr><td>2016-07-29</td><td>NULL</td><td>228</td></tr><tr><td>2016-07-30</td><td>NULL</td><td>172</td></tr><tr><td>2016-07-31</td><td>NULL</td><td>263</td></tr><tr><td>2016-08-01</td><td>NULL</td><td>218</td></tr><tr><td>2016-08-02</td><td>NULL</td><td>181</td></tr><tr><td>2016-08-03</td><td>NULL</td><td>200</td></tr><tr><td>2016-08-04</td><td>NULL</td><td>191</td></tr><tr><td>2016-08-05</td><td>NULL</td><td>220</td></tr><tr><td>2016-08-06</td><td>NULL</td><td>193</td></tr><tr><td>2016-08-07</td><td>NULL</td><td>180</td></tr><tr><td>2016-08-08</td><td>NULL</td><td>179</td></tr><tr><td>2016-08-09</td><td>NULL</td><td>244</td></tr><tr><td>2016-08-10</td><td>NULL</td><td>219</td></tr><tr><td>2016-08-11</td><td>NULL</td><td>204</td></tr><tr><td>2016-08-12</td><td>NULL</td><td>234</td></tr><tr><td>2016-08-13</td><td>NULL</td><td>265</td></tr><tr><td>2016-08-14</td><td>NULL</td><td>226</td></tr><tr><td>2016-08-15</td><td>NULL</td><td>280</td></tr><tr><td>2016-08-16</td><td>NULL</td><td>177</td></tr><tr><td>2016-08-17</td><td>NULL</td><td>204</td></tr><tr><td>2016-08-18</td><td>NULL</td><td>194</td></tr><tr><td>2016-08-19</td><td>NULL</td><td>184</td></tr><tr><td>2016-08-20</td><td>NULL</td><td>220</td></tr><tr><td>2016-08-21</td><td>NULL</td><td>203</td></tr><tr><td>2016-08-22</td><td>NULL</td><td>153</td></tr><tr><td>2016-08-23</td><td>NULL</td><td>194</td></tr><tr><td>2016-08-24</td><td>NULL</td><td>259</td></tr><tr><td>2016-08-25</td><td>NULL</td><td>218</td></tr><tr><td>2016-08-26</td><td>NULL</td><td>214</td></tr><tr><td>2016-08-27</td><td>NULL</td><td>249</td></tr><tr><td>2016-08-28</td><td>NULL</td><td>250</td></tr><tr><td>2016-08-29</td><td>NULL</td><td>180</td></tr><tr><td>2016-08-30</td><td>NULL</td><td>141</td></tr><tr><td>2016-08-31</td><td>NULL</td><td>175</td></tr><tr><td>2016-09-01</td><td>NULL</td><td>171</td></tr><tr><td>2016-09-02</td><td>NULL</td><td>231</td></tr><tr><td>2016-09-03</td><td>NULL</td><td>234</td></tr><tr><td>2016-09-04</td><td>NULL</td><td>251</td></tr><tr><td>2016-09-05</td><td>NULL</td><td>204</td></tr><tr><td>2016-09-06</td><td>NULL</td><td>247</td></tr><tr><td>2016-09-07</td><td>NULL</td><td>239</td></tr><tr><td>2016-09-08</td><td>NULL</td><td>224</td></tr><tr><td>2016-09-09</td><td>NULL</td><td>213</td></tr><tr><td>2016-09-10</td><td>NULL</td><td>196</td></tr><tr><td>2016-09-11</td><td>NULL</td><td>247</td></tr><tr><td>2016-09-12</td><td>NULL</td><td>160</td></tr><tr><td>2016-09-13</td><td>NULL</td><td>214</td></tr><tr><td>2016-09-14</td><td>NULL</td><td>249</td></tr><tr><td>2016-09-15</td><td>NULL</td><td>261</td></tr><tr><td>2016-09-16</td><td>NULL</td><td>190</td></tr><tr><td>2016-09-17</td><td>NULL</td><td>194</td></tr><tr><td>2016-09-18</td><td>NULL</td><td>257</td></tr><tr><td>2016-09-19</td><td>NULL</td><td>163</td></tr><tr><td>2016-09-20</td><td>NULL</td><td>213</td></tr><tr><td>2016-09-21</td><td>NULL</td><td>134</td></tr><tr><td>2016-09-22</td><td>NULL</td><td>176</td></tr><tr><td>2016-09-23</td><td>NULL</td><td>185</td></tr><tr><td>2016-09-24</td><td>NULL</td><td>176</td></tr><tr><td>2016-09-25</td><td>NULL</td><td>192</td></tr><tr><td>2016-09-26</td><td>NULL</td><td>202</td></tr><tr><td>2016-09-27</td><td>NULL</td><td>244</td></tr><tr><td>2016-09-28</td><td>NULL</td><td>220</td></tr><tr><td>2016-09-29</td><td>NULL</td><td>160</td></tr><tr><td>2016-09-30</td><td>NULL</td><td>257</td></tr><tr><td>2016-10-01</td><td>NULL</td><td>215</td></tr><tr><td>2016-10-02</td><td>NULL</td><td>204</td></tr><tr><td>2016-10-03</td><td>NULL</td><td>189</td></tr><tr><td>2016-10-04</td><td>NULL</td><td>191</td></tr><tr><td>2016-10-05</td><td>NULL</td><td>232</td></tr><tr><td>2016-10-06</td><td>NULL</td><td>198</td></tr><tr><td>2016-10-07</td><td>NULL</td><td>183</td></tr><tr><td>2016-10-08</td><td>NULL</td><td>212</td></tr><tr><td>2016-10-09</td><td>NULL</td><td>241</td></tr><tr><td>2016-10-10</td><td>NULL</td><td>188</td></tr><tr><td>2016-10-11</td><td>NULL</td><td>227</td></tr><tr><td>2016-10-12</td><td>NULL</td><td>265</td></tr><tr><td>2016-10-13</td><td>NULL</td><td>247</td></tr><tr><td>2016-10-14</td><td>NULL</td><td>188</td></tr><tr><td>2016-10-15</td><td>NULL</td><td>237</td></tr><tr><td>2016-10-16</td><td>NULL</td><td>190</td></tr><tr><td>2016-10-17</td><td>NULL</td><td>286</td></tr><tr><td>2016-10-18</td><td>NULL</td><td>187</td></tr><tr><td>2016-10-19</td><td>NULL</td><td>234</td></tr><tr><td>2016-10-20</td><td>NULL</td><td>173</td></tr><tr><td>2016-10-21</td><td>NULL</td><td>258</td></tr><tr><td>2016-10-22</td><td>NULL</td><td>243</td></tr><tr><td>2016-10-23</td><td>NULL</td><td>228</td></tr><tr><td>2016-10-24</td><td>NULL</td><td>141</td></tr><tr><td>2016-10-25</td><td>NULL</td><td>285</td></tr><tr><td>2016-10-26</td><td>NULL</td><td>185</td></tr><tr><td>2016-10-27</td><td>NULL</td><td>208</td></tr><tr><td>2016-10-28</td><td>NULL</td><td>202</td></tr><tr><td>2016-10-29</td><td>NULL</td><td>184</td></tr><tr><td>2016-10-30</td><td>NULL</td><td>282</td></tr><tr><td>2016-10-31</td><td>NULL</td><td>242</td></tr><tr><td>2016-11-01</td><td>NULL</td><td>198</td></tr><tr><td>2016-11-02</td><td>NULL</td><td>173</td></tr><tr><td>2016-11-03</td><td>NULL</td><td>193</td></tr><tr><td>2016-11-04</td><td>NULL</td><td>173</td></tr><tr><td>2016-11-05</td><td>NULL</td><td>227</td></tr><tr><td>2016-11-06</td><td>NULL</td><td>220</td></tr><tr><td>2016-11-07</td><td>NULL</td><td>174</td></tr><tr><td>2016-11-08</td><td>NULL</td><td>215</td></tr><tr><td>2016-11-09</td><td>NULL</td><td>160</td></tr><tr><td>2016-11-10</td><td>NULL</td><td>193</td></tr><tr><td>2016-11-11</td><td>NULL</td><td>182</td></tr><tr><td>2016-11-12</td><td>NULL</td><td>268</td></tr><tr><td>2016-11-13</td><td>NULL</td><td>255</td></tr><tr><td>2016-11-14</td><td>NULL</td><td>278</td></tr><tr><td>2016-11-15</td><td>NULL</td><td>179</td></tr><tr><td>2016-11-16</td><td>NULL</td><td>243</td></tr><tr><td>2016-11-17</td><td>NULL</td><td>189</td></tr><tr><td>2016-11-18</td><td>NULL</td><td>197</td></tr><tr><td>2016-11-19</td><td>NULL</td><td>196</td></tr><tr><td>2016-11-20</td><td>NULL</td><td>207</td></tr><tr><td>2016-11-21</td><td>NULL</td><td>188</td></tr><tr><td>2016-11-22</td><td>NULL</td><td>193</td></tr><tr><td>2016-11-23</td><td>NULL</td><td>170</td></tr><tr><td>2016-11-24</td><td>NULL</td><td>190</td></tr><tr><td>2016-11-25</td><td>NULL</td><td>178</td></tr><tr><td>2016-11-26</td><td>NULL</td><td>251</td></tr><tr><td>2016-11-27</td><td>NULL</td><td>243</td></tr><tr><td>2016-11-28</td><td>NULL</td><td>244</td></tr><tr><td>2016-11-29</td><td>NULL</td><td>230</td></tr><tr><td>2016-11-30</td><td>NULL</td><td>165</td></tr><tr><td>2016-12-01</td><td>NULL</td><td>258</td></tr><tr><td>2016-12-02</td><td>NULL</td><td>158</td></tr><tr><td>2016-12-03</td><td>NULL</td><td>167</td></tr><tr><td>2016-12-04</td><td>NULL</td><td>248</td></tr><tr><td>2016-12-05</td><td>NULL</td><td>215</td></tr><tr><td>2016-12-06</td><td>NULL</td><td>190</td></tr><tr><td>2016-12-07</td><td>NULL</td><td>205</td></tr><tr><td>2016-12-08</td><td>NULL</td><td>222</td></tr><tr><td>2016-12-09</td><td>NULL</td><td>229</td></tr><tr><td>2016-12-10</td><td>NULL</td><td>223</td></tr><tr><td>2016-12-11</td><td>NULL</td><td>207</td></tr><tr><td>2016-12-12</td><td>NULL</td><td>207</td></tr><tr><td>2016-12-13</td><td>NULL</td><td>220</td></tr><tr><td>2016-12-14</td><td>NULL</td><td>196</td></tr><tr><td>2016-12-15</td><td>NULL</td><td>178</td></tr><tr><td>2016-12-16</td><td>NULL</td><td>174</td></tr><tr><td>2016-12-17</td><td>NULL</td><td>198</td></tr><tr><td>2016-12-18</td><td>NULL</td><td>156</td></tr><tr><td>2016-12-19</td><td>NULL</td><td>147</td></tr><tr><td>2016-12-20</td><td>NULL</td><td>210</td></tr><tr><td>2016-12-21</td><td>NULL</td><td>263</td></tr><tr><td>2016-12-22</td><td>NULL</td><td>166</td></tr><tr><td>2016-12-23</td><td>NULL</td><td>215</td></tr><tr><td>2016-12-24</td><td>NULL</td><td>160</td></tr><tr><td>2016-12-25</td><td>NULL</td><td>215</td></tr><tr><td>2016-12-26</td><td>NULL</td><td>258</td></tr><tr><td>2016-12-27</td><td>NULL</td><td>260</td></tr><tr><td>2016-12-28</td><td>NULL</td><td>170</td></tr><tr><td>2016-12-29</td><td>NULL</td><td>289</td></tr><tr><td>2016-12-30</td><td>NULL</td><td>202</td></tr><tr><td>2016-12-31</td><td>NULL</td><td>199</td></tr><tr><td>2017-01-01</td><td>NULL</td><td>195</td></tr><tr><td>2017-01-02</td><td>NULL</td><td>185</td></tr><tr><td>2017-01-03</td><td>NULL</td><td>174</td></tr><tr><td>2017-01-04</td><td>NULL</td><td>202</td></tr><tr><td>2017-01-05</td><td>NULL</td><td>219</td></tr><tr><td>2017-01-06</td><td>NULL</td><td>223</td></tr><tr><td>2017-01-07</td><td>NULL</td><td>201</td></tr><tr><td>2017-01-08</td><td>NULL</td><td>161</td></tr><tr><td>2017-01-09</td><td>NULL</td><td>254</td></tr><tr><td>2017-01-10</td><td>NULL</td><td>193</td></tr><tr><td>2017-01-11</td><td>NULL</td><td>246</td></tr><tr><td>2017-01-12</td><td>NULL</td><td>202</td></tr><tr><td>2017-01-13</td><td>NULL</td><td>218</td></tr><tr><td>2017-01-14</td><td>NULL</td><td>221</td></tr><tr><td>2017-01-15</td><td>NULL</td><td>183</td></tr><tr><td>2017-01-16</td><td>NULL</td><td>191</td></tr><tr><td>2017-01-17</td><td>NULL</td><td>231</td></tr><tr><td>2017-01-18</td><td>NULL</td><td>197</td></tr><tr><td>2017-01-19</td><td>NULL</td><td>185</td></tr><tr><td>2017-01-20</td><td>NULL</td><td>174</td></tr><tr><td>2017-01-21</td><td>NULL</td><td>180</td></tr><tr><td>2017-01-22</td><td>NULL</td><td>226</td></tr><tr><td>2017-01-23</td><td>NULL</td><td>232</td></tr><tr><td>2017-01-24</td><td>NULL</td><td>205</td></tr><tr><td>2017-01-25</td><td>NULL</td><td>169</td></tr><tr><td>2017-01-26</td><td>NULL</td><td>238</td></tr><tr><td>2017-01-27</td><td>NULL</td><td>119</td></tr><tr><td>2017-01-28</td><td>NULL</td><td>204</td></tr><tr><td>2017-01-29</td><td>NULL</td><td>225</td></tr><tr><td>2017-01-30</td><td>NULL</td><td>210</td></tr><tr><td>2017-01-31</td><td>NULL</td><td>185</td></tr><tr><td>2017-02-01</td><td>NULL</td><td>147</td></tr><tr><td>2017-02-02</td><td>NULL</td><td>243</td></tr><tr><td>2017-02-03</td><td>NULL</td><td>193</td></tr><tr><td>2017-02-04</td><td>NULL</td><td>174</td></tr><tr><td>2017-02-05</td><td>NULL</td><td>131</td></tr><tr><td>2017-02-06</td><td>NULL</td><td>204</td></tr><tr><td>2017-02-07</td><td>NULL</td><td>202</td></tr><tr><td>2017-02-08</td><td>NULL</td><td>255</td></tr><tr><td>2017-02-09</td><td>NULL</td><td>197</td></tr><tr><td>2017-02-10</td><td>NULL</td><td>234</td></tr><tr><td>2017-02-11</td><td>NULL</td><td>191</td></tr><tr><td>2017-02-12</td><td>NULL</td><td>160</td></tr><tr><td>2017-02-13</td><td>NULL</td><td>213</td></tr><tr><td>2017-02-14</td><td>NULL</td><td>229</td></tr><tr><td>2017-02-15</td><td>NULL</td><td>179</td></tr><tr><td>2017-02-16</td><td>NULL</td><td>232</td></tr><tr><td>2017-02-17</td><td>NULL</td><td>229</td></tr><tr><td>2017-02-18</td><td>NULL</td><td>253</td></tr><tr><td>2017-02-19</td><td>NULL</td><td>193</td></tr><tr><td>2017-02-20</td><td>NULL</td><td>129</td></tr><tr><td>2017-02-21</td><td>NULL</td><td>193</td></tr><tr><td>2017-02-22</td><td>NULL</td><td>229</td></tr><tr><td>2017-02-23</td><td>NULL</td><td>191</td></tr><tr><td>2017-02-24</td><td>NULL</td><td>178</td></tr><tr><td>2017-02-25</td><td>NULL</td><td>182</td></tr><tr><td>2017-02-26</td><td>NULL</td><td>216</td></tr><tr><td>2017-02-27</td><td>NULL</td><td>226</td></tr><tr><td>2017-02-28</td><td>NULL</td><td>294</td></tr><tr><td>2017-03-01</td><td>NULL</td><td>155</td></tr><tr><td>2017-03-02</td><td>NULL</td><td>134</td></tr><tr><td>2017-03-03</td><td>NULL</td><td>213</td></tr><tr><td>2017-03-04</td><td>NULL</td><td>148</td></tr><tr><td>2017-03-05</td><td>NULL</td><td>244</td></tr><tr><td>2017-03-06</td><td>NULL</td><td>274</td></tr><tr><td>2017-03-07</td><td>NULL</td><td>241</td></tr><tr><td>2017-03-08</td><td>NULL</td><td>179</td></tr><tr><td>2017-03-09</td><td>NULL</td><td>189</td></tr><tr><td>2017-03-10</td><td>NULL</td><td>176</td></tr><tr><td>2017-03-11</td><td>NULL</td><td>189</td></tr><tr><td>2017-03-12</td><td>NULL</td><td>175</td></tr><tr><td>2017-03-13</td><td>NULL</td><td>170</td></tr><tr><td>2017-03-14</td><td>NULL</td><td>178</td></tr><tr><td>2017-03-15</td><td>NULL</td><td>247</td></tr><tr><td>2017-03-16</td><td>NULL</td><td>235</td></tr><tr><td>2017-03-17</td><td>NULL</td><td>240</td></tr><tr><td>2017-03-18</td><td>NULL</td><td>220</td></tr><tr><td>2017-03-19</td><td>NULL</td><td>248</td></tr><tr><td>2017-03-20</td><td>NULL</td><td>191</td></tr><tr><td>2017-03-21</td><td>NULL</td><td>216</td></tr><tr><td>2017-03-22</td><td>NULL</td><td>162</td></tr><tr><td>2017-03-23</td><td>NULL</td><td>230</td></tr><tr><td>2017-03-24</td><td>NULL</td><td>231</td></tr><tr><td>2017-03-25</td><td>NULL</td><td>171</td></tr><tr><td>2017-03-26</td><td>NULL</td><td>217</td></tr><tr><td>2017-03-27</td><td>NULL</td><td>208</td></tr><tr><td>2017-03-28</td><td>NULL</td><td>200</td></tr><tr><td>2017-03-29</td><td>NULL</td><td>219</td></tr><tr><td>2017-03-30</td><td>NULL</td><td>236</td></tr><tr><td>2017-03-31</td><td>NULL</td><td>220</td></tr><tr><td>2017-04-01</td><td>NULL</td><td>170</td></tr><tr><td>2017-04-02</td><td>NULL</td><td>213</td></tr><tr><td>2017-04-03</td><td>NULL</td><td>188</td></tr><tr><td>2017-04-04</td><td>NULL</td><td>175</td></tr><tr><td>2017-04-05</td><td>NULL</td><td>188</td></tr><tr><td>2017-04-06</td><td>NULL</td><td>106</td></tr><tr><td>2017-04-07</td><td>NULL</td><td>152</td></tr><tr><td>2017-04-08</td><td>NULL</td><td>120</td></tr><tr><td>2017-04-09</td><td>NULL</td><td>79</td></tr><tr><td>2017-04-10</td><td>NULL</td><td>32</td></tr><tr><td>2017-04-11</td><td>NULL</td><td>21</td></tr><tr><td>NULL</td><td>NULL</td><td>145706</td></tr></table>"
                    },
                    "metadata": {}
                }
            ],
            "execution_count": 20
        },
        {
            "cell_type": "markdown",
            "source": [
                "```\n",
                "3. Hány olyan ügyfél van, aki még nem rendelt semmit?\n",
                "```\n",
                "\n",
                "1. Csoportosítsuk őket nem szerint, azon belül életkor szerint!\n",
                "2. A lista tartalmazza a részösszegeket és a végösszeget is!\n",
                "\n",
                "![](https://moodle.uni-corvinus.hu/theme/image.php/adaptable/atto_h5p/1709548862/icon)"
            ],
            "metadata": {
                "azdata_cell_guid": "d7876bb9-76d0-4d07-baed-3cb17b2f96c3"
            },
            "attachments": {}
        },
        {
            "cell_type": "code",
            "source": [
                ""
            ],
            "metadata": {
                "azdata_cell_guid": "56ec19ce-e249-4551-b2a8-f17569765acc",
                "language": "sql"
            },
            "outputs": [],
            "execution_count": null
        },
        {
            "cell_type": "markdown",
            "source": [
                "4. <span style=\"color: rgb(36, 41, 47); font-family: -apple-system, BlinkMacSystemFont, &quot;Segoe UI&quot;, Helvetica, Arial, sans-serif, &quot;Apple Color Emoji&quot;, &quot;Segoe UI Emoji&quot;; font-size: 16px;\">Készítsünk listát a megrendelt termékek legkisebb és legnagyobb egységáráról szállítási dátum, azon belül szállítási mód szerinti bontásban!</span>\n",
                "\n",
                "1. A lista csak a 2015 májusi szállításokat tartalmazza!\n",
                "2. Jelenítsük meg a részösszegeket és a végösszeget is!"
            ],
            "metadata": {
                "azdata_cell_guid": "8e7fef82-8022-49a0-8255-fc2846c2134b"
            },
            "attachments": {}
        },
        {
            "cell_type": "code",
            "source": [
                ""
            ],
            "metadata": {
                "azdata_cell_guid": "36f7b396-4a1f-45e5-8720-2302537c91bc",
                "language": "sql"
            },
            "outputs": [],
            "execution_count": null
        },
        {
            "cell_type": "markdown",
            "source": [
                "5. <span style=\"color: rgb(36, 41, 47); font-family: -apple-system, BlinkMacSystemFont, &quot;Segoe UI&quot;, Helvetica, Arial, sans-serif, &quot;Apple Color Emoji&quot;, &quot;Segoe UI Emoji&quot;; font-size: 16px;\">Készítsünk csoportot a termékek listaára alapján a következők szerint:&nbsp;<br></span> <span style=\"color: rgb(36, 41, 47); font-family: -apple-system, BlinkMacSystemFont, &quot;Segoe UI&quot;, Helvetica, Arial, sans-serif, &quot;Apple Color Emoji&quot;, &quot;Segoe UI Emoji&quot;; font-size: 16px;\">Az \"olcsó\" termékek legyenek azok, amelyek listaára 3000 alatt van.<br>&nbsp;A \"drága\" termékek legyenek az 5000 felettiek, a többi legyen \"közepes\".</span>\n",
                "\n",
                "1. Listázzuk az egyes csoportokat, és a csoportokba tartozó termékek darabszámát!\n",
                "2. A lista jelenítse meg a végösszeget is!"
            ],
            "metadata": {
                "azdata_cell_guid": "84239ca2-6b5e-49f5-9860-d44c11d6de32"
            },
            "attachments": {}
        },
        {
            "cell_type": "code",
            "source": [
                ""
            ],
            "metadata": {
                "azdata_cell_guid": "06d9a62b-9430-424b-a135-d80e675f0eb3",
                "language": "sql"
            },
            "outputs": [],
            "execution_count": null
        },
        {
            "cell_type": "markdown",
            "source": [
                "6. <span style=\"font-weight: 600; color: rgb(36, 41, 47); font-family: -apple-system, BlinkMacSystemFont, &quot;Segoe UI&quot;, Helvetica, Arial, sans-serif, &quot;Apple Color Emoji&quot;, &quot;Segoe UI Emoji&quot;; font-size: 16px;\">Készítsünk listát az ügyfelek adatairól név szerinti sorrendben.</span>\n",
                "\n",
                "1. Minden sorban jelenjen meg a sorrend szerint előző, illetve következő ügyfél neve is.\n",
                "2. Ha nincs előző vagy következő ügyfél, akkor a 'Nincs' jelenjen meg!"
            ],
            "metadata": {
                "azdata_cell_guid": "b0d15045-3c43-4f3a-b8d4-76b4f24e5546"
            },
            "attachments": {}
        },
        {
            "cell_type": "code",
            "source": [
                "SELECT NEV, LAG(nev,1,0) OVER(ORDER BY  nev ASC), lead(nev,1,0) OVER(ORDER BY  nev ASC)\r\n",
                "from Ugyfel"
            ],
            "metadata": {
                "azdata_cell_guid": "f2b7400d-1255-40ac-9250-4d57f9da5357",
                "language": "sql",
                "tags": []
            },
            "outputs": [
                {
                    "output_type": "display_data",
                    "data": {
                        "text/html": "(200 rows affected)"
                    },
                    "metadata": {}
                },
                {
                    "output_type": "display_data",
                    "data": {
                        "text/html": "Total execution time: 00:00:00.009"
                    },
                    "metadata": {}
                },
                {
                    "output_type": "execute_result",
                    "execution_count": 27,
                    "data": {
                        "application/vnd.dataresource+json": {
                            "schema": {
                                "fields": [
                                    {
                                        "name": "NEV"
                                    },
                                    {
                                        "name": "(No column name)"
                                    },
                                    {
                                        "name": "(No column name)"
                                    }
                                ]
                            },
                            "data": [
                                {
                                    "NEV": "Ambrus Dávid",
                                    "(No column name)": "Andor Ibolya"
                                },
                                {
                                    "NEV": "Andor Ibolya",
                                    "(No column name)": "Antal László"
                                },
                                {
                                    "NEV": "Antal László",
                                    "(No column name)": "Antal Tamás"
                                },
                                {
                                    "NEV": "Antal Tamás",
                                    "(No column name)": "Back András"
                                },
                                {
                                    "NEV": "Back András",
                                    "(No column name)": "Bagi Beáta"
                                },
                                {
                                    "NEV": "Bagi Beáta",
                                    "(No column name)": "Bagóczki Alexandra"
                                },
                                {
                                    "NEV": "Bagóczki Alexandra",
                                    "(No column name)": "Bajusz Bence"
                                },
                                {
                                    "NEV": "Bajusz Bence",
                                    "(No column name)": "Bakó Klaudia"
                                },
                                {
                                    "NEV": "Bakó Klaudia",
                                    "(No column name)": "Bakódy Balázs"
                                },
                                {
                                    "NEV": "Bakódy Balázs",
                                    "(No column name)": "Balla Miklós"
                                },
                                {
                                    "NEV": "Balla Miklós",
                                    "(No column name)": "Balogh Eszter"
                                },
                                {
                                    "NEV": "Balogh Eszter",
                                    "(No column name)": "Barabás Pál"
                                },
                                {
                                    "NEV": "Barabás Pál",
                                    "(No column name)": "Baráth Mária"
                                },
                                {
                                    "NEV": "Baráth Mária",
                                    "(No column name)": "Bárci Gusztáv"
                                },
                                {
                                    "NEV": "Bárci Gusztáv",
                                    "(No column name)": "Barkóci Ádám"
                                },
                                {
                                    "NEV": "Barkóci Ádám",
                                    "(No column name)": "Barna Debóra"
                                },
                                {
                                    "NEV": "Barna Debóra",
                                    "(No column name)": "Barna Zoltán"
                                },
                                {
                                    "NEV": "Barna Zoltán",
                                    "(No column name)": "Baróti Attila"
                                },
                                {
                                    "NEV": "Baróti Attila",
                                    "(No column name)": "Barta Zsuzsanna"
                                },
                                {
                                    "NEV": "Barta Zsuzsanna",
                                    "(No column name)": "Berendi Péter"
                                },
                                {
                                    "NEV": "Berendi Péter",
                                    "(No column name)": "Béres Norbert"
                                },
                                {
                                    "NEV": "Béres Norbert",
                                    "(No column name)": "Berta Dávid"
                                },
                                {
                                    "NEV": "Berta Dávid",
                                    "(No column name)": "Bieniek Ádám"
                                },
                                {
                                    "NEV": "Bieniek Ádám",
                                    "(No column name)": "Bíró Ákos"
                                },
                                {
                                    "NEV": "Bíró Ákos",
                                    "(No column name)": "Biró Alexander"
                                },
                                {
                                    "NEV": "Biró Alexander",
                                    "(No column name)": "Bíró Péter"
                                },
                                {
                                    "NEV": "Bíró Péter",
                                    "(No column name)": "Bittmann Edit"
                                },
                                {
                                    "NEV": "Bittmann Edit",
                                    "(No column name)": "Bodor Szabolcs"
                                },
                                {
                                    "NEV": "Bodor Szabolcs",
                                    "(No column name)": "Bori Krisztina"
                                },
                                {
                                    "NEV": "Bori Krisztina",
                                    "(No column name)": "Boros Vivien"
                                },
                                {
                                    "NEV": "Boros Vivien",
                                    "(No column name)": "Bosnyák Ilona"
                                },
                                {
                                    "NEV": "Bosnyák Ilona",
                                    "(No column name)": "Botka Mátyás"
                                },
                                {
                                    "NEV": "Botka Mátyás",
                                    "(No column name)": "Bozsik Balázs"
                                },
                                {
                                    "NEV": "Bozsik Balázs",
                                    "(No column name)": "Bozsó Péter"
                                },
                                {
                                    "NEV": "Bozsó Péter",
                                    "(No column name)": "Böröcz Anikó"
                                },
                                {
                                    "NEV": "Böröcz Anikó",
                                    "(No column name)": "Bucskó Róza"
                                },
                                {
                                    "NEV": "Bucskó Róza",
                                    "(No column name)": "Búza Imre"
                                },
                                {
                                    "NEV": "Búza Imre",
                                    "(No column name)": "Czérna Krisztián"
                                },
                                {
                                    "NEV": "Czérna Krisztián",
                                    "(No column name)": "Csiger Bertalan"
                                },
                                {
                                    "NEV": "Csiger Bertalan",
                                    "(No column name)": "Csóti Attila"
                                },
                                {
                                    "NEV": "Csóti Attila",
                                    "(No column name)": "Dániel Tibor"
                                },
                                {
                                    "NEV": "Dániel Tibor",
                                    "(No column name)": "Dunai Aladár"
                                },
                                {
                                    "NEV": "Dunai Aladár",
                                    "(No column name)": "Dusha Tímea"
                                },
                                {
                                    "NEV": "Dusha Tímea",
                                    "(No column name)": "Endresz Bálint"
                                },
                                {
                                    "NEV": "Endresz Bálint",
                                    "(No column name)": "Enyedi Éva"
                                },
                                {
                                    "NEV": "Enyedi Éva",
                                    "(No column name)": "Erdei András"
                                },
                                {
                                    "NEV": "Erdei András",
                                    "(No column name)": "Érsek Eszter"
                                },
                                {
                                    "NEV": "Érsek Eszter",
                                    "(No column name)": "Farkas Béla"
                                },
                                {
                                    "NEV": "Farkas Béla",
                                    "(No column name)": "Farkas László"
                                },
                                {
                                    "NEV": "Farkas László",
                                    "(No column name)": "Farkas Sándor"
                                },
                                {
                                    "NEV": "Farkas Sándor",
                                    "(No column name)": "Farkas Sára"
                                },
                                {
                                    "NEV": "Farkas Sára",
                                    "(No column name)": "Fényes Tamás"
                                },
                                {
                                    "NEV": "Fényes Tamás",
                                    "(No column name)": "Ferencz Roland"
                                },
                                {
                                    "NEV": "Ferencz Roland",
                                    "(No column name)": "Feró Valentin"
                                },
                                {
                                    "NEV": "Feró Valentin",
                                    "(No column name)": "Fodor Zoltán"
                                },
                                {
                                    "NEV": "Fodor Zoltán",
                                    "(No column name)": "Foltényi Sebastián"
                                },
                                {
                                    "NEV": "Foltényi Sebastián",
                                    "(No column name)": "Fő Nándor"
                                },
                                {
                                    "NEV": "Fő Nándor",
                                    "(No column name)": "Frank Fruzsina"
                                },
                                {
                                    "NEV": "Frank Fruzsina",
                                    "(No column name)": "Fülöp Eszter"
                                },
                                {
                                    "NEV": "Fülöp Eszter",
                                    "(No column name)": "Gergely József"
                                },
                                {
                                    "NEV": "Gergely József",
                                    "(No column name)": "Giliga János"
                                },
                                {
                                    "NEV": "Giliga János",
                                    "(No column name)": "Gombos Tibor"
                                },
                                {
                                    "NEV": "Gombos Tibor",
                                    "(No column name)": "Gondos Katalin"
                                },
                                {
                                    "NEV": "Gondos Katalin",
                                    "(No column name)": "Gondos Miklós"
                                },
                                {
                                    "NEV": "Gondos Miklós",
                                    "(No column name)": "Gulyás Attila"
                                },
                                {
                                    "NEV": "Gulyás Attila",
                                    "(No column name)": "Gyárfás Krisztina"
                                },
                                {
                                    "NEV": "Gyárfás Krisztina",
                                    "(No column name)": "Győrffy Bence"
                                },
                                {
                                    "NEV": "Győrffy Bence",
                                    "(No column name)": "Gyuris József"
                                },
                                {
                                    "NEV": "Gyuris József",
                                    "(No column name)": "Hamvay-Kovács Anita"
                                },
                                {
                                    "NEV": "Hamvay-Kovács Anita",
                                    "(No column name)": "Harangozó János"
                                },
                                {
                                    "NEV": "Harangozó János",
                                    "(No column name)": "Hartyánszky Ágnes"
                                },
                                {
                                    "NEV": "Hartyánszky Ágnes",
                                    "(No column name)": "Hegedűs Norbert"
                                },
                                {
                                    "NEV": "Hegedűs Norbert",
                                    "(No column name)": "Hídasi Judit"
                                },
                                {
                                    "NEV": "Hídasi Judit",
                                    "(No column name)": "Horváth Ágnes"
                                },
                                {
                                    "NEV": "Horváth Ágnes",
                                    "(No column name)": "Horváth Árpád"
                                },
                                {
                                    "NEV": "Horváth Árpád",
                                    "(No column name)": "Horváth Bálint"
                                },
                                {
                                    "NEV": "Horváth Bálint",
                                    "(No column name)": "Horváth Katalin"
                                },
                                {
                                    "NEV": "Horváth Katalin",
                                    "(No column name)": "Horváth Krisztina"
                                },
                                {
                                    "NEV": "Horváth Krisztina",
                                    "(No column name)": "Horváth Márk"
                                },
                                {
                                    "NEV": "Horváth Márk",
                                    "(No column name)": "Horváth Nikolett"
                                },
                                {
                                    "NEV": "Horváth Nikolett",
                                    "(No column name)": "Iván Róbert"
                                },
                                {
                                    "NEV": "Iván Róbert",
                                    "(No column name)": "Jakab Áron"
                                },
                                {
                                    "NEV": "Jakab Áron",
                                    "(No column name)": "Józsa Zsolt"
                                },
                                {
                                    "NEV": "Józsa Zsolt",
                                    "(No column name)": "Juhász Mihály"
                                },
                                {
                                    "NEV": "Juhász Mihály",
                                    "(No column name)": "Kalacsi Márton"
                                },
                                {
                                    "NEV": "Kalacsi Márton",
                                    "(No column name)": "Karasz Sándor"
                                },
                                {
                                    "NEV": "Karasz Sándor",
                                    "(No column name)": "Kardos Renáta"
                                },
                                {
                                    "NEV": "Kardos Renáta",
                                    "(No column name)": "Kazy Tihamér"
                                },
                                {
                                    "NEV": "Kazy Tihamér",
                                    "(No column name)": "Kelemen Áron"
                                },
                                {
                                    "NEV": "Kelemen Áron",
                                    "(No column name)": "Kerényi Beatrix"
                                },
                                {
                                    "NEV": "Kerényi Beatrix",
                                    "(No column name)": "Keresztúri Viktor"
                                },
                                {
                                    "NEV": "Keresztúri Viktor",
                                    "(No column name)": "Kertész Katalin"
                                },
                                {
                                    "NEV": "Kertész Katalin",
                                    "(No column name)": "Keszler Dániel"
                                },
                                {
                                    "NEV": "Keszler Dániel",
                                    "(No column name)": "Kispál Márk"
                                },
                                {
                                    "NEV": "Kispál Márk",
                                    "(No column name)": "Kiss Ádám"
                                },
                                {
                                    "NEV": "Kiss Ádám",
                                    "(No column name)": "Kiss Andrea"
                                },
                                {
                                    "NEV": "Kiss Andrea",
                                    "(No column name)": "Kiss Anita"
                                },
                                {
                                    "NEV": "Kiss Anita",
                                    "(No column name)": "Kiss Lajos"
                                },
                                {
                                    "NEV": "Kiss Lajos",
                                    "(No column name)": "Komjáti András"
                                },
                                {
                                    "NEV": "Komjáti András",
                                    "(No column name)": "Kornseé Gyöngyi"
                                },
                                {
                                    "NEV": "Kornseé Gyöngyi",
                                    "(No column name)": "Kovács Ágnes"
                                },
                                {
                                    "NEV": "Kovács Ágnes",
                                    "(No column name)": "Kovács Bernadett"
                                },
                                {
                                    "NEV": "Kovács Bernadett",
                                    "(No column name)": "Kovács Katalin"
                                },
                                {
                                    "NEV": "Kovács Katalin",
                                    "(No column name)": "Koza Máté"
                                },
                                {
                                    "NEV": "Koza Máté",
                                    "(No column name)": "Kozma Péter"
                                },
                                {
                                    "NEV": "Kozma Péter",
                                    "(No column name)": "Kő Nikoletta"
                                },
                                {
                                    "NEV": "Kő Nikoletta",
                                    "(No column name)": "Köves Gábor"
                                },
                                {
                                    "NEV": "Köves Gábor",
                                    "(No column name)": "Kuruc Emese"
                                },
                                {
                                    "NEV": "Kuruc Emese",
                                    "(No column name)": "Lengyel Ágnes"
                                },
                                {
                                    "NEV": "Lengyel Ágnes",
                                    "(No column name)": "Lukács Kornél"
                                },
                                {
                                    "NEV": "Lukács Kornél",
                                    "(No column name)": "Maródi Andrea"
                                },
                                {
                                    "NEV": "Maródi Andrea",
                                    "(No column name)": "Miklós Szabolcs"
                                },
                                {
                                    "NEV": "Miklós Szabolcs",
                                    "(No column name)": "Miklós Tamara"
                                },
                                {
                                    "NEV": "Miklós Tamara",
                                    "(No column name)": "Mile Norbert"
                                },
                                {
                                    "NEV": "Mile Norbert",
                                    "(No column name)": "Mogyródi Krisztián"
                                },
                                {
                                    "NEV": "Mogyródi Krisztián",
                                    "(No column name)": "Mohos Mónika"
                                },
                                {
                                    "NEV": "Mohos Mónika",
                                    "(No column name)": "Molnár András"
                                },
                                {
                                    "NEV": "Molnár András",
                                    "(No column name)": "Molnár Bálint"
                                },
                                {
                                    "NEV": "Molnár Bálint",
                                    "(No column name)": "Molnár Eszter"
                                },
                                {
                                    "NEV": "Molnár Eszter",
                                    "(No column name)": "Molnár Zsófi"
                                },
                                {
                                    "NEV": "Molnár Zsófi",
                                    "(No column name)": "Mór Ottó"
                                },
                                {
                                    "NEV": "Mór Ottó",
                                    "(No column name)": "Móra László"
                                },
                                {
                                    "NEV": "Móra László",
                                    "(No column name)": "Móricz Árpád"
                                },
                                {
                                    "NEV": "Móricz Árpád",
                                    "(No column name)": "Nádudvari Henrik"
                                },
                                {
                                    "NEV": "Nádudvari Henrik",
                                    "(No column name)": "Nagy András"
                                },
                                {
                                    "NEV": "Nagy András",
                                    "(No column name)": "Nagy Gabriella"
                                },
                                {
                                    "NEV": "Nagy Gabriella",
                                    "(No column name)": "Nagy Júlia"
                                },
                                {
                                    "NEV": "Nagy Júlia",
                                    "(No column name)": "Nagy László"
                                },
                                {
                                    "NEV": "Nagy László",
                                    "(No column name)": "Nagy Péter"
                                },
                                {
                                    "NEV": "Nagy Péter",
                                    "(No column name)": "Nagy Sándor"
                                },
                                {
                                    "NEV": "Nagy Sándor",
                                    "(No column name)": "Nagymihály Csongor"
                                },
                                {
                                    "NEV": "Nagymihály Csongor",
                                    "(No column name)": "Nagymihály Lajos"
                                },
                                {
                                    "NEV": "Nagymihály Lajos",
                                    "(No column name)": "Neizer Andrea"
                                },
                                {
                                    "NEV": "Neizer Andrea",
                                    "(No column name)": "Nyíri Georgij"
                                },
                                {
                                    "NEV": "Nyíri Georgij",
                                    "(No column name)": "Opra Attila"
                                },
                                {
                                    "NEV": "Opra Attila",
                                    "(No column name)": "Orbán Bernadett"
                                },
                                {
                                    "NEV": "Orbán Bernadett",
                                    "(No column name)": "Orosz Ferenc"
                                },
                                {
                                    "NEV": "Orosz Ferenc",
                                    "(No column name)": "Oroszi György"
                                },
                                {
                                    "NEV": "Oroszi György",
                                    "(No column name)": "Ötvös Árpád"
                                },
                                {
                                    "NEV": "Ötvös Árpád",
                                    "(No column name)": "Palágyi Polla"
                                },
                                {
                                    "NEV": "Palágyi Polla",
                                    "(No column name)": "Pálinkás János"
                                },
                                {
                                    "NEV": "Pálinkás János",
                                    "(No column name)": "Papós Tímea"
                                },
                                {
                                    "NEV": "Papós Tímea",
                                    "(No column name)": "Papp Imre"
                                },
                                {
                                    "NEV": "Papp Imre",
                                    "(No column name)": "Pásztor Róbert"
                                },
                                {
                                    "NEV": "Pásztor Róbert",
                                    "(No column name)": "Pataki Brigitta"
                                },
                                {
                                    "NEV": "Pataki Brigitta",
                                    "(No column name)": "Patay Róbert"
                                },
                                {
                                    "NEV": "Patay Róbert",
                                    "(No column name)": "Perlinger Éva"
                                },
                                {
                                    "NEV": "Perlinger Éva",
                                    "(No column name)": "Pintér Zoltán"
                                },
                                {
                                    "NEV": "Pintér Zoltán",
                                    "(No column name)": "Pivarcsi Anett"
                                },
                                {
                                    "NEV": "Pivarcsi Anett",
                                    "(No column name)": "Poprádi Kristóf"
                                },
                                {
                                    "NEV": "Poprádi Kristóf",
                                    "(No column name)": "Pulai Zsolt"
                                },
                                {
                                    "NEV": "Pulai Zsolt",
                                    "(No column name)": "Pusztai Zsuzsanna"
                                },
                                {
                                    "NEV": "Pusztai Zsuzsanna",
                                    "(No column name)": "Rab Sebestyén"
                                },
                                {
                                    "NEV": "Rab Sebestyén",
                                    "(No column name)": "Rácz Dániel"
                                },
                                {
                                    "NEV": "Rácz Dániel",
                                    "(No column name)": "Rácz Rajmond"
                                },
                                {
                                    "NEV": "Rácz Rajmond",
                                    "(No column name)": "Regős Annamária"
                                },
                                {
                                    "NEV": "Regős Annamária",
                                    "(No column name)": "Sarodi Dóra"
                                },
                                {
                                    "NEV": "Sarodi Dóra",
                                    "(No column name)": "Simon Anikó"
                                },
                                {
                                    "NEV": "Simon Anikó",
                                    "(No column name)": "Simon Bernadett"
                                },
                                {
                                    "NEV": "Simon Bernadett",
                                    "(No column name)": "Sobják Dávid"
                                },
                                {
                                    "NEV": "Sobják Dávid",
                                    "(No column name)": "Soós István"
                                },
                                {
                                    "NEV": "Soós István",
                                    "(No column name)": "Szabó Julianna"
                                },
                                {
                                    "NEV": "Szabó Julianna",
                                    "(No column name)": "Szalai Péter"
                                },
                                {
                                    "NEV": "Szalai Péter",
                                    "(No column name)": "Szalai Szilárd"
                                },
                                {
                                    "NEV": "Szalai Szilárd",
                                    "(No column name)": "Szedlár Krisztina"
                                },
                                {
                                    "NEV": "Szedlár Krisztina",
                                    "(No column name)": "Székely Brigitta"
                                },
                                {
                                    "NEV": "Székely Brigitta",
                                    "(No column name)": "Szekendi Beatrix"
                                },
                                {
                                    "NEV": "Szekendi Beatrix",
                                    "(No column name)": "Szikszai Réka"
                                },
                                {
                                    "NEV": "Szikszai Réka",
                                    "(No column name)": "Szilágyi Mátyás"
                                },
                                {
                                    "NEV": "Szilágyi Mátyás",
                                    "(No column name)": "Szirmai Renáta"
                                },
                                {
                                    "NEV": "Szirmai Renáta",
                                    "(No column name)": "Szomor Andrea"
                                },
                                {
                                    "NEV": "Szomor Andrea",
                                    "(No column name)": "Szöllősi Gábor"
                                },
                                {
                                    "NEV": "Szöllősi Gábor",
                                    "(No column name)": "Szűcs Annamária"
                                },
                                {
                                    "NEV": "Szűcs Annamária",
                                    "(No column name)": "Szűcs Balázs"
                                },
                                {
                                    "NEV": "Szűcs Balázs",
                                    "(No column name)": "Szűcs Norbert"
                                },
                                {
                                    "NEV": "Szűcs Norbert",
                                    "(No column name)": "Tankó Veronika"
                                },
                                {
                                    "NEV": "Tankó Veronika",
                                    "(No column name)": "Tari Szilvia"
                                },
                                {
                                    "NEV": "Tari Szilvia",
                                    "(No column name)": "Tatár Nikoletta"
                                },
                                {
                                    "NEV": "Tatár Nikoletta",
                                    "(No column name)": "Telek Gábor"
                                },
                                {
                                    "NEV": "Telek Gábor",
                                    "(No column name)": "Tornyos Andrea"
                                },
                                {
                                    "NEV": "Tornyos Andrea",
                                    "(No column name)": "Tóth András"
                                },
                                {
                                    "NEV": "Tóth András",
                                    "(No column name)": "Tóth Anikó"
                                },
                                {
                                    "NEV": "Tóth Anikó",
                                    "(No column name)": "Tóth Júlia"
                                },
                                {
                                    "NEV": "Tóth Júlia",
                                    "(No column name)": "Tóth Roland"
                                },
                                {
                                    "NEV": "Tóth Roland",
                                    "(No column name)": "Tóth Zoltán"
                                },
                                {
                                    "NEV": "Tóth Zoltán",
                                    "(No column name)": "Tömböly Dénes"
                                },
                                {
                                    "NEV": "Tömböly Dénes",
                                    "(No column name)": "Turcsik Tünde"
                                },
                                {
                                    "NEV": "Turcsik Tünde",
                                    "(No column name)": "Urbán Viktoria"
                                },
                                {
                                    "NEV": "Urbán Viktoria",
                                    "(No column name)": "Vajda József"
                                },
                                {
                                    "NEV": "Vajda József",
                                    "(No column name)": "Vajda Zsuzsa"
                                },
                                {
                                    "NEV": "Vajda Zsuzsa",
                                    "(No column name)": "Varga István"
                                },
                                {
                                    "NEV": "Varga István",
                                    "(No column name)": "Varsányi Zsuzsa"
                                },
                                {
                                    "NEV": "Varsányi Zsuzsa",
                                    "(No column name)": "Vida Gabriella"
                                },
                                {
                                    "NEV": "Vida Gabriella",
                                    "(No column name)": "Vígh András"
                                },
                                {
                                    "NEV": "Vígh András",
                                    "(No column name)": "Viktor Éva"
                                },
                                {
                                    "NEV": "Viktor Éva",
                                    "(No column name)": "Vizi István"
                                },
                                {
                                    "NEV": "Vizi István",
                                    "(No column name)": "Vörös Dániel"
                                },
                                {
                                    "NEV": "Vörös Dániel",
                                    "(No column name)": "Vukasinovity Bálint"
                                },
                                {
                                    "NEV": "Vukasinovity Bálint",
                                    "(No column name)": "Zatykó Katalin"
                                },
                                {
                                    "NEV": "Zatykó Katalin",
                                    "(No column name)": "0"
                                }
                            ]
                        },
                        "text/html": "<table><tr><th>NEV</th><th>(No column name)</th><th>(No column name)</th></tr><tr><td>Ambrus Dávid</td><td>0</td><td>Andor Ibolya</td></tr><tr><td>Andor Ibolya</td><td>Ambrus Dávid</td><td>Antal László</td></tr><tr><td>Antal László</td><td>Andor Ibolya</td><td>Antal Tamás</td></tr><tr><td>Antal Tamás</td><td>Antal László</td><td>Back András</td></tr><tr><td>Back András</td><td>Antal Tamás</td><td>Bagi Beáta</td></tr><tr><td>Bagi Beáta</td><td>Back András</td><td>Bagóczki Alexandra</td></tr><tr><td>Bagóczki Alexandra</td><td>Bagi Beáta</td><td>Bajusz Bence</td></tr><tr><td>Bajusz Bence</td><td>Bagóczki Alexandra</td><td>Bakó Klaudia</td></tr><tr><td>Bakó Klaudia</td><td>Bajusz Bence</td><td>Bakódy Balázs</td></tr><tr><td>Bakódy Balázs</td><td>Bakó Klaudia</td><td>Balla Miklós</td></tr><tr><td>Balla Miklós</td><td>Bakódy Balázs</td><td>Balogh Eszter</td></tr><tr><td>Balogh Eszter</td><td>Balla Miklós</td><td>Barabás Pál</td></tr><tr><td>Barabás Pál</td><td>Balogh Eszter</td><td>Baráth Mária</td></tr><tr><td>Baráth Mária</td><td>Barabás Pál</td><td>Bárci Gusztáv</td></tr><tr><td>Bárci Gusztáv</td><td>Baráth Mária</td><td>Barkóci Ádám</td></tr><tr><td>Barkóci Ádám</td><td>Bárci Gusztáv</td><td>Barna Debóra</td></tr><tr><td>Barna Debóra</td><td>Barkóci Ádám</td><td>Barna Zoltán</td></tr><tr><td>Barna Zoltán</td><td>Barna Debóra</td><td>Baróti Attila</td></tr><tr><td>Baróti Attila</td><td>Barna Zoltán</td><td>Barta Zsuzsanna</td></tr><tr><td>Barta Zsuzsanna</td><td>Baróti Attila</td><td>Berendi Péter</td></tr><tr><td>Berendi Péter</td><td>Barta Zsuzsanna</td><td>Béres Norbert</td></tr><tr><td>Béres Norbert</td><td>Berendi Péter</td><td>Berta Dávid</td></tr><tr><td>Berta Dávid</td><td>Béres Norbert</td><td>Bieniek Ádám</td></tr><tr><td>Bieniek Ádám</td><td>Berta Dávid</td><td>Bíró Ákos</td></tr><tr><td>Bíró Ákos</td><td>Bieniek Ádám</td><td>Biró Alexander</td></tr><tr><td>Biró Alexander</td><td>Bíró Ákos</td><td>Bíró Péter</td></tr><tr><td>Bíró Péter</td><td>Biró Alexander</td><td>Bittmann Edit</td></tr><tr><td>Bittmann Edit</td><td>Bíró Péter</td><td>Bodor Szabolcs</td></tr><tr><td>Bodor Szabolcs</td><td>Bittmann Edit</td><td>Bori Krisztina</td></tr><tr><td>Bori Krisztina</td><td>Bodor Szabolcs</td><td>Boros Vivien</td></tr><tr><td>Boros Vivien</td><td>Bori Krisztina</td><td>Bosnyák Ilona</td></tr><tr><td>Bosnyák Ilona</td><td>Boros Vivien</td><td>Botka Mátyás</td></tr><tr><td>Botka Mátyás</td><td>Bosnyák Ilona</td><td>Bozsik Balázs</td></tr><tr><td>Bozsik Balázs</td><td>Botka Mátyás</td><td>Bozsó Péter</td></tr><tr><td>Bozsó Péter</td><td>Bozsik Balázs</td><td>Böröcz Anikó</td></tr><tr><td>Böröcz Anikó</td><td>Bozsó Péter</td><td>Bucskó Róza</td></tr><tr><td>Bucskó Róza</td><td>Böröcz Anikó</td><td>Búza Imre</td></tr><tr><td>Búza Imre</td><td>Bucskó Róza</td><td>Czérna Krisztián</td></tr><tr><td>Czérna Krisztián</td><td>Búza Imre</td><td>Csiger Bertalan</td></tr><tr><td>Csiger Bertalan</td><td>Czérna Krisztián</td><td>Csóti Attila</td></tr><tr><td>Csóti Attila</td><td>Csiger Bertalan</td><td>Dániel Tibor</td></tr><tr><td>Dániel Tibor</td><td>Csóti Attila</td><td>Dunai Aladár</td></tr><tr><td>Dunai Aladár</td><td>Dániel Tibor</td><td>Dusha Tímea</td></tr><tr><td>Dusha Tímea</td><td>Dunai Aladár</td><td>Endresz Bálint</td></tr><tr><td>Endresz Bálint</td><td>Dusha Tímea</td><td>Enyedi Éva</td></tr><tr><td>Enyedi Éva</td><td>Endresz Bálint</td><td>Erdei András</td></tr><tr><td>Erdei András</td><td>Enyedi Éva</td><td>Érsek Eszter</td></tr><tr><td>Érsek Eszter</td><td>Erdei András</td><td>Farkas Béla</td></tr><tr><td>Farkas Béla</td><td>Érsek Eszter</td><td>Farkas László</td></tr><tr><td>Farkas László</td><td>Farkas Béla</td><td>Farkas Sándor</td></tr><tr><td>Farkas Sándor</td><td>Farkas László</td><td>Farkas Sára</td></tr><tr><td>Farkas Sára</td><td>Farkas Sándor</td><td>Fényes Tamás</td></tr><tr><td>Fényes Tamás</td><td>Farkas Sára</td><td>Ferencz Roland</td></tr><tr><td>Ferencz Roland</td><td>Fényes Tamás</td><td>Feró Valentin</td></tr><tr><td>Feró Valentin</td><td>Ferencz Roland</td><td>Fodor Zoltán</td></tr><tr><td>Fodor Zoltán</td><td>Feró Valentin</td><td>Foltényi Sebastián</td></tr><tr><td>Foltényi Sebastián</td><td>Fodor Zoltán</td><td>Fő Nándor</td></tr><tr><td>Fő Nándor</td><td>Foltényi Sebastián</td><td>Frank Fruzsina</td></tr><tr><td>Frank Fruzsina</td><td>Fő Nándor</td><td>Fülöp Eszter</td></tr><tr><td>Fülöp Eszter</td><td>Frank Fruzsina</td><td>Gergely József</td></tr><tr><td>Gergely József</td><td>Fülöp Eszter</td><td>Giliga János</td></tr><tr><td>Giliga János</td><td>Gergely József</td><td>Gombos Tibor</td></tr><tr><td>Gombos Tibor</td><td>Giliga János</td><td>Gondos Katalin</td></tr><tr><td>Gondos Katalin</td><td>Gombos Tibor</td><td>Gondos Miklós</td></tr><tr><td>Gondos Miklós</td><td>Gondos Katalin</td><td>Gulyás Attila</td></tr><tr><td>Gulyás Attila</td><td>Gondos Miklós</td><td>Gyárfás Krisztina</td></tr><tr><td>Gyárfás Krisztina</td><td>Gulyás Attila</td><td>Győrffy Bence</td></tr><tr><td>Győrffy Bence</td><td>Gyárfás Krisztina</td><td>Gyuris József</td></tr><tr><td>Gyuris József</td><td>Győrffy Bence</td><td>Hamvay-Kovács Anita</td></tr><tr><td>Hamvay-Kovács Anita</td><td>Gyuris József</td><td>Harangozó János</td></tr><tr><td>Harangozó János</td><td>Hamvay-Kovács Anita</td><td>Hartyánszky Ágnes</td></tr><tr><td>Hartyánszky Ágnes</td><td>Harangozó János</td><td>Hegedűs Norbert</td></tr><tr><td>Hegedűs Norbert</td><td>Hartyánszky Ágnes</td><td>Hídasi Judit</td></tr><tr><td>Hídasi Judit</td><td>Hegedűs Norbert</td><td>Horváth Ágnes</td></tr><tr><td>Horváth Ágnes</td><td>Hídasi Judit</td><td>Horváth Árpád</td></tr><tr><td>Horváth Árpád</td><td>Horváth Ágnes</td><td>Horváth Bálint</td></tr><tr><td>Horváth Bálint</td><td>Horváth Árpád</td><td>Horváth Katalin</td></tr><tr><td>Horváth Katalin</td><td>Horváth Bálint</td><td>Horváth Krisztina</td></tr><tr><td>Horváth Krisztina</td><td>Horváth Katalin</td><td>Horváth Márk</td></tr><tr><td>Horváth Márk</td><td>Horváth Krisztina</td><td>Horváth Nikolett</td></tr><tr><td>Horváth Nikolett</td><td>Horváth Márk</td><td>Iván Róbert</td></tr><tr><td>Iván Róbert</td><td>Horváth Nikolett</td><td>Jakab Áron</td></tr><tr><td>Jakab Áron</td><td>Iván Róbert</td><td>Józsa Zsolt</td></tr><tr><td>Józsa Zsolt</td><td>Jakab Áron</td><td>Juhász Mihály</td></tr><tr><td>Juhász Mihály</td><td>Józsa Zsolt</td><td>Kalacsi Márton</td></tr><tr><td>Kalacsi Márton</td><td>Juhász Mihály</td><td>Karasz Sándor</td></tr><tr><td>Karasz Sándor</td><td>Kalacsi Márton</td><td>Kardos Renáta</td></tr><tr><td>Kardos Renáta</td><td>Karasz Sándor</td><td>Kazy Tihamér</td></tr><tr><td>Kazy Tihamér</td><td>Kardos Renáta</td><td>Kelemen Áron</td></tr><tr><td>Kelemen Áron</td><td>Kazy Tihamér</td><td>Kerényi Beatrix</td></tr><tr><td>Kerényi Beatrix</td><td>Kelemen Áron</td><td>Keresztúri Viktor</td></tr><tr><td>Keresztúri Viktor</td><td>Kerényi Beatrix</td><td>Kertész Katalin</td></tr><tr><td>Kertész Katalin</td><td>Keresztúri Viktor</td><td>Keszler Dániel</td></tr><tr><td>Keszler Dániel</td><td>Kertész Katalin</td><td>Kispál Márk</td></tr><tr><td>Kispál Márk</td><td>Keszler Dániel</td><td>Kiss Ádám</td></tr><tr><td>Kiss Ádám</td><td>Kispál Márk</td><td>Kiss Andrea</td></tr><tr><td>Kiss Andrea</td><td>Kiss Ádám</td><td>Kiss Anita</td></tr><tr><td>Kiss Anita</td><td>Kiss Andrea</td><td>Kiss Lajos</td></tr><tr><td>Kiss Lajos</td><td>Kiss Anita</td><td>Komjáti András</td></tr><tr><td>Komjáti András</td><td>Kiss Lajos</td><td>Kornseé Gyöngyi</td></tr><tr><td>Kornseé Gyöngyi</td><td>Komjáti András</td><td>Kovács Ágnes</td></tr><tr><td>Kovács Ágnes</td><td>Kornseé Gyöngyi</td><td>Kovács Bernadett</td></tr><tr><td>Kovács Bernadett</td><td>Kovács Ágnes</td><td>Kovács Katalin</td></tr><tr><td>Kovács Katalin</td><td>Kovács Bernadett</td><td>Koza Máté</td></tr><tr><td>Koza Máté</td><td>Kovács Katalin</td><td>Kozma Péter</td></tr><tr><td>Kozma Péter</td><td>Koza Máté</td><td>Kő Nikoletta</td></tr><tr><td>Kő Nikoletta</td><td>Kozma Péter</td><td>Köves Gábor</td></tr><tr><td>Köves Gábor</td><td>Kő Nikoletta</td><td>Kuruc Emese</td></tr><tr><td>Kuruc Emese</td><td>Köves Gábor</td><td>Lengyel Ágnes</td></tr><tr><td>Lengyel Ágnes</td><td>Kuruc Emese</td><td>Lukács Kornél</td></tr><tr><td>Lukács Kornél</td><td>Lengyel Ágnes</td><td>Maródi Andrea</td></tr><tr><td>Maródi Andrea</td><td>Lukács Kornél</td><td>Miklós Szabolcs</td></tr><tr><td>Miklós Szabolcs</td><td>Maródi Andrea</td><td>Miklós Tamara</td></tr><tr><td>Miklós Tamara</td><td>Miklós Szabolcs</td><td>Mile Norbert</td></tr><tr><td>Mile Norbert</td><td>Miklós Tamara</td><td>Mogyródi Krisztián</td></tr><tr><td>Mogyródi Krisztián</td><td>Mile Norbert</td><td>Mohos Mónika</td></tr><tr><td>Mohos Mónika</td><td>Mogyródi Krisztián</td><td>Molnár András</td></tr><tr><td>Molnár András</td><td>Mohos Mónika</td><td>Molnár Bálint</td></tr><tr><td>Molnár Bálint</td><td>Molnár András</td><td>Molnár Eszter</td></tr><tr><td>Molnár Eszter</td><td>Molnár Bálint</td><td>Molnár Zsófi</td></tr><tr><td>Molnár Zsófi</td><td>Molnár Eszter</td><td>Mór Ottó</td></tr><tr><td>Mór Ottó</td><td>Molnár Zsófi</td><td>Móra László</td></tr><tr><td>Móra László</td><td>Mór Ottó</td><td>Móricz Árpád</td></tr><tr><td>Móricz Árpád</td><td>Móra László</td><td>Nádudvari Henrik</td></tr><tr><td>Nádudvari Henrik</td><td>Móricz Árpád</td><td>Nagy András</td></tr><tr><td>Nagy András</td><td>Nádudvari Henrik</td><td>Nagy Gabriella</td></tr><tr><td>Nagy Gabriella</td><td>Nagy András</td><td>Nagy Júlia</td></tr><tr><td>Nagy Júlia</td><td>Nagy Gabriella</td><td>Nagy László</td></tr><tr><td>Nagy László</td><td>Nagy Júlia</td><td>Nagy Péter</td></tr><tr><td>Nagy Péter</td><td>Nagy László</td><td>Nagy Sándor</td></tr><tr><td>Nagy Sándor</td><td>Nagy Péter</td><td>Nagymihály Csongor</td></tr><tr><td>Nagymihály Csongor</td><td>Nagy Sándor</td><td>Nagymihály Lajos</td></tr><tr><td>Nagymihály Lajos</td><td>Nagymihály Csongor</td><td>Neizer Andrea</td></tr><tr><td>Neizer Andrea</td><td>Nagymihály Lajos</td><td>Nyíri Georgij</td></tr><tr><td>Nyíri Georgij</td><td>Neizer Andrea</td><td>Opra Attila</td></tr><tr><td>Opra Attila</td><td>Nyíri Georgij</td><td>Orbán Bernadett</td></tr><tr><td>Orbán Bernadett</td><td>Opra Attila</td><td>Orosz Ferenc</td></tr><tr><td>Orosz Ferenc</td><td>Orbán Bernadett</td><td>Oroszi György</td></tr><tr><td>Oroszi György</td><td>Orosz Ferenc</td><td>Ötvös Árpád</td></tr><tr><td>Ötvös Árpád</td><td>Oroszi György</td><td>Palágyi Polla</td></tr><tr><td>Palágyi Polla</td><td>Ötvös Árpád</td><td>Pálinkás János</td></tr><tr><td>Pálinkás János</td><td>Palágyi Polla</td><td>Papós Tímea</td></tr><tr><td>Papós Tímea</td><td>Pálinkás János</td><td>Papp Imre</td></tr><tr><td>Papp Imre</td><td>Papós Tímea</td><td>Pásztor Róbert</td></tr><tr><td>Pásztor Róbert</td><td>Papp Imre</td><td>Pataki Brigitta</td></tr><tr><td>Pataki Brigitta</td><td>Pásztor Róbert</td><td>Patay Róbert</td></tr><tr><td>Patay Róbert</td><td>Pataki Brigitta</td><td>Perlinger Éva</td></tr><tr><td>Perlinger Éva</td><td>Patay Róbert</td><td>Pintér Zoltán</td></tr><tr><td>Pintér Zoltán</td><td>Perlinger Éva</td><td>Pivarcsi Anett</td></tr><tr><td>Pivarcsi Anett</td><td>Pintér Zoltán</td><td>Poprádi Kristóf</td></tr><tr><td>Poprádi Kristóf</td><td>Pivarcsi Anett</td><td>Pulai Zsolt</td></tr><tr><td>Pulai Zsolt</td><td>Poprádi Kristóf</td><td>Pusztai Zsuzsanna</td></tr><tr><td>Pusztai Zsuzsanna</td><td>Pulai Zsolt</td><td>Rab Sebestyén</td></tr><tr><td>Rab Sebestyén</td><td>Pusztai Zsuzsanna</td><td>Rácz Dániel</td></tr><tr><td>Rácz Dániel</td><td>Rab Sebestyén</td><td>Rácz Rajmond</td></tr><tr><td>Rácz Rajmond</td><td>Rácz Dániel</td><td>Regős Annamária</td></tr><tr><td>Regős Annamária</td><td>Rácz Rajmond</td><td>Sarodi Dóra</td></tr><tr><td>Sarodi Dóra</td><td>Regős Annamária</td><td>Simon Anikó</td></tr><tr><td>Simon Anikó</td><td>Sarodi Dóra</td><td>Simon Bernadett</td></tr><tr><td>Simon Bernadett</td><td>Simon Anikó</td><td>Sobják Dávid</td></tr><tr><td>Sobják Dávid</td><td>Simon Bernadett</td><td>Soós István</td></tr><tr><td>Soós István</td><td>Sobják Dávid</td><td>Szabó Julianna</td></tr><tr><td>Szabó Julianna</td><td>Soós István</td><td>Szalai Péter</td></tr><tr><td>Szalai Péter</td><td>Szabó Julianna</td><td>Szalai Szilárd</td></tr><tr><td>Szalai Szilárd</td><td>Szalai Péter</td><td>Szedlár Krisztina</td></tr><tr><td>Szedlár Krisztina</td><td>Szalai Szilárd</td><td>Székely Brigitta</td></tr><tr><td>Székely Brigitta</td><td>Szedlár Krisztina</td><td>Szekendi Beatrix</td></tr><tr><td>Szekendi Beatrix</td><td>Székely Brigitta</td><td>Szikszai Réka</td></tr><tr><td>Szikszai Réka</td><td>Szekendi Beatrix</td><td>Szilágyi Mátyás</td></tr><tr><td>Szilágyi Mátyás</td><td>Szikszai Réka</td><td>Szirmai Renáta</td></tr><tr><td>Szirmai Renáta</td><td>Szilágyi Mátyás</td><td>Szomor Andrea</td></tr><tr><td>Szomor Andrea</td><td>Szirmai Renáta</td><td>Szöllősi Gábor</td></tr><tr><td>Szöllősi Gábor</td><td>Szomor Andrea</td><td>Szűcs Annamária</td></tr><tr><td>Szűcs Annamária</td><td>Szöllősi Gábor</td><td>Szűcs Balázs</td></tr><tr><td>Szűcs Balázs</td><td>Szűcs Annamária</td><td>Szűcs Norbert</td></tr><tr><td>Szűcs Norbert</td><td>Szűcs Balázs</td><td>Tankó Veronika</td></tr><tr><td>Tankó Veronika</td><td>Szűcs Norbert</td><td>Tari Szilvia</td></tr><tr><td>Tari Szilvia</td><td>Tankó Veronika</td><td>Tatár Nikoletta</td></tr><tr><td>Tatár Nikoletta</td><td>Tari Szilvia</td><td>Telek Gábor</td></tr><tr><td>Telek Gábor</td><td>Tatár Nikoletta</td><td>Tornyos Andrea</td></tr><tr><td>Tornyos Andrea</td><td>Telek Gábor</td><td>Tóth András</td></tr><tr><td>Tóth András</td><td>Tornyos Andrea</td><td>Tóth Anikó</td></tr><tr><td>Tóth Anikó</td><td>Tóth András</td><td>Tóth Júlia</td></tr><tr><td>Tóth Júlia</td><td>Tóth Anikó</td><td>Tóth Roland</td></tr><tr><td>Tóth Roland</td><td>Tóth Júlia</td><td>Tóth Zoltán</td></tr><tr><td>Tóth Zoltán</td><td>Tóth Roland</td><td>Tömböly Dénes</td></tr><tr><td>Tömböly Dénes</td><td>Tóth Zoltán</td><td>Turcsik Tünde</td></tr><tr><td>Turcsik Tünde</td><td>Tömböly Dénes</td><td>Urbán Viktoria</td></tr><tr><td>Urbán Viktoria</td><td>Turcsik Tünde</td><td>Vajda József</td></tr><tr><td>Vajda József</td><td>Urbán Viktoria</td><td>Vajda Zsuzsa</td></tr><tr><td>Vajda Zsuzsa</td><td>Vajda József</td><td>Varga István</td></tr><tr><td>Varga István</td><td>Vajda Zsuzsa</td><td>Varsányi Zsuzsa</td></tr><tr><td>Varsányi Zsuzsa</td><td>Varga István</td><td>Vida Gabriella</td></tr><tr><td>Vida Gabriella</td><td>Varsányi Zsuzsa</td><td>Vígh András</td></tr><tr><td>Vígh András</td><td>Vida Gabriella</td><td>Viktor Éva</td></tr><tr><td>Viktor Éva</td><td>Vígh András</td><td>Vizi István</td></tr><tr><td>Vizi István</td><td>Viktor Éva</td><td>Vörös Dániel</td></tr><tr><td>Vörös Dániel</td><td>Vizi István</td><td>Vukasinovity Bálint</td></tr><tr><td>Vukasinovity Bálint</td><td>Vörös Dániel</td><td>Zatykó Katalin</td></tr><tr><td>Zatykó Katalin</td><td>Vukasinovity Bálint</td><td>0</td></tr></table>"
                    },
                    "metadata": {}
                }
            ],
            "execution_count": 27
        },
        {
            "cell_type": "markdown",
            "source": [
                "7. <span style=\"font-weight: 600; color: rgb(36, 41, 47); font-family: -apple-system, BlinkMacSystemFont, &quot;Segoe UI&quot;, Helvetica, Arial, sans-serif, &quot;Apple Color Emoji&quot;, &quot;Segoe UI Emoji&quot;; font-size: 16px;\">Készítsünk lekérdezést, amely megmutatja, hogy melyik termékkategóriába hány termék tartozik. A lista a kategória nevét és a darabszámot jelenítse meg.</span>\n",
                "\n",
                "1. A lista ne tartalmazzon duplikált sorokat.\n",
                "2. A feladatot partíciók segítségével oldjuk meg!"
            ],
            "metadata": {
                "azdata_cell_guid": "7ebf7ddd-1bd2-4246-815a-be8ae37e3b5b"
            },
            "attachments": {}
        },
        {
            "cell_type": "code",
            "source": [
                "select distinct tk.kat_nev, COUNT(*) OVER(PARTITION by tk.kat_nev)\r\n",
                "from termek t join Termekkategoria tk on t.KAT_ID =tk.KAT_ID\r\n",
                ""
            ],
            "metadata": {
                "azdata_cell_guid": "84b7e896-f36e-4985-88f5-e0f706494fef",
                "language": "sql"
            },
            "outputs": [
                {
                    "output_type": "display_data",
                    "data": {
                        "text/html": "(143 rows affected)"
                    },
                    "metadata": {}
                },
                {
                    "output_type": "display_data",
                    "data": {
                        "text/html": "Total execution time: 00:00:00.046"
                    },
                    "metadata": {}
                },
                {
                    "output_type": "execute_result",
                    "execution_count": 22,
                    "data": {
                        "application/vnd.dataresource+json": {
                            "schema": {
                                "fields": [
                                    {
                                        "name": "kat_nev"
                                    },
                                    {
                                        "name": "(No column name)"
                                    }
                                ]
                            },
                            "data": [
                                {
                                    "kat_nev": "ajándék tárgy",
                                    "(No column name)": "3"
                                },
                                {
                                    "kat_nev": "ajándék tasak",
                                    "(No column name)": "20"
                                },
                                {
                                    "kat_nev": "álarc",
                                    "(No column name)": "3"
                                },
                                {
                                    "kat_nev": "alkalmi",
                                    "(No column name)": "3"
                                },
                                {
                                    "kat_nev": "alufólia",
                                    "(No column name)": "2"
                                },
                                {
                                    "kat_nev": "árazószalag",
                                    "(No column name)": "1"
                                },
                                {
                                    "kat_nev": "átírótömb",
                                    "(No column name)": "1"
                                },
                                {
                                    "kat_nev": "beíró",
                                    "(No column name)": "1"
                                },
                                {
                                    "kat_nev": "beírókönyv",
                                    "(No column name)": "2"
                                },
                                {
                                    "kat_nev": "bélyegző",
                                    "(No column name)": "4"
                                },
                                {
                                    "kat_nev": "bélyegzőfesték",
                                    "(No column name)": "1"
                                },
                                {
                                    "kat_nev": "boríték",
                                    "(No column name)": "7"
                                },
                                {
                                    "kat_nev": "cd tok",
                                    "(No column name)": "1"
                                },
                                {
                                    "kat_nev": "celofán",
                                    "(No column name)": "2"
                                },
                                {
                                    "kat_nev": "ceruza",
                                    "(No column name)": "19"
                                },
                                {
                                    "kat_nev": "címke",
                                    "(No column name)": "3"
                                },
                                {
                                    "kat_nev": "color copy",
                                    "(No column name)": "5"
                                },
                                {
                                    "kat_nev": "csomagoló",
                                    "(No column name)": "2"
                                },
                                {
                                    "kat_nev": "csomagoló papír",
                                    "(No column name)": "7"
                                },
                                {
                                    "kat_nev": "dekor",
                                    "(No column name)": "4"
                                },
                                {
                                    "kat_nev": "dipa",
                                    "(No column name)": "1"
                                },
                                {
                                    "kat_nev": "díszdoboz",
                                    "(No column name)": "3"
                                },
                                {
                                    "kat_nev": "díszkötöző",
                                    "(No column name)": "5"
                                },
                                {
                                    "kat_nev": "dvd",
                                    "(No column name)": "1"
                                },
                                {
                                    "kat_nev": "ecset",
                                    "(No column name)": "7"
                                },
                                {
                                    "kat_nev": "előlap",
                                    "(No column name)": "1"
                                },
                                {
                                    "kat_nev": "emlékkönyv",
                                    "(No column name)": "3"
                                },
                                {
                                    "kat_nev": "emléklap",
                                    "(No column name)": "1"
                                },
                                {
                                    "kat_nev": "fax papír",
                                    "(No column name)": "1"
                                },
                                {
                                    "kat_nev": "fehérnemű",
                                    "(No column name)": "7"
                                },
                                {
                                    "kat_nev": "fénymásoló papír",
                                    "(No column name)": "5"
                                },
                                {
                                    "kat_nev": "férfi ing",
                                    "(No column name)": "1"
                                },
                                {
                                    "kat_nev": "férfi kabát",
                                    "(No column name)": "1"
                                },
                                {
                                    "kat_nev": "férfi nadrág",
                                    "(No column name)": "2"
                                },
                                {
                                    "kat_nev": "festékpatron",
                                    "(No column name)": "1"
                                },
                                {
                                    "kat_nev": "filctoll",
                                    "(No column name)": "13"
                                },
                                {
                                    "kat_nev": "floppy",
                                    "(No column name)": "1"
                                },
                                {
                                    "kat_nev": "fólia",
                                    "(No column name)": "3"
                                },
                                {
                                    "kat_nev": "fotópapír",
                                    "(No column name)": "1"
                                },
                                {
                                    "kat_nev": "füzet",
                                    "(No column name)": "11"
                                },
                                {
                                    "kat_nev": "füzetborító",
                                    "(No column name)": "7"
                                },
                                {
                                    "kat_nev": "füzettartó",
                                    "(No column name)": "4"
                                },
                                {
                                    "kat_nev": "gemkapocs",
                                    "(No column name)": "2"
                                },
                                {
                                    "kat_nev": "gémkapocs",
                                    "(No column name)": "2"
                                },
                                {
                                    "kat_nev": "genoterm",
                                    "(No column name)": "1"
                                },
                                {
                                    "kat_nev": "genotherm",
                                    "(No column name)": "3"
                                },
                                {
                                    "kat_nev": "golyóstoll",
                                    "(No column name)": "26"
                                },
                                {
                                    "kat_nev": "gumigyűrű",
                                    "(No column name)": "1"
                                },
                                {
                                    "kat_nev": "gyermek cipő",
                                    "(No column name)": "6"
                                },
                                {
                                    "kat_nev": "gyermek kabát",
                                    "(No column name)": "2"
                                },
                                {
                                    "kat_nev": "gyermek nadrág",
                                    "(No column name)": "4"
                                },
                                {
                                    "kat_nev": "gyermek póló",
                                    "(No column name)": "2"
                                },
                                {
                                    "kat_nev": "gyorsfűző",
                                    "(No column name)": "3"
                                },
                                {
                                    "kat_nev": "gyurma",
                                    "(No column name)": "4"
                                },
                                {
                                    "kat_nev": "gyűrűskönyv",
                                    "(No column name)": "5"
                                },
                                {
                                    "kat_nev": "hajgumi",
                                    "(No column name)": "1"
                                },
                                {
                                    "kat_nev": "határidő napló",
                                    "(No column name)": "2"
                                },
                                {
                                    "kat_nev": "hegyező",
                                    "(No column name)": "4"
                                },
                                {
                                    "kat_nev": "hegyző",
                                    "(No column name)": "2"
                                },
                                {
                                    "kat_nev": "hibajavító",
                                    "(No column name)": "7"
                                },
                                {
                                    "kat_nev": "hűtőmágnes",
                                    "(No column name)": "2"
                                },
                                {
                                    "kat_nev": "indigó",
                                    "(No column name)": "2"
                                },
                                {
                                    "kat_nev": "írásvetítő fólia",
                                    "(No column name)": "1"
                                },
                                {
                                    "kat_nev": "iratgyűjtő",
                                    "(No column name)": "3"
                                },
                                {
                                    "kat_nev": "iratrendező",
                                    "(No column name)": "2"
                                },
                                {
                                    "kat_nev": "iratsín",
                                    "(No column name)": "2"
                                },
                                {
                                    "kat_nev": "irattartó",
                                    "(No column name)": "2"
                                },
                                {
                                    "kat_nev": "irodaszer",
                                    "(No column name)": "1"
                                },
                                {
                                    "kat_nev": "írólap",
                                    "(No column name)": "2"
                                },
                                {
                                    "kat_nev": "ironbél",
                                    "(No column name)": "5"
                                },
                                {
                                    "kat_nev": "iskolaszer",
                                    "(No column name)": "24"
                                },
                                {
                                    "kat_nev": "játékautó",
                                    "(No column name)": "4"
                                },
                                {
                                    "kat_nev": "jelzőkréta",
                                    "(No column name)": "1"
                                },
                                {
                                    "kat_nev": "kapocskiszedő",
                                    "(No column name)": "1"
                                },
                                {
                                    "kat_nev": "karton",
                                    "(No column name)": "6"
                                },
                                {
                                    "kat_nev": "kártya",
                                    "(No column name)": "1"
                                },
                                {
                                    "kat_nev": "képeslap",
                                    "(No column name)": "16"
                                },
                                {
                                    "kat_nev": "képkirakó",
                                    "(No column name)": "1"
                                },
                                {
                                    "kat_nev": "kosztüm",
                                    "(No column name)": "2"
                                },
                                {
                                    "kat_nev": "könyv",
                                    "(No column name)": "15"
                                },
                                {
                                    "kat_nev": "körző",
                                    "(No column name)": "3"
                                },
                                {
                                    "kat_nev": "kreatív",
                                    "(No column name)": "2"
                                },
                                {
                                    "kat_nev": "kulcstartó",
                                    "(No column name)": "7"
                                },
                                {
                                    "kat_nev": "labda",
                                    "(No column name)": "2"
                                },
                                {
                                    "kat_nev": "levélpapír",
                                    "(No column name)": "7"
                                },
                                {
                                    "kat_nev": "lufi",
                                    "(No column name)": "2"
                                },
                                {
                                    "kat_nev": "lyukasztó",
                                    "(No column name)": "2"
                                },
                                {
                                    "kat_nev": "mappa",
                                    "(No column name)": "9"
                                },
                                {
                                    "kat_nev": "matrica",
                                    "(No column name)": "10"
                                },
                                {
                                    "kat_nev": "meghívó",
                                    "(No column name)": "4"
                                },
                                {
                                    "kat_nev": "miliméterpapír",
                                    "(No column name)": "1"
                                },
                                {
                                    "kat_nev": "munkafüzet",
                                    "(No column name)": "9"
                                },
                                {
                                    "kat_nev": "műnyomó",
                                    "(No column name)": "1"
                                },
                                {
                                    "kat_nev": "naptár",
                                    "(No column name)": "1"
                                },
                                {
                                    "kat_nev": "naptárhát",
                                    "(No column name)": "2"
                                },
                                {
                                    "kat_nev": "névjegytartó",
                                    "(No column name)": "1"
                                },
                                {
                                    "kat_nev": "notesz",
                                    "(No column name)": "5"
                                },
                                {
                                    "kat_nev": "női kabát",
                                    "(No column name)": "1"
                                },
                                {
                                    "kat_nev": "női nadrág",
                                    "(No column name)": "1"
                                },
                                {
                                    "kat_nev": "ofszet",
                                    "(No column name)": "1"
                                },
                                {
                                    "kat_nev": "oklevél",
                                    "(No column name)": "2"
                                },
                                {
                                    "kat_nev": "olló",
                                    "(No column name)": "3"
                                },
                                {
                                    "kat_nev": "öntapadó",
                                    "(No column name)": "2"
                                },
                                {
                                    "kat_nev": "papízsebkendő",
                                    "(No column name)": "1"
                                },
                                {
                                    "kat_nev": "pausz",
                                    "(No column name)": "1"
                                },
                                {
                                    "kat_nev": "pénztárbizonylat",
                                    "(No column name)": "2"
                                },
                                {
                                    "kat_nev": "pénztárgépszalag",
                                    "(No column name)": "2"
                                },
                                {
                                    "kat_nev": "pixiron",
                                    "(No column name)": "9"
                                },
                                {
                                    "kat_nev": "plüss",
                                    "(No column name)": "3"
                                },
                                {
                                    "kat_nev": "post-it",
                                    "(No column name)": "2"
                                },
                                {
                                    "kat_nev": "radír",
                                    "(No column name)": "7"
                                },
                                {
                                    "kat_nev": "radírtoll",
                                    "(No column name)": "2"
                                },
                                {
                                    "kat_nev": "ragasztó",
                                    "(No column name)": "10"
                                },
                                {
                                    "kat_nev": "ragasztószalag",
                                    "(No column name)": "4"
                                },
                                {
                                    "kat_nev": "rágógumi",
                                    "(No column name)": "1"
                                },
                                {
                                    "kat_nev": "rajzlap",
                                    "(No column name)": "2"
                                },
                                {
                                    "kat_nev": "rajzszeg",
                                    "(No column name)": "2"
                                },
                                {
                                    "kat_nev": "regiszteres füzet",
                                    "(No column name)": "2"
                                },
                                {
                                    "kat_nev": "sál",
                                    "(No column name)": "1"
                                },
                                {
                                    "kat_nev": "spirál",
                                    "(No column name)": "1"
                                },
                                {
                                    "kat_nev": "strandlabda",
                                    "(No column name)": "1"
                                },
                                {
                                    "kat_nev": "szalvéta",
                                    "(No column name)": "6"
                                },
                                {
                                    "kat_nev": "számológép",
                                    "(No column name)": "2"
                                },
                                {
                                    "kat_nev": "szemetes",
                                    "(No column name)": "1"
                                },
                                {
                                    "kat_nev": "színes",
                                    "(No column name)": "2"
                                },
                                {
                                    "kat_nev": "szögmérő",
                                    "(No column name)": "3"
                                },
                                {
                                    "kat_nev": "szövegkiemelő",
                                    "(No column name)": "5"
                                },
                                {
                                    "kat_nev": "táblafilc",
                                    "(No column name)": "1"
                                },
                                {
                                    "kat_nev": "tapétavágó",
                                    "(No column name)": "1"
                                },
                                {
                                    "kat_nev": "tempera",
                                    "(No column name)": "2"
                                },
                                {
                                    "kat_nev": "térképtű",
                                    "(No column name)": "1"
                                },
                                {
                                    "kat_nev": "tintapatron",
                                    "(No column name)": "3"
                                },
                                {
                                    "kat_nev": "toll",
                                    "(No column name)": "2"
                                },
                                {
                                    "kat_nev": "tollbetét",
                                    "(No column name)": "18"
                                },
                                {
                                    "kat_nev": "tolltartó",
                                    "(No column name)": "7"
                                },
                                {
                                    "kat_nev": "toner",
                                    "(No column name)": "1"
                                },
                                {
                                    "kat_nev": "töltőtoll",
                                    "(No column name)": "1"
                                },
                                {
                                    "kat_nev": "tűzőgép",
                                    "(No column name)": "6"
                                },
                                {
                                    "kat_nev": "tűzőkapocs",
                                    "(No column name)": "2"
                                },
                                {
                                    "kat_nev": "vízfesték",
                                    "(No column name)": "4"
                                },
                                {
                                    "kat_nev": "vonalzó",
                                    "(No column name)": "6"
                                },
                                {
                                    "kat_nev": "zászló",
                                    "(No column name)": "1"
                                },
                                {
                                    "kat_nev": "zseléstoll",
                                    "(No column name)": "4"
                                }
                            ]
                        },
                        "text/html": "<table><tr><th>kat_nev</th><th>(No column name)</th></tr><tr><td>ajándék tárgy</td><td>3</td></tr><tr><td>ajándék tasak</td><td>20</td></tr><tr><td>álarc</td><td>3</td></tr><tr><td>alkalmi</td><td>3</td></tr><tr><td>alufólia</td><td>2</td></tr><tr><td>árazószalag</td><td>1</td></tr><tr><td>átírótömb</td><td>1</td></tr><tr><td>beíró</td><td>1</td></tr><tr><td>beírókönyv</td><td>2</td></tr><tr><td>bélyegző</td><td>4</td></tr><tr><td>bélyegzőfesték</td><td>1</td></tr><tr><td>boríték</td><td>7</td></tr><tr><td>cd tok</td><td>1</td></tr><tr><td>celofán</td><td>2</td></tr><tr><td>ceruza</td><td>19</td></tr><tr><td>címke</td><td>3</td></tr><tr><td>color copy</td><td>5</td></tr><tr><td>csomagoló</td><td>2</td></tr><tr><td>csomagoló papír</td><td>7</td></tr><tr><td>dekor</td><td>4</td></tr><tr><td>dipa</td><td>1</td></tr><tr><td>díszdoboz</td><td>3</td></tr><tr><td>díszkötöző</td><td>5</td></tr><tr><td>dvd</td><td>1</td></tr><tr><td>ecset</td><td>7</td></tr><tr><td>előlap</td><td>1</td></tr><tr><td>emlékkönyv</td><td>3</td></tr><tr><td>emléklap</td><td>1</td></tr><tr><td>fax papír</td><td>1</td></tr><tr><td>fehérnemű</td><td>7</td></tr><tr><td>fénymásoló papír</td><td>5</td></tr><tr><td>férfi ing</td><td>1</td></tr><tr><td>férfi kabát</td><td>1</td></tr><tr><td>férfi nadrág</td><td>2</td></tr><tr><td>festékpatron</td><td>1</td></tr><tr><td>filctoll</td><td>13</td></tr><tr><td>floppy</td><td>1</td></tr><tr><td>fólia</td><td>3</td></tr><tr><td>fotópapír</td><td>1</td></tr><tr><td>füzet</td><td>11</td></tr><tr><td>füzetborító</td><td>7</td></tr><tr><td>füzettartó</td><td>4</td></tr><tr><td>gemkapocs</td><td>2</td></tr><tr><td>gémkapocs</td><td>2</td></tr><tr><td>genoterm</td><td>1</td></tr><tr><td>genotherm</td><td>3</td></tr><tr><td>golyóstoll</td><td>26</td></tr><tr><td>gumigyűrű</td><td>1</td></tr><tr><td>gyermek cipő</td><td>6</td></tr><tr><td>gyermek kabát</td><td>2</td></tr><tr><td>gyermek nadrág</td><td>4</td></tr><tr><td>gyermek póló</td><td>2</td></tr><tr><td>gyorsfűző</td><td>3</td></tr><tr><td>gyurma</td><td>4</td></tr><tr><td>gyűrűskönyv</td><td>5</td></tr><tr><td>hajgumi</td><td>1</td></tr><tr><td>határidő napló</td><td>2</td></tr><tr><td>hegyező</td><td>4</td></tr><tr><td>hegyző</td><td>2</td></tr><tr><td>hibajavító</td><td>7</td></tr><tr><td>hűtőmágnes</td><td>2</td></tr><tr><td>indigó</td><td>2</td></tr><tr><td>írásvetítő fólia</td><td>1</td></tr><tr><td>iratgyűjtő</td><td>3</td></tr><tr><td>iratrendező</td><td>2</td></tr><tr><td>iratsín</td><td>2</td></tr><tr><td>irattartó</td><td>2</td></tr><tr><td>irodaszer</td><td>1</td></tr><tr><td>írólap</td><td>2</td></tr><tr><td>ironbél</td><td>5</td></tr><tr><td>iskolaszer</td><td>24</td></tr><tr><td>játékautó</td><td>4</td></tr><tr><td>jelzőkréta</td><td>1</td></tr><tr><td>kapocskiszedő</td><td>1</td></tr><tr><td>karton</td><td>6</td></tr><tr><td>kártya</td><td>1</td></tr><tr><td>képeslap</td><td>16</td></tr><tr><td>képkirakó</td><td>1</td></tr><tr><td>kosztüm</td><td>2</td></tr><tr><td>könyv</td><td>15</td></tr><tr><td>körző</td><td>3</td></tr><tr><td>kreatív</td><td>2</td></tr><tr><td>kulcstartó</td><td>7</td></tr><tr><td>labda</td><td>2</td></tr><tr><td>levélpapír</td><td>7</td></tr><tr><td>lufi</td><td>2</td></tr><tr><td>lyukasztó</td><td>2</td></tr><tr><td>mappa</td><td>9</td></tr><tr><td>matrica</td><td>10</td></tr><tr><td>meghívó</td><td>4</td></tr><tr><td>miliméterpapír</td><td>1</td></tr><tr><td>munkafüzet</td><td>9</td></tr><tr><td>műnyomó</td><td>1</td></tr><tr><td>naptár</td><td>1</td></tr><tr><td>naptárhát</td><td>2</td></tr><tr><td>névjegytartó</td><td>1</td></tr><tr><td>notesz</td><td>5</td></tr><tr><td>női kabát</td><td>1</td></tr><tr><td>női nadrág</td><td>1</td></tr><tr><td>ofszet</td><td>1</td></tr><tr><td>oklevél</td><td>2</td></tr><tr><td>olló</td><td>3</td></tr><tr><td>öntapadó</td><td>2</td></tr><tr><td>papízsebkendő</td><td>1</td></tr><tr><td>pausz</td><td>1</td></tr><tr><td>pénztárbizonylat</td><td>2</td></tr><tr><td>pénztárgépszalag</td><td>2</td></tr><tr><td>pixiron</td><td>9</td></tr><tr><td>plüss</td><td>3</td></tr><tr><td>post-it</td><td>2</td></tr><tr><td>radír</td><td>7</td></tr><tr><td>radírtoll</td><td>2</td></tr><tr><td>ragasztó</td><td>10</td></tr><tr><td>ragasztószalag</td><td>4</td></tr><tr><td>rágógumi</td><td>1</td></tr><tr><td>rajzlap</td><td>2</td></tr><tr><td>rajzszeg</td><td>2</td></tr><tr><td>regiszteres füzet</td><td>2</td></tr><tr><td>sál</td><td>1</td></tr><tr><td>spirál</td><td>1</td></tr><tr><td>strandlabda</td><td>1</td></tr><tr><td>szalvéta</td><td>6</td></tr><tr><td>számológép</td><td>2</td></tr><tr><td>szemetes</td><td>1</td></tr><tr><td>színes</td><td>2</td></tr><tr><td>szögmérő</td><td>3</td></tr><tr><td>szövegkiemelő</td><td>5</td></tr><tr><td>táblafilc</td><td>1</td></tr><tr><td>tapétavágó</td><td>1</td></tr><tr><td>tempera</td><td>2</td></tr><tr><td>térképtű</td><td>1</td></tr><tr><td>tintapatron</td><td>3</td></tr><tr><td>toll</td><td>2</td></tr><tr><td>tollbetét</td><td>18</td></tr><tr><td>tolltartó</td><td>7</td></tr><tr><td>toner</td><td>1</td></tr><tr><td>töltőtoll</td><td>1</td></tr><tr><td>tűzőgép</td><td>6</td></tr><tr><td>tűzőkapocs</td><td>2</td></tr><tr><td>vízfesték</td><td>4</td></tr><tr><td>vonalzó</td><td>6</td></tr><tr><td>zászló</td><td>1</td></tr><tr><td>zseléstoll</td><td>4</td></tr></table>"
                    },
                    "metadata": {}
                }
            ],
            "execution_count": 22
        },
        {
            "cell_type": "markdown",
            "source": [
                "8. <span style=\"font-weight: 600; color: rgb(36, 41, 47); font-family: -apple-system, BlinkMacSystemFont, &quot;Segoe UI&quot;, Helvetica, Arial, sans-serif, &quot;Apple Color Emoji&quot;, &quot;Segoe UI Emoji&quot;; font-size: 16px;\">Készítsünk listát a rendelési tételekről. Az egyes rendelési tételeket termékenként soroljuk be 4 osztályba a rendelés mennyisége alapján. Jelenítsük meg ezt az információt is egy új oszlopban, az oszlop neve legyen 'Mennyiségi kategória'.</span>\n",
                "\n",
                "1. A lista csak a 100 Ft feletti egységárú rendelési tételeket vegye figyelembe!"
            ],
            "metadata": {
                "azdata_cell_guid": "27a3d3dc-eafb-4a5e-b103-9f465b9eda8f"
            },
            "attachments": {}
        },
        {
            "cell_type": "code",
            "source": [
                ""
            ],
            "metadata": {
                "azdata_cell_guid": "f09edb3f-649b-4a96-958e-9e12774ae8b7",
                "language": "sql"
            },
            "outputs": [],
            "execution_count": null
        },
        {
            "cell_type": "markdown",
            "source": [
                "9. <span style=\"font-weight: 600; color: rgb(36, 41, 47); font-family: -apple-system, BlinkMacSystemFont, &quot;Segoe UI&quot;, Helvetica, Arial, sans-serif, &quot;Apple Color Emoji&quot;, &quot;Segoe UI Emoji&quot;; font-size: 16px;\">Listázzuk a termékek kódját, megnevezését, kategóriájának nevét, és listaárát.</span>\n",
                "\n",
                "1. A listát egészítsük ki két új oszloppal, amelyek a kategória legolcsóbb, illetve legdrágább termékének árát tartalmazzák.\n",
                "2. A két új oszlop létrehozásánál partíciókkal dolgozzunk!"
            ],
            "metadata": {
                "azdata_cell_guid": "f12a331a-0e26-4d3d-9c68-812316286577"
            },
            "attachments": {}
        },
        {
            "cell_type": "code",
            "source": [
                ""
            ],
            "metadata": {
                "azdata_cell_guid": "10a77fc9-e61a-46fc-a401-59720d82bc50",
                "language": "sql"
            },
            "outputs": [],
            "execution_count": null
        },
        {
            "cell_type": "markdown",
            "source": [
                "10. <span style=\"font-weight: 600; color: rgb(36, 41, 47); font-family: -apple-system, BlinkMacSystemFont, &quot;Segoe UI&quot;, Helvetica, Arial, sans-serif, &quot;Apple Color Emoji&quot;, &quot;Segoe UI Emoji&quot;; font-size: 16px;\">Készítsünk listát a rendelésekről. A lista legyen rendezve ügyfelenként (LOGIN), azon belül a rendelés dátuma szerint. A listához készítsünk sorszámozást is. A sorszám a következő formában jelenjen meg: sorszám_év_login. Pl: 1_2015_adam1</span>\n",
                "\n",
                "1. A számozás login-onként, azon belül rendelési évenként kezdődjön újra.\n",
                "2. A sorszám oszlop neve legyen Azonosító"
            ],
            "metadata": {
                "azdata_cell_guid": "9229e2b6-e200-4499-b95b-2d0222149831"
            },
            "attachments": {}
        },
        {
            "cell_type": "code",
            "source": [
                ""
            ],
            "metadata": {
                "azdata_cell_guid": "8b49ed67-28c6-4880-82a8-cd369e5bba99",
                "language": "sql"
            },
            "outputs": [],
            "execution_count": null
        },
        {
            "cell_type": "markdown",
            "source": [
                "11. <span style=\"color: rgb(36, 41, 47); font-family: -apple-system, BlinkMacSystemFont, &quot;Segoe UI&quot;, Helvetica, Arial, sans-serif, &quot;Apple Color Emoji&quot;, &quot;Segoe UI Emoji&quot;; font-size: 16px;\">Készítsünk listát a termékek adatairól listaár szerint növekvő sorrendben! A lista jelenítse meg két új oszlopban a sorrend szerint előző, illetve következő termék listaárát is a termék saját kategóriájában és raktárában!</span>\n",
                "\n",
                "1. Ahol nincs előző vagy következő érték, ott 0 jelenjen meg!\n",
                "2. Az oszlopokat nevezzük el értelemszerűen!"
            ],
            "metadata": {
                "azdata_cell_guid": "7f5fc7a7-3b6a-4d89-b292-490830afb0c6"
            },
            "attachments": {}
        },
        {
            "cell_type": "code",
            "source": [
                ""
            ],
            "metadata": {
                "azdata_cell_guid": "4a9ece40-f782-4c0d-92cd-9c21969067ed",
                "language": "sql"
            },
            "outputs": [],
            "execution_count": null
        },
        {
            "cell_type": "markdown",
            "source": [
                "12. <span style=\"color: rgb(36, 41, 47); font-family: -apple-system, BlinkMacSystemFont, &quot;Segoe UI&quot;, Helvetica, Arial, sans-serif, &quot;Apple Color Emoji&quot;, &quot;Segoe UI Emoji&quot;; font-size: 16px;\">Listázzuk a termékek kódját, nevét és listaárát listaár szerinti sorrendben!</span>\n",
                "\n",
                "1. Vegyünk fel egy új oszlopot Mozgóátlag néven, amely minden esetben az aktuális termék, az előző, és a következő termék átlagárát tartalmazza!\n",
                "2. A mozgóátlagot kerekítsük két tizedesre!"
            ],
            "metadata": {
                "azdata_cell_guid": "5a483c52-bb98-44bb-bd03-1146d4b0abfa"
            },
            "attachments": {}
        },
        {
            "cell_type": "code",
            "source": [
                "select TERMEKKOD, MEGNEVEZES, LISTAAR, AVG(LISTAAR), over(order by LISTAAR rows BETWEEN 1 preceding and 1 following)\r\n",
                "from termek"
            ],
            "metadata": {
                "azdata_cell_guid": "dd6e89bd-08f9-4b18-8460-03c45b503df0",
                "language": "sql"
            },
            "outputs": [
                {
                    "output_type": "display_data",
                    "data": {
                        "text/html": "(551 rows affected)"
                    },
                    "metadata": {}
                },
                {
                    "output_type": "display_data",
                    "data": {
                        "text/html": "Total execution time: 00:00:00.043"
                    },
                    "metadata": {}
                },
                {
                    "output_type": "execute_result",
                    "execution_count": 28,
                    "data": {
                        "application/vnd.dataresource+json": {
                            "schema": {
                                "fields": [
                                    {
                                        "name": "TERMEKKOD"
                                    },
                                    {
                                        "name": "MEGNEVEZES"
                                    },
                                    {
                                        "name": "LISTAAR"
                                    }
                                ]
                            },
                            "data": [
                                {
                                    "TERMEKKOD": "01010001T",
                                    "MEGNEVEZES": "félfamentes rajzlap A4 (10 lap)",
                                    "LISTAAR": "342"
                                },
                                {
                                    "TERMEKKOD": "01010110T",
                                    "MEGNEVEZES": "Fotópapír A/4 fényes",
                                    "LISTAAR": "30"
                                },
                                {
                                    "TERMEKKOD": "01010304T",
                                    "MEGNEVEZES": "Öntapadós hologramos papír A/4",
                                    "LISTAAR": "59"
                                },
                                {
                                    "TERMEKKOD": "01020299T",
                                    "MEGNEVEZES": "Oklevél A/4 egyszínű",
                                    "LISTAAR": "48"
                                },
                                {
                                    "TERMEKKOD": "01020300T",
                                    "MEGNEVEZES": "Oklevél A/4 színes",
                                    "LISTAAR": "55"
                                },
                                {
                                    "TERMEKKOD": "01030091T",
                                    "MEGNEVEZES": "Emléklap A/5",
                                    "LISTAAR": "26"
                                },
                                {
                                    "TERMEKKOD": "01030092T",
                                    "MEGNEVEZES": "Esküvői meghívó",
                                    "LISTAAR": "59"
                                },
                                {
                                    "TERMEKKOD": "01040307T",
                                    "MEGNEVEZES": "Pausz papír A/4",
                                    "LISTAAR": "15"
                                },
                                {
                                    "TERMEKKOD": "01040502T",
                                    "MEGNEVEZES": "Előlap spirálhoz",
                                    "LISTAAR": "25"
                                },
                                {
                                    "TERMEKKOD": "01080093T",
                                    "MEGNEVEZES": "Fax papír 15 m",
                                    "LISTAAR": "161"
                                },
                                {
                                    "TERMEKKOD": "01080512T",
                                    "MEGNEVEZES": "Öntapadó A/4",
                                    "LISTAAR": "4575"
                                },
                                {
                                    "TERMEKKOD": "01080513T",
                                    "MEGNEVEZES": "Selyemfényű karton A/4",
                                    "LISTAAR": "38"
                                },
                                {
                                    "TERMEKKOD": "01090498T",
                                    "MEGNEVEZES": "Műnyomó 300g 17,5*20",
                                    "LISTAAR": "3"
                                },
                                {
                                    "TERMEKKOD": "01090499T",
                                    "MEGNEVEZES": "Color Copy A/4 250 g",
                                    "LISTAAR": "15"
                                },
                                {
                                    "TERMEKKOD": "01090500T",
                                    "MEGNEVEZES": "Color Copy A4 200 g",
                                    "LISTAAR": "14"
                                },
                                {
                                    "TERMEKKOD": "01090501T",
                                    "MEGNEVEZES": "Kreatív A/4 300g ",
                                    "LISTAAR": "4"
                                },
                                {
                                    "TERMEKKOD": "01090515T",
                                    "MEGNEVEZES": "Színes A/3 160 gr IQ",
                                    "LISTAAR": "11"
                                },
                                {
                                    "TERMEKKOD": "01090516T",
                                    "MEGNEVEZES": "Színes karton A4",
                                    "LISTAAR": "25"
                                },
                                {
                                    "TERMEKKOD": "01090517T",
                                    "MEGNEVEZES": "Színes ofszet B/4",
                                    "LISTAAR": "4"
                                },
                                {
                                    "TERMEKKOD": "01100070T",
                                    "MEGNEVEZES": "Dekorációs karton",
                                    "LISTAAR": "73"
                                },
                                {
                                    "TERMEKKOD": "01100071T",
                                    "MEGNEVEZES": "Dekorációs karton arany, ezüst",
                                    "LISTAAR": "89"
                                },
                                {
                                    "TERMEKKOD": "01100072T",
                                    "MEGNEVEZES": "Dipa A/4 keretezett",
                                    "LISTAAR": "9"
                                },
                                {
                                    "TERMEKKOD": "01100094T",
                                    "MEGNEVEZES": "Fénymásoló papír DataCopy",
                                    "LISTAAR": "845"
                                },
                                {
                                    "TERMEKKOD": "01100095T",
                                    "MEGNEVEZES": "Fénymásoló papír GetCopy",
                                    "LISTAAR": "728"
                                },
                                {
                                    "TERMEKKOD": "01100096T",
                                    "MEGNEVEZES": "Fénymásoló papír Qconnect",
                                    "LISTAAR": "728"
                                },
                                {
                                    "TERMEKKOD": "01100496T",
                                    "MEGNEVEZES": "Színes másoló a/4 80g",
                                    "LISTAAR": "1500"
                                },
                                {
                                    "TERMEKKOD": "01100497T",
                                    "MEGNEVEZES": "Color Copy 160 g-os ",
                                    "LISTAAR": "14"
                                },
                                {
                                    "TERMEKKOD": "01100503T",
                                    "MEGNEVEZES": "Color Copy A4 120 g",
                                    "LISTAAR": "10"
                                },
                                {
                                    "TERMEKKOD": "01100504T",
                                    "MEGNEVEZES": "Fehér másoló A/3",
                                    "LISTAAR": "1488"
                                },
                                {
                                    "TERMEKKOD": "01100505T",
                                    "MEGNEVEZES": "Fehér másoló A/4",
                                    "LISTAAR": "686"
                                },
                                {
                                    "TERMEKKOD": "01100509T",
                                    "MEGNEVEZES": "Márványos A/4",
                                    "LISTAAR": "40"
                                },
                                {
                                    "TERMEKKOD": "01100510T",
                                    "MEGNEVEZES": "Kreatív A/4 120g ",
                                    "LISTAAR": "13"
                                },
                                {
                                    "TERMEKKOD": "02010028T",
                                    "MEGNEVEZES": "Árazószalag ",
                                    "LISTAAR": "106"
                                },
                                {
                                    "TERMEKKOD": "02020029T",
                                    "MEGNEVEZES": "Átírótömb A/6",
                                    "LISTAAR": "115"
                                },
                                {
                                    "TERMEKKOD": "02020032T",
                                    "MEGNEVEZES": "Beírókönyv A5 ",
                                    "LISTAAR": "133"
                                },
                                {
                                    "TERMEKKOD": "02020033T",
                                    "MEGNEVEZES": "Beírókönyv A4",
                                    "LISTAAR": "328"
                                },
                                {
                                    "TERMEKKOD": "02020037T",
                                    "MEGNEVEZES": "Bevételi pénztárbizonylat 3×25",
                                    "LISTAAR": "144"
                                },
                                {
                                    "TERMEKKOD": "02020245T",
                                    "MEGNEVEZES": "Kiadási pénztárbizonylat 2×25",
                                    "LISTAAR": "103"
                                },
                                {
                                    "TERMEKKOD": "02020444T",
                                    "MEGNEVEZES": "Határidő napló A/6",
                                    "LISTAAR": "464"
                                },
                                {
                                    "TERMEKKOD": "02030040T",
                                    "MEGNEVEZES": "Boríték LA 4 francia",
                                    "LISTAAR": "6"
                                },
                                {
                                    "TERMEKKOD": "02030041T",
                                    "MEGNEVEZES": "Boríték LC 5",
                                    "LISTAAR": "6"
                                },
                                {
                                    "TERMEKKOD": "02030042T",
                                    "MEGNEVEZES": "Boríték LC 6",
                                    "LISTAAR": "3"
                                },
                                {
                                    "TERMEKKOD": "02030043T",
                                    "MEGNEVEZES": "Boríték légp. kicsi",
                                    "LISTAAR": "39"
                                },
                                {
                                    "TERMEKKOD": "02030044T",
                                    "MEGNEVEZES": "Boríték mintás",
                                    "LISTAAR": "15"
                                },
                                {
                                    "TERMEKKOD": "02040002T",
                                    "MEGNEVEZES": "irodai tűzőgép",
                                    "LISTAAR": "2100"
                                },
                                {
                                    "TERMEKKOD": "02040025T",
                                    "MEGNEVEZES": "Álló irattartó karton",
                                    "LISTAAR": "133"
                                },
                                {
                                    "TERMEKKOD": "02040145T",
                                    "MEGNEVEZES": "Gemkapocs 28 mm",
                                    "LISTAAR": "30"
                                },
                                {
                                    "TERMEKKOD": "02040146T",
                                    "MEGNEVEZES": "Gemkapocs ICO",
                                    "LISTAAR": "48"
                                },
                                {
                                    "TERMEKKOD": "02040147T",
                                    "MEGNEVEZES": "Genotherm lefűzhető A/5",
                                    "LISTAAR": "8"
                                },
                                {
                                    "TERMEKKOD": "02040148T",
                                    "MEGNEVEZES": "Genotherm lefűzhető A4 10db-os",
                                    "LISTAAR": "63"
                                },
                                {
                                    "TERMEKKOD": "02040149T",
                                    "MEGNEVEZES": "Genotherm A4 10db-os",
                                    "LISTAAR": "110"
                                },
                                {
                                    "TERMEKKOD": "02040176T",
                                    "MEGNEVEZES": "Gyorsfűző dosszié fehér",
                                    "LISTAAR": "18"
                                },
                                {
                                    "TERMEKKOD": "02040177T",
                                    "MEGNEVEZES": "Gyorsfűző műa.",
                                    "LISTAAR": "30"
                                },
                                {
                                    "TERMEKKOD": "02040178T",
                                    "MEGNEVEZES": "Gyorsfűző műa.",
                                    "LISTAAR": "35"
                                },
                                {
                                    "TERMEKKOD": "02040194T",
                                    "MEGNEVEZES": "Hibajav.roll.Pritt 4,2mm",
                                    "LISTAAR": "794"
                                },
                                {
                                    "TERMEKKOD": "02040195T",
                                    "MEGNEVEZES": "Hibajavító ecsetes Aqua",
                                    "LISTAAR": "185"
                                },
                                {
                                    "TERMEKKOD": "02040196T",
                                    "MEGNEVEZES": "Hibajavító készlet Blanco",
                                    "LISTAAR": "273"
                                },
                                {
                                    "TERMEKKOD": "02040197T",
                                    "MEGNEVEZES": "Hibajavító lap ",
                                    "LISTAAR": "81"
                                },
                                {
                                    "TERMEKKOD": "02040198T",
                                    "MEGNEVEZES": "Hibajavító roller 5 mm",
                                    "LISTAAR": "133"
                                },
                                {
                                    "TERMEKKOD": "02040199T",
                                    "MEGNEVEZES": "Hibajavító roller Pax",
                                    "LISTAAR": "286"
                                },
                                {
                                    "TERMEKKOD": "02040200T",
                                    "MEGNEVEZES": "Hibajavító Kores mini pen",
                                    "LISTAAR": "278"
                                },
                                {
                                    "TERMEKKOD": "02040206T",
                                    "MEGNEVEZES": "Írásvetítő fólia",
                                    "LISTAAR": "81"
                                },
                                {
                                    "TERMEKKOD": "02040207T",
                                    "MEGNEVEZES": "Iratgyűjtő ESSELTE ablakos",
                                    "LISTAAR": "19"
                                },
                                {
                                    "TERMEKKOD": "02040208T",
                                    "MEGNEVEZES": "Iratgyűjtő fehér",
                                    "LISTAAR": "19"
                                },
                                {
                                    "TERMEKKOD": "02040209T",
                                    "MEGNEVEZES": "Iratsín fehér",
                                    "LISTAAR": "44"
                                },
                                {
                                    "TERMEKKOD": "02040210T",
                                    "MEGNEVEZES": "Iratsín kék",
                                    "LISTAAR": "89"
                                },
                                {
                                    "TERMEKKOD": "02040211T",
                                    "MEGNEVEZES": "Iratrendező ESSELTE",
                                    "LISTAAR": "243"
                                },
                                {
                                    "TERMEKKOD": "02040214T",
                                    "MEGNEVEZES": "Iromány fedél feles",
                                    "LISTAAR": "59"
                                },
                                {
                                    "TERMEKKOD": "02040290T",
                                    "MEGNEVEZES": "Naptár 24-es",
                                    "LISTAAR": "89"
                                },
                                {
                                    "TERMEKKOD": "02040291T",
                                    "MEGNEVEZES": "Naptárhát kicsi",
                                    "LISTAAR": "15"
                                },
                                {
                                    "TERMEKKOD": "02040292T",
                                    "MEGNEVEZES": "Naptárhát nagy",
                                    "LISTAAR": "78"
                                },
                                {
                                    "TERMEKKOD": "02040293T",
                                    "MEGNEVEZES": "Névjegytartó kicsi",
                                    "LISTAAR": "310"
                                },
                                {
                                    "TERMEKKOD": "02040294T",
                                    "MEGNEVEZES": "Notesz A/5 sima",
                                    "LISTAAR": "103"
                                },
                                {
                                    "TERMEKKOD": "02040295T",
                                    "MEGNEVEZES": "Notesz A/5 sima spirál",
                                    "LISTAAR": "89"
                                },
                                {
                                    "TERMEKKOD": "02040296T",
                                    "MEGNEVEZES": "Notesz A/6 College",
                                    "LISTAAR": "56"
                                },
                                {
                                    "TERMEKKOD": "02040297T",
                                    "MEGNEVEZES": "Notesz sima spirál College",
                                    "LISTAAR": "103"
                                },
                                {
                                    "TERMEKKOD": "02040298T",
                                    "MEGNEVEZES": "Notesz mintás",
                                    "LISTAAR": "44"
                                },
                                {
                                    "TERMEKKOD": "02040308T",
                                    "MEGNEVEZES": "Pénztárgépsz. 2 pl. nem öníró",
                                    "LISTAAR": "81"
                                },
                                {
                                    "TERMEKKOD": "02040309T",
                                    "MEGNEVEZES": "Pénztárgépszalag 2pl SC 57.5/60",
                                    "LISTAAR": "93"
                                },
                                {
                                    "TERMEKKOD": "02040401T",
                                    "MEGNEVEZES": "Tűzőgép Boxer 10",
                                    "LISTAAR": "339"
                                },
                                {
                                    "TERMEKKOD": "02040402T",
                                    "MEGNEVEZES": "Tűzőgép Boxer ",
                                    "LISTAAR": "286"
                                },
                                {
                                    "TERMEKKOD": "02040403T",
                                    "MEGNEVEZES": "Tűzőgép SAX 239",
                                    "LISTAAR": "1351"
                                },
                                {
                                    "TERMEKKOD": "02040404T",
                                    "MEGNEVEZES": "Tűzőgép EAGLE",
                                    "LISTAAR": "405"
                                },
                                {
                                    "TERMEKKOD": "02040405T",
                                    "MEGNEVEZES": "Tűzőkapocs 10-es",
                                    "LISTAAR": "44"
                                },
                                {
                                    "TERMEKKOD": "02040406T",
                                    "MEGNEVEZES": "Tűzőkapocs 24/6",
                                    "LISTAAR": "34"
                                },
                                {
                                    "TERMEKKOD": "02040506T",
                                    "MEGNEVEZES": "Fólia tasakos A4 125 mik.",
                                    "LISTAAR": "44"
                                },
                                {
                                    "TERMEKKOD": "02040507T",
                                    "MEGNEVEZES": "Fólia tasakos A4 80 mik.",
                                    "LISTAAR": "40"
                                },
                                {
                                    "TERMEKKOD": "02040508T",
                                    "MEGNEVEZES": "Fólia tasakos A4100 mik.",
                                    "LISTAAR": "44"
                                },
                                {
                                    "TERMEKKOD": "02050460T",
                                    "MEGNEVEZES": "Boríték C/4-es",
                                    "LISTAAR": "15"
                                },
                                {
                                    "TERMEKKOD": "02050461T",
                                    "MEGNEVEZES": "Boríték B/4-es",
                                    "LISTAAR": "18"
                                },
                                {
                                    "TERMEKKOD": "02060034T",
                                    "MEGNEVEZES": "Bélyegzőfesték ",
                                    "LISTAAR": "297"
                                },
                                {
                                    "TERMEKKOD": "02060038T",
                                    "MEGNEVEZES": "Bélyegző IDEAL 50",
                                    "LISTAAR": "780"
                                },
                                {
                                    "TERMEKKOD": "02060039T",
                                    "MEGNEVEZES": "Bélyegző párna",
                                    "LISTAAR": "650"
                                },
                                {
                                    "TERMEKKOD": "02060447T",
                                    "MEGNEVEZES": "Bélyegző pocket",
                                    "LISTAAR": "1377"
                                },
                                {
                                    "TERMEKKOD": "02060448T",
                                    "MEGNEVEZES": "Bélyegző RP 18-47",
                                    "LISTAAR": "1147"
                                },
                                {
                                    "TERMEKKOD": "02080069T",
                                    "MEGNEVEZES": "CD tartó tok",
                                    "LISTAAR": "30"
                                },
                                {
                                    "TERMEKKOD": "02080081T",
                                    "MEGNEVEZES": "Dvd",
                                    "LISTAAR": "133"
                                },
                                {
                                    "TERMEKKOD": "02080109T",
                                    "MEGNEVEZES": "Floppy lemez",
                                    "LISTAAR": "51"
                                },
                                {
                                    "TERMEKKOD": "02080226T",
                                    "MEGNEVEZES": "Kapocskiszedő",
                                    "LISTAAR": "106"
                                },
                                {
                                    "TERMEKKOD": "02080431T",
                                    "MEGNEVEZES": "Álló irattartó",
                                    "LISTAAR": "214"
                                },
                                {
                                    "TERMEKKOD": "02080432T",
                                    "MEGNEVEZES": "Tokos iratrendező",
                                    "LISTAAR": "259"
                                },
                                {
                                    "TERMEKKOD": "02080433T",
                                    "MEGNEVEZES": "Ragasztószalag 19 mm-es",
                                    "LISTAAR": "55"
                                },
                                {
                                    "TERMEKKOD": "02080434T",
                                    "MEGNEVEZES": "Mappa müa A/4",
                                    "LISTAAR": "210"
                                },
                                {
                                    "TERMEKKOD": "02080435T",
                                    "MEGNEVEZES": "Mappa bemutató",
                                    "LISTAAR": "184"
                                },
                                {
                                    "TERMEKKOD": "02080436T",
                                    "MEGNEVEZES": "Irattartó müa. boríték A/4",
                                    "LISTAAR": "66"
                                },
                                {
                                    "TERMEKKOD": "02080449T",
                                    "MEGNEVEZES": "Térképtű színes",
                                    "LISTAAR": "103"
                                },
                                {
                                    "TERMEKKOD": "02080450T",
                                    "MEGNEVEZES": "Gémkapocs 28-as színes",
                                    "LISTAAR": "44"
                                },
                                {
                                    "TERMEKKOD": "02080451T",
                                    "MEGNEVEZES": "Gémkapocs 50-es",
                                    "LISTAAR": "103"
                                },
                                {
                                    "TERMEKKOD": "02080452T",
                                    "MEGNEVEZES": "Tűzőgép mini",
                                    "LISTAAR": "438"
                                },
                                {
                                    "TERMEKKOD": "02080453T",
                                    "MEGNEVEZES": "Lyukasztó EAGLE",
                                    "LISTAAR": "526"
                                },
                                {
                                    "TERMEKKOD": "02080454T",
                                    "MEGNEVEZES": "Lyukasztó BOXER",
                                    "LISTAAR": "765"
                                },
                                {
                                    "TERMEKKOD": "02080455T",
                                    "MEGNEVEZES": "Festékpatron BCI-3BK",
                                    "LISTAAR": "625"
                                },
                                {
                                    "TERMEKKOD": "02080456T",
                                    "MEGNEVEZES": "Genoterm HERLITZ 10-es",
                                    "LISTAAR": "89"
                                },
                                {
                                    "TERMEKKOD": "02080511T",
                                    "MEGNEVEZES": "Oki toner C",
                                    "LISTAAR": "14250"
                                },
                                {
                                    "TERMEKKOD": "02080514T",
                                    "MEGNEVEZES": "Spirál 1/4 ",
                                    "LISTAAR": "45"
                                },
                                {
                                    "TERMEKKOD": "03010342T",
                                    "MEGNEVEZES": "Ragasztószalag  TIXO",
                                    "LISTAAR": "15"
                                },
                                {
                                    "TERMEKKOD": "03010344T",
                                    "MEGNEVEZES": "Ragasztószalag nagy 12 mm",
                                    "LISTAAR": "63"
                                },
                                {
                                    "TERMEKKOD": "03010345T",
                                    "MEGNEVEZES": "Ragasztószalag széles barna",
                                    "LISTAAR": "166"
                                },
                                {
                                    "TERMEKKOD": "03050076T",
                                    "MEGNEVEZES": "Díszkötöző szalag metál nagy",
                                    "LISTAAR": "26"
                                },
                                {
                                    "TERMEKKOD": "03050077T",
                                    "MEGNEVEZES": "Diszkötöző szalag arany",
                                    "LISTAAR": "44"
                                },
                                {
                                    "TERMEKKOD": "03050078T",
                                    "MEGNEVEZES": "Díszkötöző szalag metál kicsi",
                                    "LISTAAR": "15"
                                },
                                {
                                    "TERMEKKOD": "03050079T",
                                    "MEGNEVEZES": "Díszkötöző szalag vékony",
                                    "LISTAAR": "15"
                                },
                                {
                                    "TERMEKKOD": "03050080T",
                                    "MEGNEVEZES": "Diszkötöző széles szalag",
                                    "LISTAAR": "81"
                                },
                                {
                                    "TERMEKKOD": "03050457T",
                                    "MEGNEVEZES": "Ajándék cs. tasak kicsi",
                                    "LISTAAR": "26"
                                },
                                {
                                    "TERMEKKOD": "03050458T",
                                    "MEGNEVEZES": "Ajándék cs. 2×100×70",
                                    "LISTAAR": "148"
                                },
                                {
                                    "TERMEKKOD": "03050459T",
                                    "MEGNEVEZES": "Talpas tasak",
                                    "LISTAAR": "40"
                                },
                                {
                                    "TERMEKKOD": "03080003T",
                                    "MEGNEVEZES": "Ajándék cs. tasak italos",
                                    "LISTAAR": "185"
                                },
                                {
                                    "TERMEKKOD": "03080004T",
                                    "MEGNEVEZES": "Ajándék cs. tasak italos, fólia",
                                    "LISTAAR": "19"
                                },
                                {
                                    "TERMEKKOD": "03080005T",
                                    "MEGNEVEZES": "Ajándék cs. tasak virágos nagy",
                                    "LISTAAR": "290"
                                },
                                {
                                    "TERMEKKOD": "03080006T",
                                    "MEGNEVEZES": "Ajándék cs. tasak mintás kicsi",
                                    "LISTAAR": "26"
                                },
                                {
                                    "TERMEKKOD": "03080007T",
                                    "MEGNEVEZES": "Ajándék cs. tasak mintás nagy",
                                    "LISTAAR": "206"
                                },
                                {
                                    "TERMEKKOD": "03080008T",
                                    "MEGNEVEZES": "Ajándék cs. tasak kicsi",
                                    "LISTAAR": "103"
                                },
                                {
                                    "TERMEKKOD": "03080009T",
                                    "MEGNEVEZES": "Ajándék csom. 100x70 metál",
                                    "LISTAAR": "148"
                                },
                                {
                                    "TERMEKKOD": "03080010T",
                                    "MEGNEVEZES": "Ajándék csom. 150x70",
                                    "LISTAAR": "206"
                                },
                                {
                                    "TERMEKKOD": "03080011T",
                                    "MEGNEVEZES": "Ajándék cs. tasak közepes",
                                    "LISTAAR": "148"
                                },
                                {
                                    "TERMEKKOD": "03080012T",
                                    "MEGNEVEZES": "Ajándék csom. 200x70",
                                    "LISTAAR": "125"
                                },
                                {
                                    "TERMEKKOD": "03080013T",
                                    "MEGNEVEZES": "Ajándék csom. 50x70 húsvéti",
                                    "LISTAAR": "64"
                                },
                                {
                                    "TERMEKKOD": "03080014T",
                                    "MEGNEVEZES": "Ajándék csom. 70x50 metál",
                                    "LISTAAR": "81"
                                },
                                {
                                    "TERMEKKOD": "03080015T",
                                    "MEGNEVEZES": "Ajándék csom. gyűrt",
                                    "LISTAAR": "169"
                                },
                                {
                                    "TERMEKKOD": "03080016T",
                                    "MEGNEVEZES": "házt.csom.  5 ív",
                                    "LISTAAR": "110"
                                },
                                {
                                    "TERMEKKOD": "03080017T",
                                    "MEGNEVEZES": "iskolai csomagoló papír",
                                    "LISTAAR": "148"
                                },
                                {
                                    "TERMEKKOD": "03080018T",
                                    "MEGNEVEZES": "Ajándék csom. gyűrt 50x70 ",
                                    "LISTAAR": "121"
                                },
                                {
                                    "TERMEKKOD": "03080019T",
                                    "MEGNEVEZES": "Ajándék csom. Krepp",
                                    "LISTAAR": "56"
                                },
                                {
                                    "TERMEKKOD": "03080020T",
                                    "MEGNEVEZES": "Ajándék csom. nagy  ",
                                    "LISTAAR": "44"
                                },
                                {
                                    "TERMEKKOD": "03080021T",
                                    "MEGNEVEZES": "Ajándék csom. vékony",
                                    "LISTAAR": "23"
                                },
                                {
                                    "TERMEKKOD": "03080030T",
                                    "MEGNEVEZES": "Ajándék cs. húsvéti 200x70",
                                    "LISTAAR": "220"
                                },
                                {
                                    "TERMEKKOD": "03080031T",
                                    "MEGNEVEZES": "Ajándék cs. húsvéti",
                                    "LISTAAR": "106"
                                },
                                {
                                    "TERMEKKOD": "03080437T",
                                    "MEGNEVEZES": "Ajándék csomagoló tasak",
                                    "LISTAAR": "185"
                                },
                                {
                                    "TERMEKKOD": "03080438T",
                                    "MEGNEVEZES": "Ajándék csomagoló tasak lézeres",
                                    "LISTAAR": "214"
                                },
                                {
                                    "TERMEKKOD": "03080439T",
                                    "MEGNEVEZES": "Italtartó doboz",
                                    "LISTAAR": "114"
                                },
                                {
                                    "TERMEKKOD": "04020445T",
                                    "MEGNEVEZES": "Határidő napló 2010-s",
                                    "LISTAAR": "728"
                                },
                                {
                                    "TERMEKKOD": "04030234T",
                                    "MEGNEVEZES": "Képeslap karácsonyi",
                                    "LISTAAR": "30"
                                },
                                {
                                    "TERMEKKOD": "04030235T",
                                    "MEGNEVEZES": "Képeslap karácsonyi borítékos",
                                    "LISTAAR": "73"
                                },
                                {
                                    "TERMEKKOD": "04030236T",
                                    "MEGNEVEZES": "Képeslap karácsonyi WD",
                                    "LISTAAR": "15"
                                },
                                {
                                    "TERMEKKOD": "04030237T",
                                    "MEGNEVEZES": "Képeslap kerek",
                                    "LISTAAR": "36"
                                },
                                {
                                    "TERMEKKOD": "04030238T",
                                    "MEGNEVEZES": "Képeslap stancolt",
                                    "LISTAAR": "59"
                                },
                                {
                                    "TERMEKKOD": "04030239T",
                                    "MEGNEVEZES": "Képeslap stancolt szív",
                                    "LISTAAR": "48"
                                },
                                {
                                    "TERMEKKOD": "04030240T",
                                    "MEGNEVEZES": "Képeslap virágos",
                                    "LISTAAR": "14"
                                },
                                {
                                    "TERMEKKOD": "04030241T",
                                    "MEGNEVEZES": "Képeslap virágos +boríték",
                                    "LISTAAR": "44"
                                },
                                {
                                    "TERMEKKOD": "04030242T",
                                    "MEGNEVEZES": "Képeslap WD +boríték",
                                    "LISTAAR": "118"
                                },
                                {
                                    "TERMEKKOD": "04030243T",
                                    "MEGNEVEZES": "Képkirakó Dirib-darab",
                                    "LISTAAR": "195"
                                },
                                {
                                    "TERMEKKOD": "04030260T",
                                    "MEGNEVEZES": "Levélpapír A/4",
                                    "LISTAAR": "15"
                                },
                                {
                                    "TERMEKKOD": "04030261T",
                                    "MEGNEVEZES": "Levélpapír állatos",
                                    "LISTAAR": "140"
                                },
                                {
                                    "TERMEKKOD": "04030262T",
                                    "MEGNEVEZES": "Levélpapír sima",
                                    "LISTAAR": "56"
                                },
                                {
                                    "TERMEKKOD": "04030263T",
                                    "MEGNEVEZES": "Levélpapír szett",
                                    "LISTAAR": "89"
                                },
                                {
                                    "TERMEKKOD": "04030264T",
                                    "MEGNEVEZES": "Levélpapír szett ",
                                    "LISTAAR": "74"
                                },
                                {
                                    "TERMEKKOD": "04030265T",
                                    "MEGNEVEZES": "Levélpapír szett natur, mintás",
                                    "LISTAAR": "103"
                                },
                                {
                                    "TERMEKKOD": "04030266T",
                                    "MEGNEVEZES": "Levélpapír szett virágos",
                                    "LISTAAR": "169"
                                },
                                {
                                    "TERMEKKOD": "04030285T",
                                    "MEGNEVEZES": "Mikulás zacskó",
                                    "LISTAAR": "11"
                                },
                                {
                                    "TERMEKKOD": "04030286T",
                                    "MEGNEVEZES": "Műanyag állatok",
                                    "LISTAAR": "44"
                                },
                                {
                                    "TERMEKKOD": "04030287T",
                                    "MEGNEVEZES": "Műanyag foszforeszkáló állat",
                                    "LISTAAR": "23"
                                },
                                {
                                    "TERMEKKOD": "04030288T",
                                    "MEGNEVEZES": "Műanyag pohár 1 dl-es",
                                    "LISTAAR": "3"
                                },
                                {
                                    "TERMEKKOD": "04030289T",
                                    "MEGNEVEZES": "Műanyag pohár 5 cl-es",
                                    "LISTAAR": "15"
                                },
                                {
                                    "TERMEKKOD": "04040090T",
                                    "MEGNEVEZES": "Emlékkönyv",
                                    "LISTAAR": "526"
                                },
                                {
                                    "TERMEKKOD": "04040387T",
                                    "MEGNEVEZES": "Tenisz labda",
                                    "LISTAAR": "81"
                                },
                                {
                                    "TERMEKKOD": "04050022T",
                                    "MEGNEVEZES": "Álarc",
                                    "LISTAAR": "89"
                                },
                                {
                                    "TERMEKKOD": "04050023T",
                                    "MEGNEVEZES": "Álarc fejdísz",
                                    "LISTAAR": "144"
                                },
                                {
                                    "TERMEKKOD": "04050024T",
                                    "MEGNEVEZES": "Álarc szemüveg",
                                    "LISTAAR": "144"
                                },
                                {
                                    "TERMEKKOD": "04050035T",
                                    "MEGNEVEZES": "Bérlet tok",
                                    "LISTAAR": "24"
                                },
                                {
                                    "TERMEKKOD": "04050073T",
                                    "MEGNEVEZES": "Díszdoboz kar.",
                                    "LISTAAR": "61"
                                },
                                {
                                    "TERMEKKOD": "04050074T",
                                    "MEGNEVEZES": "Díszdoboz tollnak 2 db-os",
                                    "LISTAAR": "66"
                                },
                                {
                                    "TERMEKKOD": "04050075T",
                                    "MEGNEVEZES": "Díszdoboz tollnak 2 db-os keskeny",
                                    "LISTAAR": "44"
                                },
                                {
                                    "TERMEKKOD": "04050171T",
                                    "MEGNEVEZES": "Gumilabda közepes",
                                    "LISTAAR": "110"
                                },
                                {
                                    "TERMEKKOD": "04050187T",
                                    "MEGNEVEZES": "Hajgumi macis",
                                    "LISTAAR": "66"
                                },
                                {
                                    "TERMEKKOD": "04050203T",
                                    "MEGNEVEZES": "Hűtőmágnes",
                                    "LISTAAR": "24"
                                },
                                {
                                    "TERMEKKOD": "04050204T",
                                    "MEGNEVEZES": "Hűtőmágnes WD",
                                    "LISTAAR": "169"
                                },
                                {
                                    "TERMEKKOD": "04050220T",
                                    "MEGNEVEZES": "Játék autó",
                                    "LISTAAR": "65"
                                },
                                {
                                    "TERMEKKOD": "04050221T",
                                    "MEGNEVEZES": "Játékautó Blisteres",
                                    "LISTAAR": "133"
                                },
                                {
                                    "TERMEKKOD": "04050222T",
                                    "MEGNEVEZES": "Játékautó elemes",
                                    "LISTAAR": "165"
                                },
                                {
                                    "TERMEKKOD": "04050223T",
                                    "MEGNEVEZES": "Játékautó mini",
                                    "LISTAAR": "73"
                                },
                                {
                                    "TERMEKKOD": "04050224T",
                                    "MEGNEVEZES": "Jelzőkréta",
                                    "LISTAAR": "48"
                                },
                                {
                                    "TERMEKKOD": "04050225T",
                                    "MEGNEVEZES": "Kártya mini Magyar",
                                    "LISTAAR": "131"
                                },
                                {
                                    "TERMEKKOD": "04050250T",
                                    "MEGNEVEZES": "Kulcstartó autós",
                                    "LISTAAR": "115"
                                },
                                {
                                    "TERMEKKOD": "04050251T",
                                    "MEGNEVEZES": "Kulcstartó billiárd golyós",
                                    "LISTAAR": "148"
                                },
                                {
                                    "TERMEKKOD": "04050252T",
                                    "MEGNEVEZES": "Kulcstartó Csőrikés",
                                    "LISTAAR": "124"
                                },
                                {
                                    "TERMEKKOD": "04050253T",
                                    "MEGNEVEZES": "Kulcstartó figurás",
                                    "LISTAAR": "103"
                                },
                                {
                                    "TERMEKKOD": "04050254T",
                                    "MEGNEVEZES": "Kulcstartó intarziás állatos",
                                    "LISTAAR": "155"
                                },
                                {
                                    "TERMEKKOD": "04050255T",
                                    "MEGNEVEZES": "Kulcstartó mesefigurás",
                                    "LISTAAR": "36"
                                },
                                {
                                    "TERMEKKOD": "04050256T",
                                    "MEGNEVEZES": "Kulcstartó nagyítós",
                                    "LISTAAR": "129"
                                },
                                {
                                    "TERMEKKOD": "04050267T",
                                    "MEGNEVEZES": "Logikai készlet",
                                    "LISTAAR": "129"
                                },
                                {
                                    "TERMEKKOD": "04050268T",
                                    "MEGNEVEZES": "Lufi formázható",
                                    "LISTAAR": "15"
                                },
                                {
                                    "TERMEKKOD": "04050269T",
                                    "MEGNEVEZES": "Lufi hullámos",
                                    "LISTAAR": "11"
                                },
                                {
                                    "TERMEKKOD": "04050320T",
                                    "MEGNEVEZES": "Plüss  QX állatok",
                                    "LISTAAR": "173"
                                },
                                {
                                    "TERMEKKOD": "04050321T",
                                    "MEGNEVEZES": "Plüss kicsi",
                                    "LISTAAR": "161"
                                },
                                {
                                    "TERMEKKOD": "04050322T",
                                    "MEGNEVEZES": "Plüss sárkány",
                                    "LISTAAR": "314"
                                },
                                {
                                    "TERMEKKOD": "04050358T",
                                    "MEGNEVEZES": "Strandlabda ",
                                    "LISTAAR": "356"
                                },
                                {
                                    "TERMEKKOD": "04080270T",
                                    "MEGNEVEZES": "Mappa bőr A5",
                                    "LISTAAR": "1765"
                                },
                                {
                                    "TERMEKKOD": "04080271T",
                                    "MEGNEVEZES": "Mappa PVC villámzáras",
                                    "LISTAAR": "264"
                                },
                                {
                                    "TERMEKKOD": "04080272T",
                                    "MEGNEVEZES": "Mappa PVC villámzáras  képes",
                                    "LISTAAR": "360"
                                },
                                {
                                    "TERMEKKOD": "04080442T",
                                    "MEGNEVEZES": "Emlékkönyv",
                                    "LISTAAR": "316"
                                },
                                {
                                    "TERMEKKOD": "04080443T",
                                    "MEGNEVEZES": "Emlékkönyv lakatos",
                                    "LISTAAR": "449"
                                },
                                {
                                    "TERMEKKOD": "04110066T",
                                    "MEGNEVEZES": "Címke 8 db-os",
                                    "LISTAAR": "26"
                                },
                                {
                                    "TERMEKKOD": "04110067T",
                                    "MEGNEVEZES": "Címke WD. állat",
                                    "LISTAAR": "31"
                                },
                                {
                                    "TERMEKKOD": "04110068T",
                                    "MEGNEVEZES": "Címke egyszínű",
                                    "LISTAAR": "20"
                                },
                                {
                                    "TERMEKKOD": "04110227T",
                                    "MEGNEVEZES": "Képeslap  borítékos",
                                    "LISTAAR": "33"
                                },
                                {
                                    "TERMEKKOD": "04110228T",
                                    "MEGNEVEZES": "Képeslap \"Nászajándék\"",
                                    "LISTAAR": "184"
                                },
                                {
                                    "TERMEKKOD": "04110229T",
                                    "MEGNEVEZES": "Képeslap \"Részvét\"",
                                    "LISTAAR": "33"
                                },
                                {
                                    "TERMEKKOD": "04110230T",
                                    "MEGNEVEZES": "Képeslap humoros ",
                                    "LISTAAR": "55"
                                },
                                {
                                    "TERMEKKOD": "04110231T",
                                    "MEGNEVEZES": "Képeslap humoros borítékos",
                                    "LISTAAR": "81"
                                },
                                {
                                    "TERMEKKOD": "04110232T",
                                    "MEGNEVEZES": "Képeslap humoros kaparós",
                                    "LISTAAR": "51"
                                },
                                {
                                    "TERMEKKOD": "04110233T",
                                    "MEGNEVEZES": "Képeslap humoros",
                                    "LISTAAR": "89"
                                },
                                {
                                    "TERMEKKOD": "04110258T",
                                    "MEGNEVEZES": "Lampion",
                                    "LISTAAR": "73"
                                },
                                {
                                    "TERMEKKOD": "04110273T",
                                    "MEGNEVEZES": "Matrica állatos",
                                    "LISTAAR": "55"
                                },
                                {
                                    "TERMEKKOD": "04110274T",
                                    "MEGNEVEZES": "Matrica autóra H",
                                    "LISTAAR": "49"
                                },
                                {
                                    "TERMEKKOD": "04110275T",
                                    "MEGNEVEZES": "Matrica motoros kicsi",
                                    "LISTAAR": "49"
                                },
                                {
                                    "TERMEKKOD": "04110276T",
                                    "MEGNEVEZES": "Matrica Stickers nagy állatos",
                                    "LISTAAR": "109"
                                },
                                {
                                    "TERMEKKOD": "04110277T",
                                    "MEGNEVEZES": "Matrica Stickers szíves",
                                    "LISTAAR": "93"
                                },
                                {
                                    "TERMEKKOD": "04110278T",
                                    "MEGNEVEZES": "Matrica Test ékszer tattoo",
                                    "LISTAAR": "161"
                                },
                                {
                                    "TERMEKKOD": "04110279T",
                                    "MEGNEVEZES": "Matrica tetoválás",
                                    "LISTAAR": "168"
                                },
                                {
                                    "TERMEKKOD": "04110280T",
                                    "MEGNEVEZES": "Matrica tetoválós kicsi",
                                    "LISTAAR": "148"
                                },
                                {
                                    "TERMEKKOD": "04110281T",
                                    "MEGNEVEZES": "Matrica világítós ",
                                    "LISTAAR": "175"
                                },
                                {
                                    "TERMEKKOD": "04110282T",
                                    "MEGNEVEZES": "Matrica WD kicsi",
                                    "LISTAAR": "56"
                                },
                                {
                                    "TERMEKKOD": "04110283T",
                                    "MEGNEVEZES": "Meghívó állatos",
                                    "LISTAAR": "155"
                                },
                                {
                                    "TERMEKKOD": "04110284T",
                                    "MEGNEVEZES": "Meghívó borítékos",
                                    "LISTAAR": "169"
                                },
                                {
                                    "TERMEKKOD": "04110362T",
                                    "MEGNEVEZES": "Szalvéta gyűjtőknek",
                                    "LISTAAR": "183"
                                },
                                {
                                    "TERMEKKOD": "05010026T",
                                    "MEGNEVEZES": "Alufólia 10 m-es",
                                    "LISTAAR": "118"
                                },
                                {
                                    "TERMEKKOD": "05010027T",
                                    "MEGNEVEZES": "Alufólia 20 m-es",
                                    "LISTAAR": "214"
                                },
                                {
                                    "TERMEKKOD": "05010306T",
                                    "MEGNEVEZES": "Papízsebkendő,10db Szindy",
                                    "LISTAAR": "20"
                                },
                                {
                                    "TERMEKKOD": "05010369T",
                                    "MEGNEVEZES": "Szemetes zsák 60 literes",
                                    "LISTAAR": "129"
                                },
                                {
                                    "TERMEKKOD": "05010370T",
                                    "MEGNEVEZES": "Szilvia csomagoló",
                                    "LISTAAR": "89"
                                },
                                {
                                    "TERMEKKOD": "05040310T",
                                    "MEGNEVEZES": "Pill.ragasztó",
                                    "LISTAAR": "103"
                                },
                                {
                                    "TERMEKKOD": "05040348T",
                                    "MEGNEVEZES": "Rajzszeg színes",
                                    "LISTAAR": "106"
                                },
                                {
                                    "TERMEKKOD": "05040349T",
                                    "MEGNEVEZES": "Rajzszeg",
                                    "LISTAAR": "63"
                                },
                                {
                                    "TERMEKKOD": "05050045T",
                                    "MEGNEVEZES": "Celofán",
                                    "LISTAAR": "46"
                                },
                                {
                                    "TERMEKKOD": "05050046T",
                                    "MEGNEVEZES": "Celofán 50 db-os",
                                    "LISTAAR": "73"
                                },
                                {
                                    "TERMEKKOD": "05050170T",
                                    "MEGNEVEZES": "Gumigyűrű",
                                    "LISTAAR": "19"
                                },
                                {
                                    "TERMEKKOD": "05050346T",
                                    "MEGNEVEZES": "Rágógumi Orbit",
                                    "LISTAAR": "89"
                                },
                                {
                                    "TERMEKKOD": "05050465T",
                                    "MEGNEVEZES": "Tapétavágó kés",
                                    "LISTAAR": "40"
                                },
                                {
                                    "TERMEKKOD": "05080340T",
                                    "MEGNEVEZES": "Ragasztó, Technokol 35g kék",
                                    "LISTAAR": "144"
                                },
                                {
                                    "TERMEKKOD": "05080341T",
                                    "MEGNEVEZES": "Ragasztó, Technokol 35g piros",
                                    "LISTAAR": "144"
                                },
                                {
                                    "TERMEKKOD": "05110359T",
                                    "MEGNEVEZES": "Szalvéta ",
                                    "LISTAAR": "176"
                                },
                                {
                                    "TERMEKKOD": "05110360T",
                                    "MEGNEVEZES": "Szalvéta egyszínű",
                                    "LISTAAR": "118"
                                },
                                {
                                    "TERMEKKOD": "05110361T",
                                    "MEGNEVEZES": "Szalvéta Goma húsvéti",
                                    "LISTAAR": "175"
                                },
                                {
                                    "TERMEKKOD": "05110363T",
                                    "MEGNEVEZES": "Szalvéta dekor",
                                    "LISTAAR": "133"
                                },
                                {
                                    "TERMEKKOD": "05110364T",
                                    "MEGNEVEZES": "Szalvéta kicsi virágos",
                                    "LISTAAR": "161"
                                },
                                {
                                    "TERMEKKOD": "06010036T",
                                    "MEGNEVEZES": "Betűtartó sin",
                                    "LISTAAR": "33"
                                },
                                {
                                    "TERMEKKOD": "06010082T",
                                    "MEGNEVEZES": "Ecset Centrum 10,11,12",
                                    "LISTAAR": "40"
                                },
                                {
                                    "TERMEKKOD": "06010083T",
                                    "MEGNEVEZES": "Ecset Centrum 7,8,9",
                                    "LISTAAR": "33"
                                },
                                {
                                    "TERMEKKOD": "06010084T",
                                    "MEGNEVEZES": "Ecset Deák 2-es",
                                    "LISTAAR": "60"
                                },
                                {
                                    "TERMEKKOD": "06010085T",
                                    "MEGNEVEZES": "Ecset Lizzy 10-es",
                                    "LISTAAR": "65"
                                },
                                {
                                    "TERMEKKOD": "06010086T",
                                    "MEGNEVEZES": "Ecset Nebulo 4-es",
                                    "LISTAAR": "36"
                                },
                                {
                                    "TERMEKKOD": "06010111T",
                                    "MEGNEVEZES": "Füzet  A/4 ",
                                    "LISTAAR": "68"
                                },
                                {
                                    "TERMEKKOD": "06010112T",
                                    "MEGNEVEZES": "Füzet  A4 mintás",
                                    "LISTAAR": "78"
                                },
                                {
                                    "TERMEKKOD": "06010113T",
                                    "MEGNEVEZES": "Füzet 31-32 szótár",
                                    "LISTAAR": "34"
                                },
                                {
                                    "TERMEKKOD": "06010114T",
                                    "MEGNEVEZES": "Füzet A/5 hangjegy 36/16",
                                    "LISTAAR": "30"
                                },
                                {
                                    "TERMEKKOD": "06010115T",
                                    "MEGNEVEZES": "Füzet A/5, mintás",
                                    "LISTAAR": "48"
                                },
                                {
                                    "TERMEKKOD": "06010201T",
                                    "MEGNEVEZES": "Hőmérő, műa.",
                                    "LISTAAR": "36"
                                },
                                {
                                    "TERMEKKOD": "06010202T",
                                    "MEGNEVEZES": "Hurkapálca 10 db-os",
                                    "LISTAAR": "23"
                                },
                                {
                                    "TERMEKKOD": "06010305T",
                                    "MEGNEVEZES": "Papírcenti 100 cm-es",
                                    "LISTAAR": "9"
                                },
                                {
                                    "TERMEKKOD": "06010343T",
                                    "MEGNEVEZES": "Ragasztószalag 19 mm-es SCOTCH+ tépő",
                                    "LISTAAR": "426"
                                },
                                {
                                    "TERMEKKOD": "06010365T",
                                    "MEGNEVEZES": "Számegyenes",
                                    "LISTAAR": "36"
                                },
                                {
                                    "TERMEKKOD": "06010366T",
                                    "MEGNEVEZES": "Számológép Roxin",
                                    "LISTAAR": "508"
                                },
                                {
                                    "TERMEKKOD": "06010367T",
                                    "MEGNEVEZES": "Számolókorong",
                                    "LISTAAR": "35"
                                },
                                {
                                    "TERMEKKOD": "06010368T",
                                    "MEGNEVEZES": "Számolópálca",
                                    "LISTAAR": "61"
                                },
                                {
                                    "TERMEKKOD": "06010373T",
                                    "MEGNEVEZES": "Színes papír I.II-IV.V-VIII-ig",
                                    "LISTAAR": "43"
                                },
                                {
                                    "TERMEKKOD": "06010374T",
                                    "MEGNEVEZES": "Szorzótábla műanyag",
                                    "LISTAAR": "45"
                                },
                                {
                                    "TERMEKKOD": "06010375T",
                                    "MEGNEVEZES": "Szögmérő 180 fokos műa.",
                                    "LISTAAR": "24"
                                },
                                {
                                    "TERMEKKOD": "06010376T",
                                    "MEGNEVEZES": "Szögmérő papír",
                                    "LISTAAR": "11"
                                },
                                {
                                    "TERMEKKOD": "06010377T",
                                    "MEGNEVEZES": "Szögmérő színes",
                                    "LISTAAR": "8"
                                },
                                {
                                    "TERMEKKOD": "06040087T",
                                    "MEGNEVEZES": "Ecset Nebuló 10-es",
                                    "LISTAAR": "79"
                                },
                                {
                                    "TERMEKKOD": "06040088T",
                                    "MEGNEVEZES": "Egészségügyi könyv",
                                    "LISTAAR": "51"
                                },
                                {
                                    "TERMEKKOD": "06040089T",
                                    "MEGNEVEZES": "Ellenőrzőborító",
                                    "LISTAAR": "5"
                                },
                                {
                                    "TERMEKKOD": "06040172T",
                                    "MEGNEVEZES": "Gumis mappa csomagolt",
                                    "LISTAAR": "195"
                                },
                                {
                                    "TERMEKKOD": "06040173T",
                                    "MEGNEVEZES": "Gumis mappa fóliázott állatos",
                                    "LISTAAR": "211"
                                },
                                {
                                    "TERMEKKOD": "06040174T",
                                    "MEGNEVEZES": "Gumis mappa ",
                                    "LISTAAR": "148"
                                },
                                {
                                    "TERMEKKOD": "06040175T",
                                    "MEGNEVEZES": "Gumis mappa Köbüki",
                                    "LISTAAR": "191"
                                },
                                {
                                    "TERMEKKOD": "06040179T",
                                    "MEGNEVEZES": "Gyurma színes 200 g-os",
                                    "LISTAAR": "180"
                                },
                                {
                                    "TERMEKKOD": "06040180T",
                                    "MEGNEVEZES": "Gyurma színes natúr",
                                    "LISTAAR": "228"
                                },
                                {
                                    "TERMEKKOD": "06040181T",
                                    "MEGNEVEZES": "Gyűjtőlap A/4",
                                    "LISTAAR": "8"
                                },
                                {
                                    "TERMEKKOD": "06040182T",
                                    "MEGNEVEZES": "Gyűrűskönyv bet. A/4",
                                    "LISTAAR": "184"
                                },
                                {
                                    "TERMEKKOD": "06040183T",
                                    "MEGNEVEZES": "Gyűrűskönyv bet. A/5",
                                    "LISTAAR": "95"
                                },
                                {
                                    "TERMEKKOD": "06040184T",
                                    "MEGNEVEZES": "Gyűrűskönyv betét A/5",
                                    "LISTAAR": "218"
                                },
                                {
                                    "TERMEKKOD": "06040185T",
                                    "MEGNEVEZES": "Gyűrűskönyv",
                                    "LISTAAR": "581"
                                },
                                {
                                    "TERMEKKOD": "06040186T",
                                    "MEGNEVEZES": "Gyűrűskönyv színes",
                                    "LISTAAR": "699"
                                },
                                {
                                    "TERMEKKOD": "06040205T",
                                    "MEGNEVEZES": "Indigó Pelikán",
                                    "LISTAAR": "15"
                                },
                                {
                                    "TERMEKKOD": "06040206T",
                                    "MEGNEVEZES": "kék indigó",
                                    "LISTAAR": "12"
                                },
                                {
                                    "TERMEKKOD": "06040212T",
                                    "MEGNEVEZES": "Írólap 10-50 ffam.",
                                    "LISTAAR": "29"
                                },
                                {
                                    "TERMEKKOD": "06040213T",
                                    "MEGNEVEZES": "Írólap 20-50 ",
                                    "LISTAAR": "34"
                                },
                                {
                                    "TERMEKKOD": "06040246T",
                                    "MEGNEVEZES": "Körző",
                                    "LISTAAR": "161"
                                },
                                {
                                    "TERMEKKOD": "06040247T",
                                    "MEGNEVEZES": "Körzőhegy grafit",
                                    "LISTAAR": "30"
                                },
                                {
                                    "TERMEKKOD": "06040248T",
                                    "MEGNEVEZES": "Körző maped",
                                    "LISTAAR": "243"
                                },
                                {
                                    "TERMEKKOD": "06040323T",
                                    "MEGNEVEZES": "Post-it 51×38 100 lapos",
                                    "LISTAAR": "36"
                                },
                                {
                                    "TERMEKKOD": "06040324T",
                                    "MEGNEVEZES": "Post-it 75×75 100 lapos",
                                    "LISTAAR": "89"
                                },
                                {
                                    "TERMEKKOD": "06040325T",
                                    "MEGNEVEZES": "Radír gyümölcsös",
                                    "LISTAAR": "40"
                                },
                                {
                                    "TERMEKKOD": "06040326T",
                                    "MEGNEVEZES": "Radír KOH-I-NOR 80",
                                    "LISTAAR": "19"
                                },
                                {
                                    "TERMEKKOD": "06040327T",
                                    "MEGNEVEZES": "Radír Koh-i-nor 40",
                                    "LISTAAR": "36"
                                },
                                {
                                    "TERMEKKOD": "06040328T",
                                    "MEGNEVEZES": "Radír Maped",
                                    "LISTAAR": "44"
                                },
                                {
                                    "TERMEKKOD": "06040329T",
                                    "MEGNEVEZES": "Radír stabilo",
                                    "LISTAAR": "44"
                                },
                                {
                                    "TERMEKKOD": "06040330T",
                                    "MEGNEVEZES": "Radír Tikky 30 ",
                                    "LISTAAR": "50"
                                },
                                {
                                    "TERMEKKOD": "06040331T",
                                    "MEGNEVEZES": "Radír Tikky 40 ",
                                    "LISTAAR": "49"
                                },
                                {
                                    "TERMEKKOD": "06040347T",
                                    "MEGNEVEZES": "Rajzlap A/4 10db ffam.",
                                    "LISTAAR": "28"
                                },
                                {
                                    "TERMEKKOD": "06040350T",
                                    "MEGNEVEZES": "Regiszteres füzet A4",
                                    "LISTAAR": "256"
                                },
                                {
                                    "TERMEKKOD": "06040351T",
                                    "MEGNEVEZES": "Regiszteres füzet A5 Hightech",
                                    "LISTAAR": "203"
                                },
                                {
                                    "TERMEKKOD": "06040352T",
                                    "MEGNEVEZES": "Rovatolt papír 20 íves",
                                    "LISTAAR": "103"
                                },
                                {
                                    "TERMEKKOD": "06040353T",
                                    "MEGNEVEZES": "Sorvezető",
                                    "LISTAAR": "8"
                                },
                                {
                                    "TERMEKKOD": "06040354T",
                                    "MEGNEVEZES": "Sp.Füzet A/4  perforált, lyuk.",
                                    "LISTAAR": "206"
                                },
                                {
                                    "TERMEKKOD": "06040355T",
                                    "MEGNEVEZES": "Sp.Füzet A/4 70-as",
                                    "LISTAAR": "155"
                                },
                                {
                                    "TERMEKKOD": "06040356T",
                                    "MEGNEVEZES": "Sp.Füzet A/4  70es",
                                    "LISTAAR": "144"
                                },
                                {
                                    "TERMEKKOD": "06040357T",
                                    "MEGNEVEZES": "Sp.Füzet A/5 70-es",
                                    "LISTAAR": "89"
                                },
                                {
                                    "TERMEKKOD": "06040378T",
                                    "MEGNEVEZES": "Szövegkiemelő vékony",
                                    "LISTAAR": "89"
                                },
                                {
                                    "TERMEKKOD": "06040379T",
                                    "MEGNEVEZES": "Szövegkiemelő ",
                                    "LISTAAR": "93"
                                },
                                {
                                    "TERMEKKOD": "06040380T",
                                    "MEGNEVEZES": "Szövegkiemelő",
                                    "LISTAAR": "78"
                                },
                                {
                                    "TERMEKKOD": "06040381T",
                                    "MEGNEVEZES": "Szövegkiemelő Videotip",
                                    "LISTAAR": "103"
                                },
                                {
                                    "TERMEKKOD": "06040382T",
                                    "MEGNEVEZES": "Táblafilc",
                                    "LISTAAR": "633"
                                },
                                {
                                    "TERMEKKOD": "06040383T",
                                    "MEGNEVEZES": "Taffet papír",
                                    "LISTAAR": "19"
                                },
                                {
                                    "TERMEKKOD": "06040384T",
                                    "MEGNEVEZES": "Technika cs. I-II-III-IV",
                                    "LISTAAR": "58"
                                },
                                {
                                    "TERMEKKOD": "06040385T",
                                    "MEGNEVEZES": "Tempera szóló ezüst",
                                    "LISTAAR": "96"
                                },
                                {
                                    "TERMEKKOD": "06040386T",
                                    "MEGNEVEZES": "Tempera szóló színes",
                                    "LISTAAR": "48"
                                },
                                {
                                    "TERMEKKOD": "06040392T",
                                    "MEGNEVEZES": "Tolltartó 1 zipzáros",
                                    "LISTAAR": "728"
                                },
                                {
                                    "TERMEKKOD": "06040393T",
                                    "MEGNEVEZES": "Tolltartó 2 részes NG.",
                                    "LISTAAR": "765"
                                },
                                {
                                    "TERMEKKOD": "06040394T",
                                    "MEGNEVEZES": "Tolltartó zipzáras",
                                    "LISTAAR": "324"
                                },
                                {
                                    "TERMEKKOD": "06040395T",
                                    "MEGNEVEZES": "Tolltartó 2 zipzáros töltött",
                                    "LISTAAR": "728"
                                },
                                {
                                    "TERMEKKOD": "06040396T",
                                    "MEGNEVEZES": "Tolltartó Garfield",
                                    "LISTAAR": "410"
                                },
                                {
                                    "TERMEKKOD": "06040397T",
                                    "MEGNEVEZES": "Tolltartó asztali",
                                    "LISTAAR": "655"
                                },
                                {
                                    "TERMEKKOD": "06040398T",
                                    "MEGNEVEZES": "Tolltartó hengeres ",
                                    "LISTAAR": "411"
                                },
                                {
                                    "TERMEKKOD": "06040399T",
                                    "MEGNEVEZES": "Tombola tömb",
                                    "LISTAAR": "125"
                                },
                                {
                                    "TERMEKKOD": "06040400T",
                                    "MEGNEVEZES": "Tornazsák",
                                    "LISTAAR": "511"
                                },
                                {
                                    "TERMEKKOD": "06040446T",
                                    "MEGNEVEZES": "Számológép tudományos",
                                    "LISTAAR": "1173"
                                },
                                {
                                    "TERMEKKOD": "06050249T",
                                    "MEGNEVEZES": "Krepp papír",
                                    "LISTAAR": "73"
                                },
                                {
                                    "TERMEKKOD": "06050301T",
                                    "MEGNEVEZES": "Olló gyerek ",
                                    "LISTAAR": "133"
                                },
                                {
                                    "TERMEKKOD": "06050302T",
                                    "MEGNEVEZES": "Olló Tagit 18 cm-es",
                                    "LISTAAR": "176"
                                },
                                {
                                    "TERMEKKOD": "06050303T",
                                    "MEGNEVEZES": "Olló, iskolai",
                                    "LISTAAR": "161"
                                },
                                {
                                    "TERMEKKOD": "06080116T",
                                    "MEGNEVEZES": "Füzet A5 1-8 osz.-ig",
                                    "LISTAAR": "34"
                                },
                                {
                                    "TERMEKKOD": "06080117T",
                                    "MEGNEVEZES": "Füzetborító A/4 átlátszó",
                                    "LISTAAR": "10"
                                },
                                {
                                    "TERMEKKOD": "06080118T",
                                    "MEGNEVEZES": "Füzetborító átlátszó A5",
                                    "LISTAAR": "8"
                                },
                                {
                                    "TERMEKKOD": "06080119T",
                                    "MEGNEVEZES": "Füzetborító mesefig.",
                                    "LISTAAR": "19"
                                },
                                {
                                    "TERMEKKOD": "06080120T",
                                    "MEGNEVEZES": "Füzetborító öntapadó kicsi",
                                    "LISTAAR": "23"
                                },
                                {
                                    "TERMEKKOD": "06080121T",
                                    "MEGNEVEZES": "Füzetborító öntapadó tekercses",
                                    "LISTAAR": "195"
                                },
                                {
                                    "TERMEKKOD": "06080122T",
                                    "MEGNEVEZES": "Füzetborító öntapadós nagy",
                                    "LISTAAR": "19"
                                },
                                {
                                    "TERMEKKOD": "06080123T",
                                    "MEGNEVEZES": "Füzettartó A/4 keménytáblás",
                                    "LISTAAR": "551"
                                },
                                {
                                    "TERMEKKOD": "06080124T",
                                    "MEGNEVEZES": "Füzettartó A/4 keménytáblás",
                                    "LISTAAR": "508"
                                },
                                {
                                    "TERMEKKOD": "06080125T",
                                    "MEGNEVEZES": "Füzettartó A/5 vastag",
                                    "LISTAAR": "411"
                                },
                                {
                                    "TERMEKKOD": "06080126T",
                                    "MEGNEVEZES": "Füzettartó A/5  ",
                                    "LISTAAR": "203"
                                },
                                {
                                    "TERMEKKOD": "06080188T",
                                    "MEGNEVEZES": "Hegyező gép",
                                    "LISTAAR": "875"
                                },
                                {
                                    "TERMEKKOD": "06080189T",
                                    "MEGNEVEZES": "Hegyező műanyag dupla",
                                    "LISTAAR": "30"
                                },
                                {
                                    "TERMEKKOD": "06080190T",
                                    "MEGNEVEZES": "Hegyező műanyag egyes",
                                    "LISTAAR": "23"
                                },
                                {
                                    "TERMEKKOD": "06080191T",
                                    "MEGNEVEZES": "Hegyező tartályos egyes",
                                    "LISTAAR": "30"
                                },
                                {
                                    "TERMEKKOD": "06080192T",
                                    "MEGNEVEZES": "Hegyző fém 1 lyukú",
                                    "LISTAAR": "70"
                                },
                                {
                                    "TERMEKKOD": "06080193T",
                                    "MEGNEVEZES": "Hegyző fém 2 lyukú",
                                    "LISTAAR": "180"
                                },
                                {
                                    "TERMEKKOD": "06080259T",
                                    "MEGNEVEZES": "Leckefüzet",
                                    "LISTAAR": "161"
                                },
                                {
                                    "TERMEKKOD": "06080332T",
                                    "MEGNEVEZES": "Radírtoll betét ER100",
                                    "LISTAAR": "74"
                                },
                                {
                                    "TERMEKKOD": "06080333T",
                                    "MEGNEVEZES": "Radírtoll betét vastag",
                                    "LISTAAR": "119"
                                },
                                {
                                    "TERMEKKOD": "06080334T",
                                    "MEGNEVEZES": "Ragasztó szalag KORES ",
                                    "LISTAAR": "133"
                                },
                                {
                                    "TERMEKKOD": "06080335T",
                                    "MEGNEVEZES": "Ragasztó 9 g Pax",
                                    "LISTAAR": "110"
                                },
                                {
                                    "TERMEKKOD": "06080336T",
                                    "MEGNEVEZES": "Ragasztó 8 g Pritt",
                                    "LISTAAR": "81"
                                },
                                {
                                    "TERMEKKOD": "06080337T",
                                    "MEGNEVEZES": "Ragasztó Gyurma",
                                    "LISTAAR": "293"
                                },
                                {
                                    "TERMEKKOD": "06080338T",
                                    "MEGNEVEZES": "Ragasztó kenőfejes Nebuló",
                                    "LISTAAR": "101"
                                },
                                {
                                    "TERMEKKOD": "06080339T",
                                    "MEGNEVEZES": "Ragasztó kores",
                                    "LISTAAR": "89"
                                },
                                {
                                    "TERMEKKOD": "06080407T",
                                    "MEGNEVEZES": "Vízfesték  12 színű nagy",
                                    "LISTAAR": "249"
                                },
                                {
                                    "TERMEKKOD": "06080408T",
                                    "MEGNEVEZES": "Vízfesték 12 db-os ",
                                    "LISTAAR": "210"
                                },
                                {
                                    "TERMEKKOD": "06080409T",
                                    "MEGNEVEZES": "Vízfesték 12 színű kerek",
                                    "LISTAAR": "180"
                                },
                                {
                                    "TERMEKKOD": "06080410T",
                                    "MEGNEVEZES": "Vízfesték 12db-os kínai",
                                    "LISTAAR": "176"
                                },
                                {
                                    "TERMEKKOD": "06080411T",
                                    "MEGNEVEZES": "Vonalzó 15 cm-es ESSELTE",
                                    "LISTAAR": "58"
                                },
                                {
                                    "TERMEKKOD": "06080412T",
                                    "MEGNEVEZES": "Vonalzó 16 cm-es LIZZY",
                                    "LISTAAR": "30"
                                },
                                {
                                    "TERMEKKOD": "06080413T",
                                    "MEGNEVEZES": "Vonalzó 30 cm",
                                    "LISTAAR": "30"
                                },
                                {
                                    "TERMEKKOD": "06080414T",
                                    "MEGNEVEZES": "Vonalzó 20 cm-es ",
                                    "LISTAAR": "30"
                                },
                                {
                                    "TERMEKKOD": "06080415T",
                                    "MEGNEVEZES": "Vonalzó 45 fokos",
                                    "LISTAAR": "30"
                                },
                                {
                                    "TERMEKKOD": "06080416T",
                                    "MEGNEVEZES": "Vonalzó 60 fokos",
                                    "LISTAAR": "33"
                                },
                                {
                                    "TERMEKKOD": "06080417T",
                                    "MEGNEVEZES": "Zászló papír",
                                    "LISTAAR": "20"
                                },
                                {
                                    "TERMEKKOD": "06080422T",
                                    "MEGNEVEZES": "Füzettartó A/4",
                                    "LISTAAR": "324"
                                },
                                {
                                    "TERMEKKOD": "06080423T",
                                    "MEGNEVEZES": "Beíró A/5 kockás",
                                    "LISTAAR": "228"
                                },
                                {
                                    "TERMEKKOD": "06080424T",
                                    "MEGNEVEZES": "Füzetborító A/4 mintás",
                                    "LISTAAR": "24"
                                },
                                {
                                    "TERMEKKOD": "06080425T",
                                    "MEGNEVEZES": "Miliméterpapír",
                                    "LISTAAR": "8"
                                },
                                {
                                    "TERMEKKOD": "06080426T",
                                    "MEGNEVEZES": "Szótárfüzet Lizzy",
                                    "LISTAAR": "161"
                                },
                                {
                                    "TERMEKKOD": "06080427T",
                                    "MEGNEVEZES": "Ablakkréta",
                                    "LISTAAR": "161"
                                },
                                {
                                    "TERMEKKOD": "06080428T",
                                    "MEGNEVEZES": "Ecsetkészlet",
                                    "LISTAAR": "180"
                                },
                                {
                                    "TERMEKKOD": "06080429T",
                                    "MEGNEVEZES": "Meghívó ballagási",
                                    "LISTAAR": "63"
                                },
                                {
                                    "TERMEKKOD": "06080430T",
                                    "MEGNEVEZES": "Öntapadős betűk",
                                    "LISTAAR": "74"
                                },
                                {
                                    "TERMEKKOD": "06080440T",
                                    "MEGNEVEZES": "Gyurma 12 szinű",
                                    "LISTAAR": "161"
                                },
                                {
                                    "TERMEKKOD": "06080441T",
                                    "MEGNEVEZES": "Gyurmakés",
                                    "LISTAAR": "121"
                                },
                                {
                                    "TERMEKKOD": "07010136T",
                                    "MEGNEVEZES": "G.toll betét PAX",
                                    "LISTAAR": "123"
                                },
                                {
                                    "TERMEKKOD": "07010137T",
                                    "MEGNEVEZES": "G.toll betét PAX tip.",
                                    "LISTAAR": "48"
                                },
                                {
                                    "TERMEKKOD": "07010138T",
                                    "MEGNEVEZES": "G.toll betét jumbo",
                                    "LISTAAR": "33"
                                },
                                {
                                    "TERMEKKOD": "07010139T",
                                    "MEGNEVEZES": "G.toll betét S7L ",
                                    "LISTAAR": "91"
                                },
                                {
                                    "TERMEKKOD": "07010140T",
                                    "MEGNEVEZES": "G.toll betét Stabilo",
                                    "LISTAAR": "23"
                                },
                                {
                                    "TERMEKKOD": "07010141T",
                                    "MEGNEVEZES": "G.toll betét X20",
                                    "LISTAAR": "15"
                                },
                                {
                                    "TERMEKKOD": "07010142T",
                                    "MEGNEVEZES": "G.toll betét Zebra F-0.7",
                                    "LISTAAR": "228"
                                },
                                {
                                    "TERMEKKOD": "07010143T",
                                    "MEGNEVEZES": "G.toll betét Zebra H-0,7",
                                    "LISTAAR": "78"
                                },
                                {
                                    "TERMEKKOD": "07010144T",
                                    "MEGNEVEZES": "G.toll betét Zebra K-0,7",
                                    "LISTAAR": "89"
                                },
                                {
                                    "TERMEKKOD": "07010244T",
                                    "MEGNEVEZES": "Kerámiatoll",
                                    "LISTAAR": "74"
                                },
                                {
                                    "TERMEKKOD": "07010371T",
                                    "MEGNEVEZES": "Színes ceruza 6-os",
                                    "LISTAAR": "99"
                                },
                                {
                                    "TERMEKKOD": "07010372T",
                                    "MEGNEVEZES": "Színes ceruza 12 szín",
                                    "LISTAAR": "161"
                                },
                                {
                                    "TERMEKKOD": "07030103T",
                                    "MEGNEVEZES": "Filctoll TINTEN PEN",
                                    "LISTAAR": "53"
                                },
                                {
                                    "TERMEKKOD": "07030104T",
                                    "MEGNEVEZES": "Filctoll vastag ARTIP",
                                    "LISTAAR": "76"
                                },
                                {
                                    "TERMEKKOD": "07030105T",
                                    "MEGNEVEZES": "Filctoll, alkoholos Centropen",
                                    "LISTAAR": "114"
                                },
                                {
                                    "TERMEKKOD": "07030106T",
                                    "MEGNEVEZES": "Filctoll, alkoholosOHP F-M-C",
                                    "LISTAAR": "103"
                                },
                                {
                                    "TERMEKKOD": "07030107T",
                                    "MEGNEVEZES": "Filctoll, textil Edding 4500",
                                    "LISTAAR": "276"
                                },
                                {
                                    "TERMEKKOD": "07030108T",
                                    "MEGNEVEZES": "Filctoll CD író",
                                    "LISTAAR": "0"
                                },
                                {
                                    "TERMEKKOD": "07040047T",
                                    "MEGNEVEZES": "Ceruza 2H-4B",
                                    "LISTAAR": "39"
                                },
                                {
                                    "TERMEKKOD": "07040048T",
                                    "MEGNEVEZES": "Ceruza arany, ezüst",
                                    "LISTAAR": "55"
                                },
                                {
                                    "TERMEKKOD": "07040049T",
                                    "MEGNEVEZES": "Ceruza Conté zöld",
                                    "LISTAAR": "40"
                                },
                                {
                                    "TERMEKKOD": "07040050T",
                                    "MEGNEVEZES": "Ceruza Cseh",
                                    "LISTAAR": "30"
                                },
                                {
                                    "TERMEKKOD": "07040051T",
                                    "MEGNEVEZES": "Ceruza háromszög ",
                                    "LISTAAR": "39"
                                },
                                {
                                    "TERMEKKOD": "07040052T",
                                    "MEGNEVEZES": "Ceruza 2H-3B Koh-i-nor",
                                    "LISTAAR": "53"
                                },
                                {
                                    "TERMEKKOD": "07040053T",
                                    "MEGNEVEZES": "Ceruza HB radiros",
                                    "LISTAAR": "23"
                                },
                                {
                                    "TERMEKKOD": "07040054T",
                                    "MEGNEVEZES": "Ceruza kártyás",
                                    "LISTAAR": "55"
                                },
                                {
                                    "TERMEKKOD": "07040055T",
                                    "MEGNEVEZES": "Ceruza piros-kék",
                                    "LISTAAR": "59"
                                },
                                {
                                    "TERMEKKOD": "07040056T",
                                    "MEGNEVEZES": "Ceruza piros-kék vékony",
                                    "LISTAAR": "40"
                                },
                                {
                                    "TERMEKKOD": "07040057T",
                                    "MEGNEVEZES": "Ceruza Progresso",
                                    "LISTAAR": "106"
                                },
                                {
                                    "TERMEKKOD": "07040058T",
                                    "MEGNEVEZES": "Ceruza radíros kínai",
                                    "LISTAAR": "11"
                                },
                                {
                                    "TERMEKKOD": "07040059T",
                                    "MEGNEVEZES": "Ceruza smaragd",
                                    "LISTAAR": "58"
                                },
                                {
                                    "TERMEKKOD": "07040060T",
                                    "MEGNEVEZES": "Ceruza stabilo swano",
                                    "LISTAAR": "36"
                                },
                                {
                                    "TERMEKKOD": "07040061T",
                                    "MEGNEVEZES": "Ceruza stabilo opera",
                                    "LISTAAR": "44"
                                },
                                {
                                    "TERMEKKOD": "07040097T",
                                    "MEGNEVEZES": "Filctoll ",
                                    "LISTAAR": "26"
                                },
                                {
                                    "TERMEKKOD": "07040098T",
                                    "MEGNEVEZES": "Filctoll document pen",
                                    "LISTAAR": "278"
                                },
                                {
                                    "TERMEKKOD": "07040099T",
                                    "MEGNEVEZES": "Filctoll Edding 750",
                                    "LISTAAR": "434"
                                },
                                {
                                    "TERMEKKOD": "07040100T",
                                    "MEGNEVEZES": "Filctoll Marvy alkoholos",
                                    "LISTAAR": "390"
                                },
                                {
                                    "TERMEKKOD": "07040101T",
                                    "MEGNEVEZES": "Filctoll permanent vastag",
                                    "LISTAAR": "140"
                                },
                                {
                                    "TERMEKKOD": "07040102T",
                                    "MEGNEVEZES": "Filctoll supra fine",
                                    "LISTAAR": "46"
                                },
                                {
                                    "TERMEKKOD": "07040127T",
                                    "MEGNEVEZES": "G. toll betét mini",
                                    "LISTAAR": "30"
                                },
                                {
                                    "TERMEKKOD": "07040128T",
                                    "MEGNEVEZES": "G. toll betét mini fém",
                                    "LISTAAR": "55"
                                },
                                {
                                    "TERMEKKOD": "07040129T",
                                    "MEGNEVEZES": "G. toll betét réz",
                                    "LISTAAR": "30"
                                },
                                {
                                    "TERMEKKOD": "07040130T",
                                    "MEGNEVEZES": "G. toll betét S7S",
                                    "LISTAAR": "80"
                                },
                                {
                                    "TERMEKKOD": "07040131T",
                                    "MEGNEVEZES": "G. toll betét UNI lachnok Fine SA-7C",
                                    "LISTAAR": "85"
                                },
                                {
                                    "TERMEKKOD": "07040132T",
                                    "MEGNEVEZES": "G.toll betét csavaros",
                                    "LISTAAR": "55"
                                },
                                {
                                    "TERMEKKOD": "07040133T",
                                    "MEGNEVEZES": "G.toll betét görbe hegyű",
                                    "LISTAAR": "39"
                                },
                                {
                                    "TERMEKKOD": "07040134T",
                                    "MEGNEVEZES": "G.toll betét illatos",
                                    "LISTAAR": "44"
                                },
                                {
                                    "TERMEKKOD": "07040135T",
                                    "MEGNEVEZES": "G.toll betét Parker ",
                                    "LISTAAR": "684"
                                },
                                {
                                    "TERMEKKOD": "07040165T",
                                    "MEGNEVEZES": "Golyóstoll UNI laknock",
                                    "LISTAAR": "218"
                                },
                                {
                                    "TERMEKKOD": "07040166T",
                                    "MEGNEVEZES": "Golyóstoll Zebra 301",
                                    "LISTAAR": "455"
                                },
                                {
                                    "TERMEKKOD": "07040167T",
                                    "MEGNEVEZES": "Golyóstoll Zebra mini",
                                    "LISTAAR": "655"
                                },
                                {
                                    "TERMEKKOD": "07040168T",
                                    "MEGNEVEZES": "Golyóstoll Zebra new hard",
                                    "LISTAAR": "189"
                                },
                                {
                                    "TERMEKKOD": "07040169T",
                                    "MEGNEVEZES": "Golyóstoll Zodiák",
                                    "LISTAAR": "94"
                                },
                                {
                                    "TERMEKKOD": "07040215T",
                                    "MEGNEVEZES": "Ironbél  2B ICO",
                                    "LISTAAR": "74"
                                },
                                {
                                    "TERMEKKOD": "07040216T",
                                    "MEGNEVEZES": "Ironbél B 0,5",
                                    "LISTAAR": "36"
                                },
                                {
                                    "TERMEKKOD": "07040217T",
                                    "MEGNEVEZES": "Ironbél H 0,5",
                                    "LISTAAR": "59"
                                },
                                {
                                    "TERMEKKOD": "07040218T",
                                    "MEGNEVEZES": "Ironbél HB 0,5",
                                    "LISTAAR": "23"
                                },
                                {
                                    "TERMEKKOD": "07040219T",
                                    "MEGNEVEZES": "Ironbél HI-POLIMER HB 0,7",
                                    "LISTAAR": "78"
                                },
                                {
                                    "TERMEKKOD": "07040257T",
                                    "MEGNEVEZES": "Lakk filc Edding 750",
                                    "LISTAAR": "434"
                                },
                                {
                                    "TERMEKKOD": "07040388T",
                                    "MEGNEVEZES": "Tintapatron /kék/",
                                    "LISTAAR": "9"
                                },
                                {
                                    "TERMEKKOD": "07040389T",
                                    "MEGNEVEZES": "Tintapatron 30 db-os kék",
                                    "LISTAAR": "360"
                                },
                                {
                                    "TERMEKKOD": "07040390T",
                                    "MEGNEVEZES": "Tintapatron színes",
                                    "LISTAAR": "11"
                                },
                                {
                                    "TERMEKKOD": "07040391T",
                                    "MEGNEVEZES": "Toll Centropen roller",
                                    "LISTAAR": "80"
                                },
                                {
                                    "TERMEKKOD": "07050462T",
                                    "MEGNEVEZES": "Töltőtoll tinta ",
                                    "LISTAAR": "493"
                                },
                                {
                                    "TERMEKKOD": "07050463T",
                                    "MEGNEVEZES": "Ceruzafogó",
                                    "LISTAAR": "36"
                                },
                                {
                                    "TERMEKKOD": "07050464T",
                                    "MEGNEVEZES": "Szövegkiemelő Staedtler",
                                    "LISTAAR": "140"
                                },
                                {
                                    "TERMEKKOD": "07080062T",
                                    "MEGNEVEZES": "Ceruza szén",
                                    "LISTAAR": "146"
                                },
                                {
                                    "TERMEKKOD": "07080063T",
                                    "MEGNEVEZES": "Ceruza szorzótáblás",
                                    "LISTAAR": "35"
                                },
                                {
                                    "TERMEKKOD": "07080064T",
                                    "MEGNEVEZES": "Ceruza zöld színű",
                                    "LISTAAR": "40"
                                },
                                {
                                    "TERMEKKOD": "07080065T",
                                    "MEGNEVEZES": "Ceruza kínai",
                                    "LISTAAR": "11"
                                },
                                {
                                    "TERMEKKOD": "07080150T",
                                    "MEGNEVEZES": "Golyóstoll",
                                    "LISTAAR": "51"
                                },
                                {
                                    "TERMEKKOD": "07080151T",
                                    "MEGNEVEZES": "Golyóstoll + ceruza Twister 2in1",
                                    "LISTAAR": "390"
                                },
                                {
                                    "TERMEKKOD": "07080152T",
                                    "MEGNEVEZES": "Golyóstoll 3 funkciós ",
                                    "LISTAAR": "1019"
                                },
                                {
                                    "TERMEKKOD": "07080153T",
                                    "MEGNEVEZES": "Golyóstoll illatos ICO",
                                    "LISTAAR": "41"
                                },
                                {
                                    "TERMEKKOD": "07080154T",
                                    "MEGNEVEZES": "Golyóstoll INOXCROM",
                                    "LISTAAR": "401"
                                },
                                {
                                    "TERMEKKOD": "07080155T",
                                    "MEGNEVEZES": "Golyóstoll",
                                    "LISTAAR": "33"
                                },
                                {
                                    "TERMEKKOD": "07080156T",
                                    "MEGNEVEZES": "Golyóstoll kupakos piros",
                                    "LISTAAR": "23"
                                },
                                {
                                    "TERMEKKOD": "07080157T",
                                    "MEGNEVEZES": "Golyóstoll Montex Hytone",
                                    "LISTAAR": "93"
                                },
                                {
                                    "TERMEKKOD": "07080158T",
                                    "MEGNEVEZES": "Golyóstoll Parker tokban",
                                    "LISTAAR": "773"
                                },
                                {
                                    "TERMEKKOD": "07080159T",
                                    "MEGNEVEZES": "Golyóstoll Pax tip.",
                                    "LISTAAR": "63"
                                },
                                {
                                    "TERMEKKOD": "07080160T",
                                    "MEGNEVEZES": "Golyóstoll penac",
                                    "LISTAAR": "239"
                                },
                                {
                                    "TERMEKKOD": "07080161T",
                                    "MEGNEVEZES": "Golyóstoll kétszínű",
                                    "LISTAAR": "44"
                                },
                                {
                                    "TERMEKKOD": "07080162T",
                                    "MEGNEVEZES": "Golyóstoll Stabilo piros",
                                    "LISTAAR": "101"
                                },
                                {
                                    "TERMEKKOD": "07080163T",
                                    "MEGNEVEZES": "Golyóstoll UNI átlátszó",
                                    "LISTAAR": "230"
                                },
                                {
                                    "TERMEKKOD": "07080164T",
                                    "MEGNEVEZES": "Golyóstoll UNI gumis",
                                    "LISTAAR": "231"
                                },
                                {
                                    "TERMEKKOD": "07080311T",
                                    "MEGNEVEZES": "Pixiron  UNI",
                                    "LISTAAR": "276"
                                },
                                {
                                    "TERMEKKOD": "07080312T",
                                    "MEGNEVEZES": "Pixiron 0,7 Handy",
                                    "LISTAAR": "125"
                                },
                                {
                                    "TERMEKKOD": "07080313T",
                                    "MEGNEVEZES": "Pixiron Centrum",
                                    "LISTAAR": "59"
                                },
                                {
                                    "TERMEKKOD": "07080314T",
                                    "MEGNEVEZES": "Pixiron Handy fém",
                                    "LISTAAR": "133"
                                },
                                {
                                    "TERMEKKOD": "07080315T",
                                    "MEGNEVEZES": "Pixiron Handy műanyag",
                                    "LISTAAR": "94"
                                },
                                {
                                    "TERMEKKOD": "07080316T",
                                    "MEGNEVEZES": "Pixiron KOH-I-NOOR",
                                    "LISTAAR": "468"
                                },
                                {
                                    "TERMEKKOD": "07080317T",
                                    "MEGNEVEZES": "Pixiron mini ",
                                    "LISTAAR": "59"
                                },
                                {
                                    "TERMEKKOD": "07080318T",
                                    "MEGNEVEZES": "Pixiron Penac",
                                    "LISTAAR": "235"
                                },
                                {
                                    "TERMEKKOD": "07080319T",
                                    "MEGNEVEZES": "Pixiron Pentel színes",
                                    "LISTAAR": "299"
                                },
                                {
                                    "TERMEKKOD": "07080418T",
                                    "MEGNEVEZES": "Zselés toll ",
                                    "LISTAAR": "95"
                                },
                                {
                                    "TERMEKKOD": "07080419T",
                                    "MEGNEVEZES": "Zselés toll MICRO",
                                    "LISTAAR": "66"
                                },
                                {
                                    "TERMEKKOD": "07080420T",
                                    "MEGNEVEZES": "Zselés toll Muhnwa",
                                    "LISTAAR": "161"
                                },
                                {
                                    "TERMEKKOD": "07080421T",
                                    "MEGNEVEZES": "Zseléstoll Lizzy Card",
                                    "LISTAAR": "228"
                                },
                                {
                                    "TERMEKKOD": "07080466T",
                                    "MEGNEVEZES": "Golyóstoll Stabiló 308",
                                    "LISTAAR": "81"
                                },
                                {
                                    "TERMEKKOD": "07080467T",
                                    "MEGNEVEZES": "Golyóstoll kétfunkciós ICO",
                                    "LISTAAR": "273"
                                },
                                {
                                    "TERMEKKOD": "07080468T",
                                    "MEGNEVEZES": "Golyóstoll háromfunkciós",
                                    "LISTAAR": "110"
                                },
                                {
                                    "TERMEKKOD": "07080469T",
                                    "MEGNEVEZES": "Golyóstoll UNIBALL 07",
                                    "LISTAAR": "364"
                                },
                                {
                                    "TERMEKKOD": "07080470T",
                                    "MEGNEVEZES": "Golyóstoll háromszög",
                                    "LISTAAR": "188"
                                },
                                {
                                    "TERMEKKOD": "07080471T",
                                    "MEGNEVEZES": "Golyóstoll levélbontós",
                                    "LISTAAR": "294"
                                },
                                {
                                    "TERMEKKOD": "08070472T",
                                    "MEGNEVEZES": "A föld amelyen élünk - Európa földrajza",
                                    "LISTAAR": "1089"
                                },
                                {
                                    "TERMEKKOD": "08070473T",
                                    "MEGNEVEZES": "A föld amelyen élünk - Távoli földrészek",
                                    "LISTAAR": "1089"
                                },
                                {
                                    "TERMEKKOD": "08070474T",
                                    "MEGNEVEZES": "A föld amelyen élünk - Hazánk földrajza",
                                    "LISTAAR": "1089"
                                },
                                {
                                    "TERMEKKOD": "08070475T",
                                    "MEGNEVEZES": "A föld amelyen élünk - munkafüzet",
                                    "LISTAAR": "440"
                                },
                                {
                                    "TERMEKKOD": "08070476T",
                                    "MEGNEVEZES": "Anyanyelvi gyakorló 2",
                                    "LISTAAR": "293"
                                },
                                {
                                    "TERMEKKOD": "08070477T",
                                    "MEGNEVEZES": "Anyanyelvi gyakorló 3",
                                    "LISTAAR": "353"
                                },
                                {
                                    "TERMEKKOD": "08070478T",
                                    "MEGNEVEZES": "Összefoglaló feladatgyüjtemény számtech.",
                                    "LISTAAR": "785"
                                },
                                {
                                    "TERMEKKOD": "08070479T",
                                    "MEGNEVEZES": "Fizika",
                                    "LISTAAR": "674"
                                },
                                {
                                    "TERMEKKOD": "08070480T",
                                    "MEGNEVEZES": "Fizika 13 éveseknek",
                                    "LISTAAR": "308"
                                },
                                {
                                    "TERMEKKOD": "08070481T",
                                    "MEGNEVEZES": "Fizika munkafüzet 13 év.",
                                    "LISTAAR": "198"
                                },
                                {
                                    "TERMEKKOD": "08070482T",
                                    "MEGNEVEZES": "Fizika munkafüzet 14 év.",
                                    "LISTAAR": "190"
                                },
                                {
                                    "TERMEKKOD": "08070483T",
                                    "MEGNEVEZES": "Fizikai feladatok és tévedések",
                                    "LISTAAR": "324"
                                },
                                {
                                    "TERMEKKOD": "08070484T",
                                    "MEGNEVEZES": "Fogalmazás lépésről lépésre",
                                    "LISTAAR": "345"
                                },
                                {
                                    "TERMEKKOD": "08070485T",
                                    "MEGNEVEZES": "Jól felkészültem-e - Fizika",
                                    "LISTAAR": "291"
                                },
                                {
                                    "TERMEKKOD": "08070486T",
                                    "MEGNEVEZES": "Matematika gyakorló 2",
                                    "LISTAAR": "403"
                                },
                                {
                                    "TERMEKKOD": "08070487T",
                                    "MEGNEVEZES": "Matematika gyakorló 3",
                                    "LISTAAR": "403"
                                },
                                {
                                    "TERMEKKOD": "08070488T",
                                    "MEGNEVEZES": "Matematika gyakorló 4",
                                    "LISTAAR": "403"
                                },
                                {
                                    "TERMEKKOD": "08070489T",
                                    "MEGNEVEZES": "RAMba zárt világ",
                                    "LISTAAR": "868"
                                },
                                {
                                    "TERMEKKOD": "08070490T",
                                    "MEGNEVEZES": "Szövegszerkesztés",
                                    "LISTAAR": "691"
                                },
                                {
                                    "TERMEKKOD": "08070491T",
                                    "MEGNEVEZES": "Szám.tech. kicsiknek",
                                    "LISTAAR": "214"
                                },
                                {
                                    "TERMEKKOD": "08070492T",
                                    "MEGNEVEZES": "Informatika",
                                    "LISTAAR": "735"
                                },
                                {
                                    "TERMEKKOD": "08070493T",
                                    "MEGNEVEZES": "Érettségi felv. fel. Matematika",
                                    "LISTAAR": "720"
                                },
                                {
                                    "TERMEKKOD": "08070494T",
                                    "MEGNEVEZES": "Érettségi felv. fel. Fizika",
                                    "LISTAAR": "440"
                                },
                                {
                                    "TERMEKKOD": "08070495T",
                                    "MEGNEVEZES": "Érettségi felv. fel. Biológia",
                                    "LISTAAR": "440"
                                },
                                {
                                    "TERMEKKOD": "F001-KB101",
                                    "MEGNEVEZES": "férfi szövet kabát",
                                    "LISTAAR": "22000"
                                },
                                {
                                    "TERMEKKOD": "F007-NA201",
                                    "MEGNEVEZES": "férfi farmer nadrág",
                                    "LISTAAR": "7890"
                                },
                                {
                                    "TERMEKKOD": "F013-NA207",
                                    "MEGNEVEZES": "férfi szövet nadrág",
                                    "LISTAAR": "11900"
                                },
                                {
                                    "TERMEKKOD": "F021-IN215",
                                    "MEGNEVEZES": "férfi ing",
                                    "LISTAAR": "6490"
                                },
                                {
                                    "TERMEKKOD": "G001-KB101",
                                    "MEGNEVEZES": "gyermek kabát (fiú)",
                                    "LISTAAR": "8900"
                                },
                                {
                                    "TERMEKKOD": "G013-NA201",
                                    "MEGNEVEZES": "gyermek farmer nadrág (fiú)",
                                    "LISTAAR": "4990"
                                },
                                {
                                    "TERMEKKOD": "G019-NA207",
                                    "MEGNEVEZES": "gyermek pamut nadrág (fiú)",
                                    "LISTAAR": "1290"
                                },
                                {
                                    "TERMEKKOD": "G023-FE301",
                                    "MEGNEVEZES": "fiú alsó",
                                    "LISTAAR": "390"
                                },
                                {
                                    "TERMEKKOD": "G029-FE307",
                                    "MEGNEVEZES": "fiú zokni",
                                    "LISTAAR": "240"
                                },
                                {
                                    "TERMEKKOD": "G038-FE316",
                                    "MEGNEVEZES": "fiú harisnya",
                                    "LISTAAR": "990"
                                },
                                {
                                    "TERMEKKOD": "G041-AL211",
                                    "MEGNEVEZES": "fiú ünneplős ruha",
                                    "LISTAAR": "16900"
                                },
                                {
                                    "TERMEKKOD": "G048-PO218",
                                    "MEGNEVEZES": "gyermek póló (fiú)",
                                    "LISTAAR": "3900"
                                },
                                {
                                    "TERMEKKOD": "G064-CI401",
                                    "MEGNEVEZES": "gyermek szandál (fiú)",
                                    "LISTAAR": "6900"
                                },
                                {
                                    "TERMEKKOD": "G073-CI410",
                                    "MEGNEVEZES": "gyermek cipő (fiú)",
                                    "LISTAAR": "7900"
                                },
                                {
                                    "TERMEKKOD": "G082-CI419",
                                    "MEGNEVEZES": "gyermek csizma (fiú)",
                                    "LISTAAR": "8000"
                                },
                                {
                                    "TERMEKKOD": "L001-KB101",
                                    "MEGNEVEZES": "gyermek kabát (lány)",
                                    "LISTAAR": "8900"
                                },
                                {
                                    "TERMEKKOD": "L013-NA201",
                                    "MEGNEVEZES": "gyermek farmer nadrág (lány)",
                                    "LISTAAR": "4990"
                                },
                                {
                                    "TERMEKKOD": "L019-NA207",
                                    "MEGNEVEZES": "gyermek pamut nadrág (lány)",
                                    "LISTAAR": "1290"
                                },
                                {
                                    "TERMEKKOD": "L023-FE301",
                                    "MEGNEVEZES": "lány alsó",
                                    "LISTAAR": "390"
                                },
                                {
                                    "TERMEKKOD": "L029-FE307",
                                    "MEGNEVEZES": "lány zokni",
                                    "LISTAAR": "240"
                                },
                                {
                                    "TERMEKKOD": "L033-FE311",
                                    "MEGNEVEZES": "lány harisnya",
                                    "LISTAAR": "990"
                                },
                                {
                                    "TERMEKKOD": "L041-AL211",
                                    "MEGNEVEZES": "lány ünneplős ruha",
                                    "LISTAAR": "16900"
                                },
                                {
                                    "TERMEKKOD": "L048-PO218",
                                    "MEGNEVEZES": "gyermek póló (lány)",
                                    "LISTAAR": "3900"
                                },
                                {
                                    "TERMEKKOD": "L064-CI401",
                                    "MEGNEVEZES": "gyermek szandál (lány)",
                                    "LISTAAR": "6900"
                                },
                                {
                                    "TERMEKKOD": "L073-CI410",
                                    "MEGNEVEZES": "gyermek cipő (lány)",
                                    "LISTAAR": "7900"
                                },
                                {
                                    "TERMEKKOD": "L082-CI419",
                                    "MEGNEVEZES": "gyermek csizma (lány)",
                                    "LISTAAR": "8000"
                                },
                                {
                                    "TERMEKKOD": "N001-KB101",
                                    "MEGNEVEZES": "női szövet kabát",
                                    "LISTAAR": "24000"
                                },
                                {
                                    "TERMEKKOD": "N008-NA201",
                                    "MEGNEVEZES": "női farmer nadrág",
                                    "LISTAAR": "8290"
                                },
                                {
                                    "TERMEKKOD": "N019-FE301",
                                    "MEGNEVEZES": "női alsó",
                                    "LISTAAR": "690"
                                },
                                {
                                    "TERMEKKOD": "N029-AL212",
                                    "MEGNEVEZES": "női koktélruha",
                                    "LISTAAR": "32000"
                                },
                                {
                                    "TERMEKKOD": "N035-AL218",
                                    "MEGNEVEZES": "kosztüm (rövid)",
                                    "LISTAAR": "39000"
                                },
                                {
                                    "TERMEKKOD": "N039-AL222",
                                    "MEGNEVEZES": "kosztüm (hosszú)",
                                    "LISTAAR": "46000"
                                },
                                {
                                    "TERMEKKOD": "U001-KI501",
                                    "MEGNEVEZES": "sál",
                                    "LISTAAR": "1990"
                                }
                            ]
                        },
                        "text/html": "<table><tr><th>TERMEKKOD</th><th>MEGNEVEZES</th><th>LISTAAR</th></tr><tr><td>01010001T</td><td>félfamentes rajzlap A4 (10 lap)</td><td>342</td></tr><tr><td>01010110T</td><td>Fotópapír A/4 fényes</td><td>30</td></tr><tr><td>01010304T</td><td>Öntapadós hologramos papír A/4</td><td>59</td></tr><tr><td>01020299T</td><td>Oklevél A/4 egyszínű</td><td>48</td></tr><tr><td>01020300T</td><td>Oklevél A/4 színes</td><td>55</td></tr><tr><td>01030091T</td><td>Emléklap A/5</td><td>26</td></tr><tr><td>01030092T</td><td>Esküvői meghívó</td><td>59</td></tr><tr><td>01040307T</td><td>Pausz papír A/4</td><td>15</td></tr><tr><td>01040502T</td><td>Előlap spirálhoz</td><td>25</td></tr><tr><td>01080093T</td><td>Fax papír 15 m</td><td>161</td></tr><tr><td>01080512T</td><td>Öntapadó A/4</td><td>4575</td></tr><tr><td>01080513T</td><td>Selyemfényű karton A/4</td><td>38</td></tr><tr><td>01090498T</td><td>Műnyomó 300g 17,5*20</td><td>3</td></tr><tr><td>01090499T</td><td>Color Copy A/4 250 g</td><td>15</td></tr><tr><td>01090500T</td><td>Color Copy A4 200 g</td><td>14</td></tr><tr><td>01090501T</td><td>Kreatív A/4 300g </td><td>4</td></tr><tr><td>01090515T</td><td>Színes A/3 160 gr IQ</td><td>11</td></tr><tr><td>01090516T</td><td>Színes karton A4</td><td>25</td></tr><tr><td>01090517T</td><td>Színes ofszet B/4</td><td>4</td></tr><tr><td>01100070T</td><td>Dekorációs karton</td><td>73</td></tr><tr><td>01100071T</td><td>Dekorációs karton arany, ezüst</td><td>89</td></tr><tr><td>01100072T</td><td>Dipa A/4 keretezett</td><td>9</td></tr><tr><td>01100094T</td><td>Fénymásoló papír DataCopy</td><td>845</td></tr><tr><td>01100095T</td><td>Fénymásoló papír GetCopy</td><td>728</td></tr><tr><td>01100096T</td><td>Fénymásoló papír Qconnect</td><td>728</td></tr><tr><td>01100496T</td><td>Színes másoló a/4 80g</td><td>1500</td></tr><tr><td>01100497T</td><td>Color Copy 160 g-os </td><td>14</td></tr><tr><td>01100503T</td><td>Color Copy A4 120 g</td><td>10</td></tr><tr><td>01100504T</td><td>Fehér másoló A/3</td><td>1488</td></tr><tr><td>01100505T</td><td>Fehér másoló A/4</td><td>686</td></tr><tr><td>01100509T</td><td>Márványos A/4</td><td>40</td></tr><tr><td>01100510T</td><td>Kreatív A/4 120g </td><td>13</td></tr><tr><td>02010028T</td><td>Árazószalag </td><td>106</td></tr><tr><td>02020029T</td><td>Átírótömb A/6</td><td>115</td></tr><tr><td>02020032T</td><td>Beírókönyv A5 </td><td>133</td></tr><tr><td>02020033T</td><td>Beírókönyv A4</td><td>328</td></tr><tr><td>02020037T</td><td>Bevételi pénztárbizonylat 3×25</td><td>144</td></tr><tr><td>02020245T</td><td>Kiadási pénztárbizonylat 2×25</td><td>103</td></tr><tr><td>02020444T</td><td>Határidő napló A/6</td><td>464</td></tr><tr><td>02030040T</td><td>Boríték LA 4 francia</td><td>6</td></tr><tr><td>02030041T</td><td>Boríték LC 5</td><td>6</td></tr><tr><td>02030042T</td><td>Boríték LC 6</td><td>3</td></tr><tr><td>02030043T</td><td>Boríték légp. kicsi</td><td>39</td></tr><tr><td>02030044T</td><td>Boríték mintás</td><td>15</td></tr><tr><td>02040002T</td><td>irodai tűzőgép</td><td>2100</td></tr><tr><td>02040025T</td><td>Álló irattartó karton</td><td>133</td></tr><tr><td>02040145T</td><td>Gemkapocs 28 mm</td><td>30</td></tr><tr><td>02040146T</td><td>Gemkapocs ICO</td><td>48</td></tr><tr><td>02040147T</td><td>Genotherm lefűzhető A/5</td><td>8</td></tr><tr><td>02040148T</td><td>Genotherm lefűzhető A4 10db-os</td><td>63</td></tr><tr><td>02040149T</td><td>Genotherm A4 10db-os</td><td>110</td></tr><tr><td>02040176T</td><td>Gyorsfűző dosszié fehér</td><td>18</td></tr><tr><td>02040177T</td><td>Gyorsfűző műa.</td><td>30</td></tr><tr><td>02040178T</td><td>Gyorsfűző műa.</td><td>35</td></tr><tr><td>02040194T</td><td>Hibajav.roll.Pritt 4,2mm</td><td>794</td></tr><tr><td>02040195T</td><td>Hibajavító ecsetes Aqua</td><td>185</td></tr><tr><td>02040196T</td><td>Hibajavító készlet Blanco</td><td>273</td></tr><tr><td>02040197T</td><td>Hibajavító lap </td><td>81</td></tr><tr><td>02040198T</td><td>Hibajavító roller 5 mm</td><td>133</td></tr><tr><td>02040199T</td><td>Hibajavító roller Pax</td><td>286</td></tr><tr><td>02040200T</td><td>Hibajavító Kores mini pen</td><td>278</td></tr><tr><td>02040206T</td><td>Írásvetítő fólia</td><td>81</td></tr><tr><td>02040207T</td><td>Iratgyűjtő ESSELTE ablakos</td><td>19</td></tr><tr><td>02040208T</td><td>Iratgyűjtő fehér</td><td>19</td></tr><tr><td>02040209T</td><td>Iratsín fehér</td><td>44</td></tr><tr><td>02040210T</td><td>Iratsín kék</td><td>89</td></tr><tr><td>02040211T</td><td>Iratrendező ESSELTE</td><td>243</td></tr><tr><td>02040214T</td><td>Iromány fedél feles</td><td>59</td></tr><tr><td>02040290T</td><td>Naptár 24-es</td><td>89</td></tr><tr><td>02040291T</td><td>Naptárhát kicsi</td><td>15</td></tr><tr><td>02040292T</td><td>Naptárhát nagy</td><td>78</td></tr><tr><td>02040293T</td><td>Névjegytartó kicsi</td><td>310</td></tr><tr><td>02040294T</td><td>Notesz A/5 sima</td><td>103</td></tr><tr><td>02040295T</td><td>Notesz A/5 sima spirál</td><td>89</td></tr><tr><td>02040296T</td><td>Notesz A/6 College</td><td>56</td></tr><tr><td>02040297T</td><td>Notesz sima spirál College</td><td>103</td></tr><tr><td>02040298T</td><td>Notesz mintás</td><td>44</td></tr><tr><td>02040308T</td><td>Pénztárgépsz. 2 pl. nem öníró</td><td>81</td></tr><tr><td>02040309T</td><td>Pénztárgépszalag 2pl SC 57.5/60</td><td>93</td></tr><tr><td>02040401T</td><td>Tűzőgép Boxer 10</td><td>339</td></tr><tr><td>02040402T</td><td>Tűzőgép Boxer </td><td>286</td></tr><tr><td>02040403T</td><td>Tűzőgép SAX 239</td><td>1351</td></tr><tr><td>02040404T</td><td>Tűzőgép EAGLE</td><td>405</td></tr><tr><td>02040405T</td><td>Tűzőkapocs 10-es</td><td>44</td></tr><tr><td>02040406T</td><td>Tűzőkapocs 24/6</td><td>34</td></tr><tr><td>02040506T</td><td>Fólia tasakos A4 125 mik.</td><td>44</td></tr><tr><td>02040507T</td><td>Fólia tasakos A4 80 mik.</td><td>40</td></tr><tr><td>02040508T</td><td>Fólia tasakos A4100 mik.</td><td>44</td></tr><tr><td>02050460T</td><td>Boríték C/4-es</td><td>15</td></tr><tr><td>02050461T</td><td>Boríték B/4-es</td><td>18</td></tr><tr><td>02060034T</td><td>Bélyegzőfesték </td><td>297</td></tr><tr><td>02060038T</td><td>Bélyegző IDEAL 50</td><td>780</td></tr><tr><td>02060039T</td><td>Bélyegző párna</td><td>650</td></tr><tr><td>02060447T</td><td>Bélyegző pocket</td><td>1377</td></tr><tr><td>02060448T</td><td>Bélyegző RP 18-47</td><td>1147</td></tr><tr><td>02080069T</td><td>CD tartó tok</td><td>30</td></tr><tr><td>02080081T</td><td>Dvd</td><td>133</td></tr><tr><td>02080109T</td><td>Floppy lemez</td><td>51</td></tr><tr><td>02080226T</td><td>Kapocskiszedő</td><td>106</td></tr><tr><td>02080431T</td><td>Álló irattartó</td><td>214</td></tr><tr><td>02080432T</td><td>Tokos iratrendező</td><td>259</td></tr><tr><td>02080433T</td><td>Ragasztószalag 19 mm-es</td><td>55</td></tr><tr><td>02080434T</td><td>Mappa müa A/4</td><td>210</td></tr><tr><td>02080435T</td><td>Mappa bemutató</td><td>184</td></tr><tr><td>02080436T</td><td>Irattartó müa. boríték A/4</td><td>66</td></tr><tr><td>02080449T</td><td>Térképtű színes</td><td>103</td></tr><tr><td>02080450T</td><td>Gémkapocs 28-as színes</td><td>44</td></tr><tr><td>02080451T</td><td>Gémkapocs 50-es</td><td>103</td></tr><tr><td>02080452T</td><td>Tűzőgép mini</td><td>438</td></tr><tr><td>02080453T</td><td>Lyukasztó EAGLE</td><td>526</td></tr><tr><td>02080454T</td><td>Lyukasztó BOXER</td><td>765</td></tr><tr><td>02080455T</td><td>Festékpatron BCI-3BK</td><td>625</td></tr><tr><td>02080456T</td><td>Genoterm HERLITZ 10-es</td><td>89</td></tr><tr><td>02080511T</td><td>Oki toner C</td><td>14250</td></tr><tr><td>02080514T</td><td>Spirál 1/4 </td><td>45</td></tr><tr><td>03010342T</td><td>Ragasztószalag  TIXO</td><td>15</td></tr><tr><td>03010344T</td><td>Ragasztószalag nagy 12 mm</td><td>63</td></tr><tr><td>03010345T</td><td>Ragasztószalag széles barna</td><td>166</td></tr><tr><td>03050076T</td><td>Díszkötöző szalag metál nagy</td><td>26</td></tr><tr><td>03050077T</td><td>Diszkötöző szalag arany</td><td>44</td></tr><tr><td>03050078T</td><td>Díszkötöző szalag metál kicsi</td><td>15</td></tr><tr><td>03050079T</td><td>Díszkötöző szalag vékony</td><td>15</td></tr><tr><td>03050080T</td><td>Diszkötöző széles szalag</td><td>81</td></tr><tr><td>03050457T</td><td>Ajándék cs. tasak kicsi</td><td>26</td></tr><tr><td>03050458T</td><td>Ajándék cs. 2×100×70</td><td>148</td></tr><tr><td>03050459T</td><td>Talpas tasak</td><td>40</td></tr><tr><td>03080003T</td><td>Ajándék cs. tasak italos</td><td>185</td></tr><tr><td>03080004T</td><td>Ajándék cs. tasak italos, fólia</td><td>19</td></tr><tr><td>03080005T</td><td>Ajándék cs. tasak virágos nagy</td><td>290</td></tr><tr><td>03080006T</td><td>Ajándék cs. tasak mintás kicsi</td><td>26</td></tr><tr><td>03080007T</td><td>Ajándék cs. tasak mintás nagy</td><td>206</td></tr><tr><td>03080008T</td><td>Ajándék cs. tasak kicsi</td><td>103</td></tr><tr><td>03080009T</td><td>Ajándék csom. 100x70 metál</td><td>148</td></tr><tr><td>03080010T</td><td>Ajándék csom. 150x70</td><td>206</td></tr><tr><td>03080011T</td><td>Ajándék cs. tasak közepes</td><td>148</td></tr><tr><td>03080012T</td><td>Ajándék csom. 200x70</td><td>125</td></tr><tr><td>03080013T</td><td>Ajándék csom. 50x70 húsvéti</td><td>64</td></tr><tr><td>03080014T</td><td>Ajándék csom. 70x50 metál</td><td>81</td></tr><tr><td>03080015T</td><td>Ajándék csom. gyűrt</td><td>169</td></tr><tr><td>03080016T</td><td>házt.csom.  5 ív</td><td>110</td></tr><tr><td>03080017T</td><td>iskolai csomagoló papír</td><td>148</td></tr><tr><td>03080018T</td><td>Ajándék csom. gyűrt 50x70 </td><td>121</td></tr><tr><td>03080019T</td><td>Ajándék csom. Krepp</td><td>56</td></tr><tr><td>03080020T</td><td>Ajándék csom. nagy  </td><td>44</td></tr><tr><td>03080021T</td><td>Ajándék csom. vékony</td><td>23</td></tr><tr><td>03080030T</td><td>Ajándék cs. húsvéti 200x70</td><td>220</td></tr><tr><td>03080031T</td><td>Ajándék cs. húsvéti</td><td>106</td></tr><tr><td>03080437T</td><td>Ajándék csomagoló tasak</td><td>185</td></tr><tr><td>03080438T</td><td>Ajándék csomagoló tasak lézeres</td><td>214</td></tr><tr><td>03080439T</td><td>Italtartó doboz</td><td>114</td></tr><tr><td>04020445T</td><td>Határidő napló 2010-s</td><td>728</td></tr><tr><td>04030234T</td><td>Képeslap karácsonyi</td><td>30</td></tr><tr><td>04030235T</td><td>Képeslap karácsonyi borítékos</td><td>73</td></tr><tr><td>04030236T</td><td>Képeslap karácsonyi WD</td><td>15</td></tr><tr><td>04030237T</td><td>Képeslap kerek</td><td>36</td></tr><tr><td>04030238T</td><td>Képeslap stancolt</td><td>59</td></tr><tr><td>04030239T</td><td>Képeslap stancolt szív</td><td>48</td></tr><tr><td>04030240T</td><td>Képeslap virágos</td><td>14</td></tr><tr><td>04030241T</td><td>Képeslap virágos +boríték</td><td>44</td></tr><tr><td>04030242T</td><td>Képeslap WD +boríték</td><td>118</td></tr><tr><td>04030243T</td><td>Képkirakó Dirib-darab</td><td>195</td></tr><tr><td>04030260T</td><td>Levélpapír A/4</td><td>15</td></tr><tr><td>04030261T</td><td>Levélpapír állatos</td><td>140</td></tr><tr><td>04030262T</td><td>Levélpapír sima</td><td>56</td></tr><tr><td>04030263T</td><td>Levélpapír szett</td><td>89</td></tr><tr><td>04030264T</td><td>Levélpapír szett </td><td>74</td></tr><tr><td>04030265T</td><td>Levélpapír szett natur, mintás</td><td>103</td></tr><tr><td>04030266T</td><td>Levélpapír szett virágos</td><td>169</td></tr><tr><td>04030285T</td><td>Mikulás zacskó</td><td>11</td></tr><tr><td>04030286T</td><td>Műanyag állatok</td><td>44</td></tr><tr><td>04030287T</td><td>Műanyag foszforeszkáló állat</td><td>23</td></tr><tr><td>04030288T</td><td>Műanyag pohár 1 dl-es</td><td>3</td></tr><tr><td>04030289T</td><td>Műanyag pohár 5 cl-es</td><td>15</td></tr><tr><td>04040090T</td><td>Emlékkönyv</td><td>526</td></tr><tr><td>04040387T</td><td>Tenisz labda</td><td>81</td></tr><tr><td>04050022T</td><td>Álarc</td><td>89</td></tr><tr><td>04050023T</td><td>Álarc fejdísz</td><td>144</td></tr><tr><td>04050024T</td><td>Álarc szemüveg</td><td>144</td></tr><tr><td>04050035T</td><td>Bérlet tok</td><td>24</td></tr><tr><td>04050073T</td><td>Díszdoboz kar.</td><td>61</td></tr><tr><td>04050074T</td><td>Díszdoboz tollnak 2 db-os</td><td>66</td></tr><tr><td>04050075T</td><td>Díszdoboz tollnak 2 db-os keskeny</td><td>44</td></tr><tr><td>04050171T</td><td>Gumilabda közepes</td><td>110</td></tr><tr><td>04050187T</td><td>Hajgumi macis</td><td>66</td></tr><tr><td>04050203T</td><td>Hűtőmágnes</td><td>24</td></tr><tr><td>04050204T</td><td>Hűtőmágnes WD</td><td>169</td></tr><tr><td>04050220T</td><td>Játék autó</td><td>65</td></tr><tr><td>04050221T</td><td>Játékautó Blisteres</td><td>133</td></tr><tr><td>04050222T</td><td>Játékautó elemes</td><td>165</td></tr><tr><td>04050223T</td><td>Játékautó mini</td><td>73</td></tr><tr><td>04050224T</td><td>Jelzőkréta</td><td>48</td></tr><tr><td>04050225T</td><td>Kártya mini Magyar</td><td>131</td></tr><tr><td>04050250T</td><td>Kulcstartó autós</td><td>115</td></tr><tr><td>04050251T</td><td>Kulcstartó billiárd golyós</td><td>148</td></tr><tr><td>04050252T</td><td>Kulcstartó Csőrikés</td><td>124</td></tr><tr><td>04050253T</td><td>Kulcstartó figurás</td><td>103</td></tr><tr><td>04050254T</td><td>Kulcstartó intarziás állatos</td><td>155</td></tr><tr><td>04050255T</td><td>Kulcstartó mesefigurás</td><td>36</td></tr><tr><td>04050256T</td><td>Kulcstartó nagyítós</td><td>129</td></tr><tr><td>04050267T</td><td>Logikai készlet</td><td>129</td></tr><tr><td>04050268T</td><td>Lufi formázható</td><td>15</td></tr><tr><td>04050269T</td><td>Lufi hullámos</td><td>11</td></tr><tr><td>04050320T</td><td>Plüss  QX állatok</td><td>173</td></tr><tr><td>04050321T</td><td>Plüss kicsi</td><td>161</td></tr><tr><td>04050322T</td><td>Plüss sárkány</td><td>314</td></tr><tr><td>04050358T</td><td>Strandlabda </td><td>356</td></tr><tr><td>04080270T</td><td>Mappa bőr A5</td><td>1765</td></tr><tr><td>04080271T</td><td>Mappa PVC villámzáras</td><td>264</td></tr><tr><td>04080272T</td><td>Mappa PVC villámzáras  képes</td><td>360</td></tr><tr><td>04080442T</td><td>Emlékkönyv</td><td>316</td></tr><tr><td>04080443T</td><td>Emlékkönyv lakatos</td><td>449</td></tr><tr><td>04110066T</td><td>Címke 8 db-os</td><td>26</td></tr><tr><td>04110067T</td><td>Címke WD. állat</td><td>31</td></tr><tr><td>04110068T</td><td>Címke egyszínű</td><td>20</td></tr><tr><td>04110227T</td><td>Képeslap  borítékos</td><td>33</td></tr><tr><td>04110228T</td><td>Képeslap &quot;Nászajándék&quot;</td><td>184</td></tr><tr><td>04110229T</td><td>Képeslap &quot;Részvét&quot;</td><td>33</td></tr><tr><td>04110230T</td><td>Képeslap humoros </td><td>55</td></tr><tr><td>04110231T</td><td>Képeslap humoros borítékos</td><td>81</td></tr><tr><td>04110232T</td><td>Képeslap humoros kaparós</td><td>51</td></tr><tr><td>04110233T</td><td>Képeslap humoros</td><td>89</td></tr><tr><td>04110258T</td><td>Lampion</td><td>73</td></tr><tr><td>04110273T</td><td>Matrica állatos</td><td>55</td></tr><tr><td>04110274T</td><td>Matrica autóra H</td><td>49</td></tr><tr><td>04110275T</td><td>Matrica motoros kicsi</td><td>49</td></tr><tr><td>04110276T</td><td>Matrica Stickers nagy állatos</td><td>109</td></tr><tr><td>04110277T</td><td>Matrica Stickers szíves</td><td>93</td></tr><tr><td>04110278T</td><td>Matrica Test ékszer tattoo</td><td>161</td></tr><tr><td>04110279T</td><td>Matrica tetoválás</td><td>168</td></tr><tr><td>04110280T</td><td>Matrica tetoválós kicsi</td><td>148</td></tr><tr><td>04110281T</td><td>Matrica világítós </td><td>175</td></tr><tr><td>04110282T</td><td>Matrica WD kicsi</td><td>56</td></tr><tr><td>04110283T</td><td>Meghívó állatos</td><td>155</td></tr><tr><td>04110284T</td><td>Meghívó borítékos</td><td>169</td></tr><tr><td>04110362T</td><td>Szalvéta gyűjtőknek</td><td>183</td></tr><tr><td>05010026T</td><td>Alufólia 10 m-es</td><td>118</td></tr><tr><td>05010027T</td><td>Alufólia 20 m-es</td><td>214</td></tr><tr><td>05010306T</td><td>Papízsebkendő,10db Szindy</td><td>20</td></tr><tr><td>05010369T</td><td>Szemetes zsák 60 literes</td><td>129</td></tr><tr><td>05010370T</td><td>Szilvia csomagoló</td><td>89</td></tr><tr><td>05040310T</td><td>Pill.ragasztó</td><td>103</td></tr><tr><td>05040348T</td><td>Rajzszeg színes</td><td>106</td></tr><tr><td>05040349T</td><td>Rajzszeg</td><td>63</td></tr><tr><td>05050045T</td><td>Celofán</td><td>46</td></tr><tr><td>05050046T</td><td>Celofán 50 db-os</td><td>73</td></tr><tr><td>05050170T</td><td>Gumigyűrű</td><td>19</td></tr><tr><td>05050346T</td><td>Rágógumi Orbit</td><td>89</td></tr><tr><td>05050465T</td><td>Tapétavágó kés</td><td>40</td></tr><tr><td>05080340T</td><td>Ragasztó, Technokol 35g kék</td><td>144</td></tr><tr><td>05080341T</td><td>Ragasztó, Technokol 35g piros</td><td>144</td></tr><tr><td>05110359T</td><td>Szalvéta </td><td>176</td></tr><tr><td>05110360T</td><td>Szalvéta egyszínű</td><td>118</td></tr><tr><td>05110361T</td><td>Szalvéta Goma húsvéti</td><td>175</td></tr><tr><td>05110363T</td><td>Szalvéta dekor</td><td>133</td></tr><tr><td>05110364T</td><td>Szalvéta kicsi virágos</td><td>161</td></tr><tr><td>06010036T</td><td>Betűtartó sin</td><td>33</td></tr><tr><td>06010082T</td><td>Ecset Centrum 10,11,12</td><td>40</td></tr><tr><td>06010083T</td><td>Ecset Centrum 7,8,9</td><td>33</td></tr><tr><td>06010084T</td><td>Ecset Deák 2-es</td><td>60</td></tr><tr><td>06010085T</td><td>Ecset Lizzy 10-es</td><td>65</td></tr><tr><td>06010086T</td><td>Ecset Nebulo 4-es</td><td>36</td></tr><tr><td>06010111T</td><td>Füzet  A/4 </td><td>68</td></tr><tr><td>06010112T</td><td>Füzet  A4 mintás</td><td>78</td></tr><tr><td>06010113T</td><td>Füzet 31-32 szótár</td><td>34</td></tr><tr><td>06010114T</td><td>Füzet A/5 hangjegy 36/16</td><td>30</td></tr><tr><td>06010115T</td><td>Füzet A/5, mintás</td><td>48</td></tr><tr><td>06010201T</td><td>Hőmérő, műa.</td><td>36</td></tr><tr><td>06010202T</td><td>Hurkapálca 10 db-os</td><td>23</td></tr><tr><td>06010305T</td><td>Papírcenti 100 cm-es</td><td>9</td></tr><tr><td>06010343T</td><td>Ragasztószalag 19 mm-es SCOTCH+ tépő</td><td>426</td></tr><tr><td>06010365T</td><td>Számegyenes</td><td>36</td></tr><tr><td>06010366T</td><td>Számológép Roxin</td><td>508</td></tr><tr><td>06010367T</td><td>Számolókorong</td><td>35</td></tr><tr><td>06010368T</td><td>Számolópálca</td><td>61</td></tr><tr><td>06010373T</td><td>Színes papír I.II-IV.V-VIII-ig</td><td>43</td></tr><tr><td>06010374T</td><td>Szorzótábla műanyag</td><td>45</td></tr><tr><td>06010375T</td><td>Szögmérő 180 fokos műa.</td><td>24</td></tr><tr><td>06010376T</td><td>Szögmérő papír</td><td>11</td></tr><tr><td>06010377T</td><td>Szögmérő színes</td><td>8</td></tr><tr><td>06040087T</td><td>Ecset Nebuló 10-es</td><td>79</td></tr><tr><td>06040088T</td><td>Egészségügyi könyv</td><td>51</td></tr><tr><td>06040089T</td><td>Ellenőrzőborító</td><td>5</td></tr><tr><td>06040172T</td><td>Gumis mappa csomagolt</td><td>195</td></tr><tr><td>06040173T</td><td>Gumis mappa fóliázott állatos</td><td>211</td></tr><tr><td>06040174T</td><td>Gumis mappa </td><td>148</td></tr><tr><td>06040175T</td><td>Gumis mappa Köbüki</td><td>191</td></tr><tr><td>06040179T</td><td>Gyurma színes 200 g-os</td><td>180</td></tr><tr><td>06040180T</td><td>Gyurma színes natúr</td><td>228</td></tr><tr><td>06040181T</td><td>Gyűjtőlap A/4</td><td>8</td></tr><tr><td>06040182T</td><td>Gyűrűskönyv bet. A/4</td><td>184</td></tr><tr><td>06040183T</td><td>Gyűrűskönyv bet. A/5</td><td>95</td></tr><tr><td>06040184T</td><td>Gyűrűskönyv betét A/5</td><td>218</td></tr><tr><td>06040185T</td><td>Gyűrűskönyv</td><td>581</td></tr><tr><td>06040186T</td><td>Gyűrűskönyv színes</td><td>699</td></tr><tr><td>06040205T</td><td>Indigó Pelikán</td><td>15</td></tr><tr><td>06040206T</td><td>kék indigó</td><td>12</td></tr><tr><td>06040212T</td><td>Írólap 10-50 ffam.</td><td>29</td></tr><tr><td>06040213T</td><td>Írólap 20-50 </td><td>34</td></tr><tr><td>06040246T</td><td>Körző</td><td>161</td></tr><tr><td>06040247T</td><td>Körzőhegy grafit</td><td>30</td></tr><tr><td>06040248T</td><td>Körző maped</td><td>243</td></tr><tr><td>06040323T</td><td>Post-it 51×38 100 lapos</td><td>36</td></tr><tr><td>06040324T</td><td>Post-it 75×75 100 lapos</td><td>89</td></tr><tr><td>06040325T</td><td>Radír gyümölcsös</td><td>40</td></tr><tr><td>06040326T</td><td>Radír KOH-I-NOR 80</td><td>19</td></tr><tr><td>06040327T</td><td>Radír Koh-i-nor 40</td><td>36</td></tr><tr><td>06040328T</td><td>Radír Maped</td><td>44</td></tr><tr><td>06040329T</td><td>Radír stabilo</td><td>44</td></tr><tr><td>06040330T</td><td>Radír Tikky 30 </td><td>50</td></tr><tr><td>06040331T</td><td>Radír Tikky 40 </td><td>49</td></tr><tr><td>06040347T</td><td>Rajzlap A/4 10db ffam.</td><td>28</td></tr><tr><td>06040350T</td><td>Regiszteres füzet A4</td><td>256</td></tr><tr><td>06040351T</td><td>Regiszteres füzet A5 Hightech</td><td>203</td></tr><tr><td>06040352T</td><td>Rovatolt papír 20 íves</td><td>103</td></tr><tr><td>06040353T</td><td>Sorvezető</td><td>8</td></tr><tr><td>06040354T</td><td>Sp.Füzet A/4  perforált, lyuk.</td><td>206</td></tr><tr><td>06040355T</td><td>Sp.Füzet A/4 70-as</td><td>155</td></tr><tr><td>06040356T</td><td>Sp.Füzet A/4  70es</td><td>144</td></tr><tr><td>06040357T</td><td>Sp.Füzet A/5 70-es</td><td>89</td></tr><tr><td>06040378T</td><td>Szövegkiemelő vékony</td><td>89</td></tr><tr><td>06040379T</td><td>Szövegkiemelő </td><td>93</td></tr><tr><td>06040380T</td><td>Szövegkiemelő</td><td>78</td></tr><tr><td>06040381T</td><td>Szövegkiemelő Videotip</td><td>103</td></tr><tr><td>06040382T</td><td>Táblafilc</td><td>633</td></tr><tr><td>06040383T</td><td>Taffet papír</td><td>19</td></tr><tr><td>06040384T</td><td>Technika cs. I-II-III-IV</td><td>58</td></tr><tr><td>06040385T</td><td>Tempera szóló ezüst</td><td>96</td></tr><tr><td>06040386T</td><td>Tempera szóló színes</td><td>48</td></tr><tr><td>06040392T</td><td>Tolltartó 1 zipzáros</td><td>728</td></tr><tr><td>06040393T</td><td>Tolltartó 2 részes NG.</td><td>765</td></tr><tr><td>06040394T</td><td>Tolltartó zipzáras</td><td>324</td></tr><tr><td>06040395T</td><td>Tolltartó 2 zipzáros töltött</td><td>728</td></tr><tr><td>06040396T</td><td>Tolltartó Garfield</td><td>410</td></tr><tr><td>06040397T</td><td>Tolltartó asztali</td><td>655</td></tr><tr><td>06040398T</td><td>Tolltartó hengeres </td><td>411</td></tr><tr><td>06040399T</td><td>Tombola tömb</td><td>125</td></tr><tr><td>06040400T</td><td>Tornazsák</td><td>511</td></tr><tr><td>06040446T</td><td>Számológép tudományos</td><td>1173</td></tr><tr><td>06050249T</td><td>Krepp papír</td><td>73</td></tr><tr><td>06050301T</td><td>Olló gyerek </td><td>133</td></tr><tr><td>06050302T</td><td>Olló Tagit 18 cm-es</td><td>176</td></tr><tr><td>06050303T</td><td>Olló, iskolai</td><td>161</td></tr><tr><td>06080116T</td><td>Füzet A5 1-8 osz.-ig</td><td>34</td></tr><tr><td>06080117T</td><td>Füzetborító A/4 átlátszó</td><td>10</td></tr><tr><td>06080118T</td><td>Füzetborító átlátszó A5</td><td>8</td></tr><tr><td>06080119T</td><td>Füzetborító mesefig.</td><td>19</td></tr><tr><td>06080120T</td><td>Füzetborító öntapadó kicsi</td><td>23</td></tr><tr><td>06080121T</td><td>Füzetborító öntapadó tekercses</td><td>195</td></tr><tr><td>06080122T</td><td>Füzetborító öntapadós nagy</td><td>19</td></tr><tr><td>06080123T</td><td>Füzettartó A/4 keménytáblás</td><td>551</td></tr><tr><td>06080124T</td><td>Füzettartó A/4 keménytáblás</td><td>508</td></tr><tr><td>06080125T</td><td>Füzettartó A/5 vastag</td><td>411</td></tr><tr><td>06080126T</td><td>Füzettartó A/5  </td><td>203</td></tr><tr><td>06080188T</td><td>Hegyező gép</td><td>875</td></tr><tr><td>06080189T</td><td>Hegyező műanyag dupla</td><td>30</td></tr><tr><td>06080190T</td><td>Hegyező műanyag egyes</td><td>23</td></tr><tr><td>06080191T</td><td>Hegyező tartályos egyes</td><td>30</td></tr><tr><td>06080192T</td><td>Hegyző fém 1 lyukú</td><td>70</td></tr><tr><td>06080193T</td><td>Hegyző fém 2 lyukú</td><td>180</td></tr><tr><td>06080259T</td><td>Leckefüzet</td><td>161</td></tr><tr><td>06080332T</td><td>Radírtoll betét ER100</td><td>74</td></tr><tr><td>06080333T</td><td>Radírtoll betét vastag</td><td>119</td></tr><tr><td>06080334T</td><td>Ragasztó szalag KORES </td><td>133</td></tr><tr><td>06080335T</td><td>Ragasztó 9 g Pax</td><td>110</td></tr><tr><td>06080336T</td><td>Ragasztó 8 g Pritt</td><td>81</td></tr><tr><td>06080337T</td><td>Ragasztó Gyurma</td><td>293</td></tr><tr><td>06080338T</td><td>Ragasztó kenőfejes Nebuló</td><td>101</td></tr><tr><td>06080339T</td><td>Ragasztó kores</td><td>89</td></tr><tr><td>06080407T</td><td>Vízfesték  12 színű nagy</td><td>249</td></tr><tr><td>06080408T</td><td>Vízfesték 12 db-os </td><td>210</td></tr><tr><td>06080409T</td><td>Vízfesték 12 színű kerek</td><td>180</td></tr><tr><td>06080410T</td><td>Vízfesték 12db-os kínai</td><td>176</td></tr><tr><td>06080411T</td><td>Vonalzó 15 cm-es ESSELTE</td><td>58</td></tr><tr><td>06080412T</td><td>Vonalzó 16 cm-es LIZZY</td><td>30</td></tr><tr><td>06080413T</td><td>Vonalzó 30 cm</td><td>30</td></tr><tr><td>06080414T</td><td>Vonalzó 20 cm-es </td><td>30</td></tr><tr><td>06080415T</td><td>Vonalzó 45 fokos</td><td>30</td></tr><tr><td>06080416T</td><td>Vonalzó 60 fokos</td><td>33</td></tr><tr><td>06080417T</td><td>Zászló papír</td><td>20</td></tr><tr><td>06080422T</td><td>Füzettartó A/4</td><td>324</td></tr><tr><td>06080423T</td><td>Beíró A/5 kockás</td><td>228</td></tr><tr><td>06080424T</td><td>Füzetborító A/4 mintás</td><td>24</td></tr><tr><td>06080425T</td><td>Miliméterpapír</td><td>8</td></tr><tr><td>06080426T</td><td>Szótárfüzet Lizzy</td><td>161</td></tr><tr><td>06080427T</td><td>Ablakkréta</td><td>161</td></tr><tr><td>06080428T</td><td>Ecsetkészlet</td><td>180</td></tr><tr><td>06080429T</td><td>Meghívó ballagási</td><td>63</td></tr><tr><td>06080430T</td><td>Öntapadős betűk</td><td>74</td></tr><tr><td>06080440T</td><td>Gyurma 12 szinű</td><td>161</td></tr><tr><td>06080441T</td><td>Gyurmakés</td><td>121</td></tr><tr><td>07010136T</td><td>G.toll betét PAX</td><td>123</td></tr><tr><td>07010137T</td><td>G.toll betét PAX tip.</td><td>48</td></tr><tr><td>07010138T</td><td>G.toll betét jumbo</td><td>33</td></tr><tr><td>07010139T</td><td>G.toll betét S7L </td><td>91</td></tr><tr><td>07010140T</td><td>G.toll betét Stabilo</td><td>23</td></tr><tr><td>07010141T</td><td>G.toll betét X20</td><td>15</td></tr><tr><td>07010142T</td><td>G.toll betét Zebra F-0.7</td><td>228</td></tr><tr><td>07010143T</td><td>G.toll betét Zebra H-0,7</td><td>78</td></tr><tr><td>07010144T</td><td>G.toll betét Zebra K-0,7</td><td>89</td></tr><tr><td>07010244T</td><td>Kerámiatoll</td><td>74</td></tr><tr><td>07010371T</td><td>Színes ceruza 6-os</td><td>99</td></tr><tr><td>07010372T</td><td>Színes ceruza 12 szín</td><td>161</td></tr><tr><td>07030103T</td><td>Filctoll TINTEN PEN</td><td>53</td></tr><tr><td>07030104T</td><td>Filctoll vastag ARTIP</td><td>76</td></tr><tr><td>07030105T</td><td>Filctoll, alkoholos Centropen</td><td>114</td></tr><tr><td>07030106T</td><td>Filctoll, alkoholosOHP F-M-C</td><td>103</td></tr><tr><td>07030107T</td><td>Filctoll, textil Edding 4500</td><td>276</td></tr><tr><td>07030108T</td><td>Filctoll CD író</td><td>0</td></tr><tr><td>07040047T</td><td>Ceruza 2H-4B</td><td>39</td></tr><tr><td>07040048T</td><td>Ceruza arany, ezüst</td><td>55</td></tr><tr><td>07040049T</td><td>Ceruza Conté zöld</td><td>40</td></tr><tr><td>07040050T</td><td>Ceruza Cseh</td><td>30</td></tr><tr><td>07040051T</td><td>Ceruza háromszög </td><td>39</td></tr><tr><td>07040052T</td><td>Ceruza 2H-3B Koh-i-nor</td><td>53</td></tr><tr><td>07040053T</td><td>Ceruza HB radiros</td><td>23</td></tr><tr><td>07040054T</td><td>Ceruza kártyás</td><td>55</td></tr><tr><td>07040055T</td><td>Ceruza piros-kék</td><td>59</td></tr><tr><td>07040056T</td><td>Ceruza piros-kék vékony</td><td>40</td></tr><tr><td>07040057T</td><td>Ceruza Progresso</td><td>106</td></tr><tr><td>07040058T</td><td>Ceruza radíros kínai</td><td>11</td></tr><tr><td>07040059T</td><td>Ceruza smaragd</td><td>58</td></tr><tr><td>07040060T</td><td>Ceruza stabilo swano</td><td>36</td></tr><tr><td>07040061T</td><td>Ceruza stabilo opera</td><td>44</td></tr><tr><td>07040097T</td><td>Filctoll </td><td>26</td></tr><tr><td>07040098T</td><td>Filctoll document pen</td><td>278</td></tr><tr><td>07040099T</td><td>Filctoll Edding 750</td><td>434</td></tr><tr><td>07040100T</td><td>Filctoll Marvy alkoholos</td><td>390</td></tr><tr><td>07040101T</td><td>Filctoll permanent vastag</td><td>140</td></tr><tr><td>07040102T</td><td>Filctoll supra fine</td><td>46</td></tr><tr><td>07040127T</td><td>G. toll betét mini</td><td>30</td></tr><tr><td>07040128T</td><td>G. toll betét mini fém</td><td>55</td></tr><tr><td>07040129T</td><td>G. toll betét réz</td><td>30</td></tr><tr><td>07040130T</td><td>G. toll betét S7S</td><td>80</td></tr><tr><td>07040131T</td><td>G. toll betét UNI lachnok Fine SA-7C</td><td>85</td></tr><tr><td>07040132T</td><td>G.toll betét csavaros</td><td>55</td></tr><tr><td>07040133T</td><td>G.toll betét görbe hegyű</td><td>39</td></tr><tr><td>07040134T</td><td>G.toll betét illatos</td><td>44</td></tr><tr><td>07040135T</td><td>G.toll betét Parker </td><td>684</td></tr><tr><td>07040165T</td><td>Golyóstoll UNI laknock</td><td>218</td></tr><tr><td>07040166T</td><td>Golyóstoll Zebra 301</td><td>455</td></tr><tr><td>07040167T</td><td>Golyóstoll Zebra mini</td><td>655</td></tr><tr><td>07040168T</td><td>Golyóstoll Zebra new hard</td><td>189</td></tr><tr><td>07040169T</td><td>Golyóstoll Zodiák</td><td>94</td></tr><tr><td>07040215T</td><td>Ironbél  2B ICO</td><td>74</td></tr><tr><td>07040216T</td><td>Ironbél B 0,5</td><td>36</td></tr><tr><td>07040217T</td><td>Ironbél H 0,5</td><td>59</td></tr><tr><td>07040218T</td><td>Ironbél HB 0,5</td><td>23</td></tr><tr><td>07040219T</td><td>Ironbél HI-POLIMER HB 0,7</td><td>78</td></tr><tr><td>07040257T</td><td>Lakk filc Edding 750</td><td>434</td></tr><tr><td>07040388T</td><td>Tintapatron /kék/</td><td>9</td></tr><tr><td>07040389T</td><td>Tintapatron 30 db-os kék</td><td>360</td></tr><tr><td>07040390T</td><td>Tintapatron színes</td><td>11</td></tr><tr><td>07040391T</td><td>Toll Centropen roller</td><td>80</td></tr><tr><td>07050462T</td><td>Töltőtoll tinta </td><td>493</td></tr><tr><td>07050463T</td><td>Ceruzafogó</td><td>36</td></tr><tr><td>07050464T</td><td>Szövegkiemelő Staedtler</td><td>140</td></tr><tr><td>07080062T</td><td>Ceruza szén</td><td>146</td></tr><tr><td>07080063T</td><td>Ceruza szorzótáblás</td><td>35</td></tr><tr><td>07080064T</td><td>Ceruza zöld színű</td><td>40</td></tr><tr><td>07080065T</td><td>Ceruza kínai</td><td>11</td></tr><tr><td>07080150T</td><td>Golyóstoll</td><td>51</td></tr><tr><td>07080151T</td><td>Golyóstoll + ceruza Twister 2in1</td><td>390</td></tr><tr><td>07080152T</td><td>Golyóstoll 3 funkciós </td><td>1019</td></tr><tr><td>07080153T</td><td>Golyóstoll illatos ICO</td><td>41</td></tr><tr><td>07080154T</td><td>Golyóstoll INOXCROM</td><td>401</td></tr><tr><td>07080155T</td><td>Golyóstoll</td><td>33</td></tr><tr><td>07080156T</td><td>Golyóstoll kupakos piros</td><td>23</td></tr><tr><td>07080157T</td><td>Golyóstoll Montex Hytone</td><td>93</td></tr><tr><td>07080158T</td><td>Golyóstoll Parker tokban</td><td>773</td></tr><tr><td>07080159T</td><td>Golyóstoll Pax tip.</td><td>63</td></tr><tr><td>07080160T</td><td>Golyóstoll penac</td><td>239</td></tr><tr><td>07080161T</td><td>Golyóstoll kétszínű</td><td>44</td></tr><tr><td>07080162T</td><td>Golyóstoll Stabilo piros</td><td>101</td></tr><tr><td>07080163T</td><td>Golyóstoll UNI átlátszó</td><td>230</td></tr><tr><td>07080164T</td><td>Golyóstoll UNI gumis</td><td>231</td></tr><tr><td>07080311T</td><td>Pixiron  UNI</td><td>276</td></tr><tr><td>07080312T</td><td>Pixiron 0,7 Handy</td><td>125</td></tr><tr><td>07080313T</td><td>Pixiron Centrum</td><td>59</td></tr><tr><td>07080314T</td><td>Pixiron Handy fém</td><td>133</td></tr><tr><td>07080315T</td><td>Pixiron Handy műanyag</td><td>94</td></tr><tr><td>07080316T</td><td>Pixiron KOH-I-NOOR</td><td>468</td></tr><tr><td>07080317T</td><td>Pixiron mini </td><td>59</td></tr><tr><td>07080318T</td><td>Pixiron Penac</td><td>235</td></tr><tr><td>07080319T</td><td>Pixiron Pentel színes</td><td>299</td></tr><tr><td>07080418T</td><td>Zselés toll </td><td>95</td></tr><tr><td>07080419T</td><td>Zselés toll MICRO</td><td>66</td></tr><tr><td>07080420T</td><td>Zselés toll Muhnwa</td><td>161</td></tr><tr><td>07080421T</td><td>Zseléstoll Lizzy Card</td><td>228</td></tr><tr><td>07080466T</td><td>Golyóstoll Stabiló 308</td><td>81</td></tr><tr><td>07080467T</td><td>Golyóstoll kétfunkciós ICO</td><td>273</td></tr><tr><td>07080468T</td><td>Golyóstoll háromfunkciós</td><td>110</td></tr><tr><td>07080469T</td><td>Golyóstoll UNIBALL 07</td><td>364</td></tr><tr><td>07080470T</td><td>Golyóstoll háromszög</td><td>188</td></tr><tr><td>07080471T</td><td>Golyóstoll levélbontós</td><td>294</td></tr><tr><td>08070472T</td><td>A föld amelyen élünk - Európa földrajza</td><td>1089</td></tr><tr><td>08070473T</td><td>A föld amelyen élünk - Távoli földrészek</td><td>1089</td></tr><tr><td>08070474T</td><td>A föld amelyen élünk - Hazánk földrajza</td><td>1089</td></tr><tr><td>08070475T</td><td>A föld amelyen élünk - munkafüzet</td><td>440</td></tr><tr><td>08070476T</td><td>Anyanyelvi gyakorló 2</td><td>293</td></tr><tr><td>08070477T</td><td>Anyanyelvi gyakorló 3</td><td>353</td></tr><tr><td>08070478T</td><td>Összefoglaló feladatgyüjtemény számtech.</td><td>785</td></tr><tr><td>08070479T</td><td>Fizika</td><td>674</td></tr><tr><td>08070480T</td><td>Fizika 13 éveseknek</td><td>308</td></tr><tr><td>08070481T</td><td>Fizika munkafüzet 13 év.</td><td>198</td></tr><tr><td>08070482T</td><td>Fizika munkafüzet 14 év.</td><td>190</td></tr><tr><td>08070483T</td><td>Fizikai feladatok és tévedések</td><td>324</td></tr><tr><td>08070484T</td><td>Fogalmazás lépésről lépésre</td><td>345</td></tr><tr><td>08070485T</td><td>Jól felkészültem-e - Fizika</td><td>291</td></tr><tr><td>08070486T</td><td>Matematika gyakorló 2</td><td>403</td></tr><tr><td>08070487T</td><td>Matematika gyakorló 3</td><td>403</td></tr><tr><td>08070488T</td><td>Matematika gyakorló 4</td><td>403</td></tr><tr><td>08070489T</td><td>RAMba zárt világ</td><td>868</td></tr><tr><td>08070490T</td><td>Szövegszerkesztés</td><td>691</td></tr><tr><td>08070491T</td><td>Szám.tech. kicsiknek</td><td>214</td></tr><tr><td>08070492T</td><td>Informatika</td><td>735</td></tr><tr><td>08070493T</td><td>Érettségi felv. fel. Matematika</td><td>720</td></tr><tr><td>08070494T</td><td>Érettségi felv. fel. Fizika</td><td>440</td></tr><tr><td>08070495T</td><td>Érettségi felv. fel. Biológia</td><td>440</td></tr><tr><td>F001-KB101</td><td>férfi szövet kabát</td><td>22000</td></tr><tr><td>F007-NA201</td><td>férfi farmer nadrág</td><td>7890</td></tr><tr><td>F013-NA207</td><td>férfi szövet nadrág</td><td>11900</td></tr><tr><td>F021-IN215</td><td>férfi ing</td><td>6490</td></tr><tr><td>G001-KB101</td><td>gyermek kabát (fiú)</td><td>8900</td></tr><tr><td>G013-NA201</td><td>gyermek farmer nadrág (fiú)</td><td>4990</td></tr><tr><td>G019-NA207</td><td>gyermek pamut nadrág (fiú)</td><td>1290</td></tr><tr><td>G023-FE301</td><td>fiú alsó</td><td>390</td></tr><tr><td>G029-FE307</td><td>fiú zokni</td><td>240</td></tr><tr><td>G038-FE316</td><td>fiú harisnya</td><td>990</td></tr><tr><td>G041-AL211</td><td>fiú ünneplős ruha</td><td>16900</td></tr><tr><td>G048-PO218</td><td>gyermek póló (fiú)</td><td>3900</td></tr><tr><td>G064-CI401</td><td>gyermek szandál (fiú)</td><td>6900</td></tr><tr><td>G073-CI410</td><td>gyermek cipő (fiú)</td><td>7900</td></tr><tr><td>G082-CI419</td><td>gyermek csizma (fiú)</td><td>8000</td></tr><tr><td>L001-KB101</td><td>gyermek kabát (lány)</td><td>8900</td></tr><tr><td>L013-NA201</td><td>gyermek farmer nadrág (lány)</td><td>4990</td></tr><tr><td>L019-NA207</td><td>gyermek pamut nadrág (lány)</td><td>1290</td></tr><tr><td>L023-FE301</td><td>lány alsó</td><td>390</td></tr><tr><td>L029-FE307</td><td>lány zokni</td><td>240</td></tr><tr><td>L033-FE311</td><td>lány harisnya</td><td>990</td></tr><tr><td>L041-AL211</td><td>lány ünneplős ruha</td><td>16900</td></tr><tr><td>L048-PO218</td><td>gyermek póló (lány)</td><td>3900</td></tr><tr><td>L064-CI401</td><td>gyermek szandál (lány)</td><td>6900</td></tr><tr><td>L073-CI410</td><td>gyermek cipő (lány)</td><td>7900</td></tr><tr><td>L082-CI419</td><td>gyermek csizma (lány)</td><td>8000</td></tr><tr><td>N001-KB101</td><td>női szövet kabát</td><td>24000</td></tr><tr><td>N008-NA201</td><td>női farmer nadrág</td><td>8290</td></tr><tr><td>N019-FE301</td><td>női alsó</td><td>690</td></tr><tr><td>N029-AL212</td><td>női koktélruha</td><td>32000</td></tr><tr><td>N035-AL218</td><td>kosztüm (rövid)</td><td>39000</td></tr><tr><td>N039-AL222</td><td>kosztüm (hosszú)</td><td>46000</td></tr><tr><td>U001-KI501</td><td>sál</td><td>1990</td></tr></table>"
                    },
                    "metadata": {}
                }
            ],
            "execution_count": 28
        },
        {
            "cell_type": "markdown",
            "source": [
                "13. <span style=\"color: rgb(36, 41, 47); font-family: -apple-system, BlinkMacSystemFont, &quot;Segoe UI&quot;, Helvetica, Arial, sans-serif, &quot;Apple Color Emoji&quot;, &quot;Segoe UI Emoji&quot;; font-size: 16px;\">Készítsünk listát, amely a rendelések sorszámát és a rendelés értékét tartalmazza. A listát egészítsük ki egy új oszloppal, amely minden rendelés esetén addigi rendelések összegét tartalmazza (az aktuálisat is beleértve)!</span>\n",
                "\n",
                "1. A listát rendezzük sorszám szerint növekvő sorrendbe.\n",
                "2. A lista ne tartalmazzon duplikált sorokat!"
            ],
            "metadata": {
                "azdata_cell_guid": "85d5cb66-96c6-42de-99cf-85ab22d08548"
            },
            "attachments": {}
        },
        {
            "cell_type": "code",
            "source": [
                ""
            ],
            "metadata": {
                "azdata_cell_guid": "cb07d64b-0eaa-498b-b4d2-0b46971e95ce",
                "language": "sql"
            },
            "outputs": [],
            "execution_count": null
        },
        {
            "cell_type": "markdown",
            "source": [
                "14. <span style=\"color: rgb(36, 41, 47); font-family: -apple-system, BlinkMacSystemFont, &quot;Segoe UI&quot;, Helvetica, Arial, sans-serif, &quot;Apple Color Emoji&quot;, &quot;Segoe UI Emoji&quot;; font-size: 16px;\">Készítsünk listát a termékek kódjáról, nevéről, kategória azonosítójáról, raktár azonosítójáról és listaáráról, valamint a termék adott szempontok szerinti rangsorokban elfoglalt helyezéseiről. (Szempontonként külön oszlopban, a helyezéseknél növekvő sorrendet feltételezve). A szempontok a következők legyenek: listaár, kategória szerinti listaár, és raktárkód szerinti listaár.</span>\n",
                "\n",
                "1. Az oszlopokat nevezzük el értelemszerűen.\n",
                "2. A helyezések egyenlőség esetén \"sűrűn\" kövessék egymást.\n",
                "3. A lista legyen rendezett kategória azonosító, azon belül listaár szerint!"
            ],
            "metadata": {
                "azdata_cell_guid": "f95ad665-a807-4099-bf06-64ed974f866f"
            },
            "attachments": {}
        },
        {
            "cell_type": "code",
            "source": [
                ""
            ],
            "metadata": {
                "azdata_cell_guid": "74c7ec8a-ae4a-4d03-b1c4-e8f6bb1be12c",
                "language": "sql"
            },
            "outputs": [],
            "execution_count": null
        },
        {
            "cell_type": "markdown",
            "source": [
                "15. <span style=\"color: rgb(36, 41, 47); font-family: -apple-system, BlinkMacSystemFont, &quot;Segoe UI&quot;, Helvetica, Arial, sans-serif, &quot;Apple Color Emoji&quot;, &quot;Segoe UI Emoji&quot;; font-size: 16px;\">Készítsünk listát a rendelési tételekről, amely minden sor esetén göngyölítve tartalmazza az ügyfél adott rendelési tételig meglévő rendelési tételeinek összértékét!</span>\n",
                "\n",
                "1. Az új oszlop neve legyen Eddigi rendelési tételek összértéke!\n",
                "2. Az ügyfél neve is jelenjen meg!"
            ],
            "metadata": {
                "azdata_cell_guid": "93552388-ffec-49ff-99e5-ae8dc8072601"
            },
            "attachments": {}
        },
        {
            "cell_type": "code",
            "source": [
                ""
            ],
            "metadata": {
                "azdata_cell_guid": "0e7f547f-7d96-4611-b1c2-0fa84a581e79",
                "language": "sql"
            },
            "outputs": [],
            "execution_count": null
        }
    ]
}