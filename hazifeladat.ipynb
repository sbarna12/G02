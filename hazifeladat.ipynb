{
    "metadata": {
        "kernelspec": {
            "name": "SQL",
            "display_name": "SQL",
            "language": "sql"
        },
        "language_info": {
            "name": "sql",
            "version": ""
        }
    },
    "nbformat_minor": 2,
    "nbformat": 4,
    "cells": [
        {
            "cell_type": "code",
            "source": [
                "SELECT COUNT(DISTINCT DiakAz) AS egyedi_diakok_szama\r\n",
                "FROM diak;"
            ],
            "metadata": {
                "azdata_cell_guid": "7513712a-6e10-4836-8260-56e995be6f23",
                "language": "sql"
            },
            "outputs": [
                {
                    "output_type": "display_data",
                    "data": {
                        "text/html": "(1 row affected)"
                    },
                    "metadata": {}
                },
                {
                    "output_type": "display_data",
                    "data": {
                        "text/html": "Total execution time: 00:00:00.008"
                    },
                    "metadata": {}
                },
                {
                    "output_type": "execute_result",
                    "metadata": {},
                    "execution_count": 1,
                    "data": {
                        "application/vnd.dataresource+json": {
                            "schema": {
                                "fields": [
                                    {
                                        "name": "egyedi_diakok_szama"
                                    }
                                ]
                            },
                            "data": [
                                {
                                    "egyedi_diakok_szama": "10"
                                }
                            ]
                        },
                        "text/html": [
                            "<table>",
                            "<tr><th>egyedi_diakok_szama</th></tr>",
                            "<tr><td>10</td></tr>",
                            "</table>"
                        ]
                    }
                }
            ],
            "execution_count": 1
        },
        {
            "cell_type": "code",
            "source": [
                "SELECT COUNT(*) AS null_diakaz\r\n",
                "FROM diak\r\n",
                "WHERE DiakAz IS NULL;\r\n",
                ""
            ],
            "metadata": {
                "language": "sql",
                "azdata_cell_guid": "7fc0b8da-bb23-4bd3-ac52-021a98b200b0"
            },
            "outputs": [
                {
                    "output_type": "display_data",
                    "data": {
                        "text/html": "(1 row affected)"
                    },
                    "metadata": {}
                },
                {
                    "output_type": "display_data",
                    "data": {
                        "text/html": "Total execution time: 00:00:00.764"
                    },
                    "metadata": {}
                },
                {
                    "output_type": "execute_result",
                    "metadata": {},
                    "execution_count": 17,
                    "data": {
                        "application/vnd.dataresource+json": {
                            "schema": {
                                "fields": [
                                    {
                                        "name": "null_diakaz"
                                    }
                                ]
                            },
                            "data": [
                                {
                                    "null_diakaz": "0"
                                }
                            ]
                        },
                        "text/html": [
                            "<table>",
                            "<tr><th>null_diakaz</th></tr>",
                            "<tr><td>0</td></tr>",
                            "</table>"
                        ]
                    }
                }
            ],
            "execution_count": 17
        },
        {
            "cell_type": "code",
            "source": [
                "SELECT LEFT(Nev, 1) AS nev_kezdo, COUNT(*) AS diakok_szama\r\n",
                "FROM diak\r\n",
                "GROUP BY LEFT(Nev, 1)\r\n",
                "ORDER BY nev_kezdo;\r\n",
                ""
            ],
            "metadata": {
                "language": "sql",
                "azdata_cell_guid": "ff975cd7-6f4a-4f86-b29e-376fd29179de"
            },
            "outputs": [
                {
                    "output_type": "display_data",
                    "data": {
                        "text/html": "(6 rows affected)"
                    },
                    "metadata": {}
                },
                {
                    "output_type": "display_data",
                    "data": {
                        "text/html": "Total execution time: 00:00:00.009"
                    },
                    "metadata": {}
                },
                {
                    "output_type": "execute_result",
                    "metadata": {
                        "azdata_chartOptions": {
                            "type": "bar",
                            "dataDirection": "horizontal",
                            "columnsAsLabels": true,
                            "labelFirstColumn": false,
                            "legendPosition": "top"
                        }
                    },
                    "execution_count": 15,
                    "data": {
                        "application/vnd.dataresource+json": {
                            "schema": {
                                "fields": [
                                    {
                                        "name": "nev_kezdo"
                                    },
                                    {
                                        "name": "diakok_szama"
                                    }
                                ]
                            },
                            "data": [
                                {
                                    "nev_kezdo": "C",
                                    "diakok_szama": "1"
                                },
                                {
                                    "nev_kezdo": "H",
                                    "diakok_szama": "1"
                                },
                                {
                                    "nev_kezdo": "K",
                                    "diakok_szama": "5"
                                },
                                {
                                    "nev_kezdo": "N",
                                    "diakok_szama": "1"
                                },
                                {
                                    "nev_kezdo": "O",
                                    "diakok_szama": "1"
                                },
                                {
                                    "nev_kezdo": "P",
                                    "diakok_szama": "1"
                                }
                            ]
                        },
                        "text/html": [
                            "<table>",
                            "<tr><th>nev_kezdo</th><th>diakok_szama</th></tr>",
                            "<tr><td>C</td><td>1</td></tr>",
                            "<tr><td>H</td><td>1</td></tr>",
                            "<tr><td>K</td><td>5</td></tr>",
                            "<tr><td>N</td><td>1</td></tr>",
                            "<tr><td>O</td><td>1</td></tr>",
                            "<tr><td>P</td><td>1</td></tr>",
                            "</table>"
                        ]
                    }
                }
            ],
            "execution_count": 15
        },
        {
            "cell_type": "code",
            "source": [
                "SELECT AVG(LEN(Nev)) AS atlagos_nev_hossz\r\n",
                "FROM diak;\r\n",
                ""
            ],
            "metadata": {
                "language": "sql",
                "azdata_cell_guid": "8ebf38e9-8bc7-40cc-a204-9378ae80e4cc",
                "tags": [
                    "hide_input"
                ]
            },
            "outputs": [
                {
                    "output_type": "display_data",
                    "data": {
                        "text/html": "(1 row affected)"
                    },
                    "metadata": {}
                },
                {
                    "output_type": "display_data",
                    "data": {
                        "text/html": "Total execution time: 00:00:00.008"
                    },
                    "metadata": {}
                },
                {
                    "output_type": "execute_result",
                    "metadata": {
                        "azdata_chartOptions": {
                            "type": "count",
                            "dataDirection": "horizontal",
                            "columnsAsLabels": true,
                            "labelFirstColumn": false,
                            "legendPosition": "top"
                        }
                    },
                    "execution_count": 5,
                    "data": {
                        "application/vnd.dataresource+json": {
                            "schema": {
                                "fields": [
                                    {
                                        "name": "atlagos_nev_hossz"
                                    }
                                ]
                            },
                            "data": [
                                {
                                    "atlagos_nev_hossz": "10"
                                }
                            ]
                        },
                        "text/html": [
                            "<table>",
                            "<tr><th>atlagos_nev_hossz</th></tr>",
                            "<tr><td>10</td></tr>",
                            "</table>"
                        ]
                    }
                }
            ],
            "execution_count": 5
        },
        {
            "cell_type": "code",
            "source": [
                "SELECT MIN(Szulido) AS legkorabbi_szulido, MAX(Szulido) AS legkesobbi_szulido\r\n",
                "FROM diak;\r\n",
                ""
            ],
            "metadata": {
                "language": "sql",
                "azdata_cell_guid": "481121b7-b0ad-4b28-95e3-6800482e5a67"
            },
            "outputs": [
                {
                    "output_type": "display_data",
                    "data": {
                        "text/html": "(1 row affected)"
                    },
                    "metadata": {}
                },
                {
                    "output_type": "display_data",
                    "data": {
                        "text/html": "Total execution time: 00:00:00.013"
                    },
                    "metadata": {}
                },
                {
                    "output_type": "execute_result",
                    "metadata": {},
                    "execution_count": 6,
                    "data": {
                        "application/vnd.dataresource+json": {
                            "schema": {
                                "fields": [
                                    {
                                        "name": "legkorabbi_szulido"
                                    },
                                    {
                                        "name": "legkesobbi_szulido"
                                    }
                                ]
                            },
                            "data": [
                                {
                                    "legkorabbi_szulido": "1981-11-30 00:00:00.000",
                                    "legkesobbi_szulido": "1990-05-05 00:00:00.000"
                                }
                            ]
                        },
                        "text/html": [
                            "<table>",
                            "<tr><th>legkorabbi_szulido</th><th>legkesobbi_szulido</th></tr>",
                            "<tr><td>1981-11-30 00:00:00.000</td><td>1990-05-05 00:00:00.000</td></tr>",
                            "</table>"
                        ]
                    }
                }
            ],
            "execution_count": 6
        },
        {
            "cell_type": "code",
            "source": [
                "SELECT \r\n",
                "    korcsoport,\r\n",
                "    COUNT(*) AS diakok_szama\r\n",
                "FROM (\r\n",
                "    SELECT \r\n",
                "        CASE\r\n",
                "            WHEN YEAR(GETDATE()) - YEAR(Szulido) BETWEEN 18 AND 24 THEN '18-24 éves'\r\n",
                "            WHEN YEAR(GETDATE()) - YEAR(Szulido) BETWEEN 25 AND 34 THEN '25-34 éves'\r\n",
                "            ELSE '35 éves vagy annál idősebb'\r\n",
                "        END AS korcsoport\r\n",
                "    FROM diak\r\n",
                ") AS t\r\n",
                "GROUP BY korcsoport\r\n",
                "ORDER BY korcsoport;\r\n",
                "\r\n",
                ""
            ],
            "metadata": {
                "language": "sql",
                "azdata_cell_guid": "7659eed6-6696-483a-9442-fb3af09306d5"
            },
            "outputs": [
                {
                    "output_type": "display_data",
                    "data": {
                        "text/html": "(2 rows affected)"
                    },
                    "metadata": {}
                },
                {
                    "output_type": "display_data",
                    "data": {
                        "text/html": "Total execution time: 00:00:00.016"
                    },
                    "metadata": {}
                },
                {
                    "output_type": "execute_result",
                    "metadata": {},
                    "execution_count": 9,
                    "data": {
                        "application/vnd.dataresource+json": {
                            "schema": {
                                "fields": [
                                    {
                                        "name": "korcsoport"
                                    },
                                    {
                                        "name": "diakok_szama"
                                    }
                                ]
                            },
                            "data": [
                                {
                                    "korcsoport": "25-34 éves",
                                    "diakok_szama": "1"
                                },
                                {
                                    "korcsoport": "35 éves vagy annál idősebb",
                                    "diakok_szama": "9"
                                }
                            ]
                        },
                        "text/html": [
                            "<table>",
                            "<tr><th>korcsoport</th><th>diakok_szama</th></tr>",
                            "<tr><td>25-34 éves</td><td>1</td></tr>",
                            "<tr><td>35 éves vagy annál idősebb</td><td>9</td></tr>",
                            "</table>"
                        ]
                    }
                }
            ],
            "execution_count": 9
        },
        {
            "cell_type": "code",
            "source": [
                "SELECT MONTH(Szulido) AS szul_honap, COUNT(*) AS diakok_szama\r\n",
                "FROM diak\r\n",
                "GROUP BY MONTH(Szulido)\r\n",
                "ORDER BY szul_honap;"
            ],
            "metadata": {
                "language": "sql",
                "azdata_cell_guid": "90434203-2640-428e-adac-6b8d37037eca"
            },
            "outputs": [
                {
                    "output_type": "display_data",
                    "data": {
                        "text/html": "(7 rows affected)"
                    },
                    "metadata": {}
                },
                {
                    "output_type": "display_data",
                    "data": {
                        "text/html": "Total execution time: 00:00:00.012"
                    },
                    "metadata": {}
                },
                {
                    "output_type": "execute_result",
                    "metadata": {
                        "azdata_chartOptions": {
                            "type": "bar",
                            "dataDirection": "horizontal",
                            "columnsAsLabels": true,
                            "labelFirstColumn": false,
                            "legendPosition": "top"
                        }
                    },
                    "execution_count": 16,
                    "data": {
                        "application/vnd.dataresource+json": {
                            "schema": {
                                "fields": [
                                    {
                                        "name": "szul_honap"
                                    },
                                    {
                                        "name": "diakok_szama"
                                    }
                                ]
                            },
                            "data": [
                                {
                                    "szul_honap": "1",
                                    "diakok_szama": "1"
                                },
                                {
                                    "szul_honap": "2",
                                    "diakok_szama": "2"
                                },
                                {
                                    "szul_honap": "3",
                                    "diakok_szama": "1"
                                },
                                {
                                    "szul_honap": "5",
                                    "diakok_szama": "2"
                                },
                                {
                                    "szul_honap": "6",
                                    "diakok_szama": "1"
                                },
                                {
                                    "szul_honap": "11",
                                    "diakok_szama": "2"
                                },
                                {
                                    "szul_honap": "12",
                                    "diakok_szama": "1"
                                }
                            ]
                        },
                        "text/html": [
                            "<table>",
                            "<tr><th>szul_honap</th><th>diakok_szama</th></tr>",
                            "<tr><td>1</td><td>1</td></tr>",
                            "<tr><td>2</td><td>2</td></tr>",
                            "<tr><td>3</td><td>1</td></tr>",
                            "<tr><td>5</td><td>2</td></tr>",
                            "<tr><td>6</td><td>1</td></tr>",
                            "<tr><td>11</td><td>2</td></tr>",
                            "<tr><td>12</td><td>1</td></tr>",
                            "</table>"
                        ]
                    }
                }
            ],
            "execution_count": 16
        }
    ]
}